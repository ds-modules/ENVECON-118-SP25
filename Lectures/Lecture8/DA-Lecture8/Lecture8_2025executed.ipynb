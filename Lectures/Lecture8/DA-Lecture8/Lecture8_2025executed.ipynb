{
 "cells": [
  {
   "cell_type": "markdown",
   "id": "35ada569-515b-461e-91d7-5f86d19472b8",
   "metadata": {},
   "source": [
    "# Lecture 8- Spring 2025\n",
    "# Villas-Boas\n",
    "\n",
    "# Lecture 8 EEP 118 Spring 2025\n",
    "\n"
   ]
  },
  {
   "cell_type": "code",
   "execution_count": 1,
   "id": "c2d55630-5544-43f0-89bf-fc0b25d2cc4b",
   "metadata": {},
   "outputs": [
    {
     "name": "stderr",
     "output_type": "stream",
     "text": [
      "Installing package into ‘/srv/r’\n",
      "(as ‘lib’ is unspecified)\n",
      "\n",
      "Installing package into ‘/srv/r’\n",
      "(as ‘lib’ is unspecified)\n",
      "\n",
      "also installing the dependencies ‘mnormt’, ‘GPArotation’\n",
      "\n",
      "\n",
      "\n",
      "psych installed\n",
      "\n"
     ]
    }
   ],
   "source": [
    "# Load the 'pacman' package\n",
    "install.packages(\"pacman\")\n",
    "library(pacman) \n",
    "#packages to use load them now using the pacman \"manager\"\n",
    "p_load(dplyr, readr) \n",
    "#Another great feature of p_load(): if you try to load a package that is not installed on your machine, p_load() install the package for you, rather than throwing an error. For instance, let’s install and load one final package named ggplot2. \n",
    "p_load(ggplot2)\n",
    "\n",
    "#set scientific display off, thank you Roy\n",
    "options(scipen=999)\n",
    "\n",
    "# Loading packages\n",
    "pacman::p_load(lfe, lmtest, haven, sandwich, tidyverse,psych)\n",
    "# lfe for running fixed effects regression\n",
    "# lmtest for displaying robust SE in output table\n",
    "# haven for loading in dta files\n",
    "# sandwich for producing robust Var-Cov matrix\n",
    "# tidyverse for manipulating data and producing plots\n",
    "# psych for using describe later on\n",
    "\n",
    "\n"
   ]
  },
  {
   "cell_type": "code",
   "execution_count": 2,
   "id": "688f0861-6ee9-40ca-8134-ca0bda02120b",
   "metadata": {},
   "outputs": [
    {
     "data": {
      "text/html": [
       "<table class=\"dataframe\">\n",
       "<caption>A tibble: 6 × 10</caption>\n",
       "<thead>\n",
       "\t<tr><th scope=col>var1</th><th scope=col>var2</th><th scope=col>var3</th><th scope=col>var4</th><th scope=col>var5</th><th scope=col>correct1</th><th scope=col>correct2</th><th scope=col>isSoccerFan</th><th scope=col>went2Class</th><th scope=col>correct1and2</th></tr>\n",
       "\t<tr><th scope=col>&lt;chr&gt;</th><th scope=col>&lt;chr&gt;</th><th scope=col>&lt;chr&gt;</th><th scope=col>&lt;chr&gt;</th><th scope=col>&lt;chr&gt;</th><th scope=col>&lt;dbl&gt;</th><th scope=col>&lt;dbl&gt;</th><th scope=col>&lt;dbl&gt;</th><th scope=col>&lt;dbl&gt;</th><th scope=col>&lt;dbl&gt;</th></tr>\n",
       "</thead>\n",
       "<tbody>\n",
       "\t<tr><td>2/11/25 9:44 </td><td>Omitting unemployment in the regression will not affect beta2hat (for percent female)    </td><td>Omitting rural area in the regression we will over estimate betahat_percent_wite     </td><td>yes</td><td>no </td><td>1</td><td>1</td><td>0</td><td>1</td><td>1</td></tr>\n",
       "\t<tr><td>2/11/25 11:11</td><td>Omitting unemployment in the regression will not affect beta2hat (for percent female)    </td><td>Omitting rural area in the regression we will over estimate betahat_percent_wite     </td><td>yes</td><td>yes</td><td>1</td><td>1</td><td>1</td><td>1</td><td>1</td></tr>\n",
       "\t<tr><td>2/11/25 11:28</td><td>Omitting unemployment in the regression will not affect beta2hat (for percent female)    </td><td>Omitting rural area in the regression we will over estimate betahat_percent_wite     </td><td>yes</td><td>no </td><td>1</td><td>1</td><td>0</td><td>1</td><td>1</td></tr>\n",
       "\t<tr><td>2/11/25 11:32</td><td>Omitting unemployment in the regression will over estimate beta2hat (for percent female) </td><td>Omitting rural area in the regression we will over estimate betahat_percent_wite     </td><td>yes</td><td>no </td><td>0</td><td>1</td><td>0</td><td>1</td><td>0</td></tr>\n",
       "\t<tr><td>2/11/25 11:37</td><td>Omitting unemployment in the regression will not affect beta2hat (for percent female)    </td><td>Omitting rural area in the regression we will under estimate of betahat_percent_white</td><td>yes</td><td>yes</td><td>1</td><td>0</td><td>1</td><td>1</td><td>0</td></tr>\n",
       "\t<tr><td>2/11/25 11:38</td><td>Omitting unemployment in the regression will under estimate beta2hat (for percent female)</td><td>Omitting rural area in the regression we will over estimate betahat_percent_wite     </td><td>no </td><td>no </td><td>0</td><td>1</td><td>0</td><td>0</td><td>0</td></tr>\n",
       "</tbody>\n",
       "</table>\n"
      ],
      "text/latex": [
       "A tibble: 6 × 10\n",
       "\\begin{tabular}{llllllllll}\n",
       " var1 & var2 & var3 & var4 & var5 & correct1 & correct2 & isSoccerFan & went2Class & correct1and2\\\\\n",
       " <chr> & <chr> & <chr> & <chr> & <chr> & <dbl> & <dbl> & <dbl> & <dbl> & <dbl>\\\\\n",
       "\\hline\n",
       "\t 2/11/25 9:44  & Omitting unemployment in the regression will not affect beta2hat (for percent female)     & Omitting rural area in the regression we will over estimate betahat\\_percent\\_wite      & yes & no  & 1 & 1 & 0 & 1 & 1\\\\\n",
       "\t 2/11/25 11:11 & Omitting unemployment in the regression will not affect beta2hat (for percent female)     & Omitting rural area in the regression we will over estimate betahat\\_percent\\_wite      & yes & yes & 1 & 1 & 1 & 1 & 1\\\\\n",
       "\t 2/11/25 11:28 & Omitting unemployment in the regression will not affect beta2hat (for percent female)     & Omitting rural area in the regression we will over estimate betahat\\_percent\\_wite      & yes & no  & 1 & 1 & 0 & 1 & 1\\\\\n",
       "\t 2/11/25 11:32 & Omitting unemployment in the regression will over estimate beta2hat (for percent female)  & Omitting rural area in the regression we will over estimate betahat\\_percent\\_wite      & yes & no  & 0 & 1 & 0 & 1 & 0\\\\\n",
       "\t 2/11/25 11:37 & Omitting unemployment in the regression will not affect beta2hat (for percent female)     & Omitting rural area in the regression we will under estimate of betahat\\_percent\\_white & yes & yes & 1 & 0 & 1 & 1 & 0\\\\\n",
       "\t 2/11/25 11:38 & Omitting unemployment in the regression will under estimate beta2hat (for percent female) & Omitting rural area in the regression we will over estimate betahat\\_percent\\_wite      & no  & no  & 0 & 1 & 0 & 0 & 0\\\\\n",
       "\\end{tabular}\n"
      ],
      "text/markdown": [
       "\n",
       "A tibble: 6 × 10\n",
       "\n",
       "| var1 &lt;chr&gt; | var2 &lt;chr&gt; | var3 &lt;chr&gt; | var4 &lt;chr&gt; | var5 &lt;chr&gt; | correct1 &lt;dbl&gt; | correct2 &lt;dbl&gt; | isSoccerFan &lt;dbl&gt; | went2Class &lt;dbl&gt; | correct1and2 &lt;dbl&gt; |\n",
       "|---|---|---|---|---|---|---|---|---|---|\n",
       "| 2/11/25 9:44  | Omitting unemployment in the regression will not affect beta2hat (for percent female)     | Omitting rural area in the regression we will over estimate betahat_percent_wite      | yes | no  | 1 | 1 | 0 | 1 | 1 |\n",
       "| 2/11/25 11:11 | Omitting unemployment in the regression will not affect beta2hat (for percent female)     | Omitting rural area in the regression we will over estimate betahat_percent_wite      | yes | yes | 1 | 1 | 1 | 1 | 1 |\n",
       "| 2/11/25 11:28 | Omitting unemployment in the regression will not affect beta2hat (for percent female)     | Omitting rural area in the regression we will over estimate betahat_percent_wite      | yes | no  | 1 | 1 | 0 | 1 | 1 |\n",
       "| 2/11/25 11:32 | Omitting unemployment in the regression will over estimate beta2hat (for percent female)  | Omitting rural area in the regression we will over estimate betahat_percent_wite      | yes | no  | 0 | 1 | 0 | 1 | 0 |\n",
       "| 2/11/25 11:37 | Omitting unemployment in the regression will not affect beta2hat (for percent female)     | Omitting rural area in the regression we will under estimate of betahat_percent_white | yes | yes | 1 | 0 | 1 | 1 | 0 |\n",
       "| 2/11/25 11:38 | Omitting unemployment in the regression will under estimate beta2hat (for percent female) | Omitting rural area in the regression we will over estimate betahat_percent_wite      | no  | no  | 0 | 1 | 0 | 0 | 0 |\n",
       "\n"
      ],
      "text/plain": [
       "  var1         \n",
       "1 2/11/25 9:44 \n",
       "2 2/11/25 11:11\n",
       "3 2/11/25 11:28\n",
       "4 2/11/25 11:32\n",
       "5 2/11/25 11:37\n",
       "6 2/11/25 11:38\n",
       "  var2                                                                                     \n",
       "1 Omitting unemployment in the regression will not affect beta2hat (for percent female)    \n",
       "2 Omitting unemployment in the regression will not affect beta2hat (for percent female)    \n",
       "3 Omitting unemployment in the regression will not affect beta2hat (for percent female)    \n",
       "4 Omitting unemployment in the regression will over estimate beta2hat (for percent female) \n",
       "5 Omitting unemployment in the regression will not affect beta2hat (for percent female)    \n",
       "6 Omitting unemployment in the regression will under estimate beta2hat (for percent female)\n",
       "  var3                                                                                 \n",
       "1 Omitting rural area in the regression we will over estimate betahat_percent_wite     \n",
       "2 Omitting rural area in the regression we will over estimate betahat_percent_wite     \n",
       "3 Omitting rural area in the regression we will over estimate betahat_percent_wite     \n",
       "4 Omitting rural area in the regression we will over estimate betahat_percent_wite     \n",
       "5 Omitting rural area in the regression we will under estimate of betahat_percent_white\n",
       "6 Omitting rural area in the regression we will over estimate betahat_percent_wite     \n",
       "  var4 var5 correct1 correct2 isSoccerFan went2Class correct1and2\n",
       "1 yes  no   1        1        0           1          1           \n",
       "2 yes  yes  1        1        1           1          1           \n",
       "3 yes  no   1        1        0           1          1           \n",
       "4 yes  no   0        1        0           1          0           \n",
       "5 yes  yes  1        0        1           1          0           \n",
       "6 no   no   0        1        0           0          0           "
      ]
     },
     "metadata": {},
     "output_type": "display_data"
    }
   ],
   "source": [
    "#-------------------------------------------\n",
    "#1. Read in data\n",
    "#-------------------------------------------\n",
    "my_data2025 <- read_dta(\"dataLecture82025.dta\")\n",
    "head(my_data2025)"
   ]
  },
  {
   "cell_type": "code",
   "execution_count": 3,
   "id": "9531492f-90e0-4a41-9521-ef6b440548a0",
   "metadata": {},
   "outputs": [
    {
     "data": {
      "text/html": [
       "20"
      ],
      "text/latex": [
       "20"
      ],
      "text/markdown": [
       "20"
      ],
      "text/plain": [
       "[1] 20"
      ]
     },
     "metadata": {},
     "output_type": "display_data"
    }
   ],
   "source": [
    "#number of observations\n",
    "nobserv2025<-nrow(my_data2025)\n",
    "\n",
    "#answer is 20  (this is your response rate this year)\n",
    "nobserv2025"
   ]
  },
  {
   "cell_type": "markdown",
   "id": "ff79df5c-102b-4416-9eef-22525d1f32a0",
   "metadata": {},
   "source": [
    "# Let us construct the 95% confidence interval for the true proportion os answering both questions 1 and 2 correctly\n",
    "to do that, we need the sample average of p, which we call \n",
    "\n",
    "phat = number answering correctly divided by sample size N\n",
    "\n",
    "$\\hat{p} =\\frac {number \\ correct}{N}$\n",
    "\n",
    "and we also need the std error of the sample mean proportion that is equal to the square root of the variance of $\\hat{p}$\n",
    "\n",
    "where the estimated variance of $\\hat{p}$\n",
    "\n",
    "\n",
    "is $\\hat{var}(\\hat{p})=\\frac{ \\hat{p} \\ (1-\\hat{p}) }{ N}$\n",
    "\n"
   ]
  },
  {
   "cell_type": "markdown",
   "id": "8903c49d-5bf1-4df9-bbe4-fe0fcc4d7ddc",
   "metadata": {},
   "source": [
    "#### Get the sample estimate of $\\hat{p}$"
   ]
  },
  {
   "cell_type": "code",
   "execution_count": 4,
   "id": "e03aab12-f84c-404a-b1a5-60ea1035773d",
   "metadata": {},
   "outputs": [
    {
     "data": {
      "text/html": [
       "0.65"
      ],
      "text/latex": [
       "0.65"
      ],
      "text/markdown": [
       "0.65"
      ],
      "text/plain": [
       "[1] 0.65"
      ]
     },
     "metadata": {},
     "output_type": "display_data"
    }
   ],
   "source": [
    "(phat2025<-mean(my_data2025$correct1and2))"
   ]
  },
  {
   "cell_type": "code",
   "execution_count": 5,
   "id": "10bbe272-6957-4839-be49-d2892e51a80a",
   "metadata": {},
   "outputs": [
    {
     "data": {
      "text/html": [
       "0.011375"
      ],
      "text/latex": [
       "0.011375"
      ],
      "text/markdown": [
       "0.011375"
      ],
      "text/plain": [
       "[1] 0.011375"
      ]
     },
     "metadata": {},
     "output_type": "display_data"
    }
   ],
   "source": [
    "#and compute the variance of phat2025\n",
    "\n",
    "var_phat2025<-phat2025*(1-phat2025)/nobserv2025\n",
    "\n",
    "#show it\n",
    "var_phat2025"
   ]
  },
  {
   "cell_type": "markdown",
   "id": "db5b806f-68d2-4a27-85d9-96432ffc4ea3",
   "metadata": {},
   "source": [
    "#### Get $se(\\hat{p})$, the sample estimated Standard error of $\\hat{p}$"
   ]
  },
  {
   "cell_type": "code",
   "execution_count": 6,
   "id": "89b5e437-9f7d-4225-8527-409e26a1fc54",
   "metadata": {},
   "outputs": [
    {
     "data": {
      "text/html": [
       "0.106653645038508"
      ],
      "text/latex": [
       "0.106653645038508"
      ],
      "text/markdown": [
       "0.106653645038508"
      ],
      "text/plain": [
       "[1] 0.1066536"
      ]
     },
     "metadata": {},
     "output_type": "display_data"
    }
   ],
   "source": [
    "#get the standard error, se,  of phat2025 is the square root of the variance\n",
    "\n",
    "se_phat2025<-sqrt(var_phat2025)\n",
    "se_phat2025"
   ]
  },
  {
   "attachments": {},
   "cell_type": "markdown",
   "id": "820df45f-d38c-4aab-9fd3-02ada4464ce9",
   "metadata": {},
   "source": [
    "## 95% confidence interval for p\n",
    "\n",
    "$ \\ \\hat{p} \\ - \\ c^{95\\%} \\ se(\\hat{p}) \\\\  ; \\ \\ \\hat{p} \\ + \\ c^{95\\%} \\ se(\\hat{p}) \\ $ \n",
    "\n",
    "where $ct^{95\\%}$ is the two-tailed critical value for a  N(0,1) distribution, that is, 1.96.\n",
    "\n",
    "So the probability that the random CI= ( phat− c 𝐬e_phat , phat + c se_phat ) includes the true value of p is 95%.\n",
    "\n"
   ]
  },
  {
   "cell_type": "markdown",
   "id": "6da2cce2-ffc3-4d2e-82f1-bc73a519cd59",
   "metadata": {},
   "source": [
    "### Derive a 95\\% confidence interval for p2025 and interpret in a sentence.\n",
    "\n"
   ]
  },
  {
   "cell_type": "code",
   "execution_count": 7,
   "id": "7424ecf8-4c0a-48c7-b83e-7790312eecc0",
   "metadata": {},
   "outputs": [
    {
     "data": {
      "text/html": [
       "0.440958855724525"
      ],
      "text/latex": [
       "0.440958855724525"
      ],
      "text/markdown": [
       "0.440958855724525"
      ],
      "text/plain": [
       "[1] 0.4409589"
      ]
     },
     "metadata": {},
     "output_type": "display_data"
    }
   ],
   "source": [
    "#the lower part of the 95 % confidence interval is\n",
    "\n",
    "ci95_l2025<-phat2025 - ( 1.96 * se_phat2025 )\n",
    "ci95_l2025"
   ]
  },
  {
   "cell_type": "code",
   "execution_count": 9,
   "id": "309629d5-500c-4aba-8326-9d6f16437277",
   "metadata": {},
   "outputs": [
    {
     "data": {
      "text/html": [
       "0.859041144275475"
      ],
      "text/latex": [
       "0.859041144275475"
      ],
      "text/markdown": [
       "0.859041144275475"
      ],
      "text/plain": [
       "[1] 0.8590411"
      ]
     },
     "metadata": {},
     "output_type": "display_data"
    }
   ],
   "source": [
    "#the upper part of the 95 % confidence interval is\n",
    "\n",
    "ci95_u2025<-phat2025 + ( 1.96 * se_phat2025 )\n",
    "ci95_u2025"
   ]
  },
  {
   "cell_type": "code",
   "execution_count": 10,
   "id": "8f769cb2-17ea-46a7-9a4d-b1bc9bc3b56b",
   "metadata": {},
   "outputs": [
    {
     "data": {
      "text/html": [
       "<table class=\"dataframe\">\n",
       "<caption>A matrix: 1 × 2 of type dbl</caption>\n",
       "<thead>\n",
       "\t<tr><th scope=col>ci95_l2025</th><th scope=col>ci95_u2025</th></tr>\n",
       "</thead>\n",
       "<tbody>\n",
       "\t<tr><td>0.4409589</td><td>0.8590411</td></tr>\n",
       "</tbody>\n",
       "</table>\n"
      ],
      "text/latex": [
       "A matrix: 1 × 2 of type dbl\n",
       "\\begin{tabular}{ll}\n",
       " ci95\\_l2025 & ci95\\_u2025\\\\\n",
       "\\hline\n",
       "\t 0.4409589 & 0.8590411\\\\\n",
       "\\end{tabular}\n"
      ],
      "text/markdown": [
       "\n",
       "A matrix: 1 × 2 of type dbl\n",
       "\n",
       "| ci95_l2025 | ci95_u2025 |\n",
       "|---|---|\n",
       "| 0.4409589 | 0.8590411 |\n",
       "\n"
      ],
      "text/plain": [
       "     ci95_l2025 ci95_u2025\n",
       "[1,] 0.4409589  0.8590411 "
      ]
     },
     "metadata": {},
     "output_type": "display_data"
    }
   ],
   "source": [
    "\n",
    "ci95percent2025=cbind(ci95_l2025,ci95_u2025)\n",
    "ci95percent2025\n",
    "\n",
    "#will give you\n",
    "#         ci95_l 2025    ci95_u2025\n",
    "#[1,]       0.441         0.859"
   ]
  },
  {
   "cell_type": "markdown",
   "id": "ad719afa-01b0-48d0-8c1c-bc63bdc1ae99",
   "metadata": {},
   "source": [
    "## What would be the probability of guessing each question right?\n",
    "\n",
    "Since there are three options, the probability of a guess is 1/3.\n",
    "\n",
    "## What is the probability that students guess both questions right?\n",
    "\n",
    "It is 1/3 * 1/3 = 1/9=0.111\n"
   ]
  },
  {
   "cell_type": "markdown",
   "id": "935fbc5f-9d01-4a7e-8a15-8ce2ace772e1",
   "metadata": {},
   "source": [
    "## Does the Confidence interval we just created, that we are 95% sure contains the true proportion of students that answer both questions right, contain 0.111?\n",
    "\n",
    "The answer is no.\n",
    "\n",
    "You will learn then that we reject with 95% confidence that the students are not guessing both questions right (corresponds to p=0.11), since the 95% confid interval for the true p does not contain 0.11.\n",
    "\n",
    "### How wrong can we be, based on this analysis? 5% of the times we can be wrong, we are 95% confident...\n",
    "\n",
    "There was some thinking going on in the answers, great job! \n",
    "\n",
    "you were not just guessing...! We reject guessing based on your answers!!!"
   ]
  },
  {
   "cell_type": "markdown",
   "id": "7a5f55d8-938e-414b-8fa2-429fdedb8c34",
   "metadata": {},
   "source": [
    "# the end  during Lecture\n",
    "\n",
    "\n",
    "## now do DA Lecture 8\n",
    "\n",
    "do the same with data2024.dta\n",
    "\n"
   ]
  },
  {
   "cell_type": "code",
   "execution_count": 11,
   "id": "374492e7-7ae3-461c-a19e-db22081b78cc",
   "metadata": {},
   "outputs": [
    {
     "data": {
      "text/html": [
       "<table class=\"dataframe\">\n",
       "<caption>A tibble: 6 × 9</caption>\n",
       "<thead>\n",
       "\t<tr><th scope=col>timestamp</th><th scope=col>went2class</th><th scope=col>soccerfan</th><th scope=col>correct1</th><th scope=col>correct2</th><th scope=col>correctboth</th><th scope=col>numberCorrect</th><th scope=col>went2Class</th><th scope=col>isSoccerFan</th></tr>\n",
       "\t<tr><th scope=col>&lt;chr&gt;</th><th scope=col>&lt;chr&gt;</th><th scope=col>&lt;chr&gt;</th><th scope=col>&lt;dbl&gt;</th><th scope=col>&lt;dbl&gt;</th><th scope=col>&lt;dbl&gt;</th><th scope=col>&lt;dbl&gt;</th><th scope=col>&lt;dbl&gt;</th><th scope=col>&lt;dbl&gt;</th></tr>\n",
       "</thead>\n",
       "<tbody>\n",
       "\t<tr><td>2/6/2024 10:53:19</td><td>yes</td><td>yes</td><td>1</td><td>1</td><td>1</td><td>2</td><td>1</td><td>1</td></tr>\n",
       "\t<tr><td>2/6/2024 11:01:25</td><td>yes</td><td>yes</td><td>1</td><td>0</td><td>0</td><td>1</td><td>1</td><td>1</td></tr>\n",
       "\t<tr><td>2/6/2024 11:11:24</td><td>yes</td><td>yes</td><td>1</td><td>1</td><td>1</td><td>2</td><td>1</td><td>1</td></tr>\n",
       "\t<tr><td>2/6/2024 11:11:28</td><td>yes</td><td>yes</td><td>1</td><td>0</td><td>0</td><td>1</td><td>1</td><td>1</td></tr>\n",
       "\t<tr><td>2/6/2024 11:11:52</td><td>yes</td><td>yes</td><td>1</td><td>0</td><td>0</td><td>1</td><td>1</td><td>1</td></tr>\n",
       "\t<tr><td>2/6/2024 11:11:53</td><td>yes</td><td>no </td><td>1</td><td>1</td><td>1</td><td>2</td><td>1</td><td>0</td></tr>\n",
       "</tbody>\n",
       "</table>\n"
      ],
      "text/latex": [
       "A tibble: 6 × 9\n",
       "\\begin{tabular}{lllllllll}\n",
       " timestamp & went2class & soccerfan & correct1 & correct2 & correctboth & numberCorrect & went2Class & isSoccerFan\\\\\n",
       " <chr> & <chr> & <chr> & <dbl> & <dbl> & <dbl> & <dbl> & <dbl> & <dbl>\\\\\n",
       "\\hline\n",
       "\t 2/6/2024 10:53:19 & yes & yes & 1 & 1 & 1 & 2 & 1 & 1\\\\\n",
       "\t 2/6/2024 11:01:25 & yes & yes & 1 & 0 & 0 & 1 & 1 & 1\\\\\n",
       "\t 2/6/2024 11:11:24 & yes & yes & 1 & 1 & 1 & 2 & 1 & 1\\\\\n",
       "\t 2/6/2024 11:11:28 & yes & yes & 1 & 0 & 0 & 1 & 1 & 1\\\\\n",
       "\t 2/6/2024 11:11:52 & yes & yes & 1 & 0 & 0 & 1 & 1 & 1\\\\\n",
       "\t 2/6/2024 11:11:53 & yes & no  & 1 & 1 & 1 & 2 & 1 & 0\\\\\n",
       "\\end{tabular}\n"
      ],
      "text/markdown": [
       "\n",
       "A tibble: 6 × 9\n",
       "\n",
       "| timestamp &lt;chr&gt; | went2class &lt;chr&gt; | soccerfan &lt;chr&gt; | correct1 &lt;dbl&gt; | correct2 &lt;dbl&gt; | correctboth &lt;dbl&gt; | numberCorrect &lt;dbl&gt; | went2Class &lt;dbl&gt; | isSoccerFan &lt;dbl&gt; |\n",
       "|---|---|---|---|---|---|---|---|---|\n",
       "| 2/6/2024 10:53:19 | yes | yes | 1 | 1 | 1 | 2 | 1 | 1 |\n",
       "| 2/6/2024 11:01:25 | yes | yes | 1 | 0 | 0 | 1 | 1 | 1 |\n",
       "| 2/6/2024 11:11:24 | yes | yes | 1 | 1 | 1 | 2 | 1 | 1 |\n",
       "| 2/6/2024 11:11:28 | yes | yes | 1 | 0 | 0 | 1 | 1 | 1 |\n",
       "| 2/6/2024 11:11:52 | yes | yes | 1 | 0 | 0 | 1 | 1 | 1 |\n",
       "| 2/6/2024 11:11:53 | yes | no  | 1 | 1 | 1 | 2 | 1 | 0 |\n",
       "\n"
      ],
      "text/plain": [
       "  timestamp         went2class soccerfan correct1 correct2 correctboth\n",
       "1 2/6/2024 10:53:19 yes        yes       1        1        1          \n",
       "2 2/6/2024 11:01:25 yes        yes       1        0        0          \n",
       "3 2/6/2024 11:11:24 yes        yes       1        1        1          \n",
       "4 2/6/2024 11:11:28 yes        yes       1        0        0          \n",
       "5 2/6/2024 11:11:52 yes        yes       1        0        0          \n",
       "6 2/6/2024 11:11:53 yes        no        1        1        1          \n",
       "  numberCorrect went2Class isSoccerFan\n",
       "1 2             1          1          \n",
       "2 1             1          1          \n",
       "3 2             1          1          \n",
       "4 1             1          1          \n",
       "5 1             1          1          \n",
       "6 2             1          0          "
      ]
     },
     "metadata": {},
     "output_type": "display_data"
    }
   ],
   "source": [
    "#-------------------------------------------\n",
    "#1. Read in data\n",
    "#-------------------------------------------\n",
    "my_data <- read_dta(\"data2024.dta\")\n",
    "head(my_data)"
   ]
  },
  {
   "cell_type": "code",
   "execution_count": 12,
   "id": "c310f961-0a90-4ed2-9542-308b3280c420",
   "metadata": {},
   "outputs": [
    {
     "data": {
      "text/html": [
       "<table class=\"dataframe\">\n",
       "<caption>A psych: 9 × 9</caption>\n",
       "<thead>\n",
       "\t<tr><th></th><th scope=col>vars</th><th scope=col>n</th><th scope=col>mean</th><th scope=col>sd</th><th scope=col>median</th><th scope=col>min</th><th scope=col>max</th><th scope=col>range</th><th scope=col>se</th></tr>\n",
       "\t<tr><th></th><th scope=col>&lt;int&gt;</th><th scope=col>&lt;dbl&gt;</th><th scope=col>&lt;dbl&gt;</th><th scope=col>&lt;dbl&gt;</th><th scope=col>&lt;dbl&gt;</th><th scope=col>&lt;dbl&gt;</th><th scope=col>&lt;dbl&gt;</th><th scope=col>&lt;dbl&gt;</th><th scope=col>&lt;dbl&gt;</th></tr>\n",
       "</thead>\n",
       "<tbody>\n",
       "\t<tr><th scope=row>timestamp*</th><td>1</td><td>108</td><td>53.8055556</td><td>30.9529212</td><td>53.5</td><td>1</td><td>107</td><td>106</td><td>2.97844624</td></tr>\n",
       "\t<tr><th scope=row>went2class*</th><td>2</td><td>108</td><td> 1.9351852</td><td> 0.2473466</td><td> 2.0</td><td>1</td><td>  2</td><td>  1</td><td>0.02380094</td></tr>\n",
       "\t<tr><th scope=row>soccerfan*</th><td>3</td><td>108</td><td> 1.5185185</td><td> 0.5019864</td><td> 2.0</td><td>1</td><td>  2</td><td>  1</td><td>0.04830366</td></tr>\n",
       "\t<tr><th scope=row>correct1</th><td>4</td><td>108</td><td> 0.9722222</td><td> 0.1651017</td><td> 1.0</td><td>0</td><td>  1</td><td>  1</td><td>0.01588692</td></tr>\n",
       "\t<tr><th scope=row>correct2</th><td>5</td><td>108</td><td> 0.5555556</td><td> 0.4992206</td><td> 1.0</td><td>0</td><td>  1</td><td>  1</td><td>0.04803752</td></tr>\n",
       "\t<tr><th scope=row>correctboth</th><td>6</td><td>108</td><td> 0.5555556</td><td> 0.4992206</td><td> 1.0</td><td>0</td><td>  1</td><td>  1</td><td>0.04803752</td></tr>\n",
       "\t<tr><th scope=row>numberCorrect</th><td>7</td><td>108</td><td> 1.5277778</td><td> 0.5546462</td><td> 2.0</td><td>0</td><td>  2</td><td>  2</td><td>0.05337085</td></tr>\n",
       "\t<tr><th scope=row>went2Class</th><td>8</td><td>108</td><td> 0.9351852</td><td> 0.2473466</td><td> 1.0</td><td>0</td><td>  1</td><td>  1</td><td>0.02380094</td></tr>\n",
       "\t<tr><th scope=row>isSoccerFan</th><td>9</td><td>108</td><td> 0.5185185</td><td> 0.5019864</td><td> 1.0</td><td>0</td><td>  1</td><td>  1</td><td>0.04830366</td></tr>\n",
       "</tbody>\n",
       "</table>\n"
      ],
      "text/latex": [
       "A psych: 9 × 9\n",
       "\\begin{tabular}{r|lllllllll}\n",
       "  & vars & n & mean & sd & median & min & max & range & se\\\\\n",
       "  & <int> & <dbl> & <dbl> & <dbl> & <dbl> & <dbl> & <dbl> & <dbl> & <dbl>\\\\\n",
       "\\hline\n",
       "\ttimestamp* & 1 & 108 & 53.8055556 & 30.9529212 & 53.5 & 1 & 107 & 106 & 2.97844624\\\\\n",
       "\twent2class* & 2 & 108 &  1.9351852 &  0.2473466 &  2.0 & 1 &   2 &   1 & 0.02380094\\\\\n",
       "\tsoccerfan* & 3 & 108 &  1.5185185 &  0.5019864 &  2.0 & 1 &   2 &   1 & 0.04830366\\\\\n",
       "\tcorrect1 & 4 & 108 &  0.9722222 &  0.1651017 &  1.0 & 0 &   1 &   1 & 0.01588692\\\\\n",
       "\tcorrect2 & 5 & 108 &  0.5555556 &  0.4992206 &  1.0 & 0 &   1 &   1 & 0.04803752\\\\\n",
       "\tcorrectboth & 6 & 108 &  0.5555556 &  0.4992206 &  1.0 & 0 &   1 &   1 & 0.04803752\\\\\n",
       "\tnumberCorrect & 7 & 108 &  1.5277778 &  0.5546462 &  2.0 & 0 &   2 &   2 & 0.05337085\\\\\n",
       "\twent2Class & 8 & 108 &  0.9351852 &  0.2473466 &  1.0 & 0 &   1 &   1 & 0.02380094\\\\\n",
       "\tisSoccerFan & 9 & 108 &  0.5185185 &  0.5019864 &  1.0 & 0 &   1 &   1 & 0.04830366\\\\\n",
       "\\end{tabular}\n"
      ],
      "text/markdown": [
       "\n",
       "A psych: 9 × 9\n",
       "\n",
       "| <!--/--> | vars &lt;int&gt; | n &lt;dbl&gt; | mean &lt;dbl&gt; | sd &lt;dbl&gt; | median &lt;dbl&gt; | min &lt;dbl&gt; | max &lt;dbl&gt; | range &lt;dbl&gt; | se &lt;dbl&gt; |\n",
       "|---|---|---|---|---|---|---|---|---|---|\n",
       "| timestamp* | 1 | 108 | 53.8055556 | 30.9529212 | 53.5 | 1 | 107 | 106 | 2.97844624 |\n",
       "| went2class* | 2 | 108 |  1.9351852 |  0.2473466 |  2.0 | 1 |   2 |   1 | 0.02380094 |\n",
       "| soccerfan* | 3 | 108 |  1.5185185 |  0.5019864 |  2.0 | 1 |   2 |   1 | 0.04830366 |\n",
       "| correct1 | 4 | 108 |  0.9722222 |  0.1651017 |  1.0 | 0 |   1 |   1 | 0.01588692 |\n",
       "| correct2 | 5 | 108 |  0.5555556 |  0.4992206 |  1.0 | 0 |   1 |   1 | 0.04803752 |\n",
       "| correctboth | 6 | 108 |  0.5555556 |  0.4992206 |  1.0 | 0 |   1 |   1 | 0.04803752 |\n",
       "| numberCorrect | 7 | 108 |  1.5277778 |  0.5546462 |  2.0 | 0 |   2 |   2 | 0.05337085 |\n",
       "| went2Class | 8 | 108 |  0.9351852 |  0.2473466 |  1.0 | 0 |   1 |   1 | 0.02380094 |\n",
       "| isSoccerFan | 9 | 108 |  0.5185185 |  0.5019864 |  1.0 | 0 |   1 |   1 | 0.04830366 |\n",
       "\n"
      ],
      "text/plain": [
       "              vars n   mean       sd         median min max range se        \n",
       "timestamp*    1    108 53.8055556 30.9529212 53.5   1   107 106   2.97844624\n",
       "went2class*   2    108  1.9351852  0.2473466  2.0   1     2   1   0.02380094\n",
       "soccerfan*    3    108  1.5185185  0.5019864  2.0   1     2   1   0.04830366\n",
       "correct1      4    108  0.9722222  0.1651017  1.0   0     1   1   0.01588692\n",
       "correct2      5    108  0.5555556  0.4992206  1.0   0     1   1   0.04803752\n",
       "correctboth   6    108  0.5555556  0.4992206  1.0   0     1   1   0.04803752\n",
       "numberCorrect 7    108  1.5277778  0.5546462  2.0   0     2   2   0.05337085\n",
       "went2Class    8    108  0.9351852  0.2473466  1.0   0     1   1   0.02380094\n",
       "isSoccerFan   9    108  0.5185185  0.5019864  1.0   0     1   1   0.04830366"
      ]
     },
     "metadata": {},
     "output_type": "display_data"
    }
   ],
   "source": [
    "#describe data\n",
    "describe(my_data,skew = FALSE)"
   ]
  },
  {
   "cell_type": "code",
   "execution_count": 13,
   "id": "1ff3b772-080d-4626-b0ca-7b29702f5e7d",
   "metadata": {},
   "outputs": [
    {
     "data": {
      "text/html": [
       "0.972222222222222"
      ],
      "text/latex": [
       "0.972222222222222"
      ],
      "text/markdown": [
       "0.972222222222222"
      ],
      "text/plain": [
       "[1] 0.9722222"
      ]
     },
     "metadata": {},
     "output_type": "display_data"
    }
   ],
   "source": [
    "# what is the proportion of correct question 1?\n",
    "mean(mean(my_data$correct1))"
   ]
  },
  {
   "cell_type": "code",
   "execution_count": 14,
   "id": "e2d39703-07cf-4e4f-aacd-0dc4661b94df",
   "metadata": {},
   "outputs": [
    {
     "data": {
      "text/html": [
       "0.555555555555556"
      ],
      "text/latex": [
       "0.555555555555556"
      ],
      "text/markdown": [
       "0.555555555555556"
      ],
      "text/plain": [
       "[1] 0.5555556"
      ]
     },
     "metadata": {},
     "output_type": "display_data"
    }
   ],
   "source": [
    "#what is the proportion of correct question2?\n",
    "mean(mean(my_data$correct2))"
   ]
  },
  {
   "cell_type": "markdown",
   "id": "8a19399b-0b97-4c41-87be-d70905db7438",
   "metadata": {},
   "source": [
    "## create a new column correct 1 and 2"
   ]
  },
  {
   "cell_type": "code",
   "execution_count": 15,
   "id": "e39a5231-1121-4df0-b30c-b71f7a16e2d3",
   "metadata": {},
   "outputs": [
    {
     "data": {
      "text/html": [
       "0.555555555555556"
      ],
      "text/latex": [
       "0.555555555555556"
      ],
      "text/markdown": [
       "0.555555555555556"
      ],
      "text/plain": [
       "[1] 0.5555556"
      ]
     },
     "metadata": {},
     "output_type": "display_data"
    }
   ],
   "source": [
    "#what is the proportion of both correct in general?\n",
    "my_data$correct1and2<-my_data$correct1*my_data$correct2\n",
    "mean(mean(my_data$correct1and2))"
   ]
  },
  {
   "cell_type": "code",
   "execution_count": 16,
   "id": "6fddda93-083c-424a-a249-9c8bcb2c1763",
   "metadata": {},
   "outputs": [],
   "source": [
    "#answer [1] 0.5555556"
   ]
  },
  {
   "cell_type": "markdown",
   "id": "7ee59cbd-3be8-43a5-bb88-bb12c082addb",
   "metadata": {},
   "source": [
    "# Let us construct the 95% confidence interval for the true proportion os answering both questions 1 and 2 correctly\n",
    "to do that, we need the sample average of p, which we call \n",
    "\n",
    "phat = number answering correctly divided by sample size N\n",
    "\n",
    "$\\hat{p} =\\frac {number \\ correct}{N}$\n",
    "\n",
    "and we also need the std error of the sample mean proportion that is equal to the square root of the variance of $\\hat{p}$\n",
    "\n",
    "where the estimated variance of $\\hat{p}$\n",
    "\n",
    "\n",
    "is $\\hat{var}(\\hat{p})=\\frac{ \\hat{p} \\ (1-\\hat{p}) }{ N}$\n",
    "\n"
   ]
  },
  {
   "cell_type": "code",
   "execution_count": 17,
   "id": "2a2eb499-4319-4d02-b838-f9258c7700cc",
   "metadata": {},
   "outputs": [
    {
     "data": {
      "text/html": [
       "0.555555555555556"
      ],
      "text/latex": [
       "0.555555555555556"
      ],
      "text/markdown": [
       "0.555555555555556"
      ],
      "text/plain": [
       "[1] 0.5555556"
      ]
     },
     "metadata": {},
     "output_type": "display_data"
    }
   ],
   "source": [
    "#let phat be the estimated proportion of both correct in general \n",
    "phat<-mean(my_data$correctboth)\n",
    "#show it\n",
    "phat"
   ]
  },
  {
   "cell_type": "code",
   "execution_count": 18,
   "id": "56eee6f3-afa4-4eb3-a2f6-85d3ed230066",
   "metadata": {},
   "outputs": [
    {
     "data": {
      "text/html": [
       "108"
      ],
      "text/latex": [
       "108"
      ],
      "text/markdown": [
       "108"
      ],
      "text/plain": [
       "[1] 108"
      ]
     },
     "metadata": {},
     "output_type": "display_data"
    }
   ],
   "source": [
    "#number of observations\n",
    "nobserv<-nrow(my_data)\n",
    "\n",
    "#answer is 108\n",
    "nobserv"
   ]
  },
  {
   "cell_type": "code",
   "execution_count": 19,
   "id": "d42a6833-87e1-4bd3-a0a9-e42f6ba22e6b",
   "metadata": {},
   "outputs": [
    {
     "data": {
      "text/html": [
       "0.00228623685413809"
      ],
      "text/latex": [
       "0.00228623685413809"
      ],
      "text/markdown": [
       "0.00228623685413809"
      ],
      "text/plain": [
       "[1] 0.002286237"
      ]
     },
     "metadata": {},
     "output_type": "display_data"
    }
   ],
   "source": [
    "#and compute the variance of phat\n",
    "\n",
    "var_phat<-phat*(1-phat)/nobserv\n",
    "\n",
    "#show it\n",
    "var_phat"
   ]
  },
  {
   "cell_type": "code",
   "execution_count": 20,
   "id": "20d94da3-6191-415d-959a-cf8f38ed15fe",
   "metadata": {},
   "outputs": [
    {
     "data": {
      "text/html": [
       "0.0478146092124372"
      ],
      "text/latex": [
       "0.0478146092124372"
      ],
      "text/markdown": [
       "0.0478146092124372"
      ],
      "text/plain": [
       "[1] 0.04781461"
      ]
     },
     "metadata": {},
     "output_type": "display_data"
    }
   ],
   "source": [
    "#se of phat is the square root of the variance\n",
    "\n",
    "se_phat<-sqrt(var_phat)\n",
    "se_phat"
   ]
  },
  {
   "cell_type": "markdown",
   "id": "db13d2d7-eddb-4f7e-918c-2a973ed5b46d",
   "metadata": {},
   "source": [
    "### Derive a 95\\% confidence interval for p and interpret in a sentence.\n",
    "critical value  is approx 1.96, two-tailed, 5 percent for a N(0,1).\n"
   ]
  },
  {
   "cell_type": "code",
   "execution_count": 21,
   "id": "f59a6e5c-f2ce-4125-86f9-c0976048a5ed",
   "metadata": {},
   "outputs": [
    {
     "data": {
      "text/html": [
       "0.461838921499179"
      ],
      "text/latex": [
       "0.461838921499179"
      ],
      "text/markdown": [
       "0.461838921499179"
      ],
      "text/plain": [
       "[1] 0.4618389"
      ]
     },
     "metadata": {},
     "output_type": "display_data"
    }
   ],
   "source": [
    "#the lower part of the 95 % confidence interval is\n",
    "\n",
    "ci95_l<-phat - ( 1.96 * se_phat )\n",
    "ci95_l"
   ]
  },
  {
   "cell_type": "code",
   "execution_count": 22,
   "id": "5a1b7459-3036-496d-8e71-299a431e4b42",
   "metadata": {},
   "outputs": [
    {
     "data": {
      "text/html": [
       "0.649272189611933"
      ],
      "text/latex": [
       "0.649272189611933"
      ],
      "text/markdown": [
       "0.649272189611933"
      ],
      "text/plain": [
       "[1] 0.6492722"
      ]
     },
     "metadata": {},
     "output_type": "display_data"
    }
   ],
   "source": [
    "#the upper part of the 95 % confidence interval is\n",
    "\n",
    "ci95_u<-phat + ( 1.96 * se_phat )\n",
    "ci95_u"
   ]
  },
  {
   "cell_type": "code",
   "execution_count": 23,
   "id": "717e3a72-6b68-44ca-a488-92f833ec77ef",
   "metadata": {},
   "outputs": [
    {
     "data": {
      "text/html": [
       "<table class=\"dataframe\">\n",
       "<caption>A matrix: 1 × 2 of type dbl</caption>\n",
       "<thead>\n",
       "\t<tr><th scope=col>ci95_l</th><th scope=col>ci95_u</th></tr>\n",
       "</thead>\n",
       "<tbody>\n",
       "\t<tr><td>0.4618389</td><td>0.6492722</td></tr>\n",
       "</tbody>\n",
       "</table>\n"
      ],
      "text/latex": [
       "A matrix: 1 × 2 of type dbl\n",
       "\\begin{tabular}{ll}\n",
       " ci95\\_l & ci95\\_u\\\\\n",
       "\\hline\n",
       "\t 0.4618389 & 0.6492722\\\\\n",
       "\\end{tabular}\n"
      ],
      "text/markdown": [
       "\n",
       "A matrix: 1 × 2 of type dbl\n",
       "\n",
       "| ci95_l | ci95_u |\n",
       "|---|---|\n",
       "| 0.4618389 | 0.6492722 |\n",
       "\n"
      ],
      "text/plain": [
       "     ci95_l    ci95_u   \n",
       "[1,] 0.4618389 0.6492722"
      ]
     },
     "metadata": {},
     "output_type": "display_data"
    }
   ],
   "source": [
    "\n",
    "ci95percent=cbind(ci95_l,ci95_u)\n",
    "ci95percent\n",
    "\n",
    "#will give you\n",
    "#         ci95_l     ci95_u\n",
    "#[1,] 0.4618389 0.6492722"
   ]
  },
  {
   "cell_type": "markdown",
   "id": "c498bf95-ef46-44ab-b512-1044c52459eb",
   "metadata": {},
   "source": [
    "## THE END DA Lecture 8"
   ]
  }
 ],
 "metadata": {
  "kernelspec": {
   "display_name": "R",
   "language": "R",
   "name": "ir"
  },
  "language_info": {
   "codemirror_mode": "r",
   "file_extension": ".r",
   "mimetype": "text/x-r-source",
   "name": "R",
   "pygments_lexer": "r",
   "version": "4.4.2"
  }
 },
 "nbformat": 4,
 "nbformat_minor": 5
}
