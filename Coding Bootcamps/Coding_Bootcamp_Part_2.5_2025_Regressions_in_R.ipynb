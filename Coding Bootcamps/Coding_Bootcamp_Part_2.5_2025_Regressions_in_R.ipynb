{
 "cells": [
  {
   "cell_type": "markdown",
   "id": "e6211b29-af13-4728-9403-bf049ed7cdf6",
   "metadata": {},
   "source": [
    "### Regression in R\n",
    "\n",
    "Running regressions with **R** is quite easy. Later in the course we'll get into some more complex regression commands, but for now we'll stick with simple linear regression using the `lm()` command. \n",
    "\n",
    "First, let's take a step back and see how mpg and price are correlated in the data. We can obtain correlations of two variables using the `cor()` function. "
   ]
  },
  {
   "cell_type": "code",
   "execution_count": 1,
   "id": "5e2e6530-aad4-4ff2-b273-fb8c65157737",
   "metadata": {},
   "outputs": [
    {
     "data": {
      "text/html": [
       "<table class=\"dataframe\">\n",
       "<caption>A data.frame: 6 × 13</caption>\n",
       "<thead>\n",
       "\t<tr><th></th><th scope=col>X</th><th scope=col>make</th><th scope=col>price</th><th scope=col>mpg</th><th scope=col>rep78</th><th scope=col>headroom</th><th scope=col>trunk</th><th scope=col>weight</th><th scope=col>length</th><th scope=col>turn</th><th scope=col>displacement</th><th scope=col>gear_ratio</th><th scope=col>foreign</th></tr>\n",
       "\t<tr><th></th><th scope=col>&lt;int&gt;</th><th scope=col>&lt;chr&gt;</th><th scope=col>&lt;int&gt;</th><th scope=col>&lt;int&gt;</th><th scope=col>&lt;int&gt;</th><th scope=col>&lt;dbl&gt;</th><th scope=col>&lt;int&gt;</th><th scope=col>&lt;int&gt;</th><th scope=col>&lt;int&gt;</th><th scope=col>&lt;int&gt;</th><th scope=col>&lt;int&gt;</th><th scope=col>&lt;dbl&gt;</th><th scope=col>&lt;int&gt;</th></tr>\n",
       "</thead>\n",
       "<tbody>\n",
       "\t<tr><th scope=row>1</th><td>1</td><td>AMC Concord  </td><td>4099</td><td>22</td><td> 3</td><td>2.5</td><td>11</td><td>2930</td><td>186</td><td>40</td><td>121</td><td>3.58</td><td>0</td></tr>\n",
       "\t<tr><th scope=row>2</th><td>2</td><td>AMC Pacer    </td><td>4749</td><td>17</td><td> 3</td><td>3.0</td><td>11</td><td>3350</td><td>173</td><td>40</td><td>258</td><td>2.53</td><td>0</td></tr>\n",
       "\t<tr><th scope=row>3</th><td>3</td><td>AMC Spirit   </td><td>3799</td><td>22</td><td>NA</td><td>3.0</td><td>12</td><td>2640</td><td>168</td><td>35</td><td>121</td><td>3.08</td><td>0</td></tr>\n",
       "\t<tr><th scope=row>4</th><td>4</td><td>Buick Century</td><td>4816</td><td>20</td><td> 3</td><td>4.5</td><td>16</td><td>3250</td><td>196</td><td>40</td><td>196</td><td>2.93</td><td>0</td></tr>\n",
       "\t<tr><th scope=row>5</th><td>5</td><td>Buick Electra</td><td>7827</td><td>15</td><td> 4</td><td>4.0</td><td>20</td><td>4080</td><td>222</td><td>43</td><td>350</td><td>2.41</td><td>0</td></tr>\n",
       "\t<tr><th scope=row>6</th><td>6</td><td>Buick LeSabre</td><td>5788</td><td>18</td><td> 3</td><td>4.0</td><td>21</td><td>3670</td><td>218</td><td>43</td><td>231</td><td>2.73</td><td>0</td></tr>\n",
       "</tbody>\n",
       "</table>\n"
      ],
      "text/latex": [
       "A data.frame: 6 × 13\n",
       "\\begin{tabular}{r|lllllllllllll}\n",
       "  & X & make & price & mpg & rep78 & headroom & trunk & weight & length & turn & displacement & gear\\_ratio & foreign\\\\\n",
       "  & <int> & <chr> & <int> & <int> & <int> & <dbl> & <int> & <int> & <int> & <int> & <int> & <dbl> & <int>\\\\\n",
       "\\hline\n",
       "\t1 & 1 & AMC Concord   & 4099 & 22 &  3 & 2.5 & 11 & 2930 & 186 & 40 & 121 & 3.58 & 0\\\\\n",
       "\t2 & 2 & AMC Pacer     & 4749 & 17 &  3 & 3.0 & 11 & 3350 & 173 & 40 & 258 & 2.53 & 0\\\\\n",
       "\t3 & 3 & AMC Spirit    & 3799 & 22 & NA & 3.0 & 12 & 2640 & 168 & 35 & 121 & 3.08 & 0\\\\\n",
       "\t4 & 4 & Buick Century & 4816 & 20 &  3 & 4.5 & 16 & 3250 & 196 & 40 & 196 & 2.93 & 0\\\\\n",
       "\t5 & 5 & Buick Electra & 7827 & 15 &  4 & 4.0 & 20 & 4080 & 222 & 43 & 350 & 2.41 & 0\\\\\n",
       "\t6 & 6 & Buick LeSabre & 5788 & 18 &  3 & 4.0 & 21 & 3670 & 218 & 43 & 231 & 2.73 & 0\\\\\n",
       "\\end{tabular}\n"
      ],
      "text/markdown": [
       "\n",
       "A data.frame: 6 × 13\n",
       "\n",
       "| <!--/--> | X &lt;int&gt; | make &lt;chr&gt; | price &lt;int&gt; | mpg &lt;int&gt; | rep78 &lt;int&gt; | headroom &lt;dbl&gt; | trunk &lt;int&gt; | weight &lt;int&gt; | length &lt;int&gt; | turn &lt;int&gt; | displacement &lt;int&gt; | gear_ratio &lt;dbl&gt; | foreign &lt;int&gt; |\n",
       "|---|---|---|---|---|---|---|---|---|---|---|---|---|---|\n",
       "| 1 | 1 | AMC Concord   | 4099 | 22 |  3 | 2.5 | 11 | 2930 | 186 | 40 | 121 | 3.58 | 0 |\n",
       "| 2 | 2 | AMC Pacer     | 4749 | 17 |  3 | 3.0 | 11 | 3350 | 173 | 40 | 258 | 2.53 | 0 |\n",
       "| 3 | 3 | AMC Spirit    | 3799 | 22 | NA | 3.0 | 12 | 2640 | 168 | 35 | 121 | 3.08 | 0 |\n",
       "| 4 | 4 | Buick Century | 4816 | 20 |  3 | 4.5 | 16 | 3250 | 196 | 40 | 196 | 2.93 | 0 |\n",
       "| 5 | 5 | Buick Electra | 7827 | 15 |  4 | 4.0 | 20 | 4080 | 222 | 43 | 350 | 2.41 | 0 |\n",
       "| 6 | 6 | Buick LeSabre | 5788 | 18 |  3 | 4.0 | 21 | 3670 | 218 | 43 | 231 | 2.73 | 0 |\n",
       "\n"
      ],
      "text/plain": [
       "  X make          price mpg rep78 headroom trunk weight length turn\n",
       "1 1 AMC Concord   4099  22   3    2.5      11    2930   186    40  \n",
       "2 2 AMC Pacer     4749  17   3    3.0      11    3350   173    40  \n",
       "3 3 AMC Spirit    3799  22  NA    3.0      12    2640   168    35  \n",
       "4 4 Buick Century 4816  20   3    4.5      16    3250   196    40  \n",
       "5 5 Buick Electra 7827  15   4    4.0      20    4080   222    43  \n",
       "6 6 Buick LeSabre 5788  18   3    4.0      21    3670   218    43  \n",
       "  displacement gear_ratio foreign\n",
       "1 121          3.58       0      \n",
       "2 258          2.53       0      \n",
       "3 121          3.08       0      \n",
       "4 196          2.93       0      \n",
       "5 350          2.41       0      \n",
       "6 231          2.73       0      "
      ]
     },
     "metadata": {},
     "output_type": "display_data"
    }
   ],
   "source": [
    "# First let's load our data and take a look\n",
    "carsdata <- read.csv(\"autos.csv\")\n",
    "head(carsdata)"
   ]
  },
  {
   "cell_type": "code",
   "execution_count": 2,
   "id": "84919a30-560e-4c6e-b6b8-8300be6f76c2",
   "metadata": {},
   "outputs": [
    {
     "data": {
      "text/html": [
       "-0.468596688195187"
      ],
      "text/latex": [
       "-0.468596688195187"
      ],
      "text/markdown": [
       "-0.468596688195187"
      ],
      "text/plain": [
       "[1] -0.4685967"
      ]
     },
     "metadata": {},
     "output_type": "display_data"
    }
   ],
   "source": [
    "# Now we can look at the correlation between mpg and price\n",
    "mpg_weight_cor <- cor(carsdata$mpg, carsdata$price)\n",
    "mpg_weight_cor"
   ]
  },
  {
   "cell_type": "markdown",
   "id": "da50be25-a215-432b-8c01-3fae78076573",
   "metadata": {},
   "source": [
    "What if we used a simple OLS regression instead? With regression functions like `lm()`, the first argument is the regression formula. Here we specify `price ~ mpg`, so we're telling R to describe *price* as a function of *mpg*. In practice, this is estimating the equation\n",
    "\n",
    "$$ price_i = \\beta_0 + \\beta_1 mpg_i + \\epsilon_i $$ \n",
    "\n",
    "where *price* is the dependent variable and *mpg* the independent variable/covariate. $\\beta_0$ and $\\beta_1$ are our intercept and slope coefficients, respectively - we'll spend a bunch of time learning about and interpreting these coefficients throughout the class. $\\epsilon_i$ is an error term.\n",
    "\n",
    "The second argument is the name of the dataset."
   ]
  },
  {
   "cell_type": "code",
   "execution_count": 3,
   "id": "9c021ee1-a48a-4252-8d2c-a41341068392",
   "metadata": {},
   "outputs": [
    {
     "data": {
      "text/plain": [
       "\n",
       "Call:\n",
       "lm(formula = price ~ mpg, data = carsdata)\n",
       "\n",
       "Coefficients:\n",
       "(Intercept)          mpg  \n",
       "    11253.1       -238.9  \n"
      ]
     },
     "metadata": {},
     "output_type": "display_data"
    }
   ],
   "source": [
    "price_mpg_regression <- lm(price ~ mpg, data = carsdata)\n",
    "price_mpg_regression"
   ]
  },
  {
   "cell_type": "markdown",
   "id": "232c4ad0-48a1-476f-b9fc-f59c45a368dd",
   "metadata": {},
   "source": [
    "Notice how we stored the model as an object. This is very important, since the lm object contains a lot of useful information about our model that we will want to access later. Also, notice that simply calling `price_mpg_regression` only output the regression equation and the coefficients. In order to get a better look at your output, including the estimate, standard error, t-value, p-value, R-squared and more, use the `summary()` command. The code below produces a summary of our model:"
   ]
  },
  {
   "cell_type": "code",
   "execution_count": 4,
   "id": "531b405b-a438-4ff4-85ba-4a64ca4a631c",
   "metadata": {},
   "outputs": [
    {
     "data": {
      "text/plain": [
       "\n",
       "Call:\n",
       "lm(formula = price ~ mpg, data = carsdata)\n",
       "\n",
       "Residuals:\n",
       "    Min      1Q  Median      3Q     Max \n",
       "-3184.2 -1886.9  -959.8  1359.7  9669.7 \n",
       "\n",
       "Coefficients:\n",
       "            Estimate Std. Error t value Pr(>|t|)    \n",
       "(Intercept) 11253.06    1170.81   9.611 1.53e-14 ***\n",
       "mpg          -238.89      53.08  -4.501 2.55e-05 ***\n",
       "---\n",
       "Signif. codes:  0 ‘***’ 0.001 ‘**’ 0.01 ‘*’ 0.05 ‘.’ 0.1 ‘ ’ 1\n",
       "\n",
       "Residual standard error: 2624 on 72 degrees of freedom\n",
       "Multiple R-squared:  0.2196,\tAdjusted R-squared:  0.2087 \n",
       "F-statistic: 20.26 on 1 and 72 DF,  p-value: 2.546e-05\n"
      ]
     },
     "metadata": {},
     "output_type": "display_data"
    }
   ],
   "source": [
    "summary(price_mpg_regression)"
   ]
  },
  {
   "cell_type": "markdown",
   "id": "6d7457e0-5108-4b14-9941-85d82a092ed7",
   "metadata": {},
   "source": [
    "We can also obtain the fitted values and residuals by calling them with `name$fitted.values` and `name$residuals`, respectively. Use the below code to look at the first few fitted values and the average value of the regression residuals."
   ]
  },
  {
   "cell_type": "code",
   "execution_count": 10,
   "id": "877600fc-6ba8-4730-b5dd-27f485599a6a",
   "metadata": {},
   "outputs": [
    {
     "data": {
      "text/html": [
       "<style>\n",
       ".dl-inline {width: auto; margin:0; padding: 0}\n",
       ".dl-inline>dt, .dl-inline>dd {float: none; width: auto; display: inline-block}\n",
       ".dl-inline>dt::after {content: \":\\0020\"; padding-right: .5ex}\n",
       ".dl-inline>dt:not(:first-of-type) {padding-left: .5ex}\n",
       "</style><dl class=dl-inline><dt>1</dt><dd>5997.38505441996</dd><dt>2</dt><dd>7191.85678258562</dd><dt>3</dt><dd>5997.38505441996</dd><dt>4</dt><dd>6475.17374568622</dd><dt>5</dt><dd>7669.64547385187</dd><dt>6</dt><dd>6952.96243695248</dd></dl>\n"
      ],
      "text/latex": [
       "\\begin{description*}\n",
       "\\item[1] 5997.38505441996\n",
       "\\item[2] 7191.85678258562\n",
       "\\item[3] 5997.38505441996\n",
       "\\item[4] 6475.17374568622\n",
       "\\item[5] 7669.64547385187\n",
       "\\item[6] 6952.96243695248\n",
       "\\end{description*}\n"
      ],
      "text/markdown": [
       "1\n",
       ":   5997.385054419962\n",
       ":   7191.856782585623\n",
       ":   5997.385054419964\n",
       ":   6475.173745686225\n",
       ":   7669.645473851876\n",
       ":   6952.96243695248\n",
       "\n"
      ],
      "text/plain": [
       "       1        2        3        4        5        6 \n",
       "5997.385 7191.857 5997.385 6475.174 7669.645 6952.962 "
      ]
     },
     "metadata": {},
     "output_type": "display_data"
    },
    {
     "data": {
      "text/html": [
       "-6.7693598474442e-14"
      ],
      "text/latex": [
       "-6.7693598474442e-14"
      ],
      "text/markdown": [
       "-6.7693598474442e-14"
      ],
      "text/plain": [
       "[1] -6.76936e-14"
      ]
     },
     "metadata": {},
     "output_type": "display_data"
    }
   ],
   "source": [
    "head(price_mpg_regression$fitted.values)\n",
    "mean(price_mpg_regression$residuals)"
   ]
  },
  {
   "cell_type": "markdown",
   "id": "b1d79eb4-f362-4597-99fb-cd894fb5aac4",
   "metadata": {},
   "source": [
    "We can also use indexing (discussed in Coding Bootcamp part 3 in greated detail) to access the esimated parameters stored in the lm object. There are a few ways to do this, the first is through calling `name$coefficient[i]`, where i = 1 will give you the intercept, i = 2 will give you the first explanatory variable and so forth. The code below calls the Intercept and $\\beta_1$ from the regression:"
   ]
  },
  {
   "cell_type": "code",
   "execution_count": 15,
   "id": "b7fb1649-cdcf-411b-a1e9-99ff042a2be8",
   "metadata": {},
   "outputs": [
    {
     "data": {
      "text/html": [
       "<strong>(Intercept):</strong> 11253.0606583488"
      ],
      "text/latex": [
       "\\textbf{(Intercept):} 11253.0606583488"
      ],
      "text/markdown": [
       "**(Intercept):** 11253.0606583488"
      ],
      "text/plain": [
       "(Intercept) \n",
       "   11253.06 "
      ]
     },
     "metadata": {},
     "output_type": "display_data"
    },
    {
     "data": {
      "text/html": [
       "<strong>mpg:</strong> -238.89434563313"
      ],
      "text/latex": [
       "\\textbf{mpg:} -238.89434563313"
      ],
      "text/markdown": [
       "**mpg:** -238.89434563313"
      ],
      "text/plain": [
       "      mpg \n",
       "-238.8943 "
      ]
     },
     "metadata": {},
     "output_type": "display_data"
    }
   ],
   "source": [
    "price_mpg_regression$coefficient[1]\n",
    "price_mpg_regression$coefficient[2]"
   ]
  },
  {
   "cell_type": "markdown",
   "id": "12633d1a-0cc3-45ab-b011-0d09ff270766",
   "metadata": {},
   "source": [
    "Another way to access the coefficients is through the lm summary, which stores coefficient, standard errors, t-values and p-values in a matrix. By properly indexing the stored matrix, we have access to not only the coefficients but also the associated standard error and test statistics. To access the stored information, call them by `summary(name)$coef[i,j]`. The intercept and explanatory variables are indexed by rows (i), and the estimate, standard error and test statistics are indexed by columns (j). We can access either the entire row, or each cell individually. \n",
    "\n",
    "For example, the following code calls the entire row of stored information for the dependent variable (mpg):"
   ]
  },
  {
   "cell_type": "code",
   "execution_count": 19,
   "id": "803e6896-39fe-410b-9307-be0de24f2e44",
   "metadata": {},
   "outputs": [
    {
     "data": {
      "text/html": [
       "<style>\n",
       ".dl-inline {width: auto; margin:0; padding: 0}\n",
       ".dl-inline>dt, .dl-inline>dd {float: none; width: auto; display: inline-block}\n",
       ".dl-inline>dt::after {content: \":\\0020\"; padding-right: .5ex}\n",
       ".dl-inline>dt:not(:first-of-type) {padding-left: .5ex}\n",
       "</style><dl class=dl-inline><dt>Estimate</dt><dd>-238.89434563313</dd><dt>Std. Error</dt><dd>53.0766871613496</dd><dt>t value</dt><dd>-4.50092796686626</dd><dt>Pr(&gt;|t|)</dt><dd>2.54613120514311e-05</dd></dl>\n"
      ],
      "text/latex": [
       "\\begin{description*}\n",
       "\\item[Estimate] -238.89434563313\n",
       "\\item[Std. Error] 53.0766871613496\n",
       "\\item[t value] -4.50092796686626\n",
       "\\item[Pr(>\\textbackslash{}textbar\\{\\}t\\textbackslash{}textbar\\{\\})] 2.54613120514311e-05\n",
       "\\end{description*}\n"
      ],
      "text/markdown": [
       "Estimate\n",
       ":   -238.89434563313Std. Error\n",
       ":   53.0766871613496t value\n",
       ":   -4.50092796686626Pr(&amp;gt;|t|)\n",
       ":   2.54613120514311e-05\n",
       "\n"
      ],
      "text/plain": [
       "     Estimate    Std. Error       t value      Pr(>|t|) \n",
       "-2.388943e+02  5.307669e+01 -4.500928e+00  2.546131e-05 "
      ]
     },
     "metadata": {},
     "output_type": "display_data"
    }
   ],
   "source": [
    "summary(price_mpg_regression)$coef[2,]"
   ]
  },
  {
   "cell_type": "markdown",
   "id": "482cabd6-a783-4e59-a70c-f88e26f6b0d2",
   "metadata": {},
   "source": [
    "If instead we want to call each stored object individually, we can call on specific columns. j = 1 accesses the _coefficient estimate_, j = 2 accesses the _standard error_, j = 3 accesses the _t-value_ and j = 4 accesses the _p-value_. The code below calls the point estimate and standard error for the model's explanatory variable (mpg)."
   ]
  },
  {
   "cell_type": "code",
   "execution_count": 22,
   "id": "6c0cc92c-c772-4606-bc93-df86bb1a1611",
   "metadata": {},
   "outputs": [
    {
     "name": "stdout",
     "output_type": "stream",
     "text": [
      "[1] \"The point estimate is -238.89434563313\"\n",
      "[1] \"The point standard error is 53.0766871613496\"\n"
     ]
    }
   ],
   "source": [
    "print(paste0('The point estimate is ', summary(price_mpg_regression)$coef[2,1]))\n",
    "print(paste0('The point standard error is ', summary(price_mpg_regression)$coef[2,2]))"
   ]
  },
  {
   "cell_type": "markdown",
   "id": "252729bd-c6b9-418b-adad-a8a7961d28c8",
   "metadata": {},
   "source": [
    "Finally, we can use the lm object for prediction. As described above, OLS predictions of $\\hat{y}$ for observations in the sample are stored in the lm object to be called by `name$fitted.value`. But we can also predict values of y for observations _not_ in the original estimation sample. As long as we have data on the explanatory variables in the model, we can use our lm object to predict a value for the outcome using the `predict()` command from the lm library. \n",
    "\n",
    "The following code generates example data on miles per gallon and uses the `predict()` function to obtain predicted prices using the OLS model estimated on our original data:"
   ]
  },
  {
   "cell_type": "code",
   "execution_count": 23,
   "id": "4bedb5e8-55cf-4c55-b414-5ba28f8b749b",
   "metadata": {},
   "outputs": [
    {
     "data": {
      "text/html": [
       "<style>\n",
       ".dl-inline {width: auto; margin:0; padding: 0}\n",
       ".dl-inline>dt, .dl-inline>dd {float: none; width: auto; display: inline-block}\n",
       ".dl-inline>dt::after {content: \":\\0020\"; padding-right: .5ex}\n",
       ".dl-inline>dt:not(:first-of-type) {padding-left: .5ex}\n",
       "</style><dl class=dl-inline><dt>1</dt><dd>2783.74202620457</dd><dt>2</dt><dd>2700.98121429838</dd><dt>3</dt><dd>2483.24787493734</dd><dt>4</dt><dd>5278.57909169947</dd><dt>5</dt><dd>6320.82436015824</dd><dt>6</dt><dd>5022.30364579824</dd><dt>7</dt><dd>2559.68457673335</dd><dt>8</dt><dd>8122.06935220573</dd><dt>9</dt><dd>5701.77110832381</dd><dt>10</dt><dd>5874.65172246593</dd></dl>\n"
      ],
      "text/latex": [
       "\\begin{description*}\n",
       "\\item[1] 2783.74202620457\n",
       "\\item[2] 2700.98121429838\n",
       "\\item[3] 2483.24787493734\n",
       "\\item[4] 5278.57909169947\n",
       "\\item[5] 6320.82436015824\n",
       "\\item[6] 5022.30364579824\n",
       "\\item[7] 2559.68457673335\n",
       "\\item[8] 8122.06935220573\n",
       "\\item[9] 5701.77110832381\n",
       "\\item[10] 5874.65172246593\n",
       "\\end{description*}\n"
      ],
      "text/markdown": [
       "1\n",
       ":   2783.742026204572\n",
       ":   2700.981214298383\n",
       ":   2483.247874937344\n",
       ":   5278.579091699475\n",
       ":   6320.824360158246\n",
       ":   5022.303645798247\n",
       ":   2559.684576733358\n",
       ":   8122.069352205739\n",
       ":   5701.7711083238110\n",
       ":   5874.65172246593\n",
       "\n"
      ],
      "text/plain": [
       "       1        2        3        4        5        6        7        8 \n",
       "2783.742 2700.981 2483.248 5278.579 6320.824 5022.304 2559.685 8122.069 \n",
       "       9       10 \n",
       "5701.771 5874.652 "
      ]
     },
     "metadata": {},
     "output_type": "display_data"
    }
   ],
   "source": [
    "# this line creates a dataframe of 10 random numbers between the min and max of the original data mpg\n",
    "# you do not need to know how to do this, but it is useful! \n",
    "new_data <- data.frame(mpg = runif(10, min = min(carsdata$mpg), max = max(carsdata$mpg))) \n",
    "\n",
    "# now we can predict the price for our new data on mpg\n",
    "price_predictions <- predict(price_mpg_regression, new_data)\n",
    "price_predictions"
   ]
  },
  {
   "cell_type": "markdown",
   "id": "ef2faeba-6149-4058-bac9-d9b2c96036ce",
   "metadata": {},
   "source": [
    "Note the syntax of the predict function. It is `predict(lm object, data frame)`: the first argument is the stored lm object of the model you want to use for prediction and the second object is a _dataframe_ of new values.\n",
    "\n",
    "The following code will produce errors since it is not stored as a data.frame object."
   ]
  },
  {
   "cell_type": "code",
   "execution_count": 24,
   "id": "524905d3-0d12-43c0-b457-eb301ddc2cb6",
   "metadata": {},
   "outputs": [
    {
     "ename": "ERROR",
     "evalue": "Error in model.frame.default(Terms, newdata, na.action = na.action, xlev = object$xlevels): 'data' must be a data.frame, environment, or list\n",
     "output_type": "error",
     "traceback": [
      "Error in model.frame.default(Terms, newdata, na.action = na.action, xlev = object$xlevels): 'data' must be a data.frame, environment, or list\nTraceback:\n",
      "1. predict(price_mpg_regression, mpg)",
      "2. predict.lm(price_mpg_regression, mpg)",
      "3. model.frame(Terms, newdata, na.action = na.action, xlev = object$xlevels)",
      "4. model.frame.default(Terms, newdata, na.action = na.action, xlev = object$xlevels)",
      "5. stop(\"'data' must be a data.frame, environment, or list\")"
     ]
    }
   ],
   "source": [
    "mpg <- runif(10, min = min(carsdata$mpg), max = max(carsdata$mpg))\n",
    "predict(price_mpg_regression, mpg)"
   ]
  },
  {
   "cell_type": "code",
   "execution_count": 29,
   "id": "11357d00-a8ee-452a-9ee5-bb5ecd51a147",
   "metadata": {},
   "outputs": [
    {
     "data": {
      "text/html": [
       "<style>\n",
       ".dl-inline {width: auto; margin:0; padding: 0}\n",
       ".dl-inline>dt, .dl-inline>dd {float: none; width: auto; display: inline-block}\n",
       ".dl-inline>dt::after {content: \":\\0020\"; padding-right: .5ex}\n",
       ".dl-inline>dt:not(:first-of-type) {padding-left: .5ex}\n",
       "</style><dl class=dl-inline><dt>1</dt><dd>4818.21182926626</dd><dt>2</dt><dd>7346.13207359207</dd><dt>3</dt><dd>1478.31175845467</dd><dt>4</dt><dd>7968.09717604597</dd><dt>5</dt><dd>7298.88012698419</dd><dt>6</dt><dd>5102.98346731003</dd><dt>7</dt><dd>5343.33077824875</dd><dt>8</dt><dd>8128.34648910027</dd><dt>9</dt><dd>2377.31291960569</dd><dt>10</dt><dd>7581.06266835546</dd></dl>\n"
      ],
      "text/latex": [
       "\\begin{description*}\n",
       "\\item[1] 4818.21182926626\n",
       "\\item[2] 7346.13207359207\n",
       "\\item[3] 1478.31175845467\n",
       "\\item[4] 7968.09717604597\n",
       "\\item[5] 7298.88012698419\n",
       "\\item[6] 5102.98346731003\n",
       "\\item[7] 5343.33077824875\n",
       "\\item[8] 8128.34648910027\n",
       "\\item[9] 2377.31291960569\n",
       "\\item[10] 7581.06266835546\n",
       "\\end{description*}\n"
      ],
      "text/markdown": [
       "1\n",
       ":   4818.211829266262\n",
       ":   7346.132073592073\n",
       ":   1478.311758454674\n",
       ":   7968.097176045975\n",
       ":   7298.880126984196\n",
       ":   5102.983467310037\n",
       ":   5343.330778248758\n",
       ":   8128.346489100279\n",
       ":   2377.3129196056910\n",
       ":   7581.06266835546\n",
       "\n"
      ],
      "text/plain": [
       "       1        2        3        4        5        6        7        8 \n",
       "4818.212 7346.132 1478.312 7968.097 7298.880 5102.983 5343.331 8128.346 \n",
       "       9       10 \n",
       "2377.313 7581.063 "
      ]
     },
     "metadata": {},
     "output_type": "display_data"
    }
   ],
   "source": [
    "mpg <- as.data.frame(mpg) # a simple fix!\n",
    "predict(price_mpg_regression, mpg)"
   ]
  }
 ],
 "metadata": {
  "kernelspec": {
   "display_name": "R",
   "language": "R",
   "name": "ir"
  },
  "language_info": {
   "codemirror_mode": "r",
   "file_extension": ".r",
   "mimetype": "text/x-r-source",
   "name": "R",
   "pygments_lexer": "r",
   "version": "4.4.1"
  }
 },
 "nbformat": 4,
 "nbformat_minor": 5
}
