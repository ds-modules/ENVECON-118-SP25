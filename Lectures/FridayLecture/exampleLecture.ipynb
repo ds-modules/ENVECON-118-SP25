{
 "cells": [
  {
   "cell_type": "markdown",
   "metadata": {},
   "source": [
    "# Spring 2025 \n",
    "\n",
    "Feb 21, 2025, Villas-Boas\n",
    "\n",
    "# Part 1: Intro to Notebooks\n",
    "\n",
    "\n"
   ]
  },
  {
   "cell_type": "markdown",
   "metadata": {},
   "source": [
    "### Before we start going over this notebook I wrote, I will briefly explain how to open a blank notebook, instead of using one already made that you can execute and edit and add to"
   ]
  },
  {
   "cell_type": "markdown",
   "metadata": {},
   "source": [
    "1. to run a cell of code, go to the cell and then click on the play triangle  icon top left before the square stop icon\n",
    "\n",
    "or go to the cell and click shift+enter"
   ]
  },
  {
   "cell_type": "markdown",
   "metadata": {},
   "source": [
    "2. To write a markdown cell not to be interpreted as Code go to the dropdorn on top where it says Code, to the right of download, and choose Markdown"
   ]
  },
  {
   "cell_type": "markdown",
   "metadata": {},
   "source": [
    "3. To add a new cell click the plus sign between the save and the scissors\n",
    "\n",
    "Please add a new cell below this one and select it to be a markdown cell. Then in it write \"### start R preamble\""
   ]
  },
  {
   "cell_type": "markdown",
   "metadata": {},
   "source": [
    "## You don't like the larger font of this cell. and want to change it to smaller font.\n",
    "\n",
    "How do you do that?\n",
    "\n",
    "double click on this cell, this will let you edit it.\n",
    "\n",
    "Then remove the ## before You int he first line of text\n",
    "\n",
    "Then shift + enter\n",
    "\n",
    "It will execute the markdown\n",
    "\n",
    "A # preceding text makes a the largest font size,\n",
    "then ##, ###, etc\n"
   ]
  },
  {
   "cell_type": "markdown",
   "metadata": {},
   "source": [
    "Note that the cell below is a markdown that has not been executed to look \"nice\" as a title.\n",
    "\n",
    "Please execute it and make the title the largest font size"
   ]
  },
  {
   "cell_type": "markdown",
   "metadata": {},
   "source": [
    "## Question 1 - Linear Demand Single Product, endogenous price"
   ]
  },
  {
   "cell_type": "markdown",
   "metadata": {},
   "source": [
    "You notice that you want to bring the ### start R preamble markdown cell down here.\n",
    "\n",
    "How do you do that?\n",
    "\n",
    "Go on top of the cell and drag it down to where you want"
   ]
  },
  {
   "cell_type": "code",
   "execution_count": null,
   "metadata": {},
   "outputs": [],
   "source": [
    "# Load the 'pacman' package\n",
    "install.packages(\"pacman\")\n",
    "library(pacman) \n",
    "#packages to use load them now using the pacman \"manager\"\n",
    "p_load(dplyr, reader,AER,stargazer) \n",
    "#Another great feature of p_load(): \n",
    "#if you try to load a package that is not installed on your machine, p_load() \n",
    "#install the package for you, rather than throwing an error. \n",
    "#For instance, let’s install and load one final package named ggplot2. \n",
    "p_load(ggplot2)\n",
    "\n",
    "# Loading packages\n",
    "pacman::p_load(lfe, lmtest, haven, sandwich, tidyverse,psych)\n",
    "# lfe for running fixed effects regression\n",
    "# lmtest for displaying robust SE in output table\n",
    "# haven for loading in dta files\n",
    "# sandwich for producing robust Var-Cov matrix\n",
    "# tidyverse for manipulating data and producing plots\n",
    "# psych for using describe later onlibrary(dplyr)\n",
    "#AER has canned ivreg, fyi\n"
   ]
  },
  {
   "cell_type": "markdown",
   "metadata": {},
   "source": [
    "While a cell is running it has a * inside [ ] to its left, like so [*]"
   ]
  },
  {
   "cell_type": "code",
   "execution_count": 2,
   "metadata": {},
   "outputs": [],
   "source": [
    "#get rid of scientific display of numbers\n",
    "options(scipen = 100, digits = 4)"
   ]
  },
  {
   "cell_type": "markdown",
   "metadata": {},
   "source": [
    "### Step 1: Load the .dta file and create a dataframe called mydata  "
   ]
  },
  {
   "cell_type": "code",
   "execution_count": 3,
   "metadata": {},
   "outputs": [],
   "source": [
    "mydata <- read_dta(\"fishdata.dta\")"
   ]
  },
  {
   "cell_type": "markdown",
   "metadata": {},
   "source": [
    "### Step 2: Look at the data\n",
    "\n",
    "you want to use the `head()` command so that R does not print the entire dataset which could take way too many pages."
   ]
  },
  {
   "cell_type": "code",
   "execution_count": 4,
   "metadata": {},
   "outputs": [
    {
     "data": {
      "text/html": [
       "<table class=\"dataframe\">\n",
       "<caption>A tibble: 6 × 16</caption>\n",
       "<thead>\n",
       "\t<tr><th scope=col>day1</th><th scope=col>day2</th><th scope=col>day3</th><th scope=col>day4</th><th scope=col>date</th><th scope=col>stormy</th><th scope=col>mixed</th><th scope=col>price</th><th scope=col>qty</th><th scope=col>rainy</th><th scope=col>cold</th><th scope=col>windspd</th><th scope=col>windspd2</th><th scope=col>pricelevel</th><th scope=col>totr</th><th scope=col>tots</th></tr>\n",
       "\t<tr><th scope=col>&lt;dbl&gt;</th><th scope=col>&lt;dbl&gt;</th><th scope=col>&lt;dbl&gt;</th><th scope=col>&lt;dbl&gt;</th><th scope=col>&lt;dbl&gt;</th><th scope=col>&lt;dbl&gt;</th><th scope=col>&lt;dbl&gt;</th><th scope=col>&lt;dbl&gt;</th><th scope=col>&lt;dbl&gt;</th><th scope=col>&lt;dbl&gt;</th><th scope=col>&lt;dbl&gt;</th><th scope=col>&lt;dbl&gt;</th><th scope=col>&lt;dbl&gt;</th><th scope=col>&lt;dbl&gt;</th><th scope=col>&lt;dbl&gt;</th><th scope=col>&lt;dbl&gt;</th></tr>\n",
       "</thead>\n",
       "<tbody>\n",
       "\t<tr><td>1</td><td>0</td><td>0</td><td>0</td><td>911202</td><td>1</td><td>0</td><td>-0.43078</td><td>8.994</td><td>1</td><td>0</td><td>2.996</td><td>8.974</td><td>0.6500</td><td> 7232</td><td> 8058</td></tr>\n",
       "\t<tr><td>0</td><td>1</td><td>0</td><td>0</td><td>911203</td><td>1</td><td>0</td><td> 0.00000</td><td>7.707</td><td>0</td><td>0</td><td>2.996</td><td>8.974</td><td>1.0000</td><td> 2110</td><td> 2224</td></tr>\n",
       "\t<tr><td>0</td><td>0</td><td>1</td><td>0</td><td>911204</td><td>0</td><td>1</td><td> 0.07232</td><td>8.350</td><td>1</td><td>1</td><td>2.813</td><td>7.915</td><td>1.0750</td><td> 5247</td><td> 4231</td></tr>\n",
       "\t<tr><td>0</td><td>0</td><td>0</td><td>1</td><td>911205</td><td>1</td><td>0</td><td> 0.24714</td><td>8.657</td><td>0</td><td>1</td><td>3.037</td><td>9.221</td><td>1.2804</td><td> 1290</td><td> 5750</td></tr>\n",
       "\t<tr><td>0</td><td>0</td><td>0</td><td>0</td><td>911206</td><td>1</td><td>0</td><td> 0.66433</td><td>7.844</td><td>0</td><td>1</td><td>3.037</td><td>9.221</td><td>1.9432</td><td> 1717</td><td> 2551</td></tr>\n",
       "\t<tr><td>1</td><td>0</td><td>0</td><td>0</td><td>911209</td><td>0</td><td>0</td><td>-0.20651</td><td>9.301</td><td>0</td><td>0</td><td>2.762</td><td>7.629</td><td>0.8134</td><td>11643</td><td>10977</td></tr>\n",
       "</tbody>\n",
       "</table>\n"
      ],
      "text/latex": [
       "A tibble: 6 × 16\n",
       "\\begin{tabular}{llllllllllllllll}\n",
       " day1 & day2 & day3 & day4 & date & stormy & mixed & price & qty & rainy & cold & windspd & windspd2 & pricelevel & totr & tots\\\\\n",
       " <dbl> & <dbl> & <dbl> & <dbl> & <dbl> & <dbl> & <dbl> & <dbl> & <dbl> & <dbl> & <dbl> & <dbl> & <dbl> & <dbl> & <dbl> & <dbl>\\\\\n",
       "\\hline\n",
       "\t 1 & 0 & 0 & 0 & 911202 & 1 & 0 & -0.43078 & 8.994 & 1 & 0 & 2.996 & 8.974 & 0.6500 &  7232 &  8058\\\\\n",
       "\t 0 & 1 & 0 & 0 & 911203 & 1 & 0 &  0.00000 & 7.707 & 0 & 0 & 2.996 & 8.974 & 1.0000 &  2110 &  2224\\\\\n",
       "\t 0 & 0 & 1 & 0 & 911204 & 0 & 1 &  0.07232 & 8.350 & 1 & 1 & 2.813 & 7.915 & 1.0750 &  5247 &  4231\\\\\n",
       "\t 0 & 0 & 0 & 1 & 911205 & 1 & 0 &  0.24714 & 8.657 & 0 & 1 & 3.037 & 9.221 & 1.2804 &  1290 &  5750\\\\\n",
       "\t 0 & 0 & 0 & 0 & 911206 & 1 & 0 &  0.66433 & 7.844 & 0 & 1 & 3.037 & 9.221 & 1.9432 &  1717 &  2551\\\\\n",
       "\t 1 & 0 & 0 & 0 & 911209 & 0 & 0 & -0.20651 & 9.301 & 0 & 0 & 2.762 & 7.629 & 0.8134 & 11643 & 10977\\\\\n",
       "\\end{tabular}\n"
      ],
      "text/markdown": [
       "\n",
       "A tibble: 6 × 16\n",
       "\n",
       "| day1 &lt;dbl&gt; | day2 &lt;dbl&gt; | day3 &lt;dbl&gt; | day4 &lt;dbl&gt; | date &lt;dbl&gt; | stormy &lt;dbl&gt; | mixed &lt;dbl&gt; | price &lt;dbl&gt; | qty &lt;dbl&gt; | rainy &lt;dbl&gt; | cold &lt;dbl&gt; | windspd &lt;dbl&gt; | windspd2 &lt;dbl&gt; | pricelevel &lt;dbl&gt; | totr &lt;dbl&gt; | tots &lt;dbl&gt; |\n",
       "|---|---|---|---|---|---|---|---|---|---|---|---|---|---|---|---|\n",
       "| 1 | 0 | 0 | 0 | 911202 | 1 | 0 | -0.43078 | 8.994 | 1 | 0 | 2.996 | 8.974 | 0.6500 |  7232 |  8058 |\n",
       "| 0 | 1 | 0 | 0 | 911203 | 1 | 0 |  0.00000 | 7.707 | 0 | 0 | 2.996 | 8.974 | 1.0000 |  2110 |  2224 |\n",
       "| 0 | 0 | 1 | 0 | 911204 | 0 | 1 |  0.07232 | 8.350 | 1 | 1 | 2.813 | 7.915 | 1.0750 |  5247 |  4231 |\n",
       "| 0 | 0 | 0 | 1 | 911205 | 1 | 0 |  0.24714 | 8.657 | 0 | 1 | 3.037 | 9.221 | 1.2804 |  1290 |  5750 |\n",
       "| 0 | 0 | 0 | 0 | 911206 | 1 | 0 |  0.66433 | 7.844 | 0 | 1 | 3.037 | 9.221 | 1.9432 |  1717 |  2551 |\n",
       "| 1 | 0 | 0 | 0 | 911209 | 0 | 0 | -0.20651 | 9.301 | 0 | 0 | 2.762 | 7.629 | 0.8134 | 11643 | 10977 |\n",
       "\n"
      ],
      "text/plain": [
       "  day1 day2 day3 day4 date   stormy mixed price    qty   rainy cold windspd\n",
       "1 1    0    0    0    911202 1      0     -0.43078 8.994 1     0    2.996  \n",
       "2 0    1    0    0    911203 1      0      0.00000 7.707 0     0    2.996  \n",
       "3 0    0    1    0    911204 0      1      0.07232 8.350 1     1    2.813  \n",
       "4 0    0    0    1    911205 1      0      0.24714 8.657 0     1    3.037  \n",
       "5 0    0    0    0    911206 1      0      0.66433 7.844 0     1    3.037  \n",
       "6 1    0    0    0    911209 0      0     -0.20651 9.301 0     0    2.762  \n",
       "  windspd2 pricelevel totr  tots \n",
       "1 8.974    0.6500      7232  8058\n",
       "2 8.974    1.0000      2110  2224\n",
       "3 7.915    1.0750      5247  4231\n",
       "4 9.221    1.2804      1290  5750\n",
       "5 9.221    1.9432      1717  2551\n",
       "6 7.629    0.8134     11643 10977"
      ]
     },
     "metadata": {},
     "output_type": "display_data"
    }
   ],
   "source": [
    "#look at the first rows of the data frame you called mydata when you read the data set into R\n",
    "head(mydata)"
   ]
  },
  {
   "cell_type": "markdown",
   "metadata": {},
   "source": [
    "### Step 3: Create a scatterplot of the data. \n",
    "\n",
    "Make sure to (1) label the axes and their\n",
    "units, and (2) title your graph. (Hint: the `plot()` command will likely come in handy. Use `help(plot)` or `?plot` to view the documentation for the function and how to include labels.)"
   ]
  },
  {
   "cell_type": "markdown",
   "metadata": {},
   "source": [
    "If you want to show students what they should get, before they add labels display an image you uploaded into datahub and called into the notebook by the markdown\n",
    "\n",
    "<img src=\"graphNoLabels.png\" width=\"250\" />\n",
    "\n",
    "Please execute and see"
   ]
  },
  {
   "cell_type": "code",
   "execution_count": 5,
   "metadata": {},
   "outputs": [
    {
     "data": {
      "image/png": "[encoded data removed]",
      "text/plain": [
       "Plot with title “Scatter Plot - Q and P”"
      ]
     },
     "metadata": {
      "image/png": {
       "height": 420,
       "width": 420
      }
     },
     "output_type": "display_data"
    }
   ],
   "source": [
    "#scatter plot of the data\n",
    "plot(mydata$qty, mydata$price,  col = \"blue\", main=\"Scatter Plot - Q and P\",\n",
    "   ylab=\"quantity\",     xlab=\"price\")\n",
    "\n"
   ]
  },
  {
   "cell_type": "markdown",
   "metadata": {},
   "source": [
    "### Step 4- Estimate the JEP paper linear demand model by OLS"
   ]
  },
  {
   "cell_type": "code",
   "execution_count": 6,
   "metadata": {},
   "outputs": [
    {
     "data": {
      "text/plain": [
       "\n",
       "Call:\n",
       "lm(formula = qty ~ price, data = mydata)\n",
       "\n",
       "Residuals:\n",
       "   Min     1Q Median     3Q    Max \n",
       "-2.345 -0.357  0.119  0.498  1.253 \n",
       "\n",
       "Coefficients:\n",
       "            Estimate Std. Error t value            Pr(>|t|)    \n",
       "(Intercept)   8.4187     0.0762  110.45 <0.0000000000000002 ***\n",
       "price        -0.5409     0.1786   -3.03              0.0031 ** \n",
       "---\n",
       "Signif. codes:  0 ‘***’ 0.001 ‘**’ 0.01 ‘*’ 0.05 ‘.’ 0.1 ‘ ’ 1\n",
       "\n",
       "Residual standard error: 0.716 on 109 degrees of freedom\n",
       "Multiple R-squared:  0.0776,\tAdjusted R-squared:  0.0691 \n",
       "F-statistic: 9.17 on 1 and 109 DF,  p-value: 0.00308\n"
      ]
     },
     "metadata": {},
     "output_type": "display_data"
    }
   ],
   "source": [
    "#estimate the model by OLS\n",
    "#variable price is in logs variable qty is in logs \n",
    "#column 1 JEP paper\n",
    "reg1 <- lm(qty ~ price, data = mydata)\n",
    "summary(reg1)\n"
   ]
  },
  {
   "cell_type": "markdown",
   "metadata": {},
   "source": [
    "### Step 5 - Estimate the model by IV \n",
    "\n",
    "Using storm conditions (indicator) at sea as an instrument for fish price int he market"
   ]
  },
  {
   "cell_type": "code",
   "execution_count": 7,
   "metadata": {},
   "outputs": [
    {
     "data": {
      "text/plain": [
       "\n",
       "Call:\n",
       "ivreg(formula = qty ~ price | stormy, data = mydata)\n",
       "\n",
       "Residuals:\n",
       "   Min     1Q Median     3Q    Max \n",
       "-2.361 -0.500  0.207  0.551  1.511 \n",
       "\n",
       "Coefficients:\n",
       "            Estimate Std. Error t value            Pr(>|t|)    \n",
       "(Intercept)    8.314      0.115   72.53 <0.0000000000000002 ***\n",
       "price         -1.082      0.466   -2.32               0.022 *  \n",
       "---\n",
       "Signif. codes:  0 ‘***’ 0.001 ‘**’ 0.01 ‘*’ 0.05 ‘.’ 0.1 ‘ ’ 1\n",
       "\n",
       "Residual standard error: 0.745 on 109 degrees of freedom\n",
       "Multiple R-Squared: -0.00019,\tAdjusted R-squared: -0.00937 \n",
       "Wald test:  5.4 on 1 and 109 DF,  p-value: 0.022 \n"
      ]
     },
     "metadata": {},
     "output_type": "display_data"
    },
    {
     "data": {
      "text/plain": [
       "\n",
       "Call:\n",
       "lm(formula = price ~ stormy, data = mydata)\n",
       "\n",
       "Residuals:\n",
       "    Min      1Q  Median      3Q     Max \n",
       "-0.8181 -0.2243  0.0305  0.2091  0.8515 \n",
       "\n",
       "Coefficients:\n",
       "            Estimate Std. Error t value       Pr(>|t|)    \n",
       "(Intercept)  -0.2903     0.0396   -7.34 0.000000000041 ***\n",
       "stormy        0.3353     0.0737    4.55 0.000014077400 ***\n",
       "---\n",
       "Signif. codes:  0 ‘***’ 0.001 ‘**’ 0.01 ‘*’ 0.05 ‘.’ 0.1 ‘ ’ 1\n",
       "\n",
       "Residual standard error: 0.352 on 109 degrees of freedom\n",
       "Multiple R-squared:  0.16,\tAdjusted R-squared:  0.152 \n",
       "F-statistic: 20.7 on 1 and 109 DF,  p-value: 0.0000141\n"
      ]
     },
     "metadata": {},
     "output_type": "display_data"
    }
   ],
   "source": [
    "#column 3 JEP paper\n",
    "#Instrumental variables estimates using storm at sea as instrument for price of fish at the market\n",
    "reg2<-ivreg(qty~price | stormy ,data=mydata)\n",
    "summary(reg2)\n",
    "\n",
    "#The elasticity of demand increased from -0.54 to -1.08 between column 1 \n",
    "#and column 3, showing that elasticity of demand for fish actually \n",
    "#greater than 1, in absolute value, demand elasticity.\n",
    "\n",
    "#test weak instru\n",
    "regfirststage3<-lm(price~stormy,mydata)\n",
    "summary(regfirststage3)\n",
    "#F-statistic: 20.69 \n"
   ]
  },
  {
   "cell_type": "markdown",
   "metadata": {},
   "source": [
    "### Make a nice Table with OLS and IV"
   ]
  },
  {
   "cell_type": "code",
   "execution_count": 8,
   "metadata": {},
   "outputs": [
    {
     "name": "stdout",
     "output_type": "stream",
     "text": [
      "\n",
      "==================================================================\n",
      "                                       Dependent variable:        \n",
      "                               -----------------------------------\n",
      "                                               qty                \n",
      "                                        OLS           instrumental\n",
      "                                                        variable  \n",
      "                                        (1)               (2)     \n",
      "------------------------------------------------------------------\n",
      "price                                -0.541***          -1.082**  \n",
      "                                      (0.179)           (0.466)   \n",
      "                                                                  \n",
      "Constant                              8.419***          8.314***  \n",
      "                                      (0.076)           (0.115)   \n",
      "                                                                  \n",
      "------------------------------------------------------------------\n",
      "Observations                            111               111     \n",
      "R2                                     0.078            -0.0002   \n",
      "Adjusted R2                            0.069             -0.009   \n",
      "Residual Std. Error (df = 109)         0.716             0.745    \n",
      "F Statistic                    9.167*** (df = 1; 109)             \n",
      "==================================================================\n",
      "Note:                                  *p<0.1; **p<0.05; ***p<0.01\n"
     ]
    }
   ],
   "source": [
    "\n",
    "#nice regression table, each specification in columns\n",
    "stargazer(reg1,reg2,type=\"text\")"
   ]
  },
  {
   "cell_type": "code",
   "execution_count": null,
   "metadata": {},
   "outputs": [],
   "source": []
  },
  {
   "cell_type": "code",
   "execution_count": null,
   "metadata": {},
   "outputs": [],
   "source": []
  },
  {
   "cell_type": "markdown",
   "metadata": {},
   "source": [
    "# Part 2: Using Latex equations in markdown"
   ]
  },
  {
   "cell_type": "code",
   "execution_count": 9,
   "metadata": {},
   "outputs": [],
   "source": [
    "p_load(foreach,evd,magrittr)\n",
    "\n",
    "#the above packages are needed for looping and for extreme value random variable draws"
   ]
  },
  {
   "cell_type": "markdown",
   "metadata": {},
   "source": [
    "### Simulate data - Micro level Logit estimation exogenous price\n",
    "\n",
    "Simulate data from the following model and \n",
    "estimate the parameters from the simulated data.\n",
    "\n",
    "$$\n",
    "  y_{ij} = 1\\{j = \\text{argmax}_{k = 1, 2}  [ \\alpha \\ price_k+ \\beta x_k + \\epsilon_{ik} ] \\},\n",
    "$$\n",
    "  where $\\epsilon_{ik}$ follows i.i.d. type-I extreme value distribution, \n",
    "$\\beta = 0.2$, $\\alpha=-0.6$,  $x_1 = 0$ and $x_2 = 1$.\n",
    "\n",
    "1. To simulate data for 1000 individuals i, first make the data frame defined above, including price and epsilon and then given the true alpha and beta get the latent values and the ultimate choices. set seed=1234\n"
   ]
  },
  {
   "cell_type": "markdown",
   "metadata": {},
   "source": [
    "### Step 1 -Simulate Data"
   ]
  },
  {
   "cell_type": "code",
   "execution_count": 10,
   "metadata": {},
   "outputs": [
    {
     "data": {
      "text/html": [
       "<table class=\"dataframe\">\n",
       "<caption>A tibble: 6 × 7</caption>\n",
       "<thead>\n",
       "\t<tr><th scope=col>i</th><th scope=col>k</th><th scope=col>x</th><th scope=col>price</th><th scope=col>e</th><th scope=col>latent</th><th scope=col>y</th></tr>\n",
       "\t<tr><th scope=col>&lt;int&gt;</th><th scope=col>&lt;int&gt;</th><th scope=col>&lt;dbl&gt;</th><th scope=col>&lt;dbl&gt;</th><th scope=col>&lt;dbl&gt;</th><th scope=col>&lt;dbl&gt;</th><th scope=col>&lt;dbl&gt;</th></tr>\n",
       "</thead>\n",
       "<tbody>\n",
       "\t<tr><td>1</td><td>1</td><td>0</td><td>0.1137</td><td>-0.7942</td><td>-0.8624</td><td>0</td></tr>\n",
       "\t<tr><td>1</td><td>2</td><td>1</td><td>0.6223</td><td> 1.6189</td><td> 1.4455</td><td>1</td></tr>\n",
       "\t<tr><td>2</td><td>1</td><td>0</td><td>0.6093</td><td>-1.0256</td><td>-1.3911</td><td>0</td></tr>\n",
       "\t<tr><td>2</td><td>2</td><td>1</td><td>0.6234</td><td> 0.6579</td><td> 0.4839</td><td>1</td></tr>\n",
       "\t<tr><td>3</td><td>1</td><td>0</td><td>0.8609</td><td>-0.1326</td><td>-0.6492</td><td>1</td></tr>\n",
       "\t<tr><td>3</td><td>2</td><td>1</td><td>0.6403</td><td>-1.3958</td><td>-1.5800</td><td>0</td></tr>\n",
       "</tbody>\n",
       "</table>\n"
      ],
      "text/latex": [
       "A tibble: 6 × 7\n",
       "\\begin{tabular}{lllllll}\n",
       " i & k & x & price & e & latent & y\\\\\n",
       " <int> & <int> & <dbl> & <dbl> & <dbl> & <dbl> & <dbl>\\\\\n",
       "\\hline\n",
       "\t 1 & 1 & 0 & 0.1137 & -0.7942 & -0.8624 & 0\\\\\n",
       "\t 1 & 2 & 1 & 0.6223 &  1.6189 &  1.4455 & 1\\\\\n",
       "\t 2 & 1 & 0 & 0.6093 & -1.0256 & -1.3911 & 0\\\\\n",
       "\t 2 & 2 & 1 & 0.6234 &  0.6579 &  0.4839 & 1\\\\\n",
       "\t 3 & 1 & 0 & 0.8609 & -0.1326 & -0.6492 & 1\\\\\n",
       "\t 3 & 2 & 1 & 0.6403 & -1.3958 & -1.5800 & 0\\\\\n",
       "\\end{tabular}\n"
      ],
      "text/markdown": [
       "\n",
       "A tibble: 6 × 7\n",
       "\n",
       "| i &lt;int&gt; | k &lt;int&gt; | x &lt;dbl&gt; | price &lt;dbl&gt; | e &lt;dbl&gt; | latent &lt;dbl&gt; | y &lt;dbl&gt; |\n",
       "|---|---|---|---|---|---|---|\n",
       "| 1 | 1 | 0 | 0.1137 | -0.7942 | -0.8624 | 0 |\n",
       "| 1 | 2 | 1 | 0.6223 |  1.6189 |  1.4455 | 1 |\n",
       "| 2 | 1 | 0 | 0.6093 | -1.0256 | -1.3911 | 0 |\n",
       "| 2 | 2 | 1 | 0.6234 |  0.6579 |  0.4839 | 1 |\n",
       "| 3 | 1 | 0 | 0.8609 | -0.1326 | -0.6492 | 1 |\n",
       "| 3 | 2 | 1 | 0.6403 | -1.3958 | -1.5800 | 0 |\n",
       "\n"
      ],
      "text/plain": [
       "  i k x price  e       latent  y\n",
       "1 1 1 0 0.1137 -0.7942 -0.8624 0\n",
       "2 1 2 1 0.6223  1.6189  1.4455 1\n",
       "3 2 1 0 0.6093 -1.0256 -1.3911 0\n",
       "4 2 2 1 0.6234  0.6579  0.4839 1\n",
       "5 3 1 0 0.8609 -0.1326 -0.6492 1\n",
       "6 3 2 1 0.6403 -1.3958 -1.5800 0"
      ]
     },
     "metadata": {},
     "output_type": "display_data"
    }
   ],
   "source": [
    "set.seed(1234)\n",
    "\n",
    "df <- \n",
    "  expand.grid(  i = 1:1000,   k = 1:2) %>%\n",
    "  tibble::as_tibble() %>%\n",
    "  dplyr::mutate(x = ifelse(k == 1, 0, 1)) %>%\n",
    "  dplyr::arrange(i,  k)\n",
    "\n",
    "df <- \n",
    "  df %>%\n",
    "  #First, add a random (exogenous) price\n",
    "  dplyr::mutate(price = runif(dim(df)[1])) %>%\n",
    "#Second, draw type-I extreme value random variables. \n",
    "  dplyr::mutate(e = evd::rgev(dim(df)[1]))\n",
    "\n",
    "#3. compute the latent value of each option to obtain the following data frame:\n",
    "beta <- 0.2\n",
    "alpha<- -0.6\n",
    "theta<-c(alpha,beta)\n",
    "df <- \n",
    "  df %>%\n",
    "  dplyr::mutate(latent = alpha*price+ beta * x + e)\n",
    "\n",
    "\n",
    "#4. Finally, compute $y$ (the choices 0/1) by comparing the latent values of $k = 1, 2$ \n",
    "#for each $i$ to obtain the following result:\n",
    "df <- \n",
    "  df %>%\n",
    "  dplyr::group_by(i) %>%\n",
    "  dplyr::mutate(y = ifelse(latent == max(latent), 1, 0)) %>%\n",
    "  dplyr::ungroup()\n",
    "head(df)\n",
    "\n",
    "\n"
   ]
  },
  {
   "cell_type": "markdown",
   "metadata": {},
   "source": [
    "\n",
    "## Estimate the ML parameters\n",
    "\n",
    "Now you generated simulated data. Suppose you observe $x_k$ and $y_{ik}$ for \n",
    "#each $i$ and $k$ and estimate $\\beta$ by a maximum likelihood estimator. \n",
    "#The likelihood for $i$ to choose $k$ ($y_{ik} = 1$) can be shown to be:\n",
    "\n",
    " $$\n",
    " p_{ik}(\\beta) = \\frac{\\exp(\\alpha p_k + \\beta x_k)}{\\exp(\\alpha p_1 + \\beta x_1) + \\exp(alpha p_2+ \\beta x_2)}. $$\n",
    "  \n",
    " Then, the likelihood of observing $\\{y_{ik}\\}_{i, k}$ is:  $$\n",
    "  L(\\beta) = \\prod_{i = 1}^{1000} p_{i1}(\\beta)^{y_{i1}} [1 - p_{i1}(\\beta)]^{1 - y_{i1}},\n",
    "$$\n",
    "  and the log likelihood is:\n",
    " $$\n",
    "  l(\\beta) = \\sum_{i = 1}^{1000}\\{y_{i1}\\log p_{i1}(\\beta) + (1 - y_{i1})\\log [1 - p_{i1}(\\beta)\\}.\n",
    "$$\n",
    " "
   ]
  },
  {
   "cell_type": "code",
   "execution_count": 11,
   "metadata": {},
   "outputs": [],
   "source": [
    " \n",
    "#  5. Write a function to compute the likelihood for a given $\\beta$ and \n",
    "#data and name the function `loglikelihood_a1`. \n",
    "\n",
    " loglikelihood_quest2 <-function( temp, df ) \n",
    "   {\n",
    "      l <-  df %>%\n",
    "      dplyr::group_by(i) %>%\n",
    "       dplyr::mutate(p = exp(temp[1]*price+temp[2]*x)/sum(exp(temp[1]*price+temp[2]*x))) %>%\n",
    "       dplyr::ungroup() %>%\n",
    "      dplyr::filter(y == 1)\n",
    "     l <- mean(log(l$p))\n",
    "     return(l)\n",
    "    }\n",
    "\n",
    "\n",
    " \n",
    " ltry<- loglikelihood_quest2( c(alpha,0.3),  df )\n"
   ]
  },
  {
   "cell_type": "code",
   "execution_count": 12,
   "metadata": {},
   "outputs": [
    {
     "data": {
      "text/html": [
       "-0.687593265496513"
      ],
      "text/latex": [
       "-0.687593265496513"
      ],
      "text/markdown": [
       "-0.687593265496513"
      ],
      "text/plain": [
       "[1] -0.6876"
      ]
     },
     "metadata": {},
     "output_type": "display_data"
    }
   ],
   "source": [
    "ltry\n"
   ]
  },
  {
   "cell_type": "code",
   "execution_count": 13,
   "metadata": {},
   "outputs": [
    {
     "data": {
      "image/png": "[encoded data removed]",
      "text/plain": [
       "plot without title"
      ]
     },
     "metadata": {
      "image/png": {
       "height": 420,
       "width": 420
      }
     },
     "output_type": "display_data"
    }
   ],
   "source": [
    "\n",
    "# 6. Compute the value of log likelihood for $\\beta = 0, 0.1, \\cdots, 1$ and at true alpha, \n",
    " #and plot the result using `ggplot2` packages. \n",
    "\n",
    "b_seq <- seq(0, 1, 0.1)\n",
    "output <- \n",
    "  foreach (\n",
    "    b = b_seq,\n",
    "    .combine = \"rbind\"\n",
    "  ) %do% {\n",
    "    l <- \n",
    "      loglikelihood_quest2(c(alpha,b), df)\n",
    "    return(l)\n",
    "  }\n",
    "\n",
    "output <- \n",
    "  data.frame(x = b_seq, y = output )\n",
    "output %>%\n",
    "  ggplot( aes( x = x, y = y) ) +\n",
    "  geom_point() + \n",
    "  xlab((\"beta\")) + \n",
    "  ylab(\"Loglikelihood\")\n",
    "\n",
    "\n"
   ]
  },
  {
   "cell_type": "code",
   "execution_count": 14,
   "metadata": {},
   "outputs": [
    {
     "data": {
      "image/png": "[encoded data removed]",
      "text/plain": [
       "plot without title"
      ]
     },
     "metadata": {
      "image/png": {
       "height": 420,
       "width": 420
      }
     },
     "output_type": "display_data"
    }
   ],
   "source": [
    "#7. do the same but now for true beta=0.2 for a range of alpha -1 to 0\n",
    "#and plot the result using `ggplot2` packages. \n",
    "\n",
    "a_seq <- seq(-1, 0, 0.1)\n",
    "output <- \n",
    "  foreach ( a = a_seq, .combine = \"rbind\") %do% {\n",
    "    l <- \n",
    "      loglikelihood_quest2(c(a,beta), df)\n",
    "    return(l)\n",
    "  }\n",
    "\n",
    "output <- \n",
    "  data.frame(x = a_seq, y = output )\n",
    "output %>%\n",
    "  ggplot( aes( x = x, y = y) ) + geom_point() +  xlab((\"$\\\\alpha$\")) +  ylab(\"Loglikelihood\")\n",
    "\n"
   ]
  },
  {
   "cell_type": "code",
   "execution_count": 15,
   "metadata": {},
   "outputs": [
    {
     "data": {
      "text/html": [
       "<dl>\n",
       "\t<dt>$par</dt>\n",
       "\t\t<dd><style>\n",
       ".list-inline {list-style: none; margin:0; padding: 0}\n",
       ".list-inline>li {display: inline-block}\n",
       ".list-inline>li:not(:last-child)::after {content: \"\\00b7\"; padding: 0 .5ex}\n",
       "</style>\n",
       "<ol class=list-inline><li>-0.546861970424652</li><li>0.143937894105911</li></ol>\n",
       "</dd>\n",
       "\t<dt>$value</dt>\n",
       "\t\t<dd>-0.684607589870568</dd>\n",
       "\t<dt>$counts</dt>\n",
       "\t\t<dd><style>\n",
       ".dl-inline {width: auto; margin:0; padding: 0}\n",
       ".dl-inline>dt, .dl-inline>dd {float: none; width: auto; display: inline-block}\n",
       ".dl-inline>dt::after {content: \":\\0020\"; padding-right: .5ex}\n",
       ".dl-inline>dt:not(:first-of-type) {padding-left: .5ex}\n",
       "</style><dl class=dl-inline><dt>function</dt><dd>33</dd><dt>gradient</dt><dd>&lt;NA&gt;</dd></dl>\n",
       "</dd>\n",
       "\t<dt>$convergence</dt>\n",
       "\t\t<dd>0</dd>\n",
       "\t<dt>$message</dt>\n",
       "\t\t<dd>NULL</dd>\n",
       "</dl>\n"
      ],
      "text/latex": [
       "\\begin{description}\n",
       "\\item[\\$par] \\begin{enumerate*}\n",
       "\\item -0.546861970424652\n",
       "\\item 0.143937894105911\n",
       "\\end{enumerate*}\n",
       "\n",
       "\\item[\\$value] -0.684607589870568\n",
       "\\item[\\$counts] \\begin{description*}\n",
       "\\item[function] 33\n",
       "\\item[gradient] <NA>\n",
       "\\end{description*}\n",
       "\n",
       "\\item[\\$convergence] 0\n",
       "\\item[\\$message] NULL\n",
       "\\end{description}\n"
      ],
      "text/markdown": [
       "$par\n",
       ":   1. -0.546861970424652\n",
       "2. 0.143937894105911\n",
       "\n",
       "\n",
       "\n",
       "$value\n",
       ":   -0.684607589870568\n",
       "$counts\n",
       ":   function\n",
       ":   33gradient\n",
       ":   &lt;NA&gt;\n",
       "\n",
       "\n",
       "$convergence\n",
       ":   0\n",
       "$message\n",
       ":   NULL\n",
       "\n",
       "\n"
      ],
      "text/plain": [
       "$par\n",
       "[1] -0.5469  0.1439\n",
       "\n",
       "$value\n",
       "[1] -0.6846\n",
       "\n",
       "$counts\n",
       "function gradient \n",
       "      33       NA \n",
       "\n",
       "$convergence\n",
       "[1] 0\n",
       "\n",
       "$message\n",
       "NULL\n"
      ]
     },
     "metadata": {},
     "output_type": "display_data"
    }
   ],
   "source": [
    "#8. Find and report $\\alpha$ and $\\beta$ that maximizes the log likelihood for the simulated data.\n",
    "\n",
    "result <- \n",
    "  optim( par = theta, fn = loglikelihood_quest2,df = df, control = list(fnscale = - 1))\n",
    "result\n",
    "\n"
   ]
  },
  {
   "cell_type": "markdown",
   "metadata": {},
   "source": [
    "### Recall that $\\alpha=-0.6$ and $\\beta = 0.2$"
   ]
  },
  {
   "cell_type": "markdown",
   "metadata": {},
   "source": [
    "## Part 3 - Simulate data - Micro level Logit estimation endogenous price\n",
    "\n",
    "Simulate data from the following model and \n",
    "#estimate the parameters from the simulated data, adding an endogenous priceE\n",
    "\n",
    "Let $priceE$ be the price in the data, where it is a linear function of $price$ (exogenous factors that could affect priceE),  $x$ indicators for the two alternatives, $Xe$ that also affectes choices, and the residual determinants of price that we assume to be uniform. \n",
    "\n",
    "Consider, therefore,  the following new choice model: \n",
    "\n",
    " $y_{ij} = 1 \\{ j = arg \\max\\limits_{k = 1, 2} \\left[  \\alpha \\ priceE_{ik}+ \\beta x_{ik} +\\xi_{ik}+  \\epsilon_{ik} \\right] \\ \\}$\n",
    "where $\\epsilon_{ik}$ follows i.i.d. type-I extreme value distribution, \n",
    "  $x_1 = 0$ and $x_2 = 1$ and now the  $priceE_{ik}=p_{ik}+x_{ik}+\\xi_{ik}+v_{ik}$\n",
    "\n",
    "where, as before, $p_{ik}$ follows a random uniform distribution between 0 and 1, the residuals  $v_{ik}$ of the $priceE_{ik}$ equation  are also random uniform distribution between 0 and 1. The endogeneity problem are the $xi_{ik}$.\n",
    "\n"
   ]
  },
  {
   "cell_type": "code",
   "execution_count": 16,
   "metadata": {},
   "outputs": [
    {
     "data": {
      "text/html": [
       "<table class=\"dataframe\">\n",
       "<caption>A tibble: 6 × 11</caption>\n",
       "<thead>\n",
       "\t<tr><th scope=col>i</th><th scope=col>k</th><th scope=col>x</th><th scope=col>price</th><th scope=col>e</th><th scope=col>latent</th><th scope=col>y</th><th scope=col>Xe</th><th scope=col>priceE</th><th scope=col>latent2</th><th scope=col>y2</th></tr>\n",
       "\t<tr><th scope=col>&lt;int&gt;</th><th scope=col>&lt;int&gt;</th><th scope=col>&lt;dbl&gt;</th><th scope=col>&lt;dbl&gt;</th><th scope=col>&lt;dbl&gt;</th><th scope=col>&lt;dbl&gt;</th><th scope=col>&lt;dbl&gt;</th><th scope=col>&lt;dbl&gt;</th><th scope=col>&lt;dbl&gt;</th><th scope=col>&lt;dbl&gt;</th><th scope=col>&lt;dbl&gt;</th></tr>\n",
       "</thead>\n",
       "<tbody>\n",
       "\t<tr><td>1</td><td>1</td><td>0</td><td>0.1137</td><td>-0.7942</td><td>-0.8624</td><td>0</td><td>0.1137</td><td>0.3414</td><td>-0.8854</td><td>0</td></tr>\n",
       "\t<tr><td>1</td><td>2</td><td>1</td><td>0.6223</td><td> 1.6189</td><td> 1.4455</td><td>1</td><td>0.6223</td><td>1.4368</td><td> 1.5791</td><td>1</td></tr>\n",
       "\t<tr><td>2</td><td>1</td><td>0</td><td>0.6093</td><td>-1.0256</td><td>-1.3911</td><td>0</td><td>0.6093</td><td>1.8370</td><td>-1.5185</td><td>0</td></tr>\n",
       "\t<tr><td>2</td><td>2</td><td>1</td><td>0.6234</td><td> 0.6579</td><td> 0.4839</td><td>1</td><td>0.6234</td><td>1.8458</td><td> 0.3738</td><td>1</td></tr>\n",
       "\t<tr><td>3</td><td>1</td><td>0</td><td>0.8609</td><td>-0.1326</td><td>-0.6492</td><td>1</td><td>0.8609</td><td>1.7837</td><td>-0.3419</td><td>1</td></tr>\n",
       "\t<tr><td>3</td><td>2</td><td>1</td><td>0.6403</td><td>-1.3958</td><td>-1.5800</td><td>0</td><td>0.6403</td><td>1.9799</td><td>-1.7435</td><td>0</td></tr>\n",
       "</tbody>\n",
       "</table>\n"
      ],
      "text/latex": [
       "A tibble: 6 × 11\n",
       "\\begin{tabular}{lllllllllll}\n",
       " i & k & x & price & e & latent & y & Xe & priceE & latent2 & y2\\\\\n",
       " <int> & <int> & <dbl> & <dbl> & <dbl> & <dbl> & <dbl> & <dbl> & <dbl> & <dbl> & <dbl>\\\\\n",
       "\\hline\n",
       "\t 1 & 1 & 0 & 0.1137 & -0.7942 & -0.8624 & 0 & 0.1137 & 0.3414 & -0.8854 & 0\\\\\n",
       "\t 1 & 2 & 1 & 0.6223 &  1.6189 &  1.4455 & 1 & 0.6223 & 1.4368 &  1.5791 & 1\\\\\n",
       "\t 2 & 1 & 0 & 0.6093 & -1.0256 & -1.3911 & 0 & 0.6093 & 1.8370 & -1.5185 & 0\\\\\n",
       "\t 2 & 2 & 1 & 0.6234 &  0.6579 &  0.4839 & 1 & 0.6234 & 1.8458 &  0.3738 & 1\\\\\n",
       "\t 3 & 1 & 0 & 0.8609 & -0.1326 & -0.6492 & 1 & 0.8609 & 1.7837 & -0.3419 & 1\\\\\n",
       "\t 3 & 2 & 1 & 0.6403 & -1.3958 & -1.5800 & 0 & 0.6403 & 1.9799 & -1.7435 & 0\\\\\n",
       "\\end{tabular}\n"
      ],
      "text/markdown": [
       "\n",
       "A tibble: 6 × 11\n",
       "\n",
       "| i &lt;int&gt; | k &lt;int&gt; | x &lt;dbl&gt; | price &lt;dbl&gt; | e &lt;dbl&gt; | latent &lt;dbl&gt; | y &lt;dbl&gt; | Xe &lt;dbl&gt; | priceE &lt;dbl&gt; | latent2 &lt;dbl&gt; | y2 &lt;dbl&gt; |\n",
       "|---|---|---|---|---|---|---|---|---|---|---|\n",
       "| 1 | 1 | 0 | 0.1137 | -0.7942 | -0.8624 | 0 | 0.1137 | 0.3414 | -0.8854 | 0 |\n",
       "| 1 | 2 | 1 | 0.6223 |  1.6189 |  1.4455 | 1 | 0.6223 | 1.4368 |  1.5791 | 1 |\n",
       "| 2 | 1 | 0 | 0.6093 | -1.0256 | -1.3911 | 0 | 0.6093 | 1.8370 | -1.5185 | 0 |\n",
       "| 2 | 2 | 1 | 0.6234 |  0.6579 |  0.4839 | 1 | 0.6234 | 1.8458 |  0.3738 | 1 |\n",
       "| 3 | 1 | 0 | 0.8609 | -0.1326 | -0.6492 | 1 | 0.8609 | 1.7837 | -0.3419 | 1 |\n",
       "| 3 | 2 | 1 | 0.6403 | -1.3958 | -1.5800 | 0 | 0.6403 | 1.9799 | -1.7435 | 0 |\n",
       "\n"
      ],
      "text/plain": [
       "  i k x price  e       latent  y Xe     priceE latent2 y2\n",
       "1 1 1 0 0.1137 -0.7942 -0.8624 0 0.1137 0.3414 -0.8854 0 \n",
       "2 1 2 1 0.6223  1.6189  1.4455 1 0.6223 1.4368  1.5791 1 \n",
       "3 2 1 0 0.6093 -1.0256 -1.3911 0 0.6093 1.8370 -1.5185 0 \n",
       "4 2 2 1 0.6234  0.6579  0.4839 1 0.6234 1.8458  0.3738 1 \n",
       "5 3 1 0 0.8609 -0.1326 -0.6492 1 0.8609 1.7837 -0.3419 1 \n",
       "6 3 2 1 0.6403 -1.3958 -1.5800 0 0.6403 1.9799 -1.7435 0 "
      ]
     },
     "metadata": {},
     "output_type": "display_data"
    }
   ],
   "source": [
    "\n",
    "set.seed(1234)\n",
    "#1.1 define an omitted variable Xe (the Xis in logit demand)\n",
    "#define the model of priceE with Xe\n",
    "df <- \n",
    "  df %>%\n",
    "  dplyr::mutate(Xe = runif(dim(df)[1]))  %>%\n",
    "  dplyr::mutate(priceE = price +Xe+runif(dim(df)[1]))\n",
    "\n",
    "\n",
    "beta <- 0.2\n",
    "alpha<- -0.6\n",
    "theta<-c(alpha,beta)\n",
    "df <- \n",
    "  df %>%\n",
    "  dplyr::mutate(latent2 = alpha*priceE+ beta * x +Xe+ e)\n",
    "\n",
    "\n",
    "\n",
    "#2. Compute $y2$ by comparing the latent2 values of $k = 1, 2$ \n",
    "#for each $i$ to obtain the following result:\n",
    "df <- \n",
    "  df %>%\n",
    "  dplyr::group_by(i) %>%\n",
    "  dplyr::mutate(y2 = ifelse(latent2 == max(latent2), 1, 0)) %>%\n",
    "  dplyr::ungroup()\n",
    "head(df)\n"
   ]
  },
  {
   "cell_type": "markdown",
   "metadata": {},
   "source": [
    "### Estimate $\\alpha$ and $\\beta$ by Max Likelihood"
   ]
  },
  {
   "cell_type": "code",
   "execution_count": 17,
   "metadata": {},
   "outputs": [],
   "source": [
    "\n",
    "#3.1 write the new loglikelihood function\n",
    "\n",
    "\n",
    "loglikelihood_E <-function( temp, df ) \n",
    "{\n",
    "  lE <-  df %>%\n",
    "    dplyr::group_by(i) %>%\n",
    "    dplyr::mutate(p2 = exp(temp[1]*priceE+temp[2]*x)/sum(exp(temp[1]*priceE+temp[2]*x))) %>%\n",
    "    dplyr::ungroup() %>%\n",
    "    dplyr::filter(y2 == 1)\n",
    "  lE <- mean(log(lE$p2))\n",
    "  return(lE)\n",
    "}\n",
    "\n",
    "\n",
    "\n",
    "\n"
   ]
  },
  {
   "cell_type": "code",
   "execution_count": 18,
   "metadata": {},
   "outputs": [
    {
     "data": {
      "text/html": [
       "<dl>\n",
       "\t<dt>$par</dt>\n",
       "\t\t<dd><style>\n",
       ".list-inline {list-style: none; margin:0; padding: 0}\n",
       ".list-inline>li {display: inline-block}\n",
       ".list-inline>li:not(:last-child)::after {content: \"\\00b7\"; padding: 0 .5ex}\n",
       "</style>\n",
       "<ol class=list-inline><li>-0.191914717778563</li><li>0.169136964548379</li></ol>\n",
       "</dd>\n",
       "\t<dt>$value</dt>\n",
       "\t\t<dd>-0.685892027448572</dd>\n",
       "\t<dt>$counts</dt>\n",
       "\t\t<dd><style>\n",
       ".dl-inline {width: auto; margin:0; padding: 0}\n",
       ".dl-inline>dt, .dl-inline>dd {float: none; width: auto; display: inline-block}\n",
       ".dl-inline>dt::after {content: \":\\0020\"; padding-right: .5ex}\n",
       ".dl-inline>dt:not(:first-of-type) {padding-left: .5ex}\n",
       "</style><dl class=dl-inline><dt>function</dt><dd>47</dd><dt>gradient</dt><dd>&lt;NA&gt;</dd></dl>\n",
       "</dd>\n",
       "\t<dt>$convergence</dt>\n",
       "\t\t<dd>0</dd>\n",
       "\t<dt>$message</dt>\n",
       "\t\t<dd>NULL</dd>\n",
       "</dl>\n"
      ],
      "text/latex": [
       "\\begin{description}\n",
       "\\item[\\$par] \\begin{enumerate*}\n",
       "\\item -0.191914717778563\n",
       "\\item 0.169136964548379\n",
       "\\end{enumerate*}\n",
       "\n",
       "\\item[\\$value] -0.685892027448572\n",
       "\\item[\\$counts] \\begin{description*}\n",
       "\\item[function] 47\n",
       "\\item[gradient] <NA>\n",
       "\\end{description*}\n",
       "\n",
       "\\item[\\$convergence] 0\n",
       "\\item[\\$message] NULL\n",
       "\\end{description}\n"
      ],
      "text/markdown": [
       "$par\n",
       ":   1. -0.191914717778563\n",
       "2. 0.169136964548379\n",
       "\n",
       "\n",
       "\n",
       "$value\n",
       ":   -0.685892027448572\n",
       "$counts\n",
       ":   function\n",
       ":   47gradient\n",
       ":   &lt;NA&gt;\n",
       "\n",
       "\n",
       "$convergence\n",
       ":   0\n",
       "$message\n",
       ":   NULL\n",
       "\n",
       "\n"
      ],
      "text/plain": [
       "$par\n",
       "[1] -0.1919  0.1691\n",
       "\n",
       "$value\n",
       "[1] -0.6859\n",
       "\n",
       "$counts\n",
       "function gradient \n",
       "      47       NA \n",
       "\n",
       "$convergence\n",
       "[1] 0\n",
       "\n",
       "$message\n",
       "NULL\n"
      ]
     },
     "metadata": {},
     "output_type": "display_data"
    }
   ],
   "source": [
    "\n",
    "#estimate the log likelihood \n",
    "\n",
    "#tempparam<-c(1,1)\n",
    "resultE <- \n",
    "  optim( par = theta, fn = loglikelihood_E, df = df, control = list(fnscale = - 1))\n",
    "resultE"
   ]
  },
  {
   "cell_type": "markdown",
   "metadata": {},
   "source": [
    "### can you explain the OVB you see?"
   ]
  },
  {
   "cell_type": "code",
   "execution_count": 19,
   "metadata": {},
   "outputs": [
    {
     "data": {
      "text/plain": [
       "\n",
       "Call:\n",
       "lm(formula = priceE ~ x + price - 1, data = df)\n",
       "\n",
       "Residuals:\n",
       "   Min     1Q Median     3Q    Max \n",
       "-0.761 -0.162  0.119  0.366  0.996 \n",
       "\n",
       "Coefficients:\n",
       "      Estimate Std. Error t value            Pr(>|t|)    \n",
       "x       0.1942     0.0148    13.1 <0.0000000000000002 ***\n",
       "price   2.6126     0.0182   143.2 <0.0000000000000002 ***\n",
       "---\n",
       "Signif. codes:  0 ‘***’ 0.001 ‘**’ 0.01 ‘*’ 0.05 ‘.’ 0.1 ‘ ’ 1\n",
       "\n",
       "Residual standard error: 0.367 on 1998 degrees of freedom\n",
       "Multiple R-squared:  0.949,\tAdjusted R-squared:  0.949 \n",
       "F-statistic: 1.87e+04 on 2 and 1998 DF,  p-value: <0.0000000000000002\n"
      ]
     },
     "metadata": {},
     "output_type": "display_data"
    }
   ],
   "source": [
    "\n",
    "#4. #suppose you get data also for $price$. , then\n",
    "#investigate the first stage and get first stage residuals and add to data frame\n",
    "\n",
    "reg_firstStage<-lm(priceE~x+price-1,df)\n",
    "summary(reg_firstStage)\n",
    "#add first stage residuals to dataframe\n",
    "df <- \n",
    "  df %>%\n",
    "  dplyr::mutate(eFS=reg_firstStage$residuals)\n",
    "\n",
    "\n",
    "\n"
   ]
  },
  {
   "cell_type": "markdown",
   "metadata": {},
   "source": [
    "### Estimate $\\alpha$ and $\\beta$ by ML using the control function method\n",
    "\n",
    "exogenous portion of priceE , Z=price, as instrument for priceE and using the control function method"
   ]
  },
  {
   "cell_type": "code",
   "execution_count": 21,
   "metadata": {},
   "outputs": [],
   "source": [
    "\n",
    "#5. Estimate alpha and beta by ML using the exogenous portion of priceE , Z=price, as\n",
    "#instrument for priceE and using the control function method\n",
    "\n",
    "#5.1 write the new loglikelihood function with control function\n",
    "\n",
    "\n",
    "loglikelihood_cf <-function( temp, df ) {\n",
    "  lcf <-  df %>%\n",
    "    dplyr::group_by(i) %>%\n",
    "    dplyr::mutate(pcf = exp(temp[1]*priceE+temp[2]*x+temp[3]*eFS)/sum(exp(temp[1]*priceE+temp[2]*x)+temp[3]*eFS)) %>%\n",
    "    dplyr::ungroup() %>%\n",
    "    dplyr::filter(y2 == 1)\n",
    "  lcf <- mean(log(lcf$pcf))\n",
    "  return(lcf) }\n",
    "\n"
   ]
  },
  {
   "cell_type": "code",
   "execution_count": null,
   "metadata": {},
   "outputs": [],
   "source": [
    "#estimate the log likelihood \n",
    "\n",
    "tempparam<-c(theta,0.2)\n",
    "result_cf <- \n",
    "  optim( par = tempparam, fn = loglikelihood_cf,df = df, control = list(fnscale = - 1))\n",
    "result_cf\n"
   ]
  },
  {
   "cell_type": "markdown",
   "metadata": {},
   "source": [
    "### You should get \n",
    "$\\hat{\\alpha}=-0.540274830578961$ $\\hat{\\beta}=0.363397566736415$ $\\hat{\\beta}_{residCF}=-0.764206922799313$"
   ]
  },
  {
   "cell_type": "markdown",
   "metadata": {},
   "source": [
    "## The end"
   ]
  }
 ],
 "metadata": {
  "kernelspec": {
   "display_name": "R",
   "language": "R",
   "name": "ir"
  },
  "language_info": {
   "codemirror_mode": "r",
   "file_extension": ".r",
   "mimetype": "text/x-r-source",
   "name": "R",
   "pygments_lexer": "r",
   "version": "4.4.2"
  }
 },
 "nbformat": 4,
 "nbformat_minor": 4
}
