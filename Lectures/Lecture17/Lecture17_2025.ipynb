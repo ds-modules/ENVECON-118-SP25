{
 "cells": [
  {
   "cell_type": "markdown",
   "id": "45202013-e314-41d5-902d-700884645657",
   "metadata": {},
   "source": [
    "## Lecture 17 EEP118"
   ]
  },
  {
   "cell_type": "code",
   "execution_count": null,
   "id": "2a63d91f-6d11-4908-8254-399c7a23a5e3",
   "metadata": {},
   "outputs": [],
   "source": [
    "#Lecture17.R\n",
    "#LECTURE 17\n",
    "\n",
    "\n",
    "install.packages(\"pacman\")\n",
    "# Load the 'pacman' package\n",
    "library(pacman) \n",
    "#packages to use load them now using the pacman \"manager\"\n",
    "p_load(dplyr, haven, readr) \n",
    "#Another great feature of p_load(): if you try to load a package that is not installed on your machine, p_load() install the package for you, rather than throwing an error. For instance, let’s install and load one final package named ggplot2. \n",
    "p_load(ggplot2)\n",
    "\n",
    "\n",
    "\n",
    "pacman::p_load(lfe, lmtest, haven, sandwich, tidyverse,car)\n",
    "# lfe for running fixed effects regression\n",
    "# lmtest for displaying robust SE in output table\n",
    "# haven for loading in dta files\n",
    "# sandwich for producing robust Var-Cov matrix\n",
    "# tidyverse for manipulating data and producing plots\n",
    "#car for linear hypothesis F tests\n"
   ]
  },
  {
   "cell_type": "code",
   "execution_count": null,
   "id": "90010501-22f1-4455-8ae6-408d7f42c0a1",
   "metadata": {},
   "outputs": [],
   "source": [
    "\n",
    "#set scientific display off, thank you Roy\n",
    "options(scipen=999)\n",
    "\n",
    "#read in a Stata dataset\n",
    "mydata <- read_dta(\"Lecture17.dta\")\n",
    "head(mydata)"
   ]
  },
  {
   "cell_type": "code",
   "execution_count": null,
   "id": "61907303-8304-4d0f-bc02-c334a119d9eb",
   "metadata": {},
   "outputs": [],
   "source": [
    "#generate category education variable\n",
    "mydata$cateduc=1\n",
    "mydata$cateduc[mydata$educ==12]<-2\n",
    "mydata$cateduc[mydata$educ>12]<-3\n",
    "\n",
    "#summary stats variables\n",
    "summary(mydata)"
   ]
  },
  {
   "cell_type": "markdown",
   "id": "6b1fb12b-875b-4bee-ae49-4e051b0570c0",
   "metadata": {},
   "source": [
    "### *1. Does the wage marginal effect of education differ by experience?"
   ]
  },
  {
   "cell_type": "code",
   "execution_count": null,
   "id": "cf000c30-9bff-4497-ae8f-51befc27974a",
   "metadata": {},
   "outputs": [],
   "source": [
    "#** LECTURE 17 STARTS HERE\n",
    "##EDUC EXPER\n",
    "mydata$expedu=mydata$exper*mydata$educ\n",
    "\n",
    "six<-lm(wage~female+educ+exper+expedu, mydata)\n",
    "summary(six)\n",
    "\n"
   ]
  },
  {
   "cell_type": "markdown",
   "id": "0ff99a23-185f-4b45-aae6-6ce5f8f98c0c",
   "metadata": {},
   "source": [
    "Step 1: H0: beta_expEduc= 𝛽4  =0   (of the interaction term)\n",
    "\t    H1: 𝛽4  not equal to 0\n",
    "        \n",
    "Step 2  𝒕=(𝟎.𝟎𝟎𝟒−𝟎)/(𝟎.𝟎𝟑𝟑)=1.427 = 1.43\n",
    "\n",
    "Step 3  significance level 1%  526-5 degrees of freedom c=2.58\n",
    "\n",
    "Step 4 t< c so CANNOT reject null. \n",
    "\n",
    "Step 5  We cannot reject at the 1% significance level that marginal effect of experience does not depend on education."
   ]
  },
  {
   "cell_type": "markdown",
   "id": "2dca2acb-b69a-4791-8991-00db09b81392",
   "metadata": {},
   "source": [
    "### *2 Ordinal Variables"
   ]
  },
  {
   "cell_type": "code",
   "execution_count": null,
   "id": "5908f6c1-54cd-4fc4-90f9-6f062864559f",
   "metadata": {},
   "outputs": [],
   "source": [
    "##5. ordinal variables\n",
    "\n",
    "mydata$HSDrop<-0\n",
    "mydata$HSDrop[mydata$cateduc==1]<-1\n",
    "\n",
    "mydata$HS<-0\n",
    "mydata$HS[mydata$cateduc==2]<-1\n",
    "\n",
    "mydata$Col<-0\n",
    "mydata$Col[mydata$cateduc==3]<-1\n",
    "\n",
    "\n",
    "#which specification would you choose?\n",
    "\n",
    "seven1<-lm(wage~female+HSDrop+HS+Col+exper,mydata)\n",
    "summary(seven1)\n",
    "\n",
    "seven<-lm(wage~female+HS+Col+exper,mydata)\n",
    "summary(seven)\n",
    "\n",
    "eight<-lm(wage~female+cateduc+exper,mydata)\n",
    "summary(eight)\n"
   ]
  },
  {
   "cell_type": "markdown",
   "id": "3d1d84b5-55e4-4f8a-bd41-76bc5b522ada",
   "metadata": {},
   "source": [
    "Use adjusted R square to choose between seven1 , seven, or eight\n",
    "\n",
    "I would choose the eight because adjusted R squared is 0.2557 greater than the other adjusted R squared\n"
   ]
  },
  {
   "cell_type": "markdown",
   "id": "75ada17d-3f02-4ed2-9a64-241799b416ff",
   "metadata": {},
   "source": [
    "### *3. ARE the wage equations the same for males and females?"
   ]
  },
  {
   "cell_type": "code",
   "execution_count": null,
   "id": "e322ec87-126b-4162-a40f-bc0edd3fbb89",
   "metadata": {},
   "outputs": [],
   "source": [
    "###6. Are the wage equations for male and female the same?\n",
    "\n",
    "\n",
    "#generate the interactions for the unrestricted model\n",
    "mydata$femexper<-mydata$female*mydata$exper\n",
    "mydata$femeduc<-mydata$female*mydata$educ\n",
    "\n",
    "\n",
    "#do an F test\n",
    "\n",
    "#unrestricted model \n",
    "#𝑤𝑎𝑔𝑒=𝛽_0+𝛽_1  𝑓𝑒𝑚𝑎𝑙𝑒+𝛽_2  𝑒𝑥𝑝𝑒𝑟+ 𝛽_3 𝑒𝑑𝑢+ 𝛽_4  𝑓𝑒𝑚𝑎𝑙𝑒∗𝑒𝑥𝑝𝑒𝑟+ 𝛽_5  𝑓𝑒𝑚𝑎𝑙𝑒∗𝑒𝑑𝑢 +𝑣\n",
    "\n",
    "twelve<-lm(wage~educ+exper+female+femeduc+femexper, mydata)\n",
    "summary(twelve)\n",
    "#get SSR unrestricted\n",
    "\n",
    "#restricted model \n",
    "#𝑤𝑎𝑔𝑒=𝛽_0+𝛽_2  𝑒𝑥𝑝𝑒𝑟+ 𝛽_3 𝑒𝑑𝑢 +𝑣\n",
    "nine<-lm(wage~educ+exper,mydata)\n",
    "summary(nine)\n",
    "#get SSR restricted\n",
    "\n",
    "#compute the F test stat and compare to the F critical value\n"
   ]
  },
  {
   "cell_type": "markdown",
   "id": "42f24058-edae-4fd0-ad3f-a1746dfbbe10",
   "metadata": {},
   "source": [
    "SSR unrestricted from above output ot regression twelve is 𝑆𝑆𝑅=𝑠^2 (𝑛−𝑘)=3.018∗3.018∗520= 4736.33\n",
    "\n",
    "SSR restricted from above output of regression nine is 𝑆𝑆𝑅𝑟=S𝑟^2 (𝑛−𝑘_𝑟 )=3.257∗3.257∗523= 5548\n",
    "\n",
    "𝑭=((𝑺𝑺𝑹_𝑹−𝑺𝑺𝑹_𝒖)/𝒒)/(𝑺𝑺𝑹𝒖/(𝑵−𝒌−𝟏))= ((𝟓𝟓𝟒𝟖−𝟒𝟕𝟑𝟔.𝟑𝟑)/𝟑)/((𝟒𝟕𝟑𝟔.𝟑𝟑)/(𝟓𝟐𝟔−𝟓−𝟏))=𝟐𝟗.𝟔𝟓\n",
    "\n",
    "p value of that F is 2.2e-16 ***  the p value is basically zero, has three stars\n",
    "\n",
    "so we reject the null of male and female having the same wage equation at the 1% significance, at 5% and at 10%. \n",
    "\n",
    "\n",
    "Alternatively you could get the critical F for 1percent significance for an F with 3 and 520 degrees of freedom\n",
    "\n",
    "3 restrictions and N-k for the unrstricted model is 520.\n",
    "\n"
   ]
  },
  {
   "cell_type": "code",
   "execution_count": null,
   "id": "dfdfe436-2f88-4fda-8c94-1d1c983988bc",
   "metadata": {},
   "outputs": [],
   "source": [
    "#In R you can do the F test above by estimating twelve and then\n",
    "#testing the joint null that the  female femeduc femexper are all zero (female=femeduc=femexper=0)\n",
    "\n",
    "twelve<-lm(wage~educ+exper+female+femeduc+femexper, mydata)\n",
    "summary(twelve)\n",
    "\n",
    "linearHypothesis(twelve, c(\"female=0\", \"femeduc=0\",\"femexper=0\"))"
   ]
  },
  {
   "cell_type": "markdown",
   "id": "b02f9d49-ee9b-41db-8426-d55de003eb23",
   "metadata": {},
   "source": [
    "The F is 29.65. as before\n",
    "\n",
    "We see that the p value of that F is 0.000000000000000 *** the p value is basically zero, has three stars\n",
    "\n",
    "so we reject the null of male and female having the same wage equation at the 1% significance, at 5% and at 10%.\n",
    "\n",
    "Alternatively you could get the critical F for 1percent significance for an F with 3 and 520 degrees of freedom\n",
    "\n",
    "3 restrictions and N-k for the unrstricted model is 520."
   ]
  },
  {
   "cell_type": "markdown",
   "id": "779b4b82-08fd-40c1-88ac-bdb0b362bfda",
   "metadata": {},
   "source": [
    "#### The Chow Test - should the model be run together males and females or as separate models?"
   ]
  },
  {
   "cell_type": "code",
   "execution_count": null,
   "id": "b8371376-4eda-494f-8c2c-600e5ab5ec10",
   "metadata": {},
   "outputs": [],
   "source": [
    "#separate equations:\n",
    "ten<-lm(wage~educ+exper, mydata[which(mydata$female==1),])\n",
    "summary(ten)\n",
    "\n",
    "eleven<-lm(wage~educ+exper, mydata[which(mydata$female==0),])\n",
    "summary(eleven)\n",
    "\n",
    "#one single equation, the restricted model\n",
    "nine<-lm(wage~educ+exper,mydata)\n",
    "summary(nine)\n",
    "\n",
    "#or  Chow test (new but same idea as F test)\n",
    "#Model assuming same equation\n",
    "#Model with two separate equations\n"
   ]
  },
  {
   "cell_type": "markdown",
   "id": "4b5f9317-face-43c0-a828-7971c8eeb345",
   "metadata": {},
   "source": [
    "#the Chow test is also an F test\n",
    "\n",
    "𝑭=( (𝑺𝑺𝑹_𝑹−(𝑺𝑺𝑹_𝒇+𝑺𝑺𝑹𝒎)) / (𝒌+𝟏))  / ((𝑺𝑺𝑹𝒇+𝑺𝑺𝑹𝒎) / (𝑵𝒇−𝒌−𝟏+𝑵𝒎−𝒌−𝟏) )"
   ]
  },
  {
   "cell_type": "code",
   "execution_count": null,
   "id": "190fc827-9c33-4f22-b72c-9ba02e545f84",
   "metadata": {},
   "outputs": [],
   "source": [
    "#run restrictec model, get SSR_r\n",
    "#one single equation, the restricted model\n",
    "nine<-lm(wage~educ+exper,mydata)\n",
    "summary(nine)"
   ]
  },
  {
   "cell_type": "markdown",
   "id": "cc476e33-4872-4a89-8e78-ad6ceffe3ad4",
   "metadata": {},
   "source": [
    "As before SSR of nine, SRR_R = 5548\n"
   ]
  },
  {
   "cell_type": "code",
   "execution_count": null,
   "id": "211ec2e2-bb2a-4c03-8e47-6b35047d139b",
   "metadata": {},
   "outputs": [],
   "source": [
    "#separate equations:\n",
    "ten<-lm(wage~educ+exper, mydata[which(mydata$female==1),])\n",
    "summary(ten)\n",
    "\n",
    "eleven<-lm(wage~educ+exper, mydata[which(mydata$female==0),])\n",
    "summary(eleven)\n",
    "\n",
    "#and get SSR_f  and SSR_m"
   ]
  },
  {
   "cell_type": "markdown",
   "id": "353a88fb-4dd7-458e-95e3-ee06277a15a6",
   "metadata": {},
   "source": [
    "From Residual standard error of female in regression ten : 2.264 on 249 degrees of freedom ---> SSR_f=2.262*2.262*249= 𝟏𝟐𝟕𝟓.𝟕𝟑\n",
    "\n",
    "From residual stad error of eleven, for males, Residual standard error: 3.574 on 271 degrees of freedom, SSR_m=3.574*3.574*271= 3462.045\n",
    "\n",
    "Then 4737.775 =SSRf+SSRm"
   ]
  },
  {
   "cell_type": "markdown",
   "id": "7fbd5537-c0c9-417d-bf30-13534f9ce97a",
   "metadata": {},
   "source": [
    "Substituting into the Chow F formula:\n",
    "\n",
    "F= ((5548.159−1275.73+3462.045)/(2+1))/((1275.73+3462.045)/(252−2−1+274−2−1))=𝟐𝟗.𝟔𝟓\n",
    "\n",
    "Given this F > 2.6 =the critical value for 5% for an F distrib with degrees of freedom (3,520)\n",
    "So we reject the null that the equation should be estimated pooled into the same equation.\n"
   ]
  },
  {
   "cell_type": "markdown",
   "id": "e607f3ce-0110-4be2-851d-c588f82ab682",
   "metadata": {},
   "source": [
    "# Evolution of Wage gap over time\n",
    "\n",
    "We will now investigate the evolution of the gender wage gap over time\n",
    "\n",
    "We will use a survey dataset for 1978, a cross section of responses for that year 1978, N=550\n",
    "\n",
    "We will also use a survey dataset for 1985, a cross section of responses for that year 1985, N=534\n",
    "\n",
    "\n",
    "When we combine the two cross sections in the analysis we are pooling two cross sections, or we are doing a pooled cross section analysis\n",
    "\n",
    "Dataset Lecture17_CPS78_85.dta"
   ]
  },
  {
   "cell_type": "code",
   "execution_count": null,
   "id": "af7f02fd-f338-422a-b5e8-402ae0d79b81",
   "metadata": {},
   "outputs": [],
   "source": [
    "#ADDITIONAL DATASET\n",
    "#***use now 1978 and 1985 CPS pooled cross sections\n",
    "#read in this new data set\n",
    "mydata2 <- read_dta(\"Lecture17_CPS78_85.DTA\")\n",
    "head(mydata2)\n",
    "\n",
    "\n",
    "#the original variable was log wage, lets get the wage level to use in the analysis below:\n",
    "mydata2$wage<-exp(mydata2$lwage)"
   ]
  },
  {
   "cell_type": "markdown",
   "id": "8449d5e4-8a05-4c2f-96a1-71334f708e9d",
   "metadata": {},
   "source": [
    "####   Create real wage\n",
    "\n",
    "\n",
    "Go to CPI calculator form the BLS:\n",
    "  https://www.bls.gov/data/inflation_calculator.htm\n",
    "\n",
    "The Consumer Price Index (CPI)  is the average price\n",
    "for 200 items with base in a certain year. \n",
    "1 dollar in 1978 equals 1.69 dollars in 1985.\n",
    "\n",
    "Or get the CPI index for 1978 and for 1985 with base \n",
    "year 1982\n",
    "\n",
    "http://www.usinflationcalculator.com/inflation/consumer-price-index-and-annual-percent-changes-from-1913-to-2008/\n",
    "\n",
    "CPI 1978=  CPI 1978= 65.2 and CPI for 1985= 107.6\n",
    "\n",
    "so, \n",
    "\n",
    "In the code cell  that comes next, we generate a new variable rwage=wage\n",
    "\n",
    "then replace rwage=wage*107.6/65.2 if year==78 ---- for the year 78\n",
    "\n",
    "The above command puts everything in 1985 dollars so we can compare now and combine 1978 data with 1985 data. Note that we could have put all into 1978 dollars off course, instead…\n"
   ]
  },
  {
   "cell_type": "code",
   "execution_count": null,
   "id": "24aa7f94-2c00-4fe9-ac5f-020a50246ada",
   "metadata": {},
   "outputs": [],
   "source": [
    "#create real wage then in 1985 dollars\n",
    "\n",
    "mydata2$rwage85<-mydata2$wage\n",
    "\n",
    "#for 1985 we are all set, we need to put the 1978 in real 85 dollars though, that is done below:\n",
    "\n",
    "#replace rwage=wage*107.6/65.2 if year==78\n",
    "mydata2$rwage85[mydata2$year==78]<-mydata2$wage[mydata2$year==78]*107.6/65.2\n",
    "mydata2$rwage85[mydata2$year==85]<-mydata2$wage[mydata2$year==85]\n",
    "#label variable rwage``average real hourly earnings in 1985 dollars''\n",
    "\n"
   ]
  },
  {
   "cell_type": "markdown",
   "id": "bd66b810-f47d-4ed9-be40-a2528e9c374b",
   "metadata": {},
   "source": [
    "### *5. How does the gender wage gap evolve over time?"
   ]
  },
  {
   "cell_type": "code",
   "execution_count": null,
   "id": "dca9d90b-6539-4f4c-af33-6d8dbf811e0a",
   "metadata": {},
   "outputs": [],
   "source": [
    "reg17one<-lm(rwage85~educ+exper+union+female+y85,mydata2)\n",
    "summary(reg17one)\n",
    "\n",
    "#THE REGRESSION ABOVE, with the output below,  DOES NOT HELP US TO LOOK AT FEMALE WAGE DIFFERENCE \n",
    "#FROM MALE OVER TIME, JUST REAL WAGES OVER TIME  WITH THE  YR85 DUMMY\n",
    "#and also look at female versus male one average with the FEMALE dummy\n",
    "\n"
   ]
  },
  {
   "cell_type": "markdown",
   "id": "b21d0d81-2c59-46a5-8d98-3a1127dff483",
   "metadata": {},
   "source": [
    "What does the coefficient estimated for y85 mean?\n",
    "\n",
    "\n",
    "After controlling for gender, education, experience, union, the estimated betahat for dummy for year 1985 is -0.88. \n",
    "\n",
    "what does this mean?\n",
    "\n",
    "\n",
    "AVERAGE WAGES IN 85 RELATIVE TO NOT 85 (YEAR 78) ARE SIGNIF LOWER BY 88 CENTS/HOUR\n",
    "\n"
   ]
  },
  {
   "cell_type": "code",
   "execution_count": null,
   "id": "8f3dc293-7c1f-43f0-9142-ad48b8e63166",
   "metadata": {},
   "outputs": [],
   "source": [
    "#SO HOW CAN WE GET AT FEMALE REAL WAGE EVOLUTION FROM 78 TO 85?\n",
    "#-----  INTERACT YR85 WITH FEMALE DUMMY\n",
    "\n",
    "mydata2$y85female=mydata2$y85*mydata2$female\n",
    "reg17two<-lm(rwage85~educ+exper+union+female+y85+y85female,mydata2)\n",
    "summary(reg17two)"
   ]
  },
  {
   "cell_type": "markdown",
   "id": "374e450a-6706-42e1-a57b-b419f15aad57",
   "metadata": {},
   "source": [
    "What do you see in the output above?\n",
    "\n",
    "In 1978 females earn less -3.08 / hour on average (yr85=0)\n",
    "\n",
    "\n",
    "In 1985 females earn -3.08+0.92199= -2.158/ hour on average (yr85=1)\n",
    "\n",
    "\n",
    "\n",
    "The conditional female effect on real wages is \n",
    "(𝝏 𝒘𝒂𝒈𝒆)/(𝝏 𝒇𝒆𝒎𝒂𝒍𝒆)  = 𝛽_4 + 𝛽_6 𝑦𝑟85\n",
    "\n",
    "\n",
    "= -3.08 + 0.92199 = -2.158\n",
    "\n",
    "Conclusion, the gender gap has shrunk, before in 1978 it was -3.08 dollars/hour and in 1985 it is now -2.158\n"
   ]
  },
  {
   "cell_type": "markdown",
   "id": "9e8a34c9-4b2f-481b-95e9-92a95441072a",
   "metadata": {},
   "source": [
    "Daily Assignm: how would you generate a new variable and test whether the marginal increase in wage due\n",
    "to being in a union has changed over time also from 1978 to 1985 in terms of real wage marginal effects? \n",
    "\n"
   ]
  },
  {
   "cell_type": "markdown",
   "id": "6e467965-40e8-4901-8559-8811c5f4fa42",
   "metadata": {},
   "source": []
  },
  {
   "cell_type": "markdown",
   "id": "9ddf44e5-43e9-4cbf-9c18-c0712390ad4a",
   "metadata": {},
   "source": [
    "Conclusion, the gender gap has shrunk, before in 1978 it was -3.08 (women earned less 3)  dollars/hour and in 1985 it is now -2.158 (women earn now only 2.15 less)\n",
    "\n",
    "Looking at 1996 to 2006 I found the gender gap widening, men earned more 4.1 dollars/ hour in 1996 and in 2006 men earn more 5.4 dollars/ hour… curious about more recent data, 2019, 2016 real wage gender gap…\n",
    "\n"
   ]
  },
  {
   "cell_type": "markdown",
   "id": "e3355ff5-031c-4efa-87bd-dea151d6d618",
   "metadata": {},
   "source": [
    "# RECAP lecture 16 and 17 - for international's Women Day"
   ]
  },
  {
   "cell_type": "markdown",
   "id": "c63b907c-2cf6-48f4-a47f-70b411c55c23",
   "metadata": {},
   "source": [
    "Lecture 16:\n",
    "\n",
    "average wage men = 7.1  average wage women=4.6   difference=2.5  dollars different average wages\n",
    "\n",
    "on average women earn 25% less than men\n",
    "\n",
    "looking at the distribution, missing for women mass in the 20-40 $ an hour range\n",
    "\n",
    "wages are lower for women even after controlling for education, experience, sector of activity, and union participation. Results are Very robust\n",
    "\n",
    "Did not show but could show by interacting female and HS, female and Col dummies that the wage differential between men and women is at all levels of education, but largest difference is for college education level\n",
    "\n",
    "Lecture 17: \n",
    "\n",
    "From 1978 to 85 real wages dropped. \n",
    "\n",
    "Females earn less than men in 1978 and the real wage gap decreased, in that in 1985 women earn less 2.15 dollars/ hour in real wages, whereas in 85 they earned 3 dollars less\n",
    "\n",
    "Not shown with data but, over time, 1996-2006, there is not real change at all for wages for men (coeff on yr2006) but a decline for real wages for women of 1.33 dollars.\n",
    "\n",
    "Interesting to see what is happening in 2016/ and 2019 even…\n",
    "\n"
   ]
  },
  {
   "cell_type": "markdown",
   "id": "ccaa57c6-6aac-46a7-8935-2592dee1e609",
   "metadata": {},
   "source": [
    "THE END"
   ]
  }
 ],
 "metadata": {
  "kernelspec": {
   "display_name": "R",
   "language": "R",
   "name": "ir"
  },
  "language_info": {
   "codemirror_mode": "r",
   "file_extension": ".r",
   "mimetype": "text/x-r-source",
   "name": "R",
   "pygments_lexer": "r",
   "version": "4.4.2"
  }
 },
 "nbformat": 4,
 "nbformat_minor": 5
}
