{
 "cells": [
  {
   "cell_type": "markdown",
   "metadata": {},
   "source": [
    "# Spring 2025 ENVECON/IAS 118 - Introductory Applied Econometrics Problem Set 3\n",
    "## Due on Gradescope at Midnight, March 4\n",
    "\n",
    "# Submission Instructions \n",
    "For the purposes of this class, we will be using Berkeley's _Datahub_ to conduct our analysis remotely using these notebooks. The data files can be accessed directly  through _Datahub_ and do not require you to install anything on your computer. \n",
    "\n",
    "If instead you already have an installation of R/RStudio on your personal computer and prefer to work offline, you can download the data for this assignment from bCourses (Make sure to install/update all packages mentioned in the problem sets in order to prevent issues regarding deprecated or outdated packages).\n",
    "\n",
    "To submit your completed assignment, go to the file dropdown menu and select the ”Save and export notebook as” dropdown menu. In this menu make sure to select ”PDF”, \"Webpdf\" or \"PDF via Chrome\" (if that option appears instead). \n",
    "\n",
    "The figures in the problem statement may not show up in the pdf you generate. Once you have downloaded this pdf, make sure it shows all your answers (including code and output). Please **do not print the entire dataset in your submission**. If you viewed the data earlier, remove that line of code and re-run the code cell (as datasets get bigger this adds many pages to pdf submissions and increases the likelihood we miss your answer). \n",
    "\n",
    "Upload your submission to Gradescope: https://www.gradescope.com/courses/927499\n",
    "\n",
    "*Note: Coding Bootcamp [Part 3](https://r.datahub.berkeley.edu/hub/user-redirect/git-pull?repo=https%3A%2F%2Fgithub.com%2Fds-modules%2FENVECON-118-SP23&branch=main&urlpath=retro%2Ftree%2FENVECON-118-SP23%2F1_CodingBootcamp%2FCoding+Bootcamp+Part+3_2023.ipynb) and [Part 4](https://r.datahub.berkeley.edu/hub/user-redirect/git-pull?repo=https%3A%2F%2Fgithub.com%2Fds-modules%2FENVECON-118-SP23&branch=main&urlpath=retro%2Ftree%2FENVECON-118-SP23%2F1_CodingBootcamp%2FCoding+Bootcamp+Part+4_2023.ipynb) covers all necessary R methods."
   ]
  },
  {
   "cell_type": "markdown",
   "metadata": {},
   "source": [
    "### Preamble\n",
    "When writing R code, it's a good habit to start your notebooks or R scripts with a preamble, a section where you load all necessary packages, set paths or change the working directory, or declare other options.\n",
    "\n",
    "Use the below code cell to load in packages you will use throughout the problem set (at least `haven`, `tidyverse`, and `ggplot2` this week). \n",
    "\n",
    "*Note:* **never** try to install packages on Datahub. All packages that you need are already installed and can be loaded immediately using the `library()` function. Attempting to install packages will create conflicts with the package versions on the server and potentially corrupt your notebook."
   ]
  },
  {
   "cell_type": "code",
   "execution_count": 46,
   "metadata": {},
   "outputs": [],
   "source": [
    "# insert your code"
   ]
  },
  {
   "cell_type": "markdown",
   "metadata": {},
   "source": [
    "## Question 1: Relationship between Housing Prices (in USD) and Characteristics of US Cities.\n",
    "\n",
    "This exercise is to be completed using R. We will establish a simple linear relationship between **housing prices and characteristics of cities** in a sample of cities. This is called a hedonic regression, relating price to characteristics. The idea is that if a characteristic is valued in a city, demand for housing increases as people move there, and then housing price increases, all else constant. Vice versa, if people do not value a characteristic, like crime, for example.  \n",
    "\n",
    "*Note: in economics, log always refers to the natural log, ln().*"
   ]
  },
  {
   "cell_type": "markdown",
   "metadata": {},
   "source": [
    "### Data description\n",
    "\n",
    "We will use September 2021 data from Zumper on one-bedroom apartment prices and 2019 data from the FBI on crime for US cities and other characteristics of US cities, such as number of bars, air quality index, wealth of the city measured by GDP, population, whether the city has a winning record majors sports team, as well as the number of sports teams in the major basketball, baseball and American football leagues. The data has 96 cities.\n",
    "\n",
    "<center><b> Readme for data variables, several sources - collected by Villas-Boas, Fall 2021 </b></center>\n",
    "\n",
    "|Variable name \t|\tDefinition\t| Source    |\n",
    "|:-:|:-|:-:|\n",
    "| city | City name | |\n",
    "| state | State name | |\n",
    "|pricesept2021\t|\tOne bedroom housing price, in USD\t|\twww.Zumper.com\t|\n",
    "|successteams\t| Dummy variable =1 if at least one NBA, NFL, or MLB team in a city had a winning record last season (2020 season), =0 otherwise| Google search\n",
    "|violentcrime2019\t| Violent crimes (in thousands) | [FBI](https://ucr.fbi.gov/crime-in-the-u.s/2019/crime-in-the-u.s.-2019/tables/table-8/table-8.xls/view)\n",
    "|numberbars\t| Number of bars, count\t| [www.yellowpages.com](www.yellowpages.com)\n",
    "|aqi2020\t| Annual 2020 air quality index (AQI) |\t[EPA](https://aqs.epa.gov/aqsweb/airdata/download_files.html#Annual)\n",
    "|gdp\t| Gross domestic product (billion $) |\t[BEA](https://apps.bea.gov/itable/iTable.cfm?ReqID=70&step=1&acrdn=5)\n",
    "|popul2019\t| 2019 population (in thousands of people)\t| [FBI](https://ucr.fbi.gov/crime-in-the-u.s/2019/crime-in-the-u.s.-2019/tables/table-8/table-8.xls/view)\n",
    "|nteams\t| Number of major professional sports teams\t| Google search\n"
   ]
  },
  {
   "cell_type": "markdown",
   "metadata": {},
   "source": [
    "**0. Data Setup (Ungraded)** The dataset is in Stata format (.dta) and was created for the purpose of this problem set only. It is available on bcourses and Datahub and is called **Villas-Boas_2025pset3.dta**.\n",
    "\n",
    "Read the data into R using\n",
    "`my_data <- read_dta(\"Villas-Boas_2025pset3.dta\")` \n",
    "and create a new variable, *gdpPc*, as the GDP per capita, defined as `(gdp)/(popul2019)`.\n",
    "\n",
    "Explore each of the variables, including their summary statistics, by using the function *summary()*"
   ]
  },
  {
   "cell_type": "code",
   "execution_count": 28,
   "metadata": {},
   "outputs": [],
   "source": [
    "# insert your code"
   ]
  },
  {
   "cell_type": "markdown",
   "metadata": {},
   "source": [
    "**1.** First, generate a variable called **goodAQI** that is equal to one for cities with aqi2020<=50, and equal to zero otherwise. Compute an estimate for the mean of the housing prices for the goodAQI group (**goodAQI=1**) in the data frame. Construct a 95% confidence interval for this mean. Give an interpretation of these results in a sentence. \n",
    "\n",
    "*Use `mean()`, `sd()`, `qt()`, and/or `qnorm()`, to get the necessary information to construct the CI (do not use any canned functions to calculate the confidence interval). Make sure to show all of your intermediate steps and calculations in your answer.*"
   ]
  },
  {
   "cell_type": "code",
   "execution_count": 29,
   "metadata": {},
   "outputs": [],
   "source": [
    "# insert your code"
   ]
  },
  {
   "cell_type": "markdown",
   "metadata": {},
   "source": [
    "➡️ Type your interpretation here."
   ]
  },
  {
   "cell_type": "markdown",
   "metadata": {},
   "source": [
    "**2.**\tNext we will compare housing across the two groups. Let $D$ be the difference in prices between the cities with good AQI (**goodAQI=1**) and not good AQI (**goodAQI=0**) groups. State an estimator $\\hat{D}$ for $D$ and use the estimator to compute an estimate of $D$. Compute a standard error for $\\hat{D}$. Derive a 90% confidence interval for $D$ and interpret it in one sentence. \n",
    "\n",
    "*Use `mean()`, `sd()`, `qt()`, and/or `qnorm()`, to get the necessary information to construct the CI (do not use any canned functions to calculate the confidence interval). Make sure to show all of your intermediate steps and calculations in your answer.*"
   ]
  },
  {
   "cell_type": "code",
   "execution_count": 30,
   "metadata": {},
   "outputs": [],
   "source": [
    "# insert your code"
   ]
  },
  {
   "cell_type": "markdown",
   "metadata": {},
   "source": [
    "➡️ Type your answer here."
   ]
  },
  {
   "cell_type": "markdown",
   "metadata": {},
   "source": [
    "**3.** Next, we will test whether the average housing price **pricesept2021** for the good AQI city group is statistically different at the 10% significance level ($\\alpha$ = 0.1) from average housing values in the not good AQI city group. That is, in terms of the hypotheses, test the null hypothesis that average housing prices are equal across these two groups against the alternative hypothesis that the average prices are not equal. Make sure to follow the 5 step-procedure for hypothesis testing, including interpreting your result in one sentence. \n",
    "\n",
    "\n",
    "*Use `mean()`, `sd()`, `qt()`, and/or `qnorm()`, to get the necessary information to conduct the hypothesis test (do not use any canned functions to conduct the hypothesis test). Make sure to show all of your intermediate steps and calculations in your answer.*"
   ]
  },
  {
   "cell_type": "markdown",
   "metadata": {},
   "source": [
    "**3.i: Step 1** State the null ($H_0$) and alternative ($H_A$) hypotheses."
   ]
  },
  {
   "cell_type": "markdown",
   "metadata": {},
   "source": [
    "➡️ Type your answer here."
   ]
  },
  {
   "cell_type": "markdown",
   "metadata": {},
   "source": [
    "**3.ii. Step 2:** Calculate the test statistic"
   ]
  },
  {
   "cell_type": "code",
   "execution_count": 31,
   "metadata": {},
   "outputs": [],
   "source": [
    "# insert your code"
   ]
  },
  {
   "cell_type": "markdown",
   "metadata": {},
   "source": [
    "➡️ Type your answer here."
   ]
  },
  {
   "cell_type": "markdown",
   "metadata": {},
   "source": [
    "**3.iii. Step 3:** Find the critical value"
   ]
  },
  {
   "cell_type": "code",
   "execution_count": 32,
   "metadata": {},
   "outputs": [],
   "source": [
    "# insert your code"
   ]
  },
  {
   "cell_type": "markdown",
   "metadata": {},
   "source": [
    "➡️ Type your answer here."
   ]
  },
  {
   "cell_type": "markdown",
   "metadata": {},
   "source": [
    "**3.iv. Step 4:** Define the rejection rule"
   ]
  },
  {
   "cell_type": "markdown",
   "metadata": {},
   "source": [
    "➡️ Type your answer here."
   ]
  },
  {
   "cell_type": "markdown",
   "metadata": {},
   "source": [
    "**3.v. Step 5:** Decide and interpret"
   ]
  },
  {
   "cell_type": "markdown",
   "metadata": {},
   "source": [
    "➡️ Type your answer here."
   ]
  },
  {
   "cell_type": "markdown",
   "metadata": {},
   "source": [
    "**4.**\tLet's now look at air quality in the data more closely. **The U.S. AQI is EPA’s index for reporting air quality**. Draw a histogram for **aqi2020** and add a vertical red line at the EPA standard for Spare the Air Day AQI = 100 and a green line at AQI = 50. (https://www.airnow.gov/aqi/aqi-basics/)"
   ]
  },
  {
   "cell_type": "markdown",
   "metadata": {},
   "source": [
    "For example, in the Bay Area, a Spare the Air Alert is called when air quality is forecast to be unhealthy, or above 100 in the AQI, in any one of the reporting zones. An alert may span over two days if air quality is expected to remain unhealthy for prolonged periods. If air quality is unhealthy in the Bay Area, it is almost always because of two kinds of air [pollutants](https://www.sparetheair.org/understanding-air-quality/air-pollutants-and-health-effects/whos-at-risk): [Ozone](https://www.sparetheair.org/understanding-air-quality/air-pollutants-and-health-effects/ozone) and [fine particulate matter, or PM2.5](https://www.sparetheair.org/understanding-air-quality/air-pollutants-and-health-effects/particulate-matter)."
   ]
  },
  {
   "cell_type": "markdown",
   "metadata": {},
   "source": [
    "_Hint: see the \"Lines\" section of Coding Bootcamp Part 4_"
   ]
  },
  {
   "cell_type": "code",
   "execution_count": 33,
   "metadata": {},
   "outputs": [],
   "source": [
    "# insert your code"
   ]
  },
  {
   "cell_type": "markdown",
   "metadata": {},
   "source": [
    "**5.**\t(a) Regress **pricesept2021** on a constant, **successteams, violentcrime2019, aqi2020, numberbars, gdpPc**. (b) Generate a series of the predicted values of price and plot those against the price data series: What do you see in terms of fit? "
   ]
  },
  {
   "cell_type": "code",
   "execution_count": 34,
   "metadata": {},
   "outputs": [],
   "source": [
    "# insert your code"
   ]
  },
  {
   "cell_type": "markdown",
   "metadata": {},
   "source": [
    "➡️ Type your answer here."
   ]
  },
  {
   "cell_type": "markdown",
   "metadata": {},
   "source": [
    "**6.**\tWhat is the percent variation of housing prices that the model is explaining, and what percent is the model **NOT** explaining?"
   ]
  },
  {
   "cell_type": "markdown",
   "metadata": {},
   "source": [
    "➡️ Type your answer here."
   ]
  },
  {
   "cell_type": "markdown",
   "metadata": {},
   "source": [
    "**7.**\tCompute the residuals series and plot the residuals on the vertical axis against **gdpPc** in the x axis, using `ggplot()`. When plotting, exclude the outlier city with gdpPc > 6, by setting the ggplot scale limits as follows: `lims(x = c(0, 6), y = c(-1000,1500))`. \n",
    "\n",
    "Is the constant variance assumption for the residuals valid or not for different levels of GDP per capita (*gdpPc*) when you look at the scatter plot of the estimated residuals? "
   ]
  },
  {
   "cell_type": "code",
   "execution_count": 35,
   "metadata": {},
   "outputs": [],
   "source": [
    "# insert your code"
   ]
  },
  {
   "cell_type": "markdown",
   "metadata": {},
   "source": [
    "➡️ Type your answer here."
   ]
  },
  {
   "cell_type": "markdown",
   "metadata": {},
   "source": [
    "**8.**\tUsing the triple Sign Size Significance (SSS), let’s interpret two of the coefficients from the model in Question 5. \n",
    "\n",
    "**(a)** What can you say of the effect of **aqi2020** on housing prices holding other factors constant? "
   ]
  },
  {
   "cell_type": "markdown",
   "metadata": {},
   "source": [
    "➡️ Type your answer here."
   ]
  },
  {
   "cell_type": "markdown",
   "metadata": {},
   "source": [
    "**(b)** What about the coefficient on **numberbars**? Use the (SSS) interpretation again."
   ]
  },
  {
   "cell_type": "markdown",
   "metadata": {},
   "source": [
    "➡️ Type your answer here."
   ]
  },
  {
   "cell_type": "markdown",
   "metadata": {},
   "source": [
    "**9.**\tEstimate the correlation between **gdpPc** and the air quality index **aqi2020** across cities. Consider this information along with the estimated coefficients in Question 5's regression. Without running any additional regressions, what will happen to the estimated coefficient of **aqi2020** if you do not include GDP per capita (**gdpPc**) in the estimated regression in question 5? Go through the Omitted Variable formula and explain briefly."
   ]
  },
  {
   "cell_type": "code",
   "execution_count": 36,
   "metadata": {},
   "outputs": [],
   "source": [
    "# insert your code"
   ]
  },
  {
   "cell_type": "markdown",
   "metadata": {},
   "source": [
    "➡️ Type your answer here."
   ]
  },
  {
   "cell_type": "markdown",
   "metadata": {},
   "source": [
    "**10.**\tNow estimate the model in Question 5 but do not include **gdppc**. What is the new estimate of the coefficient on **aqi2020**, and do you confirm your answer in Question 9? "
   ]
  },
  {
   "cell_type": "code",
   "execution_count": 37,
   "metadata": {},
   "outputs": [],
   "source": [
    "# insert your code"
   ]
  },
  {
   "cell_type": "markdown",
   "metadata": {},
   "source": [
    "➡️ Type your answer here."
   ]
  },
  {
   "cell_type": "markdown",
   "metadata": {},
   "source": [
    "**11.**\tWhat happens to the R squared ($R^2$) when you do not include the **gdppc** variable in the equation compared to the R squared in Question 5?"
   ]
  },
  {
   "cell_type": "code",
   "execution_count": 38,
   "metadata": {},
   "outputs": [],
   "source": [
    "# insert your code"
   ]
  },
  {
   "cell_type": "markdown",
   "metadata": {},
   "source": [
    "➡️ Type your answer here."
   ]
  },
  {
   "cell_type": "markdown",
   "metadata": {},
   "source": [
    "# Question 2: Insurance Takeup"
   ]
  },
  {
   "cell_type": "markdown",
   "metadata": {},
   "source": [
    "This question is adapted from the following paper (but you do not need to read the paper to complete the assignment):\n",
    "\n",
    "Cai, Jing, Alain De Janvry, and Elisabeth Sadoulet. \"Subsidy policies and insurance demand.\" American Economic Review 110.8 (2020): 2422-2453.\n",
    "\n",
    "The data for this exercise comes from households in 134 villages in the Jiangxi province, which is considered a representative sample of rice producers in Jiangxi. Households were asked whether the household head is literate and also whether they took up a weather insurance product in 2011.\n",
    "\n",
    "The product in this study is an area-yield index weather insurance that covers natural disasters, including heavy rains, floods, windstorms, extremely high or low temperatures, and droughts. If any of these disasters occur and leads to a 30 percent or more average loss in yield in a given area, farmers that take up insurance in that area are eligible to receive payouts from the insurance company. "
   ]
  },
  {
   "cell_type": "markdown",
   "metadata": {},
   "source": [
    " | | Percent choosing Insurance | Total number of respondents |\n",
    " |:--|:--:|:--:|\n",
    " | Overall | 52.85 % | 3474|\n",
    " | Literate | 53.03% | 2492 |\n",
    " | Not Literate|  49.95 % | 979 |\n",
    "\n",
    " where *literate* is a dummy variable equal to 1 if the household head is literate, and equal to 0 otherwise"
   ]
  },
  {
   "cell_type": "markdown",
   "metadata": {},
   "source": [
    " Let $p$ be the fraction of respondents that choose to take up the insurance product."
   ]
  },
  {
   "cell_type": "markdown",
   "metadata": {},
   "source": [
    "**1.**\tUse the survey results to estimate $p$. Also estimate the standard error of your estimate. \n",
    "\n",
    "*Use `mean()`, `sd()`, `qt()`, and/or `qnorm()` in your answer. (Do not use any canned functions to calculate the test statistic or standard error). Make sure to show all of your intermediate steps and calculations in your answer.*"
   ]
  },
  {
   "cell_type": "code",
   "execution_count": 47,
   "metadata": {},
   "outputs": [],
   "source": [
    "# insert your code"
   ]
  },
  {
   "cell_type": "markdown",
   "metadata": {},
   "source": [
    "➡️ Type your answer here."
   ]
  },
  {
   "cell_type": "markdown",
   "metadata": {},
   "source": [
    "**2.**\tConstruct a 95% confidence interval for $p$. Interpret your results in a complete sentence.\n",
    "\n",
    "*Use `mean()`, `sd()`, `qt()`, and/or `qnorm()`, to get the necessary information to construct the CI (do not use any canned functions to calculate the confidence interval). Make sure to show all of your intermediate steps and calculations in your answer.*"
   ]
  },
  {
   "cell_type": "code",
   "execution_count": 48,
   "metadata": {},
   "outputs": [],
   "source": [
    "# insert your code"
   ]
  },
  {
   "cell_type": "markdown",
   "metadata": {},
   "source": [
    "➡️ Type your answer here."
   ]
  },
  {
   "cell_type": "markdown",
   "metadata": {},
   "source": [
    "**3.**\tConstruct a 99% confidence interval for $p$. Is it larger or narrower than the 95% confidence interval? Why? Explain your reasoning in 1-2 sentences.\n",
    "\n",
    "*Use `mean()`, `sd()`, `qt()`, and/or `qnorm()`, to get the necessary information to construct the CI (do not use any canned functions to calculate the confidence interval). Make sure to show all of your intermediate steps and calculations in your answer.*"
   ]
  },
  {
   "cell_type": "code",
   "execution_count": 49,
   "metadata": {},
   "outputs": [],
   "source": [
    "# insert your code"
   ]
  },
  {
   "cell_type": "markdown",
   "metadata": {},
   "source": [
    "➡️ Type your answer here."
   ]
  },
  {
   "cell_type": "markdown",
   "metadata": {},
   "source": [
    "**4.**\tIs there statistical evidence that more than 50% of respondents chose the insurance product? Use the 5 steps for hypothesis testing with a 5% significance level. \n",
    "\n",
    "*Use `mean()`, `sd()`, `qt()`, and/or `qnorm()`, to conduct the hypothesis test (do not use any canned functions). Make sure to show all of your intermediate steps and calculations in your answer.*"
   ]
  },
  {
   "cell_type": "markdown",
   "metadata": {},
   "source": [
    "**4.i: Step 1** State the null () and alternative () hypotheses."
   ]
  },
  {
   "cell_type": "markdown",
   "metadata": {},
   "source": [
    "➡️ Type your answer here.\n"
   ]
  },
  {
   "cell_type": "markdown",
   "metadata": {},
   "source": [
    "**4.ii: Step 2:** Calculate the test statistic"
   ]
  },
  {
   "cell_type": "code",
   "execution_count": 50,
   "metadata": {},
   "outputs": [],
   "source": [
    "# insert your code"
   ]
  },
  {
   "cell_type": "markdown",
   "metadata": {},
   "source": [
    "➡️ Type your answer here.\n"
   ]
  },
  {
   "cell_type": "markdown",
   "metadata": {},
   "source": [
    "**4.iii: Step 3:** Find the critical value"
   ]
  },
  {
   "cell_type": "code",
   "execution_count": 51,
   "metadata": {},
   "outputs": [],
   "source": [
    "# insert your code"
   ]
  },
  {
   "cell_type": "markdown",
   "metadata": {},
   "source": [
    "➡️ Type your answer here.\n"
   ]
  },
  {
   "cell_type": "markdown",
   "metadata": {},
   "source": [
    "**4.iv: Step 4:** Define the rejection rule"
   ]
  },
  {
   "cell_type": "markdown",
   "metadata": {},
   "source": [
    "➡️ Type your answer here."
   ]
  },
  {
   "cell_type": "markdown",
   "metadata": {},
   "source": [
    "**4.v: Step 5:** Decide and Interpret"
   ]
  },
  {
   "cell_type": "markdown",
   "metadata": {},
   "source": [
    "➡️ Type your answer here."
   ]
  },
  {
   "cell_type": "markdown",
   "metadata": {},
   "source": [
    "**5.**\tIs there statistical evidence that choosing to take up the insurance product is more likely for respondents that are literate compared to respondents that are not,  at the 1% significance level? Explain. (To answer this question use the 5 steps for hypothesis testing). \n",
    "\n",
    "*Use `mean()`, `sd()`, `qt()`, and/or `qnorm()`, to conduct the hypothesis test (do not use any canned functions). Make sure to show all of your intermediate steps and calculations in your answer.*"
   ]
  },
  {
   "cell_type": "markdown",
   "metadata": {},
   "source": [
    "**5.i: Step 1:** Define the hypotheses"
   ]
  },
  {
   "cell_type": "markdown",
   "metadata": {},
   "source": [
    "➡️ Type your answer here."
   ]
  },
  {
   "cell_type": "markdown",
   "metadata": {},
   "source": [
    "**5.ii: Step 2:** Calculate the test statistic"
   ]
  },
  {
   "cell_type": "code",
   "execution_count": 52,
   "metadata": {},
   "outputs": [],
   "source": [
    "# insert your code"
   ]
  },
  {
   "cell_type": "markdown",
   "metadata": {},
   "source": [
    "➡️ Type your answer here."
   ]
  },
  {
   "cell_type": "markdown",
   "metadata": {},
   "source": [
    "**5.iii: Step 3: Find the critical value**"
   ]
  },
  {
   "cell_type": "code",
   "execution_count": 53,
   "metadata": {},
   "outputs": [],
   "source": [
    "# insert your code"
   ]
  },
  {
   "cell_type": "markdown",
   "metadata": {},
   "source": [
    "➡️ Type your answer here."
   ]
  },
  {
   "cell_type": "markdown",
   "metadata": {},
   "source": [
    "**5.iv: Step 4** Define the decision rule"
   ]
  },
  {
   "cell_type": "markdown",
   "metadata": {},
   "source": [
    "➡️ Type your answer here."
   ]
  },
  {
   "cell_type": "markdown",
   "metadata": {},
   "source": [
    "**5.v: Step 5:** Decide and interpret"
   ]
  },
  {
   "cell_type": "markdown",
   "metadata": {},
   "source": [
    "➡️ Type your answer here."
   ]
  },
  {
   "cell_type": "markdown",
   "metadata": {},
   "source": [
    "**Please remember to submit your Jupyter Notebook displaying all codes and output.**"
   ]
  },
  {
   "cell_type": "markdown",
   "metadata": {},
   "source": [
    "<span id=\"fn1\"> Link to the paper if interested: https://www.aeaweb.org/articles?id=10.1257/aer.20190661.</span>"
   ]
  }
 ],
 "metadata": {
  "kernelspec": {
   "display_name": "R",
   "language": "R",
   "name": "ir"
  },
  "language_info": {
   "codemirror_mode": "r",
   "file_extension": ".r",
   "mimetype": "text/x-r-source",
   "name": "R",
   "pygments_lexer": "r",
   "version": "4.4.2"
  }
 },
 "nbformat": 4,
 "nbformat_minor": 4
}
