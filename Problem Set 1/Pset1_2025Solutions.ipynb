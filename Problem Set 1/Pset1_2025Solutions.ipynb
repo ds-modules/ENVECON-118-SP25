{
 "cells": [
  {
   "cell_type": "markdown",
   "metadata": {},
   "source": [
    "# Spring 2025 ENVECON/IAS 118 - Introductory Applied Econometrics Problem Set 1\n",
    "## Due on Gradescope, Midnight February 7\n"
   ]
  },
  {
   "cell_type": "markdown",
   "metadata": {},
   "source": [
    "# Submission Instructions \n",
    "\n",
    "1. Complete the problem set using the template below. Make sure to save your work as you go! \n",
    "2. When you are done, export your submission as a PDF. Make sure that all of your code and your output (figures, calculations, etc) are included in your final submission to receive full credit (run all of your cells!).\n",
    "3. To export as a PDF, go to the file dropdown menu and select the ”Save and export notebook as” dropdown menu. In this menu make sure to select ”PDF”, \"Webpdf\" or \"PDF via Chrome\" (if that option appears instead). \n",
    "4. Upload your completed submission to Gradescope: https://www.gradescope.com/courses/927499.\n",
    "\n",
    "Note: You can also complete this problem set using R studio directly. If so, use R Markdown to create a PDF for your submission. Your submission must include all code and output in order to receive full credit.\n",
    "\n",
    "-----------------------------------------"
   ]
  },
  {
   "cell_type": "markdown",
   "metadata": {},
   "source": [
    "As you see in Figure 1, there appears to be some association between GDP per capita and fertilizer use in Agriculture."
   ]
  },
  {
   "cell_type": "markdown",
   "metadata": {},
   "source": [
    "<p style=\"text-align: center;\"> Figure 1. </p>\n",
    "<img src=\"ag_graph.png\" width=\"600\" />"
   ]
  },
  {
   "cell_type": "markdown",
   "metadata": {},
   "source": [
    "The data are from the World Bank development indicators (http://data.worldbank.org/data-catalog/world-development-indicators) for 2021, except for Eritrea and South Sudan. \n",
    "Fertilizer use is measured as the consumption of fertilizer on arable land (land used for cultivation or for pasture). It is measured in tons per hectare of arable land. GDP per capita is gross domestic product divided by midyear population, and is also measured in US $ \\$ $. \n",
    "Figure 1 above includes all 189 countries from the original dataset, for which we have GDP per capita and fertilizer use. \n",
    "\n",
    "We only include some (randomly) selected countries for the assignment. The values for selected countries can be found in the csv files \"countriesA_fertilizer.csv\" and \"countriesB_fertilizer.csv\". We will use both datasets. "
   ]
  },
  {
   "cell_type": "code",
   "execution_count": 22,
   "metadata": {},
   "outputs": [],
   "source": [
    "#get rid of scientific display of numbers\n",
    "options(scipen = 100, digits = 4)"
   ]
  },
  {
   "cell_type": "markdown",
   "metadata": {},
   "source": [
    "# Exercise 1. Relationship between GDP per capita and Fertilizer Use \n",
    "We will estimate a simple linear relationship  between Fertilizer use and per capita GDP on a subset of 5 countries."
   ]
  },
  {
   "cell_type": "markdown",
   "metadata": {},
   "source": [
    "(a) Use R to create a scatter plot of these observations. "
   ]
  },
  {
   "cell_type": "markdown",
   "metadata": {},
   "source": [
    "a-Step 1: Load the .csv file called countriesA_fertilizer.csv. (Hint: the `read.csv()` command will likely be helpful.)"
   ]
  },
  {
   "cell_type": "code",
   "execution_count": 23,
   "metadata": {},
   "outputs": [],
   "source": [
    "df<-read.csv(\"countriesA_fertilizer.csv\")"
   ]
  },
  {
   "cell_type": "markdown",
   "metadata": {},
   "source": [
    "a-Step 2: Look at the data. This dataset only has 5 rows so you can just call the entire dataset. In general you want to use the `head()` command so that R does not print the entire dataset which will take way too many pages."
   ]
  },
  {
   "cell_type": "code",
   "execution_count": 24,
   "metadata": {},
   "outputs": [
    {
     "data": {
      "text/html": [
       "<table class=\"dataframe\">\n",
       "<caption>A data.frame: 5 × 3</caption>\n",
       "<thead>\n",
       "\t<tr><th></th><th scope=col>countryname</th><th scope=col>gdp</th><th scope=col>fert</th></tr>\n",
       "\t<tr><th></th><th scope=col>&lt;chr&gt;</th><th scope=col>&lt;dbl&gt;</th><th scope=col>&lt;dbl&gt;</th></tr>\n",
       "</thead>\n",
       "<tbody>\n",
       "\t<tr><th scope=row>1</th><td>Australia  </td><td>60697.2</td><td> 82.620</td></tr>\n",
       "\t<tr><th scope=row>2</th><td>Czechia    </td><td>26822.5</td><td>148.624</td></tr>\n",
       "\t<tr><th scope=row>3</th><td>France     </td><td>43671.3</td><td>153.324</td></tr>\n",
       "\t<tr><th scope=row>4</th><td>Afghanistan</td><td>  355.8</td><td>  5.203</td></tr>\n",
       "\t<tr><th scope=row>5</th><td>Lao PDR    </td><td> 2535.6</td><td> 50.892</td></tr>\n",
       "</tbody>\n",
       "</table>\n"
      ],
      "text/latex": [
       "A data.frame: 5 × 3\n",
       "\\begin{tabular}{r|lll}\n",
       "  & countryname & gdp & fert\\\\\n",
       "  & <chr> & <dbl> & <dbl>\\\\\n",
       "\\hline\n",
       "\t1 & Australia   & 60697.2 &  82.620\\\\\n",
       "\t2 & Czechia     & 26822.5 & 148.624\\\\\n",
       "\t3 & France      & 43671.3 & 153.324\\\\\n",
       "\t4 & Afghanistan &   355.8 &   5.203\\\\\n",
       "\t5 & Lao PDR     &  2535.6 &  50.892\\\\\n",
       "\\end{tabular}\n"
      ],
      "text/markdown": [
       "\n",
       "A data.frame: 5 × 3\n",
       "\n",
       "| <!--/--> | countryname &lt;chr&gt; | gdp &lt;dbl&gt; | fert &lt;dbl&gt; |\n",
       "|---|---|---|---|\n",
       "| 1 | Australia   | 60697.2 |  82.620 |\n",
       "| 2 | Czechia     | 26822.5 | 148.624 |\n",
       "| 3 | France      | 43671.3 | 153.324 |\n",
       "| 4 | Afghanistan |   355.8 |   5.203 |\n",
       "| 5 | Lao PDR     |  2535.6 |  50.892 |\n",
       "\n"
      ],
      "text/plain": [
       "  countryname gdp     fert   \n",
       "1 Australia   60697.2  82.620\n",
       "2 Czechia     26822.5 148.624\n",
       "3 France      43671.3 153.324\n",
       "4 Afghanistan   355.8   5.203\n",
       "5 Lao PDR      2535.6  50.892"
      ]
     },
     "metadata": {},
     "output_type": "display_data"
    }
   ],
   "source": [
    "head(df)"
   ]
  },
  {
   "cell_type": "markdown",
   "metadata": {},
   "source": [
    "a-Step 3: Rename the variables to \"countryname\", \"gdp_pc\", and \"fert_use\". (Hint: the `colnames()` command may be useful. Also remember that to select multiple values (such as mulitple variable names, you can use R's vector notation `c()`. For example: `c(\"a\", \"b\", \"c\")`."
   ]
  },
  {
   "cell_type": "code",
   "execution_count": 25,
   "metadata": {},
   "outputs": [
    {
     "data": {
      "text/html": [
       "<table class=\"dataframe\">\n",
       "<caption>A data.frame: 5 × 3</caption>\n",
       "<thead>\n",
       "\t<tr><th></th><th scope=col>countryname</th><th scope=col>gdp_pc</th><th scope=col>fert_use</th></tr>\n",
       "\t<tr><th></th><th scope=col>&lt;chr&gt;</th><th scope=col>&lt;dbl&gt;</th><th scope=col>&lt;dbl&gt;</th></tr>\n",
       "</thead>\n",
       "<tbody>\n",
       "\t<tr><th scope=row>1</th><td>Australia  </td><td>60697.2</td><td> 82.620</td></tr>\n",
       "\t<tr><th scope=row>2</th><td>Czechia    </td><td>26822.5</td><td>148.624</td></tr>\n",
       "\t<tr><th scope=row>3</th><td>France     </td><td>43671.3</td><td>153.324</td></tr>\n",
       "\t<tr><th scope=row>4</th><td>Afghanistan</td><td>  355.8</td><td>  5.203</td></tr>\n",
       "\t<tr><th scope=row>5</th><td>Lao PDR    </td><td> 2535.6</td><td> 50.892</td></tr>\n",
       "</tbody>\n",
       "</table>\n"
      ],
      "text/latex": [
       "A data.frame: 5 × 3\n",
       "\\begin{tabular}{r|lll}\n",
       "  & countryname & gdp\\_pc & fert\\_use\\\\\n",
       "  & <chr> & <dbl> & <dbl>\\\\\n",
       "\\hline\n",
       "\t1 & Australia   & 60697.2 &  82.620\\\\\n",
       "\t2 & Czechia     & 26822.5 & 148.624\\\\\n",
       "\t3 & France      & 43671.3 & 153.324\\\\\n",
       "\t4 & Afghanistan &   355.8 &   5.203\\\\\n",
       "\t5 & Lao PDR     &  2535.6 &  50.892\\\\\n",
       "\\end{tabular}\n"
      ],
      "text/markdown": [
       "\n",
       "A data.frame: 5 × 3\n",
       "\n",
       "| <!--/--> | countryname &lt;chr&gt; | gdp_pc &lt;dbl&gt; | fert_use &lt;dbl&gt; |\n",
       "|---|---|---|---|\n",
       "| 1 | Australia   | 60697.2 |  82.620 |\n",
       "| 2 | Czechia     | 26822.5 | 148.624 |\n",
       "| 3 | France      | 43671.3 | 153.324 |\n",
       "| 4 | Afghanistan |   355.8 |   5.203 |\n",
       "| 5 | Lao PDR     |  2535.6 |  50.892 |\n",
       "\n"
      ],
      "text/plain": [
       "  countryname gdp_pc  fert_use\n",
       "1 Australia   60697.2  82.620 \n",
       "2 Czechia     26822.5 148.624 \n",
       "3 France      43671.3 153.324 \n",
       "4 Afghanistan   355.8   5.203 \n",
       "5 Lao PDR      2535.6  50.892 "
      ]
     },
     "metadata": {},
     "output_type": "display_data"
    }
   ],
   "source": [
    "colnames(df) <- c(\"countryname\",\"gdp_pc\",\"fert_use\")\n",
    "head(df)\n"
   ]
  },
  {
   "cell_type": "markdown",
   "metadata": {},
   "source": [
    "a-Step 4: Create a scatterplot of the data. Make sure to (1) label the axes and their\n",
    "units, and (2) title your graph. (Hint: the `plot()` command will likely come in handy. Use `help(plot)` or `?plot` to view the documentation for the function and how to include labels.)"
   ]
  },
  {
   "cell_type": "code",
   "execution_count": 26,
   "metadata": {},
   "outputs": [
    {
     "data": {
      "image/png": "[encoded data removed]",
      "text/plain": [
       "Plot with title “Scatter Plot - 5 countries”"
      ]
     },
     "metadata": {
      "image/png": {
       "height": 420,
       "width": 420
      }
     },
     "output_type": "display_data"
    }
   ],
   "source": [
    "plot(df$gdp_pc, df$fert_use, col = \"blue\",\n",
    "     main=\"Scatter Plot - 5 countries\",\n",
    "        xlab=\"GDP per capita in US$\",\n",
    "        ylab=\"Fertilizer use in tons per hectare of arable land\")\n"
   ]
  },
  {
   "cell_type": "markdown",
   "metadata": {},
   "source": [
    "b) Estimate the linear relationship between GDP per capita and Fertilizer consumption (\"F\") by OLS, showing all intermediate calculations.\n",
    "\n",
    "$$\\widehat{F} = \\hat{\\beta}_0 + \\hat{\\beta}_1GDPcap$$\n",
    "\n",
    "For this exercise,  **DO NOT** use the built-in R commands like `cov()` or `lm()`. Use basic mathematical commands (`+`, `-`, `*`, `\\`, `sum()`, `^`) to reproduce all the values from table and show all the steps."
   ]
  },
  {
   "cell_type": "markdown",
   "metadata": {},
   "source": [
    "b-Step 1: Create new data objects called  __mean_gdp_pc__ and __mean_fert_use__ equal to the mean of __gdp_pc__ and __fert_use__."
   ]
  },
  {
   "cell_type": "code",
   "execution_count": 27,
   "metadata": {},
   "outputs": [
    {
     "data": {
      "text/html": [
       "26816.49386008"
      ],
      "text/latex": [
       "26816.49386008"
      ],
      "text/markdown": [
       "26816.49386008"
      ],
      "text/plain": [
       "[1] 26816"
      ]
     },
     "metadata": {},
     "output_type": "display_data"
    },
    {
     "data": {
      "text/html": [
       "88.1324796474"
      ],
      "text/latex": [
       "88.1324796474"
      ],
      "text/markdown": [
       "88.1324796474"
      ],
      "text/plain": [
       "[1] 88.13"
      ]
     },
     "metadata": {},
     "output_type": "display_data"
    }
   ],
   "source": [
    "#if between () will display output\n",
    "(mean_gdp_pc<-mean(df$gdp_pc))\n",
    "#and\n",
    "(mean_fert_use<-mean(df$fert_use))\n",
    "#first is mean gdp_pc then mean fert_used\n"
   ]
  },
  {
   "cell_type": "markdown",
   "metadata": {},
   "source": [
    "b-Step 2: Calculate the covariance (only using the mathematical operations specified above) between gdp_pc and fert_use: $cov(gdp_{pc},fert_{use})$. \n",
    "\n",
    "- Do this by first creating two new columns of residuals: __resgdp__, a column that subtracts the __mean_gdp_pc__ from __gdp_pc__ and __resft__ that subtracts the __mean_fert_use__ from __fert_use__. \n",
    "- Next create a column __resgdpft__ which is equal to __resft__ multiplied by __resgdp__.\n",
    "- Finally, generate a value named `covarA` which is equal to the sum of __resgdpft__ divided by n-1.\n",
    "- Make sure to call `covarA` at the end so we can see it printed in the output.\n",
    "\n",
    "Hint: To add new columns to your dataset, you can either use mutate as in Small Assignment 1 or you can use the following syntax: \n",
    "`dataset_name$new_var_name <- formula for the new variable`. Another option is to use cbind (as explained here: https://www.statology.org/r-add-a-column-to-dataframe/)"
   ]
  },
  {
   "cell_type": "code",
   "execution_count": 28,
   "metadata": {},
   "outputs": [
    {
     "data": {
      "text/html": [
       "<table class=\"dataframe\">\n",
       "<caption>A data.frame: 5 × 6</caption>\n",
       "<thead>\n",
       "\t<tr><th></th><th scope=col>countryname</th><th scope=col>gdp_pc</th><th scope=col>fert_use</th><th scope=col>resgdp</th><th scope=col>resft</th><th scope=col>resgdpft</th></tr>\n",
       "\t<tr><th></th><th scope=col>&lt;chr&gt;</th><th scope=col>&lt;dbl&gt;</th><th scope=col>&lt;dbl&gt;</th><th scope=col>&lt;dbl&gt;</th><th scope=col>&lt;dbl&gt;</th><th scope=col>&lt;dbl&gt;</th></tr>\n",
       "</thead>\n",
       "<tbody>\n",
       "\t<tr><th scope=row>1</th><td>Australia  </td><td>60697.2</td><td> 82.620</td><td> 33880.75</td><td> -5.513</td><td>-186769.1</td></tr>\n",
       "\t<tr><th scope=row>2</th><td>Czechia    </td><td>26822.5</td><td>148.624</td><td>     6.02</td><td> 60.492</td><td>    364.2</td></tr>\n",
       "\t<tr><th scope=row>3</th><td>France     </td><td>43671.3</td><td>153.324</td><td> 16854.81</td><td> 65.191</td><td>1098784.8</td></tr>\n",
       "\t<tr><th scope=row>4</th><td>Afghanistan</td><td>  355.8</td><td>  5.203</td><td>-26460.72</td><td>-82.930</td><td>2194384.7</td></tr>\n",
       "\t<tr><th scope=row>5</th><td>Lao PDR    </td><td> 2535.6</td><td> 50.892</td><td>-24280.87</td><td>-37.241</td><td> 904233.0</td></tr>\n",
       "</tbody>\n",
       "</table>\n"
      ],
      "text/latex": [
       "A data.frame: 5 × 6\n",
       "\\begin{tabular}{r|llllll}\n",
       "  & countryname & gdp\\_pc & fert\\_use & resgdp & resft & resgdpft\\\\\n",
       "  & <chr> & <dbl> & <dbl> & <dbl> & <dbl> & <dbl>\\\\\n",
       "\\hline\n",
       "\t1 & Australia   & 60697.2 &  82.620 &  33880.75 &  -5.513 & -186769.1\\\\\n",
       "\t2 & Czechia     & 26822.5 & 148.624 &      6.02 &  60.492 &     364.2\\\\\n",
       "\t3 & France      & 43671.3 & 153.324 &  16854.81 &  65.191 & 1098784.8\\\\\n",
       "\t4 & Afghanistan &   355.8 &   5.203 & -26460.72 & -82.930 & 2194384.7\\\\\n",
       "\t5 & Lao PDR     &  2535.6 &  50.892 & -24280.87 & -37.241 &  904233.0\\\\\n",
       "\\end{tabular}\n"
      ],
      "text/markdown": [
       "\n",
       "A data.frame: 5 × 6\n",
       "\n",
       "| <!--/--> | countryname &lt;chr&gt; | gdp_pc &lt;dbl&gt; | fert_use &lt;dbl&gt; | resgdp &lt;dbl&gt; | resft &lt;dbl&gt; | resgdpft &lt;dbl&gt; |\n",
       "|---|---|---|---|---|---|---|\n",
       "| 1 | Australia   | 60697.2 |  82.620 |  33880.75 |  -5.513 | -186769.1 |\n",
       "| 2 | Czechia     | 26822.5 | 148.624 |      6.02 |  60.492 |     364.2 |\n",
       "| 3 | France      | 43671.3 | 153.324 |  16854.81 |  65.191 | 1098784.8 |\n",
       "| 4 | Afghanistan |   355.8 |   5.203 | -26460.72 | -82.930 | 2194384.7 |\n",
       "| 5 | Lao PDR     |  2535.6 |  50.892 | -24280.87 | -37.241 |  904233.0 |\n",
       "\n"
      ],
      "text/plain": [
       "  countryname gdp_pc  fert_use resgdp    resft   resgdpft \n",
       "1 Australia   60697.2  82.620   33880.75  -5.513 -186769.1\n",
       "2 Czechia     26822.5 148.624       6.02  60.492     364.2\n",
       "3 France      43671.3 153.324   16854.81  65.191 1098784.8\n",
       "4 Afghanistan   355.8   5.203  -26460.72 -82.930 2194384.7\n",
       "5 Lao PDR      2535.6  50.892  -24280.87 -37.241  904233.0"
      ]
     },
     "metadata": {},
     "output_type": "display_data"
    },
    {
     "data": {
      "text/html": [
       "1002749.41018292"
      ],
      "text/latex": [
       "1002749.41018292"
      ],
      "text/markdown": [
       "1002749.41018292"
      ],
      "text/plain": [
       "[1] 1002749"
      ]
     },
     "metadata": {},
     "output_type": "display_data"
    }
   ],
   "source": [
    "df$resgdp<-df$gdp_pc-mean_gdp_pc\n",
    "df$resft<-df$fert_use-mean_fert_use\n",
    "df$resgdpft<-df$resgdp*df$resft\n",
    "head(df)\n",
    "\n",
    "covarA<-sum(df$resgdpft)/(5-1)\n",
    "covarA"
   ]
  },
  {
   "cell_type": "markdown",
   "metadata": {},
   "source": [
    "b-Step 3: Calculate the variance. \n",
    "- First generate a column __sqresgdp__ equal to the square of __resgdp__. \n",
    "- Generate a value named `varA` which is equal to the sum of __sqresgdp__ divided by n-1. \n",
    "- Make sure to call `varA` at the end so we can see it printed in the output."
   ]
  },
  {
   "cell_type": "code",
   "execution_count": 29,
   "metadata": {},
   "outputs": [
    {
     "data": {
      "text/html": [
       "680430074.759989"
      ],
      "text/latex": [
       "680430074.759989"
      ],
      "text/markdown": [
       "680430074.759989"
      ],
      "text/plain": [
       "[1] 680430075"
      ]
     },
     "metadata": {},
     "output_type": "display_data"
    }
   ],
   "source": [
    "df$sqresgdp<-df$resgdp*df$resgdp\n",
    "varA<-sum(df$sqresgdp)/(5-1)\n",
    "varA\n"
   ]
  },
  {
   "cell_type": "markdown",
   "metadata": {},
   "source": [
    "b-Step 4: Using the quantities generated above, generate and print `beta_1hat` and `beta_0hat`, your estimates for $\\hat{\\beta}_0$ and $\\hat{\\beta}_1$."
   ]
  },
  {
   "cell_type": "code",
   "execution_count": 30,
   "metadata": {},
   "outputs": [
    {
     "data": {
      "text/html": [
       "0.00147369942537685"
      ],
      "text/latex": [
       "0.00147369942537685"
      ],
      "text/markdown": [
       "0.00147369942537685"
      ],
      "text/plain": [
       "[1] 0.001474"
      ]
     },
     "metadata": {},
     "output_type": "display_data"
    },
    {
     "data": {
      "text/html": [
       "48.6130280551783"
      ],
      "text/latex": [
       "48.6130280551783"
      ],
      "text/markdown": [
       "48.6130280551783"
      ],
      "text/plain": [
       "[1] 48.61"
      ]
     },
     "metadata": {},
     "output_type": "display_data"
    }
   ],
   "source": [
    "(beta_1hat<-covarA/varA)\n",
    "(beta_0hat<-mean_fert_use-beta_1hat*mean_gdp_pc)"
   ]
  },
  {
   "cell_type": "markdown",
   "metadata": {},
   "source": [
    "c) Interpret the value of the estimated parameters $\\hat{\\beta}_0$ and $\\hat{\\beta}_1$"
   ]
  },
  {
   "cell_type": "markdown",
   "metadata": {},
   "source": [
    "The predicted fertilizer use for a country with zero GDP_pc is 48.613 tons per hectare of arable land, holding all else constant. Increasing GDP_pc by 1 dollar increases predicted fertilizer use by 0.00147 tons per hectare of arable land, holding all else constant."
   ]
  },
  {
   "cell_type": "markdown",
   "metadata": {},
   "source": [
    "d) In your data frame, compute the fitted value and the residual (the difference between the actual and fitted value) for each observation. Use only basic mathematical commands (`+`, `-`, `*`, `\\`, `sum()`, `^`) to do this. Create a new column named \"fitted\" and another new column called \"residuals\". Call the head() of your dataset so we can see these new columns. Verify that the residuals sum to 0 (approximately)."
   ]
  },
  {
   "cell_type": "code",
   "execution_count": 31,
   "metadata": {},
   "outputs": [
    {
     "data": {
      "text/html": [
       "<table class=\"dataframe\">\n",
       "<caption>A data.frame: 5 × 3</caption>\n",
       "<thead>\n",
       "\t<tr><th></th><th scope=col>countryname</th><th scope=col>fitted</th><th scope=col>residuals</th></tr>\n",
       "\t<tr><th></th><th scope=col>&lt;chr&gt;</th><th scope=col>&lt;dbl&gt;</th><th scope=col>&lt;dbl&gt;</th></tr>\n",
       "</thead>\n",
       "<tbody>\n",
       "\t<tr><th scope=row>1</th><td>Australia  </td><td>138.06</td><td>-55.443</td></tr>\n",
       "\t<tr><th scope=row>2</th><td>Czechia    </td><td> 88.14</td><td> 60.483</td></tr>\n",
       "\t<tr><th scope=row>3</th><td>France     </td><td>112.97</td><td> 40.352</td></tr>\n",
       "\t<tr><th scope=row>4</th><td>Afghanistan</td><td> 49.14</td><td>-43.935</td></tr>\n",
       "\t<tr><th scope=row>5</th><td>Lao PDR    </td><td> 52.35</td><td> -1.458</td></tr>\n",
       "</tbody>\n",
       "</table>\n"
      ],
      "text/latex": [
       "A data.frame: 5 × 3\n",
       "\\begin{tabular}{r|lll}\n",
       "  & countryname & fitted & residuals\\\\\n",
       "  & <chr> & <dbl> & <dbl>\\\\\n",
       "\\hline\n",
       "\t1 & Australia   & 138.06 & -55.443\\\\\n",
       "\t2 & Czechia     &  88.14 &  60.483\\\\\n",
       "\t3 & France      & 112.97 &  40.352\\\\\n",
       "\t4 & Afghanistan &  49.14 & -43.935\\\\\n",
       "\t5 & Lao PDR     &  52.35 &  -1.458\\\\\n",
       "\\end{tabular}\n"
      ],
      "text/markdown": [
       "\n",
       "A data.frame: 5 × 3\n",
       "\n",
       "| <!--/--> | countryname &lt;chr&gt; | fitted &lt;dbl&gt; | residuals &lt;dbl&gt; |\n",
       "|---|---|---|---|\n",
       "| 1 | Australia   | 138.06 | -55.443 |\n",
       "| 2 | Czechia     |  88.14 |  60.483 |\n",
       "| 3 | France      | 112.97 |  40.352 |\n",
       "| 4 | Afghanistan |  49.14 | -43.935 |\n",
       "| 5 | Lao PDR     |  52.35 |  -1.458 |\n",
       "\n"
      ],
      "text/plain": [
       "  countryname fitted residuals\n",
       "1 Australia   138.06 -55.443  \n",
       "2 Czechia      88.14  60.483  \n",
       "3 France      112.97  40.352  \n",
       "4 Afghanistan  49.14 -43.935  \n",
       "5 Lao PDR      52.35  -1.458  "
      ]
     },
     "metadata": {},
     "output_type": "display_data"
    },
    {
     "data": {
      "text/html": [
       "0.000000000000028421709430404"
      ],
      "text/latex": [
       "0.000000000000028421709430404"
      ],
      "text/markdown": [
       "0.000000000000028421709430404"
      ],
      "text/plain": [
       "[1] 0.00000000000002842"
      ]
     },
     "metadata": {},
     "output_type": "display_data"
    }
   ],
   "source": [
    "df$fitted<-beta_0hat+beta_1hat*df$gdp_pc\n",
    "df$residuals<-df$fert_use-df$fitted\n",
    "head(df[c(\"countryname\",\"fitted\", \"residuals\")])\n",
    "sum(df$residuals)"
   ]
  },
  {
   "cell_type": "markdown",
   "metadata": {},
   "source": [
    "e) Now use the `lm()` command to run this regression automatically rather than manually as you did above and save the output as \"reg1\". \n",
    "\n",
    "Check that your estimates of $\\hat{\\beta_0}$ and $\\hat{\\beta_1}$ that you calculated manually above match the estimates using `lm()`. \n",
    "Call the `summary()` of reg1 so we can see the output."
   ]
  },
  {
   "cell_type": "code",
   "execution_count": 32,
   "metadata": {},
   "outputs": [
    {
     "data": {
      "text/plain": [
       "\n",
       "Call:\n",
       "lm(formula = fert_use ~ gdp_pc, data = df)\n",
       "\n",
       "Residuals:\n",
       "     1      2      3      4      5 \n",
       "-55.44  60.48  40.35 -43.93  -1.46 \n",
       "\n",
       "Coefficients:\n",
       "            Estimate Std. Error t value Pr(>|t|)\n",
       "(Intercept) 48.61303   39.90853    1.22     0.31\n",
       "gdp_pc       0.00147    0.00112    1.31     0.28\n",
       "\n",
       "Residual standard error: 58.6 on 3 degrees of freedom\n",
       "Multiple R-squared:  0.365,\tAdjusted R-squared:  0.153 \n",
       "F-statistic: 1.72 on 1 and 3 DF,  p-value: 0.281\n"
      ]
     },
     "metadata": {},
     "output_type": "display_data"
    }
   ],
   "source": [
    "reg1<-lm(fert_use~gdp_pc,df)\n",
    "summary(reg1)"
   ]
  },
  {
   "cell_type": "markdown",
   "metadata": {},
   "source": [
    "f) According to the estimated relationship, what is the predicted $\\widehat{F}$ for a country with a GDP per capita of \\$13,000?\n",
    "\n"
   ]
  },
  {
   "cell_type": "code",
   "execution_count": 33,
   "metadata": {},
   "outputs": [
    {
     "data": {
      "text/html": [
       "67.775028"
      ],
      "text/latex": [
       "67.775028"
      ],
      "text/markdown": [
       "67.775028"
      ],
      "text/plain": [
       "[1] 67.78"
      ]
     },
     "metadata": {},
     "output_type": "display_data"
    }
   ],
   "source": [
    "(hatF<-48.613028+0.001474*13000)\n"
   ]
  },
  {
   "cell_type": "markdown",
   "metadata": {},
   "source": [
    "$\\widehat{F}$ is 67.775028 "
   ]
  },
  {
   "cell_type": "markdown",
   "metadata": {},
   "source": [
    "g) How much of the variation in fertilizer use for the 5 selected countries is explained by their GDP per capita?\n",
    "\n",
    "Calculate the $R^2$ by calculating the sum of squared model residuals and the sum of squared total (variation of the dependent variable). Use only basic mathematical commands (`+`, `-`, `*`, `\\`, `sum()`, `^`) to do this. Then calculate $R^2$ and make sure to call the value so we can see it printed out."
   ]
  },
  {
   "cell_type": "code",
   "execution_count": 34,
   "metadata": {},
   "outputs": [
    {
     "data": {
      "text/html": [
       "0.364792036626055"
      ],
      "text/latex": [
       "0.364792036626055"
      ],
      "text/markdown": [
       "0.364792036626055"
      ],
      "text/plain": [
       "[1] 0.3648"
      ]
     },
     "metadata": {},
     "output_type": "display_data"
    }
   ],
   "source": [
    "SSR<-sum(df$residuals*df$residuals)\n",
    "SST<-sum(df$resft*df$resft)\n",
    "Rsquared<-1-(SSR/SST)\n",
    "\n",
    "Rsquared"
   ]
  },
  {
   "cell_type": "markdown",
   "metadata": {},
   "source": [
    " "
   ]
  },
  {
   "cell_type": "markdown",
   "metadata": {},
   "source": [
    "h) Repeat exercises (a) and (e) for the additional set of countries whose data is available in the file countriesB_fertilizer.csv.\n",
    "*Note:* We outline how you might fill out the code in separate cells. If needed, click on \"Insert\" in the menu to add additional cells below, or simply click \"b\" on your keyboard while not in edit mode to add a cell below. Click \"d\" twice while not in edit mode to delete a cell, or go to \"Edit\"->\"Delete Cells\"."
   ]
  },
  {
   "cell_type": "code",
   "execution_count": 35,
   "metadata": {},
   "outputs": [
    {
     "data": {
      "text/html": [
       "<table class=\"dataframe\">\n",
       "<caption>A data.frame: 6 × 3</caption>\n",
       "<thead>\n",
       "\t<tr><th></th><th scope=col>countryname</th><th scope=col>gdp_pc</th><th scope=col>fert_use</th></tr>\n",
       "\t<tr><th></th><th scope=col>&lt;chr&gt;</th><th scope=col>&lt;dbl&gt;</th><th scope=col>&lt;dbl&gt;</th></tr>\n",
       "</thead>\n",
       "<tbody>\n",
       "\t<tr><th scope=row>1</th><td>Switzerland     </td><td>93446.4</td><td>177.187</td></tr>\n",
       "\t<tr><th scope=row>2</th><td>Gabon           </td><td> 8635.8</td><td> 28.250</td></tr>\n",
       "\t<tr><th scope=row>3</th><td>Egypt, Arab Rep.</td><td> 3886.7</td><td>542.574</td></tr>\n",
       "\t<tr><th scope=row>4</th><td>Eritrea         </td><td>  566.7</td><td>  3.002</td></tr>\n",
       "\t<tr><th scope=row>5</th><td>Senegal         </td><td> 1630.7</td><td>  8.839</td></tr>\n",
       "\t<tr><th scope=row>6</th><td>Mozambique      </td><td>  504.0</td><td> 12.257</td></tr>\n",
       "</tbody>\n",
       "</table>\n"
      ],
      "text/latex": [
       "A data.frame: 6 × 3\n",
       "\\begin{tabular}{r|lll}\n",
       "  & countryname & gdp\\_pc & fert\\_use\\\\\n",
       "  & <chr> & <dbl> & <dbl>\\\\\n",
       "\\hline\n",
       "\t1 & Switzerland      & 93446.4 & 177.187\\\\\n",
       "\t2 & Gabon            &  8635.8 &  28.250\\\\\n",
       "\t3 & Egypt, Arab Rep. &  3886.7 & 542.574\\\\\n",
       "\t4 & Eritrea          &   566.7 &   3.002\\\\\n",
       "\t5 & Senegal          &  1630.7 &   8.839\\\\\n",
       "\t6 & Mozambique       &   504.0 &  12.257\\\\\n",
       "\\end{tabular}\n"
      ],
      "text/markdown": [
       "\n",
       "A data.frame: 6 × 3\n",
       "\n",
       "| <!--/--> | countryname &lt;chr&gt; | gdp_pc &lt;dbl&gt; | fert_use &lt;dbl&gt; |\n",
       "|---|---|---|---|\n",
       "| 1 | Switzerland      | 93446.4 | 177.187 |\n",
       "| 2 | Gabon            |  8635.8 |  28.250 |\n",
       "| 3 | Egypt, Arab Rep. |  3886.7 | 542.574 |\n",
       "| 4 | Eritrea          |   566.7 |   3.002 |\n",
       "| 5 | Senegal          |  1630.7 |   8.839 |\n",
       "| 6 | Mozambique       |   504.0 |  12.257 |\n",
       "\n"
      ],
      "text/plain": [
       "  countryname      gdp_pc  fert_use\n",
       "1 Switzerland      93446.4 177.187 \n",
       "2 Gabon             8635.8  28.250 \n",
       "3 Egypt, Arab Rep.  3886.7 542.574 \n",
       "4 Eritrea            566.7   3.002 \n",
       "5 Senegal           1630.7   8.839 \n",
       "6 Mozambique         504.0  12.257 "
      ]
     },
     "metadata": {},
     "output_type": "display_data"
    },
    {
     "data": {
      "image/png": "[encoded data removed]",
      "text/plain": [
       "Plot with title “Scatter Plot - More countries”"
      ]
     },
     "metadata": {
      "image/png": {
       "height": 420,
       "width": 420
      }
     },
     "output_type": "display_data"
    }
   ],
   "source": [
    "# (a) Steps 1-4 - do not print the whole sample when using the head() command\n",
    "dfB<-read.csv(\"countriesB_fertilizer.csv\")\n",
    "\n",
    "colnames(dfB) <- c(\"countryname\",\"gdp_pc\",\"fert_use\")\n",
    "head(dfB)\n",
    "\n",
    "plot(dfB$gdp_pc, dfB$fert_use, col = \"blue\",\n",
    "     main=\"Scatter Plot - More countries\",\n",
    "        xlab=\"GDP per capita in US$\",\n",
    "        ylab=\"Fertilizer use in tons per hectare of arable land\")\n"
   ]
  },
  {
   "cell_type": "code",
   "execution_count": 36,
   "metadata": {},
   "outputs": [
    {
     "data": {
      "text/plain": [
       "\n",
       "Call:\n",
       "lm(formula = fert_use ~ gdp_pc, data = dfB)\n",
       "\n",
       "Residuals:\n",
       "   Min     1Q Median     3Q    Max \n",
       "-102.6  -82.5  -49.1   50.0  438.8 \n",
       "\n",
       "Coefficients:\n",
       "             Estimate Std. Error t value Pr(>|t|)    \n",
       "(Intercept) 96.911889  20.074604    4.83 0.000019 ***\n",
       "gdp_pc       0.001774   0.000838    2.12     0.04 *  \n",
       "---\n",
       "Signif. codes:  0 ‘***’ 0.001 ‘**’ 0.01 ‘*’ 0.05 ‘.’ 0.1 ‘ ’ 1\n",
       "\n",
       "Residual standard error: 120 on 42 degrees of freedom\n",
       "Multiple R-squared:  0.0964,\tAdjusted R-squared:  0.0748 \n",
       "F-statistic: 4.48 on 1 and 42 DF,  p-value: 0.0403\n"
      ]
     },
     "metadata": {},
     "output_type": "display_data"
    }
   ],
   "source": [
    "# (e) use the lm()\n",
    "reg2<-lm(fert_use~gdp_pc,dfB)\n",
    "summary(reg2)"
   ]
  },
  {
   "cell_type": "markdown",
   "metadata": {},
   "source": [
    "i) How do your estimates of $\\hat{\\beta}_0$ and $\\hat{\\beta}_1$ change between the two sets of countries? Discuss and briefly explain this variation in 2-3 sentences."
   ]
  },
  {
   "cell_type": "markdown",
   "metadata": {},
   "source": [
    "Our estimated $\\hat{\\beta}_1$ is pretty stable between dataset 1 (where we estimated $\\hat{\\beta}_1 = 0.00147$) and dataset 2 (where we estimated $\\hat{\\beta}_1= 0.00177$), potentially reflecting the fact that the relationship between GDP per capita and fertilizer use is relatively stable across countries. However, our estimated $\\hat{\\beta}_0$ changes significantly from sample to sample, ranging from $\\hat{\\beta}_0 = 48.61303$ in dataset 1 to $\\hat{\\beta}_0 = 96.911889$ in dataset 2, reflecting the fact that the average fertilizer use differs significantly from sample to sample."
   ]
  },
  {
   "cell_type": "markdown",
   "metadata": {},
   "source": [
    " # Exercise 2. Functional Forms\n",
    " Suppose you estimate an alternative specification given below for sample B countries, where log() refers to the natural log, ln().\n",
    "\n",
    " "
   ]
  },
  {
   "attachments": {},
   "cell_type": "markdown",
   "metadata": {},
   "source": [
    "\r\n",
    "$$\\widehat{F} = \\hat{\\alpha}_0 + \\hat{\\alpha}_1 log(GDPcap)$$\n",
    "\n",
    "Let $$ \\hat{\\alpha}_0=-315.6$$ and $$\\hat{\\alpha}_1 = 52.3 .$$\n",
    "a. Please give at least one reason discussed in lecture/section why we might log GDPcap in our regression model?\r\n"
   ]
  },
  {
   "cell_type": "markdown",
   "metadata": {},
   "source": [
    "If the relationship between y and x is non-linear. In particular, a level-log model is useful when the underlying relationship between x and y follows a logarithmic relationship."
   ]
  },
  {
   "cell_type": "markdown",
   "metadata": {},
   "source": [
    "b. What is the predicted quantity of fertilizer used for a country with a GDP per capita of 10,00 US$?"
   ]
  },
  {
   "cell_type": "code",
   "execution_count": 37,
   "metadata": {},
   "outputs": [
    {
     "data": {
      "text/plain": [
       "\n",
       "Call:\n",
       "lm(formula = fert_use ~ logG, data = dfB)\n",
       "\n",
       "Residuals:\n",
       "   Min     1Q Median     3Q    Max \n",
       "-130.1  -61.5  -25.7   20.3  425.9 \n",
       "\n",
       "Coefficients:\n",
       "            Estimate Std. Error t value Pr(>|t|)    \n",
       "(Intercept)   -315.6      102.3   -3.09  0.00358 ** \n",
       "logG            52.3       12.3    4.26  0.00011 ***\n",
       "---\n",
       "Signif. codes:  0 ‘***’ 0.001 ‘**’ 0.01 ‘*’ 0.05 ‘.’ 0.1 ‘ ’ 1\n",
       "\n",
       "Residual standard error: 106 on 42 degrees of freedom\n",
       "Multiple R-squared:  0.302,\tAdjusted R-squared:  0.286 \n",
       "F-statistic: 18.2 on 1 and 42 DF,  p-value: 0.000111\n"
      ]
     },
     "metadata": {},
     "output_type": "display_data"
    },
    {
     "data": {
      "text/html": [
       "166.700801454354"
      ],
      "text/latex": [
       "166.700801454354"
      ],
      "text/markdown": [
       "166.700801454354"
      ],
      "text/plain": [
       "[1] 166.7"
      ]
     },
     "metadata": {},
     "output_type": "display_data"
    }
   ],
   "source": [
    "\n",
    "#(optional) for question 2\n",
    "\n",
    "dfB$logG<-log(dfB$gdp_pc)\n",
    "reg3<-lm(fert_use~logG,dfB)\n",
    "summary(reg3)\n",
    "\n",
    "#predict\n",
    "-315+52.3*log(10000)\n"
   ]
  },
  {
   "cell_type": "markdown",
   "metadata": {},
   "source": [
    "The predicted fertilizer use for a country with a GDP per capita of 10,000US$ is 166.7 tons per hectare of arable land, holding all else constant"
   ]
  },
  {
   "cell_type": "markdown",
   "metadata": {},
   "source": [
    "c. How would you interpret the marginal effect of GDPcap on Fertilizer use based on your estimated model ($\\hat{\\alpha}_1 = 52.3$), being careful to take the functional form of your model into account?\n",
    "\n",
    "_Hint: Look at Section 1_"
   ]
  },
  {
   "cell_type": "markdown",
   "metadata": {},
   "source": [
    "Since this is a logarithmic model (Level-Log), our estimated model indicates that a 1 **percent** increase in GDP per capita is associated with a $52.3/100 = 0.523$ **tons** increase in fertilizer use per hectare of arable land."
   ]
  },
  {
   "cell_type": "code",
   "execution_count": null,
   "metadata": {},
   "outputs": [],
   "source": []
  }
 ],
 "metadata": {
  "kernelspec": {
   "display_name": "R",
   "language": "R",
   "name": "ir"
  },
  "language_info": {
   "codemirror_mode": "r",
   "file_extension": ".r",
   "mimetype": "text/x-r-source",
   "name": "R",
   "pygments_lexer": "r",
   "version": "4.4.2"
  }
 },
 "nbformat": 4,
 "nbformat_minor": 4
}
