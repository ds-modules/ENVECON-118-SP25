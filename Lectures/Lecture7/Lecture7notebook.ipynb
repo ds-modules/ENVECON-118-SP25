{
 "cells": [
  {
   "attachments": {},
   "cell_type": "markdown",
   "id": "e4024979-78e9-410d-8bdc-1b115c650c76",
   "metadata": {},
   "source": [
    "# Lecture 7- Spring 2025\n",
    "## Villas-Boas\n",
    "\n",
    "## Lecture 7 EEP 118 Spring 2025\n",
    "\n",
    "4. Omitted Variable Bias (contin of Lecture 6)\n",
    "\n",
    "Lecture 7\n",
    "\n",
    "5. Statistical Properties of Estimator  betahat\n",
    "\n",
    "   \n",
    "    5.a. MLR1 to MLR4\n",
    "\n",
    "   \n",
    "\tMLR1\n",
    "\n",
    "\tMLR2\n",
    "\n",
    "\tMLR3\n",
    "\n",
    "\tMLR4\n",
    "\n",
    "    5.b. Multicollinearity \n",
    "\n",
    "     Statistical Property MLR5 -----> variance of betahat\n",
    "\n",
    "6. Goodness of Fit\n",
    "\n",
    "\n",
    "\n",
    "Study 3.3, 3.4, 3.6\n",
    "\n",
    "Posted DA 7 – an exercise with MIT election lab data – does the variation in republican to democrat  2012 election results predict the 2016 republican to democrat election results across US counties\n",
    "Problem set 2  posted"
   ]
  },
  {
   "cell_type": "code",
   "execution_count": 1,
   "id": "c2d55630-5544-43f0-89bf-fc0b25d2cc4b",
   "metadata": {},
   "outputs": [],
   "source": [
    "\n",
    "#set scientific display off, thank you Roy\n",
    "options(scipen=999)\n"
   ]
  },
  {
   "cell_type": "code",
   "execution_count": 2,
   "id": "8f0e936d-b8ad-4208-af68-7bac4180d875",
   "metadata": {},
   "outputs": [
    {
     "name": "stderr",
     "output_type": "stream",
     "text": [
      "── \u001b[1mAttaching core tidyverse packages\u001b[22m ──────────────────────── tidyverse 2.0.0 ──\n",
      "\u001b[32m✔\u001b[39m \u001b[34mdplyr    \u001b[39m 1.1.4     \u001b[32m✔\u001b[39m \u001b[34mreadr    \u001b[39m 2.1.5\n",
      "\u001b[32m✔\u001b[39m \u001b[34mforcats  \u001b[39m 1.0.0     \u001b[32m✔\u001b[39m \u001b[34mstringr  \u001b[39m 1.5.1\n",
      "\u001b[32m✔\u001b[39m \u001b[34mlubridate\u001b[39m 1.9.4     \u001b[32m✔\u001b[39m \u001b[34mtibble   \u001b[39m 3.2.1\n",
      "\u001b[32m✔\u001b[39m \u001b[34mpurrr    \u001b[39m 1.0.2     \u001b[32m✔\u001b[39m \u001b[34mtidyr    \u001b[39m 1.3.1\n",
      "── \u001b[1mConflicts\u001b[22m ────────────────────────────────────────── tidyverse_conflicts() ──\n",
      "\u001b[31m✖\u001b[39m \u001b[34mdplyr\u001b[39m::\u001b[32mfilter()\u001b[39m masks \u001b[34mstats\u001b[39m::filter()\n",
      "\u001b[31m✖\u001b[39m \u001b[34mdplyr\u001b[39m::\u001b[32mlag()\u001b[39m    masks \u001b[34mstats\u001b[39m::lag()\n",
      "\u001b[36mℹ\u001b[39m Use the conflicted package (\u001b[3m\u001b[34m<http://conflicted.r-lib.org/>\u001b[39m\u001b[23m) to force all conflicts to become errors\n"
     ]
    }
   ],
   "source": [
    "library(haven)\n",
    "library(ggplot2)\n",
    "library(tidyverse)\n",
    "# haven for loading in dta files\n",
    "# tidyverse for manipulating data and producing plots"
   ]
  },
  {
   "cell_type": "code",
   "execution_count": 3,
   "id": "374492e7-7ae3-461c-a19e-db22081b78cc",
   "metadata": {},
   "outputs": [
    {
     "data": {
      "text/html": [
       "<table class=\"dataframe\">\n",
       "<caption>A tibble: 6 × 21</caption>\n",
       "<thead>\n",
       "\t<tr><th scope=col>wage</th><th scope=col>educ</th><th scope=col>exper</th><th scope=col>tenure</th><th scope=col>nonwhite</th><th scope=col>female</th><th scope=col>married</th><th scope=col>numdep</th><th scope=col>smsa</th><th scope=col>northcen</th><th scope=col>⋯</th><th scope=col>west</th><th scope=col>construc</th><th scope=col>ndurman</th><th scope=col>trcommpu</th><th scope=col>trade</th><th scope=col>services</th><th scope=col>profserv</th><th scope=col>profocc</th><th scope=col>clerocc</th><th scope=col>servocc</th></tr>\n",
       "\t<tr><th scope=col>&lt;dbl&gt;</th><th scope=col>&lt;dbl&gt;</th><th scope=col>&lt;dbl&gt;</th><th scope=col>&lt;dbl&gt;</th><th scope=col>&lt;dbl&gt;</th><th scope=col>&lt;dbl&gt;</th><th scope=col>&lt;dbl&gt;</th><th scope=col>&lt;dbl&gt;</th><th scope=col>&lt;dbl&gt;</th><th scope=col>&lt;dbl&gt;</th><th scope=col>⋯</th><th scope=col>&lt;dbl&gt;</th><th scope=col>&lt;dbl&gt;</th><th scope=col>&lt;dbl&gt;</th><th scope=col>&lt;dbl&gt;</th><th scope=col>&lt;dbl&gt;</th><th scope=col>&lt;dbl&gt;</th><th scope=col>&lt;dbl&gt;</th><th scope=col>&lt;dbl&gt;</th><th scope=col>&lt;dbl&gt;</th><th scope=col>&lt;dbl&gt;</th></tr>\n",
       "</thead>\n",
       "<tbody>\n",
       "\t<tr><td>3.75</td><td>2</td><td>39</td><td>13</td><td>0</td><td>0</td><td>1</td><td>0</td><td>1</td><td>0</td><td>⋯</td><td>0</td><td>0</td><td>0</td><td>0</td><td>0</td><td>0</td><td>1</td><td>0</td><td>0</td><td>1</td></tr>\n",
       "\t<tr><td>2.92</td><td>3</td><td>51</td><td>30</td><td>1</td><td>0</td><td>0</td><td>0</td><td>1</td><td>0</td><td>⋯</td><td>0</td><td>0</td><td>0</td><td>0</td><td>0</td><td>1</td><td>0</td><td>0</td><td>0</td><td>1</td></tr>\n",
       "\t<tr><td>3.51</td><td>4</td><td>39</td><td>15</td><td>0</td><td>0</td><td>1</td><td>5</td><td>1</td><td>0</td><td>⋯</td><td>1</td><td>0</td><td>0</td><td>0</td><td>1</td><td>0</td><td>0</td><td>0</td><td>0</td><td>0</td></tr>\n",
       "\t<tr><td>3.00</td><td>4</td><td>48</td><td> 0</td><td>1</td><td>0</td><td>1</td><td>0</td><td>0</td><td>0</td><td>⋯</td><td>0</td><td>0</td><td>1</td><td>0</td><td>0</td><td>0</td><td>0</td><td>0</td><td>0</td><td>0</td></tr>\n",
       "\t<tr><td>3.00</td><td>4</td><td>36</td><td> 0</td><td>0</td><td>0</td><td>1</td><td>1</td><td>0</td><td>0</td><td>⋯</td><td>0</td><td>1</td><td>0</td><td>0</td><td>0</td><td>0</td><td>0</td><td>0</td><td>0</td><td>0</td></tr>\n",
       "\t<tr><td>5.20</td><td>6</td><td>47</td><td>13</td><td>1</td><td>0</td><td>1</td><td>0</td><td>1</td><td>0</td><td>⋯</td><td>0</td><td>1</td><td>0</td><td>0</td><td>0</td><td>0</td><td>0</td><td>0</td><td>0</td><td>0</td></tr>\n",
       "</tbody>\n",
       "</table>\n"
      ],
      "text/latex": [
       "A tibble: 6 × 21\n",
       "\\begin{tabular}{lllllllllllllllllllll}\n",
       " wage & educ & exper & tenure & nonwhite & female & married & numdep & smsa & northcen & ⋯ & west & construc & ndurman & trcommpu & trade & services & profserv & profocc & clerocc & servocc\\\\\n",
       " <dbl> & <dbl> & <dbl> & <dbl> & <dbl> & <dbl> & <dbl> & <dbl> & <dbl> & <dbl> & ⋯ & <dbl> & <dbl> & <dbl> & <dbl> & <dbl> & <dbl> & <dbl> & <dbl> & <dbl> & <dbl>\\\\\n",
       "\\hline\n",
       "\t 3.75 & 2 & 39 & 13 & 0 & 0 & 1 & 0 & 1 & 0 & ⋯ & 0 & 0 & 0 & 0 & 0 & 0 & 1 & 0 & 0 & 1\\\\\n",
       "\t 2.92 & 3 & 51 & 30 & 1 & 0 & 0 & 0 & 1 & 0 & ⋯ & 0 & 0 & 0 & 0 & 0 & 1 & 0 & 0 & 0 & 1\\\\\n",
       "\t 3.51 & 4 & 39 & 15 & 0 & 0 & 1 & 5 & 1 & 0 & ⋯ & 1 & 0 & 0 & 0 & 1 & 0 & 0 & 0 & 0 & 0\\\\\n",
       "\t 3.00 & 4 & 48 &  0 & 1 & 0 & 1 & 0 & 0 & 0 & ⋯ & 0 & 0 & 1 & 0 & 0 & 0 & 0 & 0 & 0 & 0\\\\\n",
       "\t 3.00 & 4 & 36 &  0 & 0 & 0 & 1 & 1 & 0 & 0 & ⋯ & 0 & 1 & 0 & 0 & 0 & 0 & 0 & 0 & 0 & 0\\\\\n",
       "\t 5.20 & 6 & 47 & 13 & 1 & 0 & 1 & 0 & 1 & 0 & ⋯ & 0 & 1 & 0 & 0 & 0 & 0 & 0 & 0 & 0 & 0\\\\\n",
       "\\end{tabular}\n"
      ],
      "text/markdown": [
       "\n",
       "A tibble: 6 × 21\n",
       "\n",
       "| wage &lt;dbl&gt; | educ &lt;dbl&gt; | exper &lt;dbl&gt; | tenure &lt;dbl&gt; | nonwhite &lt;dbl&gt; | female &lt;dbl&gt; | married &lt;dbl&gt; | numdep &lt;dbl&gt; | smsa &lt;dbl&gt; | northcen &lt;dbl&gt; | ⋯ ⋯ | west &lt;dbl&gt; | construc &lt;dbl&gt; | ndurman &lt;dbl&gt; | trcommpu &lt;dbl&gt; | trade &lt;dbl&gt; | services &lt;dbl&gt; | profserv &lt;dbl&gt; | profocc &lt;dbl&gt; | clerocc &lt;dbl&gt; | servocc &lt;dbl&gt; |\n",
       "|---|---|---|---|---|---|---|---|---|---|---|---|---|---|---|---|---|---|---|---|---|\n",
       "| 3.75 | 2 | 39 | 13 | 0 | 0 | 1 | 0 | 1 | 0 | ⋯ | 0 | 0 | 0 | 0 | 0 | 0 | 1 | 0 | 0 | 1 |\n",
       "| 2.92 | 3 | 51 | 30 | 1 | 0 | 0 | 0 | 1 | 0 | ⋯ | 0 | 0 | 0 | 0 | 0 | 1 | 0 | 0 | 0 | 1 |\n",
       "| 3.51 | 4 | 39 | 15 | 0 | 0 | 1 | 5 | 1 | 0 | ⋯ | 1 | 0 | 0 | 0 | 1 | 0 | 0 | 0 | 0 | 0 |\n",
       "| 3.00 | 4 | 48 |  0 | 1 | 0 | 1 | 0 | 0 | 0 | ⋯ | 0 | 0 | 1 | 0 | 0 | 0 | 0 | 0 | 0 | 0 |\n",
       "| 3.00 | 4 | 36 |  0 | 0 | 0 | 1 | 1 | 0 | 0 | ⋯ | 0 | 1 | 0 | 0 | 0 | 0 | 0 | 0 | 0 | 0 |\n",
       "| 5.20 | 6 | 47 | 13 | 1 | 0 | 1 | 0 | 1 | 0 | ⋯ | 0 | 1 | 0 | 0 | 0 | 0 | 0 | 0 | 0 | 0 |\n",
       "\n"
      ],
      "text/plain": [
       "  wage educ exper tenure nonwhite female married numdep smsa northcen ⋯ west\n",
       "1 3.75 2    39    13     0        0      1       0      1    0        ⋯ 0   \n",
       "2 2.92 3    51    30     1        0      0       0      1    0        ⋯ 0   \n",
       "3 3.51 4    39    15     0        0      1       5      1    0        ⋯ 1   \n",
       "4 3.00 4    48     0     1        0      1       0      0    0        ⋯ 0   \n",
       "5 3.00 4    36     0     0        0      1       1      0    0        ⋯ 0   \n",
       "6 5.20 6    47    13     1        0      1       0      1    0        ⋯ 0   \n",
       "  construc ndurman trcommpu trade services profserv profocc clerocc servocc\n",
       "1 0        0       0        0     0        1        0       0       1      \n",
       "2 0        0       0        0     1        0        0       0       1      \n",
       "3 0        0       0        1     0        0        0       0       0      \n",
       "4 0        1       0        0     0        0        0       0       0      \n",
       "5 1        0       0        0     0        0        0       0       0      \n",
       "6 1        0       0        0     0        0        0       0       0      "
      ]
     },
     "metadata": {},
     "output_type": "display_data"
    },
    {
     "data": {
      "text/html": [
       "<table class=\"dataframe\">\n",
       "<caption>A tibble: 1 × 1</caption>\n",
       "<thead>\n",
       "\t<tr><th scope=col>n</th></tr>\n",
       "\t<tr><th scope=col>&lt;int&gt;</th></tr>\n",
       "</thead>\n",
       "<tbody>\n",
       "\t<tr><td>526</td></tr>\n",
       "</tbody>\n",
       "</table>\n"
      ],
      "text/latex": [
       "A tibble: 1 × 1\n",
       "\\begin{tabular}{l}\n",
       " n\\\\\n",
       " <int>\\\\\n",
       "\\hline\n",
       "\t 526\\\\\n",
       "\\end{tabular}\n"
      ],
      "text/markdown": [
       "\n",
       "A tibble: 1 × 1\n",
       "\n",
       "| n &lt;int&gt; |\n",
       "|---|\n",
       "| 526 |\n",
       "\n"
      ],
      "text/plain": [
       "  n  \n",
       "1 526"
      ]
     },
     "metadata": {},
     "output_type": "display_data"
    }
   ],
   "source": [
    "#-------------------------------------------\n",
    "#1. Read in data\n",
    "#-------------------------------------------\n",
    "my_data <- read_dta(\"Lecture6.dta\")\n",
    "head(my_data)\n",
    "\n",
    "#number of observations\n",
    "count(my_data)"
   ]
  },
  {
   "attachments": {},
   "cell_type": "markdown",
   "id": "20198614-635d-407a-88c3-72d0bd742caf",
   "metadata": {},
   "source": [
    "### The Sample\n",
    "Data for 526 respondents in the 2006 Population Survey of the US."
   ]
  },
  {
   "cell_type": "markdown",
   "id": "68524419-ce38-4dbd-b16d-231a9997098e",
   "metadata": {},
   "source": [
    "#### Sometimes there are missing values, below is how we don't use them, if we so wish"
   ]
  },
  {
   "cell_type": "code",
   "execution_count": 4,
   "id": "e39a5231-1121-4df0-b30c-b71f7a16e2d3",
   "metadata": {},
   "outputs": [
    {
     "data": {
      "text/html": [
       "<table class=\"dataframe\">\n",
       "<caption>A tibble: 1 × 1</caption>\n",
       "<thead>\n",
       "\t<tr><th scope=col>n</th></tr>\n",
       "\t<tr><th scope=col>&lt;int&gt;</th></tr>\n",
       "</thead>\n",
       "<tbody>\n",
       "\t<tr><td>526</td></tr>\n",
       "</tbody>\n",
       "</table>\n"
      ],
      "text/latex": [
       "A tibble: 1 × 1\n",
       "\\begin{tabular}{l}\n",
       " n\\\\\n",
       " <int>\\\\\n",
       "\\hline\n",
       "\t 526\\\\\n",
       "\\end{tabular}\n"
      ],
      "text/markdown": [
       "\n",
       "A tibble: 1 × 1\n",
       "\n",
       "| n &lt;int&gt; |\n",
       "|---|\n",
       "| 526 |\n",
       "\n"
      ],
      "text/plain": [
       "  n  \n",
       "1 526"
      ]
     },
     "metadata": {},
     "output_type": "display_data"
    }
   ],
   "source": [
    "#use non-missing values only from now on\n",
    "my_data2<-my_data[complete.cases(my_data),]\n",
    "\n",
    "my_data3 <- my_data2[my_data2$wage !=Inf,] \n",
    "#or \n",
    "#my_data3 <-my_data2[my_data2$wage!=NA]\n",
    "\n",
    "count(my_data3)\n"
   ]
  },
  {
   "cell_type": "markdown",
   "id": "fe0871ed-93d7-42b2-8c90-7475aecb79a7",
   "metadata": {},
   "source": [
    "#### Now we use my_data3 but there were no missing data since the N is still 526, so we could still use the original my_data dataframe"
   ]
  },
  {
   "cell_type": "markdown",
   "id": "541c80bd-4f11-459f-90ff-f3fa7c33e34f",
   "metadata": {},
   "source": [
    "## First create log of wage because that is what we will use in the model\n"
   ]
  },
  {
   "cell_type": "code",
   "execution_count": 5,
   "id": "ac3705c4-8e1e-4b0a-b50e-b349abf6c378",
   "metadata": {},
   "outputs": [
    {
     "data": {
      "text/html": [
       "<table class=\"dataframe\">\n",
       "<caption>A tibble: 6 × 22</caption>\n",
       "<thead>\n",
       "\t<tr><th scope=col>wage</th><th scope=col>educ</th><th scope=col>exper</th><th scope=col>tenure</th><th scope=col>nonwhite</th><th scope=col>female</th><th scope=col>married</th><th scope=col>numdep</th><th scope=col>smsa</th><th scope=col>northcen</th><th scope=col>⋯</th><th scope=col>construc</th><th scope=col>ndurman</th><th scope=col>trcommpu</th><th scope=col>trade</th><th scope=col>services</th><th scope=col>profserv</th><th scope=col>profocc</th><th scope=col>clerocc</th><th scope=col>servocc</th><th scope=col>lwage</th></tr>\n",
       "\t<tr><th scope=col>&lt;dbl&gt;</th><th scope=col>&lt;dbl&gt;</th><th scope=col>&lt;dbl&gt;</th><th scope=col>&lt;dbl&gt;</th><th scope=col>&lt;dbl&gt;</th><th scope=col>&lt;dbl&gt;</th><th scope=col>&lt;dbl&gt;</th><th scope=col>&lt;dbl&gt;</th><th scope=col>&lt;dbl&gt;</th><th scope=col>&lt;dbl&gt;</th><th scope=col>⋯</th><th scope=col>&lt;dbl&gt;</th><th scope=col>&lt;dbl&gt;</th><th scope=col>&lt;dbl&gt;</th><th scope=col>&lt;dbl&gt;</th><th scope=col>&lt;dbl&gt;</th><th scope=col>&lt;dbl&gt;</th><th scope=col>&lt;dbl&gt;</th><th scope=col>&lt;dbl&gt;</th><th scope=col>&lt;dbl&gt;</th><th scope=col>&lt;dbl&gt;</th></tr>\n",
       "</thead>\n",
       "<tbody>\n",
       "\t<tr><td>3.75</td><td>2</td><td>39</td><td>13</td><td>0</td><td>0</td><td>1</td><td>0</td><td>1</td><td>0</td><td>⋯</td><td>0</td><td>0</td><td>0</td><td>0</td><td>0</td><td>1</td><td>0</td><td>0</td><td>1</td><td>1.321756</td></tr>\n",
       "\t<tr><td>2.92</td><td>3</td><td>51</td><td>30</td><td>1</td><td>0</td><td>0</td><td>0</td><td>1</td><td>0</td><td>⋯</td><td>0</td><td>0</td><td>0</td><td>0</td><td>1</td><td>0</td><td>0</td><td>0</td><td>1</td><td>1.071584</td></tr>\n",
       "\t<tr><td>3.51</td><td>4</td><td>39</td><td>15</td><td>0</td><td>0</td><td>1</td><td>5</td><td>1</td><td>0</td><td>⋯</td><td>0</td><td>0</td><td>0</td><td>1</td><td>0</td><td>0</td><td>0</td><td>0</td><td>0</td><td>1.255616</td></tr>\n",
       "\t<tr><td>3.00</td><td>4</td><td>48</td><td> 0</td><td>1</td><td>0</td><td>1</td><td>0</td><td>0</td><td>0</td><td>⋯</td><td>0</td><td>1</td><td>0</td><td>0</td><td>0</td><td>0</td><td>0</td><td>0</td><td>0</td><td>1.098612</td></tr>\n",
       "\t<tr><td>3.00</td><td>4</td><td>36</td><td> 0</td><td>0</td><td>0</td><td>1</td><td>1</td><td>0</td><td>0</td><td>⋯</td><td>1</td><td>0</td><td>0</td><td>0</td><td>0</td><td>0</td><td>0</td><td>0</td><td>0</td><td>1.098612</td></tr>\n",
       "\t<tr><td>5.20</td><td>6</td><td>47</td><td>13</td><td>1</td><td>0</td><td>1</td><td>0</td><td>1</td><td>0</td><td>⋯</td><td>1</td><td>0</td><td>0</td><td>0</td><td>0</td><td>0</td><td>0</td><td>0</td><td>0</td><td>1.648659</td></tr>\n",
       "</tbody>\n",
       "</table>\n"
      ],
      "text/latex": [
       "A tibble: 6 × 22\n",
       "\\begin{tabular}{lllllllllllllllllllll}\n",
       " wage & educ & exper & tenure & nonwhite & female & married & numdep & smsa & northcen & ⋯ & construc & ndurman & trcommpu & trade & services & profserv & profocc & clerocc & servocc & lwage\\\\\n",
       " <dbl> & <dbl> & <dbl> & <dbl> & <dbl> & <dbl> & <dbl> & <dbl> & <dbl> & <dbl> & ⋯ & <dbl> & <dbl> & <dbl> & <dbl> & <dbl> & <dbl> & <dbl> & <dbl> & <dbl> & <dbl>\\\\\n",
       "\\hline\n",
       "\t 3.75 & 2 & 39 & 13 & 0 & 0 & 1 & 0 & 1 & 0 & ⋯ & 0 & 0 & 0 & 0 & 0 & 1 & 0 & 0 & 1 & 1.321756\\\\\n",
       "\t 2.92 & 3 & 51 & 30 & 1 & 0 & 0 & 0 & 1 & 0 & ⋯ & 0 & 0 & 0 & 0 & 1 & 0 & 0 & 0 & 1 & 1.071584\\\\\n",
       "\t 3.51 & 4 & 39 & 15 & 0 & 0 & 1 & 5 & 1 & 0 & ⋯ & 0 & 0 & 0 & 1 & 0 & 0 & 0 & 0 & 0 & 1.255616\\\\\n",
       "\t 3.00 & 4 & 48 &  0 & 1 & 0 & 1 & 0 & 0 & 0 & ⋯ & 0 & 1 & 0 & 0 & 0 & 0 & 0 & 0 & 0 & 1.098612\\\\\n",
       "\t 3.00 & 4 & 36 &  0 & 0 & 0 & 1 & 1 & 0 & 0 & ⋯ & 1 & 0 & 0 & 0 & 0 & 0 & 0 & 0 & 0 & 1.098612\\\\\n",
       "\t 5.20 & 6 & 47 & 13 & 1 & 0 & 1 & 0 & 1 & 0 & ⋯ & 1 & 0 & 0 & 0 & 0 & 0 & 0 & 0 & 0 & 1.648659\\\\\n",
       "\\end{tabular}\n"
      ],
      "text/markdown": [
       "\n",
       "A tibble: 6 × 22\n",
       "\n",
       "| wage &lt;dbl&gt; | educ &lt;dbl&gt; | exper &lt;dbl&gt; | tenure &lt;dbl&gt; | nonwhite &lt;dbl&gt; | female &lt;dbl&gt; | married &lt;dbl&gt; | numdep &lt;dbl&gt; | smsa &lt;dbl&gt; | northcen &lt;dbl&gt; | ⋯ ⋯ | construc &lt;dbl&gt; | ndurman &lt;dbl&gt; | trcommpu &lt;dbl&gt; | trade &lt;dbl&gt; | services &lt;dbl&gt; | profserv &lt;dbl&gt; | profocc &lt;dbl&gt; | clerocc &lt;dbl&gt; | servocc &lt;dbl&gt; | lwage &lt;dbl&gt; |\n",
       "|---|---|---|---|---|---|---|---|---|---|---|---|---|---|---|---|---|---|---|---|---|\n",
       "| 3.75 | 2 | 39 | 13 | 0 | 0 | 1 | 0 | 1 | 0 | ⋯ | 0 | 0 | 0 | 0 | 0 | 1 | 0 | 0 | 1 | 1.321756 |\n",
       "| 2.92 | 3 | 51 | 30 | 1 | 0 | 0 | 0 | 1 | 0 | ⋯ | 0 | 0 | 0 | 0 | 1 | 0 | 0 | 0 | 1 | 1.071584 |\n",
       "| 3.51 | 4 | 39 | 15 | 0 | 0 | 1 | 5 | 1 | 0 | ⋯ | 0 | 0 | 0 | 1 | 0 | 0 | 0 | 0 | 0 | 1.255616 |\n",
       "| 3.00 | 4 | 48 |  0 | 1 | 0 | 1 | 0 | 0 | 0 | ⋯ | 0 | 1 | 0 | 0 | 0 | 0 | 0 | 0 | 0 | 1.098612 |\n",
       "| 3.00 | 4 | 36 |  0 | 0 | 0 | 1 | 1 | 0 | 0 | ⋯ | 1 | 0 | 0 | 0 | 0 | 0 | 0 | 0 | 0 | 1.098612 |\n",
       "| 5.20 | 6 | 47 | 13 | 1 | 0 | 1 | 0 | 1 | 0 | ⋯ | 1 | 0 | 0 | 0 | 0 | 0 | 0 | 0 | 0 | 1.648659 |\n",
       "\n"
      ],
      "text/plain": [
       "  wage educ exper tenure nonwhite female married numdep smsa northcen ⋯\n",
       "1 3.75 2    39    13     0        0      1       0      1    0        ⋯\n",
       "2 2.92 3    51    30     1        0      0       0      1    0        ⋯\n",
       "3 3.51 4    39    15     0        0      1       5      1    0        ⋯\n",
       "4 3.00 4    48     0     1        0      1       0      0    0        ⋯\n",
       "5 3.00 4    36     0     0        0      1       1      0    0        ⋯\n",
       "6 5.20 6    47    13     1        0      1       0      1    0        ⋯\n",
       "  construc ndurman trcommpu trade services profserv profocc clerocc servocc\n",
       "1 0        0       0        0     0        1        0       0       1      \n",
       "2 0        0       0        0     1        0        0       0       1      \n",
       "3 0        0       0        1     0        0        0       0       0      \n",
       "4 0        1       0        0     0        0        0       0       0      \n",
       "5 1        0       0        0     0        0        0       0       0      \n",
       "6 1        0       0        0     0        0        0       0       0      \n",
       "  lwage   \n",
       "1 1.321756\n",
       "2 1.071584\n",
       "3 1.255616\n",
       "4 1.098612\n",
       "5 1.098612\n",
       "6 1.648659"
      ]
     },
     "metadata": {},
     "output_type": "display_data"
    }
   ],
   "source": [
    "my_data3$lwage<-log(my_data3$wage)\n",
    "head(my_data3)"
   ]
  },
  {
   "attachments": {},
   "cell_type": "markdown",
   "id": "29f472ff-dc22-4356-b3ed-65751f094d1d",
   "metadata": {},
   "source": [
    "## Population Model - The fully specified one, and a misspecified one\n"
   ]
  },
  {
   "attachments": {},
   "cell_type": "markdown",
   "id": "9587a0da-a807-4f63-8b2b-c54d32c227b4",
   "metadata": {},
   "source": [
    "Let the model (the full model) be\n",
    "\n",
    "$log wage=\\  \\beta_0 + \\beta_1  \\ educ + \\beta_2 \\ exper + \\beta_3 \\ female + \\beta_4 \\ profocc + \\ 𝑢 $,\n",
    "\n",
    "\n",
    "where $\\beta_4$ is the true marginal effect of profocc on y  given education, experience, and gender (variable female).\n",
    "\n",
    "\n",
    "\n",
    "If we did not have data on profocc and estimated the misspecified model  (model misspecified)\n",
    "\n",
    "$log wage=\\  \\tilde{\\beta_0} + \\tilde{\\beta_2} \\ exper + \\tilde{\\beta_3} \\ female +  \\tilde{\\beta_4} \\ profocc +\\ \\tilde{𝑢} $\n",
    "\n",
    "\n",
    "would the estimator for the coeffient on profocc be affected?  \n",
    "\n",
    "Would we have a bias problem?\n",
    "\n",
    "In other words, would $\\tilde{\\beta_4}$ differ from $\\beta_4$?\n",
    "\n",
    "That is, do we need to worry about Omitted variable Bias (OVB) ?\n",
    "\n",
    "\n"
   ]
  },
  {
   "cell_type": "markdown",
   "id": "b3aa315d-a825-423e-90a4-5b4d1bd043fd",
   "metadata": {},
   "source": [
    "## Regression of log wage on education, experience, female, and prof occupation"
   ]
  },
  {
   "cell_type": "code",
   "execution_count": 6,
   "id": "2a2eb499-4319-4d02-b838-f9258c7700cc",
   "metadata": {},
   "outputs": [
    {
     "data": {
      "text/plain": [
       "\n",
       "Call:\n",
       "lm(formula = lwage ~ educ + exper + female + profocc, data = my_data3)\n",
       "\n",
       "Residuals:\n",
       "     Min       1Q   Median       3Q      Max \n",
       "-1.85394 -0.26575 -0.01309  0.24596  1.16141 \n",
       "\n",
       "Coefficients:\n",
       "             Estimate Std. Error t value             Pr(>|t|)    \n",
       "(Intercept)  0.675273   0.108883   6.202 0.000000001137540371 ***\n",
       "educ         0.069516   0.008085   8.598 < 0.0000000000000002 ***\n",
       "exper        0.008174   0.001433   5.704 0.000000019625865590 ***\n",
       "female      -0.314925   0.037140  -8.479 0.000000000000000234 ***\n",
       "profocc      0.235639   0.044760   5.265 0.000000205828739360 ***\n",
       "---\n",
       "Signif. codes:  0 ‘***’ 0.001 ‘**’ 0.01 ‘*’ 0.05 ‘.’ 0.1 ‘ ’ 1\n",
       "\n",
       "Residual standard error: 0.4184 on 521 degrees of freedom\n",
       "Multiple R-squared:  0.3853,\tAdjusted R-squared:  0.3805 \n",
       "F-statistic: 81.63 on 4 and 521 DF,  p-value: < 0.00000000000000022\n"
      ]
     },
     "metadata": {},
     "output_type": "display_data"
    }
   ],
   "source": [
    "\n",
    "#regression model with x1 and white percentage in the county using my_data3\n",
    "\n",
    "regfull<-lm(lwage ~ educ + exper+female+profocc, my_data3)\n",
    "summary(regfull)"
   ]
  },
  {
   "cell_type": "markdown",
   "id": "3326eb9f-0c14-46d5-9868-3a34461082b9",
   "metadata": {},
   "source": [
    "## Regression without educ"
   ]
  },
  {
   "cell_type": "code",
   "execution_count": 7,
   "id": "20d94da3-6191-415d-959a-cf8f38ed15fe",
   "metadata": {},
   "outputs": [
    {
     "data": {
      "text/plain": [
       "\n",
       "Call:\n",
       "lm(formula = lwage ~ exper + female + profocc, data = my_data3)\n",
       "\n",
       "Residuals:\n",
       "     Min       1Q   Median       3Q      Max \n",
       "-1.87793 -0.27228 -0.01541  0.26675  1.37875 \n",
       "\n",
       "Coefficients:\n",
       "             Estimate Std. Error t value             Pr(>|t|)    \n",
       "(Intercept)  1.549905   0.041438  37.403 < 0.0000000000000002 ***\n",
       "exper        0.003959   0.001438   2.754              0.00609 ** \n",
       "female      -0.318734   0.039646  -8.039  0.00000000000000608 ***\n",
       "profocc      0.432488   0.041059  10.533 < 0.0000000000000002 ***\n",
       "---\n",
       "Signif. codes:  0 ‘***’ 0.001 ‘**’ 0.01 ‘*’ 0.05 ‘.’ 0.1 ‘ ’ 1\n",
       "\n",
       "Residual standard error: 0.4466 on 522 degrees of freedom\n",
       "Multiple R-squared:  0.298,\tAdjusted R-squared:  0.294 \n",
       "F-statistic: 73.88 on 3 and 522 DF,  p-value: < 0.00000000000000022\n"
      ]
     },
     "metadata": {},
     "output_type": "display_data"
    }
   ],
   "source": [
    "#regression no profocc as control\n",
    "regmiss<-lm(lwage ~ exper+female+profocc, my_data3)\n",
    "summary(regmiss)\n"
   ]
  },
  {
   "cell_type": "markdown",
   "id": "39ec82d0-f5b5-4b05-82c3-e7394ba84077",
   "metadata": {},
   "source": [
    "### What do you see when educ is omitted from the model? what happens to the estimate of the coefficient of profocc?\n"
   ]
  },
  {
   "cell_type": "markdown",
   "id": "3a890afa-2a61-46f6-8072-73ac2a70a6dd",
   "metadata": {},
   "source": [
    "The R squared drops from  Multiple R-squared:  0.3853 to Multiple R-squared:  0.298.\n",
    "\n",
    "AND\n",
    "\n",
    "The estimated coefficient of `profocc' changes:\n",
    "\n",
    "from 0.235639 in the full model to 0.432488 in the misspecified model, when we omit education from the model.\n",
    "\n",
    "Why does it change like that? Let's go through the OVB formula and then look at this case\n"
   ]
  },
  {
   "cell_type": "markdown",
   "id": "2452726b-0899-4913-9326-9a560b162572",
   "metadata": {},
   "source": [
    "<img src=\"omitEduc.png\" width=\"600\" />"
   ]
  },
  {
   "attachments": {},
   "cell_type": "markdown",
   "id": "f0003ad6-bcfc-4d51-9cf5-34c6de2d29f6",
   "metadata": {},
   "source": [
    "We omitted a relevant variable  experience that is correlated with the other independent variables in the model exper and profocc, and that is also correlated with the outcome, the dependent variable, lwage.\n",
    "\n",
    "Lets see the correlations:\n",
    "\n",
    "First lets see the correlation int he sample between profocc and education... \n",
    "\n",
    "What do you think?\n",
    "\n",
    "We suspect it is positive, as a lawyer (an example of a profocc) has more years of education than a non profocc respondent in the survey.\n",
    "\n"
   ]
  },
  {
   "cell_type": "code",
   "execution_count": 9,
   "id": "ccb337d0-ac9c-4bbc-9629-3b868a4f184c",
   "metadata": {},
   "outputs": [
    {
     "data": {
      "text/html": [
       "0.496768098738464"
      ],
      "text/latex": [
       "0.496768098738464"
      ],
      "text/markdown": [
       "0.496768098738464"
      ],
      "text/plain": [
       "[1] 0.4967681"
      ]
     },
     "metadata": {},
     "output_type": "display_data"
    }
   ],
   "source": [
    "cor(my_data3$educ,my_data3$profocc)"
   ]
  },
  {
   "cell_type": "markdown",
   "id": "9f4542b8-0807-47ff-9bef-99976f27e857",
   "metadata": {},
   "source": [
    "It is indeed positive and equal to 0.497."
   ]
  },
  {
   "cell_type": "markdown",
   "id": "4a87de09-2cf8-46b3-9fdc-82021b7bc320",
   "metadata": {},
   "source": [
    "What about the correlation between lwage and educ?\n",
    "\n",
    "Does it make sense to you from your experience and from education research and theory models?"
   ]
  },
  {
   "cell_type": "code",
   "execution_count": null,
   "id": "9923a811-b4a1-4c40-ae6f-a48a6e802e89",
   "metadata": {},
   "outputs": [],
   "source": []
  },
  {
   "cell_type": "markdown",
   "id": "a033e10d-6863-46f9-bc7b-68ca7f99aa45",
   "metadata": {},
   "source": [
    "### Remember therefore that we are omitting educ that is positively correlated with profocc (the variable for which we are explaining the change in coefficient estimate)  and that educ is positively correlated with lwage (the outcome)"
   ]
  },
  {
   "cell_type": "markdown",
   "id": "c9370351-0bf6-4990-a2a1-eb2120ce344c",
   "metadata": {},
   "source": [
    "# Omitted variable Bias (OVB)"
   ]
  },
  {
   "cell_type": "markdown",
   "id": "29928d50-674b-4911-a2ec-3340cdd9fd7e",
   "metadata": {},
   "source": [
    "<img src=\"omitEduc.png\" width=\"600\" />"
   ]
  },
  {
   "cell_type": "markdown",
   "id": "6c5d31a6-0d4a-4007-bf3b-10223e720904",
   "metadata": {},
   "source": [
    "The coefficient of the Full model, 0.236 means,  that controlling for education (and gender and experience) prof occ respondents earn 23.6 % wages above the others.\n",
    "\n",
    "If we neglect to include education, comparing workers with prof occ to those not (proff occ=0), the difference in log wage between the two groups is 0.432.\n",
    "\n",
    "The coefficient of the Misspecified model, 0.432 means,  that controlling for education (and gender and experience) prof occ respondents earn 43.2%  wages above the others.\n",
    "\n",
    "If we don't control for education, then education is in $\\tilde{u}$ of the misspecified model.\n",
    "And if any of the variables of the mispecified model are related to education we would have a problem and would have a bias.\n",
    "\n",
    "In particular, if profocc is correlated with educ (which is in $\\tilde{u}$ using the notation of the start of the notebook and also below), then we would violate Assumption 4 that nothing in the residual is related to any of the independent (right-hand-side) variables in the model. \n",
    "\n",
    "The estimate of the misspecified model for $\\tilde{\\beta_4} is biased and so \n",
    "0.432 includes both the profocc and the educ effect, because those with profocc are also more educated.\n",
    "\n",
    "\n",
    "\n",
    "WE WILL SHOW THAT Since corr(profocc,educ)=0.4968 >0 and beta hat of educ also is positive, then ignoring education will bias the beta hat of profocc upwards! \n",
    "\n",
    "We over estimate the effect of profocc on wages if we omit education…. LETs GO !\n"
   ]
  },
  {
   "cell_type": "markdown",
   "id": "924e6a89-843e-4fa0-bb31-7f31ce387ed1",
   "metadata": {},
   "source": [
    "### General Issue- why do we add variables to a regression? \n",
    "\n",
    "To improve the estimation (R squared) \n",
    "\n",
    "and\n",
    "\n",
    " to control for that added variable. \n",
    "\n",
    "When controlling for an additional variable, do we affect the estimated parameters? \n",
    "\n",
    "Maybe\n",
    "\n",
    "\n"
   ]
  },
  {
   "cell_type": "markdown",
   "id": "03fb9fb4-2001-48ec-87ac-9adf3b8bc043",
   "metadata": {},
   "source": [
    "### Using now  general notation, $y, x_1,$ and $x_2$\n",
    "\n",
    "Let the model (the full model) be\n",
    "\n",
    "$y=\\  \\beta_0 + \\beta_1  \\ x_1+ \\beta_2 \\ x_2 + \\ 𝑢  \\ \\ \\ $  (equation A),\n",
    "\n",
    "\n",
    "where $\\beta_1$ is the true marginal effect of $x_1$ on y  given $x_2$.\n",
    "\n",
    "\n",
    "\n",
    "If we did not have data on $x_2$ and estimated the misspecified model  (model misspecified)\n",
    "\n",
    "$y=\\  \\tilde{\\beta_0} + \\tilde{\\beta_1} x_1  +\\ \\tilde{𝑢} $\n",
    "\n",
    "\n"
   ]
  },
  {
   "cell_type": "markdown",
   "id": "a49c6536-4892-422f-aee6-5781c3a7458f",
   "metadata": {},
   "source": [
    "### Suppose the $x_1$ and $x_2$ are related in the population with the following linear model\n",
    "\n",
    "If we did not have data on $x_2$ and estimated the misspecified model  (model misspecified)\n",
    "\n",
    "$x_2=\\  a + \\rho x_1  +\\ v \\ \\ \\ $   (equation B)\n",
    "\n"
   ]
  },
  {
   "cell_type": "markdown",
   "id": "0c406549-ff76-45ed-b0bc-7a24d902120b",
   "metadata": {},
   "source": [
    "### substituting (equation B) from above into the full model (equation A)\n",
    "\n",
    "$y=\\  \\beta_0 + \\beta_1  \\ x_1+ \\beta_2 \\ x_2 + \\ 𝑢 $,\n",
    "\n",
    "we get\n",
    "\n",
    "$y=\\  \\beta_0 + \\beta_1  \\ x_1+ \\beta_2 \\ ( \\  a + \\rho x_1  +\\ v \\ ) + \\ 𝑢 $,"
   ]
  },
  {
   "cell_type": "markdown",
   "id": "9b08f64c-5a2e-4a41-a3aa-78671fae572b",
   "metadata": {},
   "source": [
    "### Rearranging to get all things multiplying $x_1$ together, we get the last equation in the following image"
   ]
  },
  {
   "cell_type": "markdown",
   "id": "bf3fd5ca-0d56-42e0-8a9b-1b53b51e4096",
   "metadata": {},
   "source": [
    "<img src=\"general.png\" width=\"600\" />"
   ]
  },
  {
   "cell_type": "markdown",
   "id": "3215ac36-5dab-483d-b1bd-c363ebd7e6a1",
   "metadata": {},
   "source": [
    "which is the misspecified model\n",
    "\n",
    "$y=\\  \\tilde{\\beta_0} + \\tilde{\\beta_1} x_1  +\\ \\tilde{𝑢} $\n",
    "\n",
    "\n",
    "where \n",
    "\n",
    "### $\\tilde{\\beta_1}=\\beta_1 + \\beta_2 \\ \\rho$"
   ]
  },
  {
   "cell_type": "markdown",
   "id": "ed997656-b644-4650-b8f4-e7dfa326a7ab",
   "metadata": {},
   "source": [
    "### $\\tilde{\\beta_1}$ is not equal to the true $\\beta_1$. there is a BIAS. \n",
    "\n",
    "The sign of the Bias consists of the sign of a product of two things \n",
    "\n",
    "The first is the sign of the correlation between x1 and x2, the variable we care about (x1) and the omitted one x2, which is the same sign as $\\rho$\n",
    "\n",
    "The second thing is the sign of the correlation between the outcome y and x2 that we omit which is the same sign as $\\beta_2$.\n",
    "\n"
   ]
  },
  {
   "cell_type": "markdown",
   "id": "1e0d4d11-d9a0-454b-8635-218fd1532b6b",
   "metadata": {},
   "source": [
    "# going back to the lwage model\n",
    "\n",
    "### Remember therefore that we are omitting educ that is positively correlated with profocc (the variable for which we are explaining the change in coefficient estimate)  and that educ is positively correlated with lwage (the outcome)"
   ]
  },
  {
   "cell_type": "markdown",
   "id": "98cb0736-ad65-473b-9488-ceee6c9ab86e",
   "metadata": {},
   "source": [
    "<img src=\"omitEduc.png\" width=\"600\" />"
   ]
  },
  {
   "cell_type": "markdown",
   "id": "01bf2340-008b-4e67-aea4-7e03bd767ac2",
   "metadata": {},
   "source": [
    "# the Sign of the bias is the sign of $(\\rho \\ \\beta_2) $, that is the sign of the product ( corr(profocc,educ) * corr(educ,lwage) )"
   ]
  },
  {
   "cell_type": "code",
   "execution_count": 10,
   "id": "c51a889f-b5fa-44b7-b6ef-057e6b07c4fa",
   "metadata": {},
   "outputs": [
    {
     "data": {
      "text/html": [
       "0.496768098738464"
      ],
      "text/latex": [
       "0.496768098738464"
      ],
      "text/markdown": [
       "0.496768098738464"
      ],
      "text/plain": [
       "[1] 0.4967681"
      ]
     },
     "metadata": {},
     "output_type": "display_data"
    },
    {
     "data": {
      "text/html": [
       "0.431052754646383"
      ],
      "text/latex": [
       "0.431052754646383"
      ],
      "text/markdown": [
       "0.431052754646383"
      ],
      "text/plain": [
       "[1] 0.4310528"
      ]
     },
     "metadata": {},
     "output_type": "display_data"
    }
   ],
   "source": [
    "#type code here\n",
    "cor(my_data3$educ,my_data3$profocc)\n",
    "\n",
    "cor(my_data3$educ,my_data3$lwage)\n",
    "\n"
   ]
  },
  {
   "cell_type": "markdown",
   "id": "48868c0b-b2c9-4198-a418-6d77903bb8fe",
   "metadata": {},
   "source": [
    "\n",
    "<img src=\"two.png\" width=\"500\" />"
   ]
  },
  {
   "cell_type": "markdown",
   "id": "8bb407af-f8b0-4e6e-8f41-1ea46823775e",
   "metadata": {},
   "source": [
    "# Since both positive, then we have a positive BIAS\n",
    "\n",
    "We estimate a coefficient that is too big.\n",
    "\n",
    "### We over estimate the effect of profocc on lwage by omitting educ from the model\n",
    "\n",
    "\n"
   ]
  },
  {
   "cell_type": "markdown",
   "id": "589e1e6b-fe83-446c-b9a1-eae15138b14b",
   "metadata": {},
   "source": [
    "# the end of this part"
   ]
  },
  {
   "cell_type": "markdown",
   "id": "be3c7a9c-65f9-464f-87b9-98b8e37c9854",
   "metadata": {},
   "source": [
    "# Lets code together how we would figure out why the coeff of experience changed when we omitted educ\n",
    "<img src=\"boardLecture6.jpg\" width=\"600\" />"
   ]
  },
  {
   "cell_type": "code",
   "execution_count": null,
   "id": "18ba035f-b162-4986-b06a-cce77352b89d",
   "metadata": {},
   "outputs": [],
   "source": [
    "cor(my_data3$educ,my_data3$exper)\n",
    "\n",
    "cor(my_data3$educ,my_data3$lwage)\n",
    "\n"
   ]
  },
  {
   "attachments": {},
   "cell_type": "markdown",
   "id": "bbc0a545-21c0-4bef-8d79-0dcef25f8347",
   "metadata": {},
   "source": [
    "<img src=\"omitEduc.png\" width=\"600\" />\n",
    "\n",
    "Omitting education will bias $\\tilde{\\beta}_{𝒆𝒙𝒑𝒆𝒓}$  downwards\n"
   ]
  },
  {
   "cell_type": "markdown",
   "id": "60ef4d51-6ab4-401e-8702-fbc9d2389b96",
   "metadata": {},
   "source": [
    "# Take Away\n",
    "What happens when we omit variables x2 to the parameter beta1 tilde relative to beta1? \n",
    "\n",
    "Is beta1 tilde larger than the true beta 1? \n",
    "\n",
    "Is beta1 tilde smaller than the true beta1? \n",
    "\n",
    "Or it does not matter if we omit x2 because beta1 tilde is the same as beta1\n",
    "\n",
    "To answer this, we need to know two things\n",
    "\n",
    "FIRST: We need to know the correlation of x2 omitted and x1\n",
    "\n",
    "SECOND: we need to know the Effect of omitted x2 on Y in the true model\n"
   ]
  },
  {
   "attachments": {},
   "cell_type": "markdown",
   "id": "66b04d2f-3d9e-4aa5-8a43-9a3deb411068",
   "metadata": {},
   "source": [
    "# 5. Statistical Properties of Estimator betahat   $\\hat{\\beta}$\n",
    "\n",
    "   \n",
    "## 5.a. Multiple Linear Regression (MLR) Assumptions: MLR1 to MLR4\n",
    "\n",
    "MLR1. Model is linear in parameters for a given population \n",
    "$𝑦=𝛽_0+𝛽_1 𝑥_1+…+𝛽_𝑘 𝑥_𝑘+𝑢$.\n",
    "\n",
    "MLR2. ${(𝑥_{𝑖1}\\ … \\ 𝑥_{𝑖𝑘} \\  𝑦_𝑖), i=1,…n}$ a random sample from the population of interest\n",
    "\n",
    "MLR3. No perfect collinearity among the x in linear relationship\n",
    "\n",
    "MLR4. E[u]=0 and zero conditional mean $E[u \\ | \\ 𝑥_1…𝑥_𝑘]=0$\n",
    "\n",
    "\n",
    "IF Assumptions MLR1 to MLR4 ----> then $\\hat{\\beta}$ is unbiased: $E[\\hat{\\beta}]= \\beta$.\n",
    "\n",
    "\n"
   ]
  },
  {
   "cell_type": "markdown",
   "id": "94ad9fe9-03b0-426e-afb0-533fa72584df",
   "metadata": {
    "jp-MarkdownHeadingCollapsed": true
   },
   "source": [
    "\n",
    "## 5.b. Assumption MLR5. Homoskedasticity\n",
    "\n",
    "\n",
    "If $Var(u \\ | 𝑥_1 \\ …\\ 𝑥_𝑘)$ independent of x (call it  $𝜎^2$), i.e., we have homoscedasticity, \n",
    "\n",
    "then for a particular coefficient $\\hat{\\beta_j}$\n",
    "its variance is given by\n",
    "\n",
    "$𝑉𝑎𝑟(\\hat{𝛽}_𝑗 )  = \\ \\frac{\\sigma^2}{SST_{xj}(1−𝑹_𝒋^𝟐)}$,\n",
    "\n",
    "where $𝜎^2$ is the noise in the relation, the larger, the more imprecise the estimates $\\hat{\\beta}$\n",
    "\n",
    "\n",
    "\n",
    "$𝑺𝑺𝑻_{𝒙𝒋}$ is the total sample variation in $𝑥_𝑗$. If that is large, then better precision of estimated beta_hat. \n",
    "\n",
    "In particular, $𝑆𝑆𝑇_{𝑥𝑗}=\\sum_i〖(𝑥_{𝑖𝑗}−\\bar{𝑥_𝑗}^2 =(N-1) s_{𝑥𝑗}^2$.\n",
    "\n",
    "\n",
    "and finally\n",
    "\n",
    "$𝑹_𝒋^𝟐$ is the R squared of how $x_j$ can be explained by the other x’s, that is, the R squared of\n",
    "\n",
    "$𝑥_𝑗=𝛿_0+𝛿_1 𝑥_1+…+𝛿_𝑘 𝑥_𝑘+𝑣$.  \n",
    "\n",
    "\n",
    "If $𝑹_𝒋^𝟐$  approaches 1, or close to it, the we have multicollinearity, the x's can be explained well by other xs, and then the variance of the betahats (the estimated coefficients) increases a lot, and standard errors also! \n",
    "\n",
    "## Lets look at the issue of $R^2_j$ being large, and even close to 1, to investigate the issue of multicollinearity.\n"
   ]
  },
  {
   "attachments": {},
   "cell_type": "markdown",
   "id": "ae6bd354-ecac-442b-bca5-ae801d3a3014",
   "metadata": {},
   "source": [
    "# Multicollinearity\n",
    "\n",
    "The issue of multicollinearity pertains to linear relationship between the x’s, that is how close we can explain one $x_j$ in terms of the other Xs, measured by $R_j^2$ in the formula above.\n",
    "\n",
    "If variables are constructed from each other, collinearity happens.\n"
   ]
  },
  {
   "cell_type": "code",
   "execution_count": 11,
   "id": "20a07233-e65f-47db-9d19-bc94aeb1ec4a",
   "metadata": {},
   "outputs": [
    {
     "data": {
      "text/plain": [
       "\n",
       "Call:\n",
       "lm(formula = lwage ~ educ + educ + exper + female + profocc, \n",
       "    data = my_data3)\n",
       "\n",
       "Residuals:\n",
       "     Min       1Q   Median       3Q      Max \n",
       "-1.85394 -0.26575 -0.01309  0.24596  1.16141 \n",
       "\n",
       "Coefficients:\n",
       "             Estimate Std. Error t value             Pr(>|t|)    \n",
       "(Intercept)  0.675273   0.108883   6.202 0.000000001137540371 ***\n",
       "educ         0.069516   0.008085   8.598 < 0.0000000000000002 ***\n",
       "exper        0.008174   0.001433   5.704 0.000000019625865590 ***\n",
       "female      -0.314925   0.037140  -8.479 0.000000000000000234 ***\n",
       "profocc      0.235639   0.044760   5.265 0.000000205828739360 ***\n",
       "---\n",
       "Signif. codes:  0 ‘***’ 0.001 ‘**’ 0.01 ‘*’ 0.05 ‘.’ 0.1 ‘ ’ 1\n",
       "\n",
       "Residual standard error: 0.4184 on 521 degrees of freedom\n",
       "Multiple R-squared:  0.3853,\tAdjusted R-squared:  0.3805 \n",
       "F-statistic: 81.63 on 4 and 521 DF,  p-value: < 0.00000000000000022\n"
      ]
     },
     "metadata": {},
     "output_type": "display_data"
    }
   ],
   "source": [
    "#Baseline Model \n",
    "regBase <- lm(lwage~educ+educ+exper+female+profocc, my_data3)\n",
    "summary(regBase)"
   ]
  },
  {
   "cell_type": "markdown",
   "id": "3c9d589f-7e21-4c56-96a0-2ca8e212fc4e",
   "metadata": {},
   "source": [
    "### Generate a variable that is equal to one if a respondent does not have profocc and equal to zero otherwise\n",
    "\n",
    "notProfOcc= 1- profocc\n",
    "\n",
    "The $R_j^2$ between the two variables above is exactly 1. \n",
    "\n",
    "We can be perfectly explained by the other by subtracting from 1 the variable...\n"
   ]
  },
  {
   "cell_type": "code",
   "execution_count": 12,
   "id": "bd92fd7d-f2ae-43eb-8647-5953254a7371",
   "metadata": {},
   "outputs": [
    {
     "data": {
      "text/html": [
       "<style>\n",
       ".list-inline {list-style: none; margin:0; padding: 0}\n",
       ".list-inline>li {display: inline-block}\n",
       ".list-inline>li:not(:last-child)::after {content: \"\\00b7\"; padding: 0 .5ex}\n",
       "</style>\n",
       "<ol class=list-inline><li>0</li><li>0</li><li>0</li><li>0</li><li>0</li><li>0</li></ol>\n"
      ],
      "text/latex": [
       "\\begin{enumerate*}\n",
       "\\item 0\n",
       "\\item 0\n",
       "\\item 0\n",
       "\\item 0\n",
       "\\item 0\n",
       "\\item 0\n",
       "\\end{enumerate*}\n"
      ],
      "text/markdown": [
       "1. 0\n",
       "2. 0\n",
       "3. 0\n",
       "4. 0\n",
       "5. 0\n",
       "6. 0\n",
       "\n",
       "\n"
      ],
      "text/plain": [
       "[1] 0 0 0 0 0 0"
      ]
     },
     "metadata": {},
     "output_type": "display_data"
    },
    {
     "data": {
      "text/html": [
       "<style>\n",
       ".list-inline {list-style: none; margin:0; padding: 0}\n",
       ".list-inline>li {display: inline-block}\n",
       ".list-inline>li:not(:last-child)::after {content: \"\\00b7\"; padding: 0 .5ex}\n",
       "</style>\n",
       "<ol class=list-inline><li>1</li><li>1</li><li>1</li><li>1</li><li>1</li><li>1</li></ol>\n"
      ],
      "text/latex": [
       "\\begin{enumerate*}\n",
       "\\item 1\n",
       "\\item 1\n",
       "\\item 1\n",
       "\\item 1\n",
       "\\item 1\n",
       "\\item 1\n",
       "\\end{enumerate*}\n"
      ],
      "text/markdown": [
       "1. 1\n",
       "2. 1\n",
       "3. 1\n",
       "4. 1\n",
       "5. 1\n",
       "6. 1\n",
       "\n",
       "\n"
      ],
      "text/plain": [
       "[1] 1 1 1 1 1 1"
      ]
     },
     "metadata": {},
     "output_type": "display_data"
    }
   ],
   "source": [
    "my_data3$notProfocc=1-my_data3$profocc\n",
    "\n",
    "head(my_data3$profocc)\n",
    "head(my_data3$notProfocc)"
   ]
  },
  {
   "cell_type": "markdown",
   "id": "8b6dcee1-77ef-47d1-8d89-76bb9439adda",
   "metadata": {},
   "source": [
    "## perfect collinearity\n",
    "\n",
    "Note in the regression below,  that notProfocc coefficient cannot be estimated \n",
    "because profocc is 1-notProfocc, they are perfectly collinear."
   ]
  },
  {
   "cell_type": "markdown",
   "id": "fc361934-9517-4540-bbcc-4791955e0dce",
   "metadata": {},
   "source": [
    "Try running\n",
    "\n",
    "$lwage=𝛽_0+\\ 𝛽_1 \\ educ +\\ 𝛽_2 \\  exper+\\ 𝛽_3 \\ female+ \\beta_4 \\ profocc + \\beta_5 \\ notProfocc + \\ 𝑢 $ \n",
    "\n",
    "  where profocc + notProfocc=1\n",
    "\n",
    "Problems with collinearity \n",
    "\n",
    "If exact collinearity -> cannot estimate. \n",
    "\n",
    "Cannot think of the effect of one variable keeping the other constant\n"
   ]
  },
  {
   "cell_type": "code",
   "execution_count": 13,
   "id": "f59a6e5c-f2ce-4125-86f9-c0976048a5ed",
   "metadata": {},
   "outputs": [
    {
     "data": {
      "text/plain": [
       "\n",
       "Call:\n",
       "lm(formula = lwage ~ educ + educ + exper + female + profocc + \n",
       "    notProfocc, data = my_data3)\n",
       "\n",
       "Residuals:\n",
       "     Min       1Q   Median       3Q      Max \n",
       "-1.85394 -0.26575 -0.01309  0.24596  1.16141 \n",
       "\n",
       "Coefficients: (1 not defined because of singularities)\n",
       "             Estimate Std. Error t value             Pr(>|t|)    \n",
       "(Intercept)  0.675273   0.108883   6.202 0.000000001137540371 ***\n",
       "educ         0.069516   0.008085   8.598 < 0.0000000000000002 ***\n",
       "exper        0.008174   0.001433   5.704 0.000000019625865590 ***\n",
       "female      -0.314925   0.037140  -8.479 0.000000000000000234 ***\n",
       "profocc      0.235639   0.044760   5.265 0.000000205828739360 ***\n",
       "notProfocc         NA         NA      NA                   NA    \n",
       "---\n",
       "Signif. codes:  0 ‘***’ 0.001 ‘**’ 0.01 ‘*’ 0.05 ‘.’ 0.1 ‘ ’ 1\n",
       "\n",
       "Residual standard error: 0.4184 on 521 degrees of freedom\n",
       "Multiple R-squared:  0.3853,\tAdjusted R-squared:  0.3805 \n",
       "F-statistic: 81.63 on 4 and 521 DF,  p-value: < 0.00000000000000022\n"
      ]
     },
     "metadata": {},
     "output_type": "display_data"
    }
   ],
   "source": [
    "#Alternative Model – Perfect collinearity\n",
    "\n",
    "regPC <- lm(lwage~educ+educ+exper+female+ profocc+notProfocc, my_data3)\n",
    "summary(regPC)\n",
    "\n",
    "#note in the regression output below,  that notProfocc coefficient is not estimated \n",
    "# because profocc is 1-notProfocc, they are perfectly collinear\n",
    "#with each other, \n",
    "#the line notProfocc has NA   NA\n",
    "\n",
    "#NA means Non available "
   ]
  },
  {
   "cell_type": "markdown",
   "id": "33922222-2e61-4400-bb49-4e820884ae95",
   "metadata": {},
   "source": [
    "# Multi collinearity\n",
    "\n",
    "What if we have a model that has  two variables that are not perfectly collinear but highly correlated\n",
    "\n",
    "\n",
    " # What is the problem?\n",
    "\n",
    "The model estimates but  the standard errors of the estimates will increase if there is multicollinearity\n",
    " \n"
   ]
  },
  {
   "cell_type": "markdown",
   "id": "38c8e7e3-6329-44ab-ba67-bb91ec84232f",
   "metadata": {},
   "source": [
    "### I will generate a random variable and add to the dataframe that is very related to education\n"
   ]
  },
  {
   "cell_type": "code",
   "execution_count": 14,
   "id": "ccb81d6d-9faa-4396-a052-359049825a9c",
   "metadata": {},
   "outputs": [],
   "source": [
    "#I will generate a random variable and add to the dataframe that is very related to education\n",
    "\n",
    "#generate two random uniform objects\n",
    "A<-randu\n",
    "B<-randu\n",
    "tempA<-A[1:400,1]\n",
    "tempB<-B[1:126,1]\n",
    "\n",
    "#create a column of 526 rows of random uniform\n",
    "C<-c(tempA,tempB)\n",
    "\n",
    "#add that random uniform times 2 to education variable and create the trouble variable\n",
    "my_data3$trouble<-my_data3$educ+2*C\n"
   ]
  },
  {
   "cell_type": "code",
   "execution_count": 15,
   "id": "5a1b7459-3036-496d-8e71-299a431e4b42",
   "metadata": {},
   "outputs": [
    {
     "data": {
      "text/plain": [
       "\n",
       "Call:\n",
       "lm(formula = lwage ~ educ + educ + exper + female + profocc + \n",
       "    trouble, data = my_data3)\n",
       "\n",
       "Residuals:\n",
       "    Min      1Q  Median      3Q     Max \n",
       "-1.8556 -0.2709 -0.0182  0.2406  1.1750 \n",
       "\n",
       "Coefficients:\n",
       "             Estimate Std. Error t value             Pr(>|t|)    \n",
       "(Intercept)  0.703080   0.112523   6.248 0.000000000864255679 ***\n",
       "educ         0.101049   0.033175   3.046              0.00244 ** \n",
       "exper        0.008260   0.001436   5.753 0.000000014962109867 ***\n",
       "female      -0.314198   0.037149  -8.458 0.000000000000000277 ***\n",
       "profocc      0.236268   0.044766   5.278 0.000000192273265980 ***\n",
       "trouble     -0.031280   0.031916  -0.980              0.32750    \n",
       "---\n",
       "Signif. codes:  0 ‘***’ 0.001 ‘**’ 0.01 ‘*’ 0.05 ‘.’ 0.1 ‘ ’ 1\n",
       "\n",
       "Residual standard error: 0.4184 on 520 degrees of freedom\n",
       "Multiple R-squared:  0.3864,\tAdjusted R-squared:  0.3805 \n",
       "F-statistic: 65.49 on 5 and 520 DF,  p-value: < 0.00000000000000022\n"
      ]
     },
     "metadata": {},
     "output_type": "display_data"
    }
   ],
   "source": [
    "#Alternative Model – Multi collinearity (MC)\n",
    "regMC <- lm(lwage~educ+educ+exper+female+profocc+trouble, my_data3)\n",
    "summary(regMC)\n",
    "\n",
    "\n",
    "#where cor(my_data3$educ,my_data3$trouble)= .979442314275803\n",
    "\n"
   ]
  },
  {
   "cell_type": "code",
   "execution_count": 16,
   "id": "39788461-aa5e-4e54-9e9f-9940ce088eb9",
   "metadata": {},
   "outputs": [
    {
     "data": {
      "text/html": [
       "0.979442314275803"
      ],
      "text/latex": [
       "0.979442314275803"
      ],
      "text/markdown": [
       "0.979442314275803"
      ],
      "text/plain": [
       "[1] 0.9794423"
      ]
     },
     "metadata": {},
     "output_type": "display_data"
    }
   ],
   "source": [
    "cor(my_data3$educ,my_data3$trouble)\n"
   ]
  },
  {
   "cell_type": "markdown",
   "id": "d07f9230-e47b-4f77-9372-d7cd44645cbe",
   "metadata": {},
   "source": [
    "## Compared to the baseline model,  the standard errors of the estimates will increase if there is multicollinearity\n",
    "\n",
    "estimated see(betahat_educ) = 0.033798  now\n",
    "\n",
    "in the baseline model was 0.008085\n",
    "\n"
   ]
  },
  {
   "cell_type": "markdown",
   "id": "9a1c5a11-986a-411d-88ba-9bac78fa54d3",
   "metadata": {},
   "source": [
    "# 7. Goodness of Fit"
   ]
  },
  {
   "attachments": {},
   "cell_type": "markdown",
   "id": "11ccffdd-642b-46bd-be9d-a331071c7880",
   "metadata": {},
   "source": [
    "We look the the R squared, as usual.\n",
    "\n",
    "We know that  $𝑆𝑆𝑅= \\sum_i (\\hat{𝑢_𝑖}^2 )$   \n",
    "\n",
    "$𝑆𝑆𝐸=\\sum_i(\\hat{y_i} −\\bar{𝑦 })^2$ , \n",
    "\n",
    "and $𝑆𝑆𝑇=\\sum_i(y_i −\\bar{𝑦 })^2$ .\n",
    "\n",
    "so $𝑅^2=\\frac{𝑆𝑆𝐸}{𝑆𝑆𝑇}=1−\\frac{𝑆𝑆𝑅}{𝑆𝑆𝑇}$\n",
    "\n",
    "\n",
    "In the R output that is the Multiple R-squared:  0.3853  of the Baseline Model"
   ]
  },
  {
   "cell_type": "markdown",
   "id": "4005c79d-f0ab-4a13-be58-097241afd639",
   "metadata": {},
   "source": [
    "### put Y and Y hat on same graph and x1 on horizontal axis\n",
    "make combined scatter plot of Y data and fitted values of Y (Yhat)\n",
    "given regression estimates "
   ]
  },
  {
   "cell_type": "code",
   "execution_count": 17,
   "id": "717e3a72-6b68-44ca-a488-92f833ec77ef",
   "metadata": {},
   "outputs": [
    {
     "data": {
      "image/png": "[encoded data removed]",
      "text/plain": [
       "plot without title"
      ]
     },
     "metadata": {
      "image/png": {
       "height": 420,
       "width": 420
      }
     },
     "output_type": "display_data"
    }
   ],
   "source": [
    "#for graph \n",
    "#get the predicted Y hats\n",
    "my_data3$lwageHat<-regBase$fitted.values\n",
    "\n",
    "#put Y and Y hat on same graph and x1 on horizontal axis\n",
    "#make a combined scatter plot of Y data and fitted values of Y (Yhat)\n",
    "\n",
    "scatter_data_fittedVals <- ggplot(data = my_data3) + geom_point(aes(x=educ, y=lwage, color = \"data\")) +\n",
    "  geom_point(aes(x=educ, y=lwageHat, color = \"fitted\")) + \n",
    "  xlab(\"education of respondent\") + ylab(\"Y=log of Wage \") +\n",
    "  ggtitle(\"Y (Red) and Predicted Y (Blue) and education\")\n",
    "scatter_data_fittedVals"
   ]
  },
  {
   "cell_type": "markdown",
   "id": "ddb73111-4d22-4151-a7db-93b544a60c9a",
   "metadata": {},
   "source": [
    "# TAKE AWAY OVB\n",
    "\n",
    "<img src=\"one.png\" width=\"600\" />"
   ]
  },
  {
   "attachments": {},
   "cell_type": "markdown",
   "id": "8ce4e054-491b-4a6b-9cba-ac7b20e0e337",
   "metadata": {},
   "source": [
    "# Please answer this survey after today's lecture\n",
    "\n",
    "https://forms.gle/BDh2Fik95fQAcVbj6\n",
    "\n",
    "\n",
    "thank you\n",
    "\n"
   ]
  },
  {
   "cell_type": "markdown",
   "id": "43f49bc3-09e3-487a-a9f9-3602dba6a7d1",
   "metadata": {},
   "source": [
    "# THE END"
   ]
  }
 ],
 "metadata": {
  "kernelspec": {
   "display_name": "R",
   "language": "R",
   "name": "ir"
  },
  "language_info": {
   "codemirror_mode": "r",
   "file_extension": ".r",
   "mimetype": "text/x-r-source",
   "name": "R",
   "pygments_lexer": "r",
   "version": "4.4.2"
  }
 },
 "nbformat": 4,
 "nbformat_minor": 5
}
