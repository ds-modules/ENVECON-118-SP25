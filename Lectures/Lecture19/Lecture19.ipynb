{
 "cells": [
  {
   "attachments": {},
   "cell_type": "markdown",
   "id": "45202013-e314-41d5-902d-700884645657",
   "metadata": {},
   "source": [
    "## Lecture 19 EEP118\n",
    "\n",
    "General Multi Year Panel Data\n",
    "\n",
    "Assumptions for Fixed Effect (FE) Model\n",
    "\n",
    "Policy analysis with Panel Data\n",
    "\n",
    "\n",
    "\n",
    "End chapter 13. Read 14.1\n",
    "\n",
    "See R code on bcourses and also notebook in datahub for this lecture\n",
    "\n",
    "Daily Assignment 19 posted as well as solutions\n",
    "\n",
    "Pset 4 posted see due date in bcourses \u000b",
    "Pset 5 posted soon\n",
    "\n"
   ]
  },
  {
   "attachments": {},
   "cell_type": "markdown",
   "id": "6259fbac",
   "metadata": {},
   "source": [
    "Last class, with a panel of 46 cities and two years of data, 82 and 87, we estimated the following model\n",
    "𝑐𝑟𝑖𝑚𝑒𝑟𝑎𝑡𝑒_𝑖𝑡= 𝛼_𝑖 + 𝛽_1  𝑢𝑛𝑒𝑚_𝑖𝑡 +𝛽_2  𝑑87 + 𝑣_𝑖𝑡\n",
    "\n",
    "\n",
    "𝛽_1  = controlling for all the characteristics of the cities that do not vary over time (𝛼_𝑖  fixed effects ) and for the general effect of time common to all cities (d87) a one percent point increase in unemployment induces a 𝛽_1  increase in crime rate (number crimes per 100 people)\n",
    "\n",
    "\n",
    "we used Lecture18_CRIME2 .dta   \n",
    "\n",
    "and estimated a model\n",
    "\n",
    "reg6n <- lm(crmrte ~ unem + d87+ +offarea+lawexpc+pcinc+factor(city) , data = mydata) \n",
    "summary(reg6n)\n",
    "\n",
    "How did we interpret beta hat for unemployment?\n",
    "\n",
    "Controlling for all constant characteristics of cities (that do not vary over time) =city fixed effects, and for effect of time (dummy for year 87) that captures changes in 1987 relative to 1982 factors that affect crime rate that are common to all cities,  and controlling for officer per area, law espenditures, per capita income,\n",
    "a 1 percentage point increase in\n",
    " unemployment rate  is associated with a significant\n",
    " 2.932 per thousand increase in crime rate \n",
    "\n",
    "\n",
    "\n"
   ]
  },
  {
   "attachments": {},
   "cell_type": "markdown",
   "id": "2d0d6849",
   "metadata": {},
   "source": [
    "Last lecture we had two years of data\n",
    "\n",
    "Generalizing to many years is mechanically very easy and will open the door to many new analyses\n",
    "\n",
    "Illustration of multi-year panel data analysis: \n",
    "\n",
    "# We will measure the impact of Enterprise Zones (EZ) on employment\n",
    "\n",
    "\n",
    "Data: 22 cities in Indiana, from 1980 to 1988\n",
    "22 cities and many years of data\n",
    "\n",
    "Multi-year panel data:  Impact of enterprise zones on employment\n",
    "Source:  data file EZUNEM (Wooldridge). 22 cities in Indiana, from 1980 to 1988\n",
    "\n",
    "\n",
    "Six city enterprise zones created in 1984, and 4 more city EZ created in 1985.\n",
    "\n"
   ]
  },
  {
   "cell_type": "code",
   "execution_count": null,
   "id": "2a63d91f-6d11-4908-8254-399c7a23a5e3",
   "metadata": {},
   "outputs": [],
   "source": [
    "install.packages(\"pacman\")\n",
    "# Load the 'pacman' package\n",
    "library(pacman) \n",
    "#packages to use load them now using the pacman \"manager\"\n",
    "p_load(dplyr, haven, readr) \n",
    "#Another great feature of p_load(): if you try to load a package that is not installed on your machine, p_load() install the package for you, rather than throwing an error. For instance, let’s install and load one final package named ggplot2. \n",
    "p_load(ggplot2)\n",
    "\n",
    "\n",
    "pacman::p_load(lfe, lmtest, haven, sandwich, tidyverse,stargazer)\n",
    "# lfe for running fixed effects regression\n",
    "# lmtest for displaying robust SE in output table\n",
    "# haven for loading in dta files\n",
    "# sandwich for producing robust Var-Cov matrix\n",
    "# tidyverse for manipulating data and producing plots\n",
    "\n",
    "\n",
    "#change into Lecture 19 directory\n",
    "#setwd(\"/Users/sofiavillas-boas/Dropbox/EEP118_Spring2023/Lectures/Lecture19\")\n",
    "\n",
    "\n",
    "pacman::p_load(lfe, haven, tidyverse)\n",
    "\n",
    "\n"
   ]
  },
  {
   "cell_type": "code",
   "execution_count": null,
   "id": "90010501-22f1-4455-8ae6-408d7f42c0a1",
   "metadata": {
    "scrolled": true
   },
   "outputs": [],
   "source": [
    "\n",
    "#read in a Stata dataset DATA LECTURE 19\n",
    "mydata <- read_dta(\"Lecture19_ezunem.dta\")\n",
    "head(mydata)\n",
    "\n",
    "#when did city 1 get an EZ?"
   ]
  },
  {
   "cell_type": "markdown",
   "id": "19a7027c",
   "metadata": {},
   "source": [
    "City 1 got EZ=1 in 1984 onwards, so in 1984"
   ]
  },
  {
   "cell_type": "code",
   "execution_count": null,
   "id": "385fdfb1",
   "metadata": {},
   "outputs": [],
   "source": [
    "# summarize data\n",
    "summary(mydata)"
   ]
  },
  {
   "cell_type": "markdown",
   "id": "d444241c",
   "metadata": {},
   "source": [
    "We want to estimate the Impact of establishing Enterprise Zones (EZ) on Unemployment\n",
    "\n",
    "The variable 𝑢𝑐𝑙𝑚𝑠_𝑖𝑡 = Unemployment claims at city i and year t\n",
    "\n",
    "The variable 𝐸𝑍_𝑖𝑡=0 if no EZ and=1 if there is an EZ in city i at time t"
   ]
  },
  {
   "cell_type": "markdown",
   "id": "acf8c7f0",
   "metadata": {},
   "source": [
    "uclms is number of unemployment claims file during the year in a city\n",
    "\n",
    "year            1980 to 1988\n",
    "\n",
    "ez              =1 if have enterprise zone, =0 o.w.\n",
    "\n",
    "city             a city identifier from 1 to 22"
   ]
  },
  {
   "attachments": {},
   "cell_type": "markdown",
   "id": "a4d2c1e6",
   "metadata": {},
   "source": [
    "What is the number of observations?    9 years times 22 cities = 198\n",
    "\n",
    "What is the unit of observation?   ->   a city in a year\n",
    "\n",
    "What percent of observations have EZ=1?   ---> .2323232    \n"
   ]
  },
  {
   "attachments": {},
   "cell_type": "markdown",
   "id": "cf40f707",
   "metadata": {},
   "source": [
    "the average of EZ is .2323232   "
   ]
  },
  {
   "attachments": {},
   "cell_type": "markdown",
   "id": "a50866bb",
   "metadata": {},
   "source": [
    "## Create a graph to let us look at evolution of Total unemployment over time\n",
    "\n"
   ]
  },
  {
   "cell_type": "code",
   "execution_count": null,
   "id": "f4983e6b",
   "metadata": {},
   "outputs": [],
   "source": [
    "# first generate sum of claims by year\n",
    "#The command below creates a column in the original data with sum (over all cities) of unempl claims by year\n",
    "\n",
    "lec19df <- mydata %>%\n",
    "  group_by(year) %>%\n",
    "  mutate(annual_claims = sum(uclms)) %>%\n",
    "  ungroup"
   ]
  },
  {
   "cell_type": "markdown",
   "id": "1d831f4d",
   "metadata": {},
   "source": [
    "make graph of total (sum over all cities) umemployment claims by year"
   ]
  },
  {
   "cell_type": "code",
   "execution_count": null,
   "id": "045892a9",
   "metadata": {},
   "outputs": [],
   "source": [
    "# plot\n",
    "ggplot(lec19df, aes(x = year, y = annual_claims)) +\n",
    "  geom_line() +\n",
    "  labs(title = \"Unempl Claims by Year in 22 cities\",\n",
    "       x = \"Year\",\n",
    "       y = \"# Unemployment Claims\")"
   ]
  },
  {
   "attachments": {},
   "cell_type": "markdown",
   "id": "31a128df",
   "metadata": {},
   "source": [
    "## Graph Total unemployment claims (Sum of for EZ cities) and then (Sum for non EZ cities) over time\n"
   ]
  },
  {
   "cell_type": "code",
   "execution_count": null,
   "id": "cf000c30-9bff-4497-ae8f-51befc27974a",
   "metadata": {},
   "outputs": [],
   "source": [
    "# variables for graph for EZ and non EZ cities\n",
    "lec19df <- mydata %>%\n",
    "  group_by(city) %>%\n",
    "  mutate(cityez = ifelse(max(ez)==1, \"EZ\", \"Non-EZ\")) %>%\n",
    "  group_by(year, cityez) %>%\n",
    "  mutate(annual_claims_ez = sum(uclms)) %>%\n",
    "  ungroup()"
   ]
  },
  {
   "cell_type": "code",
   "execution_count": null,
   "id": "de136772",
   "metadata": {},
   "outputs": [],
   "source": [
    "# plot for EZ and non EZ cities\n",
    "ggplot(lec19df, aes(x = year, y = annual_claims_ez, group = cityez, color = cityez)) +\n",
    "  geom_line() +\n",
    "  scale_color_discrete(name=\"\",\n",
    "                       breaks=c(\"EZ\", \"Non-EZ\"),\n",
    "                       labels=c(\"Cities With EZ after 1984 or 1985\", \"Cities without EZ\")) +\n",
    "  labs(title = \"Unemployment Claims by Year in 22 Cities\",\n",
    "       x = \"Year\",\n",
    "       y = \"# Unemployment Claims\") "
   ]
  },
  {
   "attachments": {},
   "cell_type": "markdown",
   "id": "18a570ff",
   "metadata": {},
   "source": [
    "What do you see?\n",
    "\n",
    "1. A drop in 1982\n",
    "\n",
    "2. 2. EZ cities always had and have lower unemployment\n",
    "\n",
    "\n",
    "3. The difference between red line (cities without EZ) and blue line before 1984 had nothing to do with EZ. Since EZ only happens after 1984 for some cities\n",
    "\n",
    "4.  The switches to EZ are in 1984 and  in 1985\n",
    "\n",
    "\n",
    "5. The path of the blue line cannot be fully attributed to EZ\n",
    "\n",
    "\n",
    "The empirical question is :\n",
    "\n",
    "Does the difference in the two lines increase or decrease when cities adopt EZs?\n",
    "\n"
   ]
  },
  {
   "attachments": {},
   "cell_type": "markdown",
   "id": "9574b50c",
   "metadata": {},
   "source": [
    "## Regression\n",
    "\n",
    "Lets estimate a regression model to investigate whether EZ caused an impact on unemployment\n",
    "\n",
    "\n",
    "Lets consider the relationship between unemployment and EZ over time and across the 22 cities in the data using T years (T=9 here)\n",
    "\n",
    "\n",
    "Model- city j  year t\n",
    "\n",
    " ln⁡(𝑢𝑐𝑙𝑚𝑠)_𝑗𝑡=  𝛽_1  𝐸𝑍_𝑗𝑡 + {aj } + {𝑑𝑡 } + 𝑣_𝑗𝑡\n",
    "\n",
    "\n",
    "Unemployment marginal effect: (𝝏 𝒍𝒏(𝒖𝒄𝒍𝒎𝒔))/(𝑬𝒁 𝟎 𝒕𝒐 𝟏)  = 𝛽_1  percent change in unemployment claims, controlling for constant factors by city and factors common to all cities by year, with city fixed effects, and also year fixed effects, respectively.\n",
    "\n",
    "aj captures all the characteristics of city j that are constant over time and affect unemployment -> that is, it controls for the overall level of unemployment in a city j, a city fixed effect. \n",
    "\n",
    "dt captures overall time patterns, year by year, that is the factors changing over time, that change year by year that affect unemployment and that are common to all cities, a year fixed effect. \n",
    "\n",
    "\n",
    "Short writing for one dummy for ALL BUT ONE city:  a2,  a3, …,a22.\n",
    "\n",
    "And one dummy for all but ONE year (d81, d82, …dT)  exclude 1980\n",
    "\n",
    "\n",
    "\n",
    "For city j in 1980 to 1983 no EZ (EZ=0 for all j and t<1984)\n",
    "\n",
    " ln⁡(𝑢𝑐𝑙𝑚𝑠)_𝑗80=𝛽_0+aj +𝑣_𝑗80          in 1980         \n",
    " \n",
    " --->  constant 𝛽_0  is 1980 (when all   other dyears=0\n",
    " \n",
    " \n",
    " ln⁡(𝑢𝑐𝑙𝑚𝑠)_𝑗81= aj +𝑑81 +𝑣_𝑗81     in 1981\n",
    "\n",
    "For city j at time t, notation, \n",
    "\n",
    "ln⁡(𝑢𝑐𝑙𝑚𝑠)_𝑗𝑡= 𝛽_0+ 𝛽_1  𝐸𝑍_𝑗𝑡_ +aj +𝑑𝑡 +𝑣_𝑗𝑡\n",
    "\n",
    "\n",
    "\n"
   ]
  },
  {
   "cell_type": "code",
   "execution_count": null,
   "id": "4ea59c18",
   "metadata": {},
   "outputs": [],
   "source": [
    "#regression in levels\n",
    "reg1 <- lm(uclms ~ ez, data = lec19df)\n",
    "summary(reg1)\n"
   ]
  },
  {
   "cell_type": "code",
   "execution_count": null,
   "id": "d81f4545",
   "metadata": {},
   "outputs": [],
   "source": [
    "\n",
    "#regression in log unemployment\n",
    "reg0 <- lm(luclms ~ ez, data = lec19df)\n",
    "summary(reg0)"
   ]
  },
  {
   "cell_type": "markdown",
   "id": "2e959184",
   "metadata": {},
   "source": [
    "We see that EZ from 0 to 1 reduced ln of log unemployment claims by -0.47 \n",
    "\n",
    "Significantly. Or reduced unclms by 47%. Significant at 1% level. p value is p-value: 6.411e-05\n"
   ]
  },
  {
   "attachments": {},
   "cell_type": "markdown",
   "id": "244bd435",
   "metadata": {},
   "source": [
    "## Fixed effects regression\n",
    "\n",
    "And one dummy for all but ONE year (d81, d82, …dT)  exclude 1980\n",
    "\n",
    "One dummy for ALL BUT ONE city:  a2,  a3, …,a22.  exclude city1\n"
   ]
  },
  {
   "cell_type": "code",
   "execution_count": null,
   "id": "98a878f0",
   "metadata": {},
   "outputs": [],
   "source": [
    "#reg with fixed effects and log of unemployment claims as Y variable\n",
    "reg <- lm(luclms ~ ez + factor(year) + factor(city), data = lec19df)\n",
    "summary(reg)\n"
   ]
  },
  {
   "attachments": {},
   "cell_type": "markdown",
   "id": "8e4a91ef",
   "metadata": {},
   "source": [
    "EZ from 0 to 1 reduced log of unemployment claims by -0.10\n",
    "\n",
    "Significantly. Or reduced unclms by 10%. Significant at 6% level.\n"
   ]
  },
  {
   "attachments": {},
   "cell_type": "markdown",
   "id": "156de4a7",
   "metadata": {},
   "source": [
    "what does the intercept estimate mean?\n",
    "\n",
    "Ln uclms hat for city=1 and 1980\n",
    "\n",
    "dummy for all but ONE year to take into account annual differences- exclude 1980\n",
    "\n",
    "\n",
    "One dummy for ALL BUT ONE city exclude city1, to take into account city constant differences\n",
    "\n",
    "\n"
   ]
  },
  {
   "cell_type": "markdown",
   "id": "96f9392f",
   "metadata": {},
   "source": [
    "### If we want to control for FE but not necessarily have all the estimates printed out as output, an equivalent command is in R:"
   ]
  },
  {
   "cell_type": "code",
   "execution_count": null,
   "id": "af6a1f7c",
   "metadata": {},
   "outputs": [],
   "source": [
    "#xtreg equivalent using felm\n",
    "reg2 <- felm(luclms ~ ez | year + city, data = lec19df)\n",
    "summary(reg2)"
   ]
  },
  {
   "cell_type": "markdown",
   "id": "1563f863",
   "metadata": {},
   "source": [
    "## Make a Table"
   ]
  },
  {
   "cell_type": "code",
   "execution_count": null,
   "id": "c1749a25",
   "metadata": {},
   "outputs": [],
   "source": [
    "#make table\n",
    "#library(stargazer)\n",
    "stargazer(list(reg2), type=\"text\",keep.stat=c(\"n\",\"rsq\"))\n",
    "\n",
    "#the above work in R Studio"
   ]
  },
  {
   "cell_type": "markdown",
   "id": "f4e46b4f",
   "metadata": {},
   "source": [
    "# Panel Data Estimates of the Effects of Death Penalty Laws, and Executions on Murder Rates 1960-2000\u000b"
   ]
  },
  {
   "attachments": {},
   "cell_type": "markdown",
   "id": "dcf4c50f",
   "metadata": {},
   "source": [
    "## Another data set now: \n",
    "\n",
    "TODAY, as an example, “Panel Data Estimates of the Effects of Death Penalty Laws on Murder Rates 1960-2000”\n",
    "\n",
    "Using data from FBI that I collected in March 22, 2017 \n",
    "\n",
    "To try to perform a Replication of Donohue and Wolfers (2006) analysis\n",
    "\n"
   ]
  },
  {
   "cell_type": "code",
   "execution_count": null,
   "id": "e322ec87-126b-4162-a40f-bc0edd3fbb89",
   "metadata": {},
   "outputs": [],
   "source": [
    "#open data\n",
    "mydata2 <- read_dta(\"dataLecture19murder.dta\")\n",
    "head(mydata2)\n",
    "# summarize data\n",
    "summary(mydata2)\n",
    "\n",
    "#with variables to use\n",
    "#by number of executions\n",
    "\n",
    "#ex10=1 if ex10>0\n",
    "\n",
    "#active=legal*ex10\n",
    "\n",
    "#passive=legal*(ex10==0)\n"
   ]
  },
  {
   "cell_type": "markdown",
   "id": "42f24058-edae-4fd0-ad3f-a1746dfbbe10",
   "metadata": {},
   "source": [
    "## Run regressions and Make table of results"
   ]
  },
  {
   "cell_type": "code",
   "execution_count": null,
   "id": "dfdfe436-2f88-4fda-8c94-1d1c983988bc",
   "metadata": {},
   "outputs": [],
   "source": [
    "# death penalty and murders\n",
    "REG1<-lm(pc_mur~legal,mydata2)\n",
    "REG2<-felm(pc_mur~legal| state+year+decade_ds, data=mydata2)\n",
    "REG3<-felm(pc_mur~legal+rpc_inc+ ur+ ipolice+ nonwhite +age15to19 +age20to24 | state+year+decade_ds, data=mydata2)\n",
    "REG4<-felm(pc_mur~active+ passive| state+year+decade_ds, data=mydata2)\n",
    "REG5<-felm(pc_mur~active+ passive+rpc_inc+ ur+ ipolice+ nonwhite +age15to19 +age20to24 | state+year+decade_ds, data=mydata2)\n"
   ]
  },
  {
   "cell_type": "code",
   "execution_count": null,
   "id": "e8577d24",
   "metadata": {},
   "outputs": [],
   "source": [
    "#make table\n",
    "stargazer(list(REG1,REG2,REG3, REG4, REG5), type=\"text\",keep.stat=c(\"n\",\"rsq\"))\n"
   ]
  },
  {
   "attachments": {},
   "cell_type": "markdown",
   "id": "f61427df",
   "metadata": {},
   "source": [
    "Active=1 if legal and there are executions, passive =1 if legal but no executions\n",
    "\n",
    " What do you conclude?\n",
    "\n"
   ]
  },
  {
   "cell_type": "markdown",
   "id": "b02f9d49-ee9b-41db-8426-d55de003eb23",
   "metadata": {},
   "source": [
    "## Placebos"
   ]
  },
  {
   "cell_type": "code",
   "execution_count": null,
   "id": "8b2bec32",
   "metadata": {},
   "outputs": [],
   "source": [
    "#placebo on other murders\n",
    "PREG1<-felm(pc_mur~active+ passive+rpc_inc+ ur+ ipolice+ nonwhite +age15to19 +age20to24 | state+year+decade_ds, data=mydata2)\n",
    "PREG2<-felm(violentcrimerate~active+ passive+rpc_inc+ ur+ ipolice+ nonwhite +age15to19 +age20to24 | state+year+decade_ds, data=mydata2)\n",
    "PREG3<-felm(pc_rob~active+ passive+rpc_inc+ ur+ ipolice+ nonwhite +age15to19 +age20to24 | state+year+decade_ds, data=mydata2)\n",
    "PREG4<-felm(pc_larc~active+ passive+rpc_inc+ ur+ ipolice+ nonwhite +age15to19 +age20to24 | state+year+decade_ds, data=mydata2)\n",
    "PREG5<-felm(pc_burg~active+ passive+rpc_inc+ ur+ ipolice+ nonwhite +age15to19 +age20to24 | state+year+decade_ds, data=mydata2)\n",
    "PREG6<-felm(pc_auto~active+ passive+rpc_inc+ ur+ ipolice+ nonwhite +age15to19 +age20to24 | state+year+decade_ds, data=mydata2)\n",
    "\n",
    "#make table\n",
    "stargazer(list(PREG1,PREG2,PREG3, PREG4, PREG5, PREG6), type=\"text\",keep.stat=c(\"n\",\"rsq\"))\n",
    "\n"
   ]
  },
  {
   "cell_type": "markdown",
   "id": "7ff47590",
   "metadata": {},
   "source": [
    "Even more convincing, show that active legal death penalty has deterrence on murder but not on other crimes (e.g., auto theft) "
   ]
  },
  {
   "attachments": {},
   "cell_type": "markdown",
   "id": "ad0be414",
   "metadata": {},
   "source": [
    "## Upcoming Lectures\n",
    "\n",
    "Learn methods to approach a policy impact analysis like the soda tax\n",
    "\n",
    "https://news.berkeley.edu/2019/04/02/berkeleys-soda-tax-election-changed-drinking-habits-months-before-prices-went-up/?fbclid=IwAR0NeswpSOdW82qoLZas348ZJpxyQLJ5oF3ZBl0j2pyrG3Olk3rvOKK1v5g\n",
    "\n",
    "\n",
    "Correlation is not causation , check these crazy spurious correlations:\n",
    "http://www.tylervigen.com/spurious-correlations\n",
    "\n"
   ]
  }
 ],
 "metadata": {
  "kernelspec": {
   "display_name": "R",
   "language": "R",
   "name": "ir"
  },
  "language_info": {
   "codemirror_mode": "r",
   "file_extension": ".r",
   "mimetype": "text/x-r-source",
   "name": "R",
   "pygments_lexer": "r",
   "version": "4.4.2"
  }
 },
 "nbformat": 4,
 "nbformat_minor": 5
}
