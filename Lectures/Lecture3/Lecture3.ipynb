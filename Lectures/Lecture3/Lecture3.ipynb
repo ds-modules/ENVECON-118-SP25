{
 "cells": [
  {
   "cell_type": "markdown",
   "metadata": {},
   "source": [
    "# Lecture 3 - Spring 2025 ENVECON/IAS 118 - Introductory Applied Econometrics \n"
   ]
  },
  {
   "cell_type": "markdown",
   "metadata": {},
   "source": [
    "As you see in slide 5 of Lecture 3, there appears to be some association between GDP per capita and CO2 per capita."
   ]
  },
  {
   "cell_type": "markdown",
   "metadata": {},
   "source": [
    "<p style=\"text-align: center;\"> Figure Slide 5 Lecture . </p>\n",
    "<img src=\"FigureLecture3.png\" width=\"600\" />"
   ]
  },
  {
   "cell_type": "markdown",
   "metadata": {},
   "source": [
    "\n",
    "We only include 6 (randomly) selected countries for the Lecture. The values for selected countries can be found in the csv file \"dataLecture3.csv\" "
   ]
  },
  {
   "cell_type": "code",
   "execution_count": null,
   "metadata": {},
   "outputs": [],
   "source": [
    "#get rid of scientific display of numbers\n",
    "options(scipen = 100, digits = 4)"
   ]
  },
  {
   "cell_type": "markdown",
   "metadata": {},
   "source": [
    "### Lecture 3 -  Relationship between GDP per capita and CO2 per capita \n",
    "We will estimate a simple linear relationship  between per capita CO2 and per capita GDP on a subset of 6 countries."
   ]
  },
  {
   "cell_type": "markdown",
   "metadata": {},
   "source": [
    "(a) Use R to create a scatter plot of these observations. "
   ]
  },
  {
   "cell_type": "markdown",
   "metadata": {},
   "source": [
    "a-Step 1: Load the .csv file called dataLecture3.csv. (Hint: the `read.csv()` command will likely be helpful.)"
   ]
  },
  {
   "cell_type": "code",
   "execution_count": null,
   "metadata": {},
   "outputs": [],
   "source": [
    "df<-read.csv(\"dataLecture3.csv\")"
   ]
  },
  {
   "cell_type": "markdown",
   "metadata": {},
   "source": [
    "a-Step 2: Look at the data. This dataset only has 6 rows so you can just call the entire dataset. In general you want to use the `head()` command so that R does not print the entire dataset which will take way too many pages."
   ]
  },
  {
   "cell_type": "code",
   "execution_count": null,
   "metadata": {},
   "outputs": [],
   "source": [
    "head(df)"
   ]
  },
  {
   "cell_type": "markdown",
   "metadata": {},
   "source": [
    "a-Step 4: Create a scatterplot of the data. Make sure to (1) label the axes and their\n",
    "units, and (2) title your graph. (Hint: the `plot()` command will likely come in handy. Use `help(plot)` or `?plot` to view the documentation for the function and how to include labels.)"
   ]
  },
  {
   "cell_type": "code",
   "execution_count": null,
   "metadata": {},
   "outputs": [],
   "source": [
    "plot(df$x, df$y, col = \"blue\",main=\"Scatter Plot - 6 countries\",\n",
    "        xlab=\"GDP per capita in US$100\",\n",
    "        ylab=\"CO2 per capita in tons\")\n"
   ]
  },
  {
   "cell_type": "markdown",
   "metadata": {},
   "source": [
    "b) Estimate the linear relationship between GDP per capita (\"x\") and CO2 per capita (\"y\") by OLS, showing all intermediate calculations.\n",
    "\n",
    "$$\\widehat{y} = \\hat{\\beta}_0 + \\hat{\\beta}_1 x$$\n",
    "\n",
    "For this exercise,  **DO NOT** use the built-in R commands like `cov()` or `lm()`. Use basic mathematical commands (`+`, `-`, `*`, `\\`, `sum()`, `^`) to reproduce all the values from table and show all the steps."
   ]
  },
  {
   "cell_type": "markdown",
   "metadata": {},
   "source": [
    "b-Step 1: Create new data objects called  __xbar__ and __ybar__ equal to the mean of __x__ and __y__."
   ]
  },
  {
   "cell_type": "code",
   "execution_count": null,
   "metadata": {},
   "outputs": [],
   "source": [
    "#if between () will display output\n",
    "(xbar<-mean(df$x))\n",
    "#and\n",
    "(ybar<-mean(df$y))\n",
    "#first is mean gdp_pc then mean CO2 pc\n"
   ]
  },
  {
   "cell_type": "markdown",
   "metadata": {},
   "source": [
    "b-Step 2: Calculate the covariance (only using the mathematical operations specified above) between x and y: $cov(x,y)$. \n",
    "\n",
    "- Do this by first creating two new columns of residuals: __xMINUSxbar__, a column that subtracts the __xbar__ from __x__ and __yMINUSybar__ that subtracts the __ybar__ from __y__. \n",
    "- Next create a column __xMINUSxbarTIMESyMINUSybar__ which is equal to __xMINUSxbar__ multiplied by __yMINUSybar__.\n",
    "- Finally, generate a value named `covarXY` which is equal to the sum of __xMINUSxbarTIMESyMINUSybar__ divided by n-1.\n",
    "- Make sure to call `covarXY` at the end so we can see it printed in the output.\n",
    "\n",
    "Hint: To add new columns to your dataset, you can use the following syntax: \n",
    "`dataset_name$new_var_name <- formula for the new variable`. "
   ]
  },
  {
   "cell_type": "code",
   "execution_count": null,
   "metadata": {},
   "outputs": [],
   "source": [
    "df$xMINUSxbar<-df$x-xbar\n",
    "df$yMINUSybar<-df$y-ybar\n",
    "df$xMINUSxbarTIMESyMINUSybar<-df$xMINUSxbar*df$yMINUSybar\n",
    "head(df)\n",
    "\n",
    "covarXY<-sum(df$xMINUSxbarTIMESyMINUSybar)/(6-1)\n",
    "covarXY"
   ]
  },
  {
   "cell_type": "markdown",
   "metadata": {},
   "source": [
    "b-Step 3: Calculate the variance. \n",
    "- First generate a column __sqxMinusxbar__ equal to the square of __xMINUSxbar__. \n",
    "- Generate a value named `varX` which is equal to the sum of __sqxMINUSxbar__ divided by n-1. \n",
    "- Make sure to call `varX` at the end so we can see it printed in the output."
   ]
  },
  {
   "cell_type": "code",
   "execution_count": null,
   "metadata": {},
   "outputs": [],
   "source": [
    "df$sqxMINUSxbar<-df$xMINUSxbar*df$xMINUSxbar\n",
    "head(df)\n",
    "varX<-sum(df$sqxMINUSxbar)/(6-1)\n",
    "varX\n"
   ]
  },
  {
   "cell_type": "markdown",
   "metadata": {},
   "source": [
    "b-Step 4: Using the quantities generated above, generate and print `beta_1hat` and `beta_0hat`, your estimates for $\\hat{\\beta}_0$ and $\\hat{\\beta}_1$."
   ]
  },
  {
   "cell_type": "code",
   "execution_count": null,
   "metadata": {},
   "outputs": [],
   "source": [
    "(beta_1hat<-covarXY/varX)\n",
    "(beta_0hat<-ybar-beta_1hat*xbar)"
   ]
  },
  {
   "cell_type": "markdown",
   "metadata": {},
   "source": [
    "c) Interpret the value of the estimated parameters $\\hat{\\beta}_0$ and $\\hat{\\beta}_1$"
   ]
  },
  {
   "cell_type": "markdown",
   "metadata": {},
   "source": [
    "The predicted CO2 for a country with zero GDP_pc is 1.8433 tons per capita, holding all else constant. Increasing GDP_pc by 1000 dollars increases predicted CO2 per capita by 0.297 tons per capita, holding all else constant."
   ]
  },
  {
   "cell_type": "markdown",
   "metadata": {},
   "source": [
    "d) In your data frame, compute the fitted value and the residual (the difference between the actual and fitted value) for each observation. Use only basic mathematical commands (`+`, `-`, `*`, `\\`, `sum()`, `^`) to do this. Create a new column named \"fyhat\" and another new column called \"uhat\". Call the head() of your dataset so we can see these new columns. Verify that the residuals sum to 0 (approximately)."
   ]
  },
  {
   "cell_type": "code",
   "execution_count": null,
   "metadata": {},
   "outputs": [],
   "source": [
    "df$yhat<-beta_0hat+beta_1hat*df$x\n",
    "df$uhat<-df$y-df$yhat\n",
    "head(df)"
   ]
  },
  {
   "cell_type": "markdown",
   "metadata": {},
   "source": [
    "<p style=\"text-align: center;\">  Slide 17 Lecture . </p>\n",
    "<img src=\"slide17.png\" width=\"600\" />"
   ]
  },
  {
   "cell_type": "markdown",
   "metadata": {},
   "source": [
    "e) How much of the variation in CO2 per capita for the 6 countries is explained by their GDP per capita?\n",
    "\n",
    "Calculate the $R^2$ by calculating the sum of squared model residuals and the sum of squared total (variation of the dependent variable). Use only basic mathematical commands (`+`, `-`, `*`, `\\`, `sum()`, `^`) to do this. Then calculate $R^2$ and make sure to call the value so we can see it printed out."
   ]
  },
  {
   "cell_type": "code",
   "execution_count": null,
   "metadata": {},
   "outputs": [],
   "source": [
    "SSR<-sum(df$uhat*df$uhat)\n",
    "SST<-sum(df$yMINUSybar*df$yMINUSybar)\n",
    "Rsquared<-1-(SSR/SST)\n",
    "\n",
    "Rsquared"
   ]
  },
  {
   "cell_type": "markdown",
   "metadata": {},
   "source": [
    " "
   ]
  }
 ],
 "metadata": {
  "kernelspec": {
   "display_name": "R",
   "language": "R",
   "name": "ir"
  },
  "language_info": {
   "codemirror_mode": "r",
   "file_extension": ".r",
   "mimetype": "text/x-r-source",
   "name": "R",
   "pygments_lexer": "r",
   "version": "4.4.2"
  }
 },
 "nbformat": 4,
 "nbformat_minor": 4
}
