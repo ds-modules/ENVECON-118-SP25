{
 "cells": [
  {
   "cell_type": "markdown",
   "metadata": {},
   "source": [
    "# Lecture 5 - EEP 118 Spring 2025¶\n"
   ]
  },
  {
   "cell_type": "markdown",
   "metadata": {},
   "source": [
    "This is the notebook for Lecture 5 where we learn about the statistical properties of the estimators from our linear models. \n",
    "\n",
    "We will see how the estimated coefficients, the standard errors of the estimated coefficients, and the R Squared change when the sample size in the data increases when we run a linear least squares regression estimation procedure. We do this in  Lecture 5 using R. \n",
    "\n",
    "To run, hit the `i>|Run` button on top middle bar and keep hitting and it will run line by line,\n",
    "\n",
    "OR\n",
    "\n",
    "To run a line that starts with In [ ]:  highlight the content and hit SHIFT ENTER at same time"
   ]
  },
  {
   "cell_type": "markdown",
   "metadata": {},
   "source": [
    "Let the unknown population model be \n",
    "\n",
    "$crmrte=\\beta_0+ \\beta_1  𝑝𝑜𝑙𝑝𝑐 +𝑢$   \n",
    "\n",
    "We will use a sample to estimate $\\hat{\\beta_0}$  and  $\\hat{\\beta_1}$ \n",
    "\n",
    "As shown in lecture,  $\\hat{\\beta_0}$  and  $\\hat{\\beta_1}$ are random variables.\n",
    "\n",
    "Given the estimated parameters, then the predicted crime rate, crmrte HAT, is equal to:\n",
    "\t$\\hat{crmrte_i}= \\hat{\\beta_0}+\\hat{\\beta_1} polpc_i $\t\n",
    "\n",
    "Where  $\\hat{\\beta_1}$  is the marginal effect of police per capita on predicted crime rate, namely $\\hat{crmrte}$ .\n"
   ]
  },
  {
   "cell_type": "markdown",
   "metadata": {},
   "source": [
    "$\\beta_0$  and  $\\beta_1$  are true unknown values from the population regression\n",
    "\n",
    "\n",
    "$\\hat{\\beta_0}$  and  $\\hat{\\beta_1}$  are estimators, (formulas) to compute an estimate (a value) with a sample\n",
    "\n",
    " \n",
    "\n",
    "If we use a different sample we get different values of $\\hat{\\beta_0}$  and  $\\hat{\\beta_1}$ \n",
    "\n",
    "If we repeat for many samples we get a distribution of $\\hat{\\beta_0}$  and  $\\hat{\\beta_1}$ \n",
    "\n",
    "If certain assumptions hold the distribution of $\\hat{\\beta_0}$  and  $\\hat{\\beta_1}$   will be related to $\\beta_0$  and  $\\beta_1$ \n"
   ]
  },
  {
   "cell_type": "code",
   "execution_count": null,
   "metadata": {},
   "outputs": [],
   "source": [
    "#load needed packages\n",
    "library(tidyverse)"
   ]
  },
  {
   "cell_type": "markdown",
   "metadata": {},
   "source": [
    "### Data Sample N=630\n",
    "\n",
    "Open the data set that we obtained by drawing a sample of size N=630 from the population of US counties, and estimate the linear model $crmrte=\\beta_0+ \\beta_1  𝑝𝑜𝑙𝑝𝑐 +𝑢$   by minimizing the sum of squared residuals to get $\\hat{\\beta_0}$  and  $\\hat{\\beta_1}$\n"
   ]
  },
  {
   "cell_type": "code",
   "execution_count": null,
   "metadata": {},
   "outputs": [],
   "source": [
    "#-------------------------------------------\n",
    "#1. Read in data and see the top rows to see column names etc\n",
    "#-------------------------------------------\n",
    "my_data <- read.csv(\"Lecture5.csv\")\n",
    "head(my_data)"
   ]
  },
  {
   "cell_type": "code",
   "execution_count": null,
   "metadata": {},
   "outputs": [],
   "source": [
    "#regression\n",
    "regLectureN630 <- lm(crmrte ~ polpc, my_data)\n",
    "#show output\n",
    "summary(regLectureN630)"
   ]
  },
  {
   "cell_type": "markdown",
   "metadata": {},
   "source": [
    "you get $\\hat{\\beta_0}=0.0292$  and  $\\hat{\\beta_1}=1.2246$."
   ]
  },
  {
   "attachments": {},
   "cell_type": "markdown",
   "metadata": {},
   "source": [
    "Given the above estimation, the predicted model is\n",
    "\n",
    "$\\hat{𝑐𝑟𝑚𝑟𝑡e_𝑖}=0.0292+1224 𝑝𝑜𝑙𝑝𝑐_i$\n",
    "\n",
    "I drew two additional samples of the same N=630\n",
    "and got the following for the second sample\n",
    "\n",
    "$\\hat{𝑐𝑟𝑚𝑟𝑡e_𝑖}=0.03+1.776 𝑝𝑜𝑙𝑝𝑐_i$\n",
    "\n",
    "and for the third sample of N=630\n",
    "\n",
    "$\\hat{𝑐𝑟𝑚𝑟𝑡e_𝑖}=0.03 +2.02 𝑝𝑜𝑙𝑝𝑐_i$\n",
    "\n",
    "\n",
    "The estimated parameters change across samples (like you see in problem set 1). \n",
    "\n",
    "If we were to average all three intercept estimated coefficients, for example, you would find on average an estimate that has as expected value the TRUE population parameter beta for the intercept.\n",
    "\n",
    "And the same for the slope, \n",
    "\n",
    "because E($\\hat{\\beta})=\\beta$ if we make four assumptions.\n",
    "\n"
   ]
  },
  {
   "cell_type": "markdown",
   "metadata": {},
   "source": [
    "### Statistical Properties of Estimator $\\hat{\\beta}$ \n",
    "\n",
    "Let the model, general y and x notation, be given by \n",
    "\n",
    " $ y=\\beta_0+ \\beta_1  x +𝑢$   \n",
    "\n",
    " 1. $\\hat{\\beta}=(\\hat{\\beta_0},\\hat{\\beta_1})$ are random variables\n",
    "\n",
    " 2. $\\hat{\\beta}$ are  unbiased, both the intercept and the slope:\n",
    "\n",
    "    E($\\hat{\\beta_0})=\\beta_0$,\n",
    "\n",
    "    E($\\hat{\\beta_1})=\\beta_1$\n",
    "\n",
    "    if  SLR1+SLR2+SLR3+SLR4 assumptions hold.\n",
    "\n",
    "       Where SLR is short for simple Linear Regression (SLR)\n",
    "\n"
   ]
  },
  {
   "attachments": {},
   "cell_type": "markdown",
   "metadata": {},
   "source": [
    "### What does each SLR assumption mean?\n",
    "\n",
    "SLR1, Y linear in parameters , that is $ y=\\beta_0+ \\beta_1  x +𝑢$  \n",
    "\n",
    "SLR2, { $(x_i,y_i)$, i=1,…n}  random sample in the population, then we can write for each observation $i$ the following $ y_i=\\beta_0+ \\beta_1  x_i +𝑢_i$ \n",
    "\n",
    "SLR3 There is variation in x in the sample (the sample variance of x cannot be zero), that is x needs to be varrying in the sample.\n",
    "\n",
    "SLR4 $E(u|x)=0$, that is there is zero conditional mean of the disturbance u and 𝑓𝑜𝑟 𝑡ℎ𝑒 𝑟𝑎𝑛𝑑𝑜𝑚 𝑠𝑎𝑚𝑝𝑙𝑒 $E(u_i|x_i)=0$, i=1,2, …, n \n",
    "\n",
    "    "
   ]
  },
  {
   "cell_type": "markdown",
   "metadata": {},
   "source": [
    "\n",
    "4. Repeating the same random sampling of N=630 observations gives different estimates, but if you were to average them up, you would find an  unbiased estimator for the population parameter, as we will show next under four assumptions. We will show that the expected value of the estimator is the true parameter, E($\\hat{\\beta})=\\beta$. We do not have a bias.\n",
    "\n",
    "We will show that our estimator is unbiased for the true parameter of the population\n"
   ]
  },
  {
   "cell_type": "markdown",
   "metadata": {},
   "source": [
    "<img src=\"samples.png\" width=\"650\" />"
   ]
  },
  {
   "cell_type": "markdown",
   "metadata": {},
   "source": [
    "\n",
    "### Proof of Unbiasedness"
   ]
  },
  {
   "attachments": {},
   "cell_type": "markdown",
   "metadata": {},
   "source": [
    "One can show that E($\\hat{\\beta_1})=\\beta_1$ if all four assumptions hold.\n",
    "\n",
    "Proof in book chapter 2, page 54 in  3rd edition\n",
    "Below is an illustration , if you take a more theoretical class we would go over it in great detail...\n"
   ]
  },
  {
   "cell_type": "markdown",
   "metadata": {},
   "source": [
    "<img src=\"unbiasBeta1hat.png\" width=\"350\" />\n",
    "<img src=\"unbiasBeta1hatCont.png\" width=\"350\" />\n",
    "<img src=\"unbiasBeta0hat.png\" width=\"350\" />"
   ]
  },
  {
   "cell_type": "markdown",
   "metadata": {},
   "source": [
    "### Now lets compare what happens when we change the sample size N"
   ]
  },
  {
   "cell_type": "markdown",
   "metadata": {},
   "source": [
    "Let's reduce the sample we use to estimate the model. Let us keep only year 87 , save as my_data2 dataframe."
   ]
  },
  {
   "cell_type": "code",
   "execution_count": null,
   "metadata": {},
   "outputs": [],
   "source": [
    "my_data2 <- filter(my_data, year == 87)\n",
    "head(my_data2)"
   ]
  },
  {
   "cell_type": "markdown",
   "metadata": {},
   "source": [
    "Regression of Crime Rate on Police Per Capita for Year 1987 only N=90"
   ]
  },
  {
   "cell_type": "code",
   "execution_count": null,
   "metadata": {},
   "outputs": [],
   "source": [
    "#regression\n",
    "regLectureN90 <- lm(crmrte ~ polpc, my_data2)\n",
    "#show output\n",
    "summary(regLectureN90)"
   ]
  },
  {
   "cell_type": "markdown",
   "metadata": {},
   "source": [
    "Lets compare with the regression using N=630\n"
   ]
  },
  {
   "cell_type": "code",
   "execution_count": null,
   "metadata": {},
   "outputs": [],
   "source": [
    "summary(regLectureN630)"
   ]
  },
  {
   "cell_type": "markdown",
   "metadata": {},
   "source": [
    "The estimated coefficients change, the sample changed, so no surprise there.\n",
    "\n",
    "But, more importantly look what happened to the standard errors for the estimated coeffiicents...\n"
   ]
  },
  {
   "cell_type": "markdown",
   "metadata": {},
   "source": [
    "<img src=\"stdErrorsN.png\" width=\"550\" />"
   ]
  },
  {
   "cell_type": "markdown",
   "metadata": {},
   "source": [
    "### Homoskedasticity Assumption\n",
    "\n",
    "Why is that?  \n",
    "\n",
    "Let us introduce a fifth Assumption for the linear model and derive the formula for the standard errors of our estimated coefficients and see how the standard errors change as N changes\n",
    "    "
   ]
  },
  {
   "cell_type": "markdown",
   "metadata": {},
   "source": [
    "What is the homoskedasticity Assumption?"
   ]
  },
  {
   "cell_type": "markdown",
   "metadata": {},
   "source": [
    "<img src=\"homosk.png\" width=\"550\" />"
   ]
  },
  {
   "cell_type": "markdown",
   "metadata": {},
   "source": [
    "<img src=\"SLR5.png\" width=\"650\" />"
   ]
  },
  {
   "cell_type": "markdown",
   "metadata": {},
   "source": [
    "### How do we obtain the estimated variance (or standard errors) of the estimated parameters?"
   ]
  },
  {
   "cell_type": "markdown",
   "metadata": {},
   "source": [
    "<img src=\"variancebetahat.png\" width=\"650\" />"
   ]
  },
  {
   "cell_type": "markdown",
   "metadata": {},
   "source": [
    "<img src=\"varbetahat.png\" width=\"650\" />"
   ]
  },
  {
   "cell_type": "markdown",
   "metadata": {},
   "source": [
    "Let us get the sample Variance of X and then SSTx\n",
    "\n",
    "$\\hat{var(x)}=\\frac{SSTx}{N-1}$\n",
    "\n",
    "So SSTx=$\\hat{var(x)}$ (N-1) \n",
    "\n",
    "In this case x is polpc\n",
    "\n"
   ]
  },
  {
   "cell_type": "code",
   "execution_count": null,
   "metadata": {},
   "outputs": [],
   "source": [
    "#get SSTx\n",
    "\n",
    "xbar<-mean(my_data$polpc)\n",
    "my_data$xMxbar<-my_data$polpc-xbar\n",
    "SSTx=sum(my_data$xMxbar*my_data$xMxbar)\n",
    "SSTx"
   ]
  },
  {
   "cell_type": "code",
   "execution_count": null,
   "metadata": {},
   "outputs": [],
   "source": [
    "# add predicted crime rate to my_data\n",
    "my_data <- mutate(my_data, crmrte_hat = regLectureN630$fitted.values)\n",
    "\n",
    "#generate uhats to get variance of uhats\n",
    "my_data <- mutate(my_data, uhat = regLectureN630$residuals)\n",
    "\n",
    "head(my_data)\n"
   ]
  },
  {
   "cell_type": "markdown",
   "metadata": {},
   "source": [
    "#### Lets get the Sum of squared residuals SSR, sum of squared uhats\n",
    "\n",
    "Since uhat_bar is zero\n",
    "\n",
    "Then the variance of uhats is sum uhat_i squared, \n",
    "which is SSR divided by N-2 \n",
    "\n",
    "We divide by N-2) because the model lost two degrees of freedom a constant and an x)\n"
   ]
  },
  {
   "cell_type": "code",
   "execution_count": null,
   "metadata": {},
   "outputs": [],
   "source": [
    "#get Sum of squared residuals SSR, sum of squared uhats\n",
    "#Since uhat_bar is zero\n",
    "SSR<-sum(my_data$uhat*my_data$uhat)\n",
    "SSR\n",
    "\n"
   ]
  },
  {
   "cell_type": "code",
   "execution_count": null,
   "metadata": {},
   "outputs": [],
   "source": [
    "#Then the variance of uhats is sum uhat_i squared, \n",
    "#which is SSR divided by N-2 \n",
    "#we divide by N-2) because the model lost two degrees of freedom a constant and an x)\n",
    "\n",
    "(varuhat<-SSR/(630-2))"
   ]
  },
  {
   "cell_type": "markdown",
   "metadata": {},
   "source": [
    "<img src=\"computations.png\" width=\"650\" />"
   ]
  },
  {
   "cell_type": "code",
   "execution_count": null,
   "metadata": {},
   "outputs": [],
   "source": [
    "#so varhat of betapolice per capita hat\n",
    "\n",
    "vhat_beta_polpc_hat<-varuhat/SSTx\n",
    "\n",
    "(sehat_beta_polpc_hat<-sqrt(vhat_beta_polpc_hat))"
   ]
  },
  {
   "cell_type": "markdown",
   "metadata": {},
   "source": [
    "Generate Predicted Crime Rate using $\\beta_0$ and $\\beta_1$ estimates of the regression you estimated"
   ]
  },
  {
   "cell_type": "markdown",
   "metadata": {},
   "source": [
    "### Plot Crime Rate and Predicted Crime Rate to see how well we are doing"
   ]
  },
  {
   "cell_type": "markdown",
   "metadata": {},
   "source": [
    "Get regression line estimates and police per capita graph"
   ]
  },
  {
   "cell_type": "markdown",
   "metadata": {},
   "source": [
    "Use the full sample N=630"
   ]
  },
  {
   "cell_type": "markdown",
   "metadata": {},
   "source": [
    "\n",
    "Combine the fitted values crime rate with the crime rate data on a scatterplot with police per capita on the horizontal x axis, for N=630"
   ]
  },
  {
   "cell_type": "code",
   "execution_count": null,
   "metadata": {},
   "outputs": [],
   "source": [
    "#We already generated fitted values\n",
    "\n",
    "#you can do that with one the the two versions of commands below\n",
    "\n",
    "#my_data$crmrte_hat<-regLectureN630$fitted.values\n",
    "#my_data <- mutate(my_data, crmrte_hat = regLectureN630$fitted.values)"
   ]
  },
  {
   "cell_type": "code",
   "execution_count": null,
   "metadata": {},
   "outputs": [],
   "source": [
    "#make combined scatter plot of crime rate data and fitted values of crime rate given regression estimates\n",
    "scatter_data_fittedVals <- ggplot(data = my_data) + \n",
    "                            geom_point(aes(x=polpc, y=crmrte, color = \"data\")) +\n",
    "                            geom_point(aes(x=polpc, y=crmrte_hat, color = \"fitted\")) + \n",
    "                            labs(x = \"Police Per Capita\",\n",
    "                                 y = \"Crime Rate\",\n",
    "                                 title = \"Police Per Capita and Crime Rate Fitted Values in Blue and Data in Red\",\n",
    "                                 subtitle = \"Full sample (N = 630)\")\n",
    "\n",
    "scatter_data_fittedVals"
   ]
  },
  {
   "cell_type": "code",
   "execution_count": null,
   "metadata": {},
   "outputs": [],
   "source": []
  },
  {
   "attachments": {},
   "cell_type": "markdown",
   "metadata": {},
   "source": [
    "## Take away from Lecture 5 \n",
    "### Statistical Properties of Estimator $\\hat{\\beta}$ \n",
    "\n",
    " 1. $\\hat{\\beta}$ are random variables\n",
    "\n",
    " 2. $\\hat{\\beta}$ are  unbiased, both the intercept and the slope:\n",
    "\n",
    "    E($\\hat{\\beta_0})=\\beta_0$,\n",
    "\n",
    "    E($\\hat{\\beta_1})=\\beta_1$\n",
    "\n",
    "    if  SLR1+SLR2+SLR3+SLR4 assumptions hold.\n",
    "\n",
    "        Where SLR is short for simple Linear Regression (SLR)\n",
    "\n",
    "         SLR1, Y linear in parameters\n",
    "\n",
    "         SLR2, { $(x_i,y_i)$, i=1,…n}  random sample in the population\n",
    "\n",
    "         SLR3 There is variation in x in the sample\n",
    "\n",
    "         SLR4 E(u|x)=0\n",
    "\n",
    "3. Repeating the same random sampling of N=630 observations gives different estimates, but if you were to average them up, you would find an  unbiased estimator for the population parameter, because  E($\\hat{\\beta})=\\beta$.\n",
    "\n",
    "4. Increasing sample size increases the precision of the estimate, or in other words, decreases the standard errors of the estimated coefficients, because given SLR5 (Homoskedasticity)\n",
    "      Var($\\hat{\\beta})=\\frac{var{u}}{SST_x}$.\n",
    "\n"
   ]
  },
  {
   "cell_type": "code",
   "execution_count": null,
   "metadata": {},
   "outputs": [],
   "source": []
  }
 ],
 "metadata": {
  "kernelspec": {
   "display_name": "R",
   "language": "R",
   "name": "ir"
  },
  "language_info": {
   "codemirror_mode": "r",
   "file_extension": ".r",
   "mimetype": "text/x-r-source",
   "name": "R",
   "pygments_lexer": "r",
   "version": "4.4.2"
  }
 },
 "nbformat": 4,
 "nbformat_minor": 4
}
