{
 "cells": [
  {
   "cell_type": "markdown",
   "id": "728deced-23ab-4273-876e-cfebfd545927",
   "metadata": {},
   "source": [
    "## Lecture 15 EEP118"
   ]
  },
  {
   "cell_type": "code",
   "execution_count": 1,
   "id": "06887552-148a-4cfb-82af-56ea89599542",
   "metadata": {},
   "outputs": [
    {
     "name": "stderr",
     "output_type": "stream",
     "text": [
      "Installing package into ‘/srv/r’\n",
      "(as ‘lib’ is unspecified)\n",
      "\n"
     ]
    },
    {
     "data": {
      "text/html": [
       "<table class=\"dataframe\">\n",
       "<caption>A tibble: 6 × 10</caption>\n",
       "<thead>\n",
       "\t<tr><th scope=col>price</th><th scope=col>assess</th><th scope=col>bdrms</th><th scope=col>lotsize</th><th scope=col>sqrft</th><th scope=col>colonial</th><th scope=col>lprice</th><th scope=col>lassess</th><th scope=col>llotsize</th><th scope=col>lsqrft</th></tr>\n",
       "\t<tr><th scope=col>&lt;dbl&gt;</th><th scope=col>&lt;dbl&gt;</th><th scope=col>&lt;dbl&gt;</th><th scope=col>&lt;dbl&gt;</th><th scope=col>&lt;dbl&gt;</th><th scope=col>&lt;dbl&gt;</th><th scope=col>&lt;dbl&gt;</th><th scope=col>&lt;dbl&gt;</th><th scope=col>&lt;dbl&gt;</th><th scope=col>&lt;dbl&gt;</th></tr>\n",
       "</thead>\n",
       "<tbody>\n",
       "\t<tr><td>300.000</td><td>349.1</td><td>4</td><td>6126</td><td>2438</td><td>1</td><td>5.703783</td><td>5.855359</td><td>8.720297</td><td>7.798934</td></tr>\n",
       "\t<tr><td>370.000</td><td>351.5</td><td>3</td><td>9903</td><td>2076</td><td>1</td><td>5.913503</td><td>5.862210</td><td>9.200593</td><td>7.638198</td></tr>\n",
       "\t<tr><td>191.000</td><td>217.7</td><td>3</td><td>5200</td><td>1374</td><td>0</td><td>5.252274</td><td>5.383118</td><td>8.556414</td><td>7.225482</td></tr>\n",
       "\t<tr><td>195.000</td><td>231.8</td><td>3</td><td>4600</td><td>1448</td><td>1</td><td>5.273000</td><td>5.445875</td><td>8.433811</td><td>7.277938</td></tr>\n",
       "\t<tr><td>373.000</td><td>319.1</td><td>4</td><td>6095</td><td>2514</td><td>1</td><td>5.921578</td><td>5.765504</td><td>8.715224</td><td>7.829630</td></tr>\n",
       "\t<tr><td>466.275</td><td>414.5</td><td>5</td><td>8566</td><td>2754</td><td>1</td><td>6.144775</td><td>6.027073</td><td>9.055556</td><td>7.920810</td></tr>\n",
       "</tbody>\n",
       "</table>\n"
      ],
      "text/latex": [
       "A tibble: 6 × 10\n",
       "\\begin{tabular}{llllllllll}\n",
       " price & assess & bdrms & lotsize & sqrft & colonial & lprice & lassess & llotsize & lsqrft\\\\\n",
       " <dbl> & <dbl> & <dbl> & <dbl> & <dbl> & <dbl> & <dbl> & <dbl> & <dbl> & <dbl>\\\\\n",
       "\\hline\n",
       "\t 300.000 & 349.1 & 4 & 6126 & 2438 & 1 & 5.703783 & 5.855359 & 8.720297 & 7.798934\\\\\n",
       "\t 370.000 & 351.5 & 3 & 9903 & 2076 & 1 & 5.913503 & 5.862210 & 9.200593 & 7.638198\\\\\n",
       "\t 191.000 & 217.7 & 3 & 5200 & 1374 & 0 & 5.252274 & 5.383118 & 8.556414 & 7.225482\\\\\n",
       "\t 195.000 & 231.8 & 3 & 4600 & 1448 & 1 & 5.273000 & 5.445875 & 8.433811 & 7.277938\\\\\n",
       "\t 373.000 & 319.1 & 4 & 6095 & 2514 & 1 & 5.921578 & 5.765504 & 8.715224 & 7.829630\\\\\n",
       "\t 466.275 & 414.5 & 5 & 8566 & 2754 & 1 & 6.144775 & 6.027073 & 9.055556 & 7.920810\\\\\n",
       "\\end{tabular}\n"
      ],
      "text/markdown": [
       "\n",
       "A tibble: 6 × 10\n",
       "\n",
       "| price &lt;dbl&gt; | assess &lt;dbl&gt; | bdrms &lt;dbl&gt; | lotsize &lt;dbl&gt; | sqrft &lt;dbl&gt; | colonial &lt;dbl&gt; | lprice &lt;dbl&gt; | lassess &lt;dbl&gt; | llotsize &lt;dbl&gt; | lsqrft &lt;dbl&gt; |\n",
       "|---|---|---|---|---|---|---|---|---|---|\n",
       "| 300.000 | 349.1 | 4 | 6126 | 2438 | 1 | 5.703783 | 5.855359 | 8.720297 | 7.798934 |\n",
       "| 370.000 | 351.5 | 3 | 9903 | 2076 | 1 | 5.913503 | 5.862210 | 9.200593 | 7.638198 |\n",
       "| 191.000 | 217.7 | 3 | 5200 | 1374 | 0 | 5.252274 | 5.383118 | 8.556414 | 7.225482 |\n",
       "| 195.000 | 231.8 | 3 | 4600 | 1448 | 1 | 5.273000 | 5.445875 | 8.433811 | 7.277938 |\n",
       "| 373.000 | 319.1 | 4 | 6095 | 2514 | 1 | 5.921578 | 5.765504 | 8.715224 | 7.829630 |\n",
       "| 466.275 | 414.5 | 5 | 8566 | 2754 | 1 | 6.144775 | 6.027073 | 9.055556 | 7.920810 |\n",
       "\n"
      ],
      "text/plain": [
       "  price   assess bdrms lotsize sqrft colonial lprice   lassess  llotsize\n",
       "1 300.000 349.1  4     6126    2438  1        5.703783 5.855359 8.720297\n",
       "2 370.000 351.5  3     9903    2076  1        5.913503 5.862210 9.200593\n",
       "3 191.000 217.7  3     5200    1374  0        5.252274 5.383118 8.556414\n",
       "4 195.000 231.8  3     4600    1448  1        5.273000 5.445875 8.433811\n",
       "5 373.000 319.1  4     6095    2514  1        5.921578 5.765504 8.715224\n",
       "6 466.275 414.5  5     8566    2754  1        6.144775 6.027073 9.055556\n",
       "  lsqrft  \n",
       "1 7.798934\n",
       "2 7.638198\n",
       "3 7.225482\n",
       "4 7.277938\n",
       "5 7.829630\n",
       "6 7.920810"
      ]
     },
     "metadata": {},
     "output_type": "display_data"
    }
   ],
   "source": [
    "#install packaged and load the data\n",
    "#Lecture15.R\n",
    "#LECTURE 15\n",
    "\n",
    "# Load the 'pacman' package\n",
    "install.packages(\"pacman\")\n",
    "library(pacman) \n",
    "#packages to use load them now using the pacman \"manager\"\n",
    "p_load(dplyr, haven, readr) \n",
    "#Another great feature of p_load(): if you try to load a package that is not installed on your machine, p_load() install the package for you, rather than throwing an error. For instance, let’s install and load one final package named ggplot2. \n",
    "p_load(ggplot2)\n",
    "\n",
    "pacman::p_load(lfe, lmtest, haven, sandwich, tidyverse)\n",
    "# lfe for running fixed effects regression\n",
    "# lmtest for displaying robust SE in output table\n",
    "# haven for loading in dta files\n",
    "# sandwich for producing robust Var-Cov matrix\n",
    "# tidyverse for manipulating data and producing plots\n",
    "\n",
    "\n",
    "\n",
    "#set scientific display off, thank you Roy\n",
    "options(scipen=999)\n",
    "\n",
    "#read in a Stata dataset\n",
    "my_data <- read_dta(\"Lecture14hprice1.dta\")\n",
    "head(my_data)\n",
    "\n",
    "#    Variable |       Obs        Mean    Std. Dev.       Min        Max\n",
    "#-------------+--------------------------------------------------------\n",
    "#  price |      88     293.546    102.7134        111        725 \t price       house price, $1000s\n",
    "#bdrms |        88    3.568182    .8413926          2          7\t bdrms        number of bedrooms\n",
    "#lotsize |      88    9019.864    10174.15       1000      92681\t lotsize       size of lot in square feet \n",
    "#sqrft |        88    2013.693    577.1916       1171       3880\t sqrft       size of house in square feet\n",
    "#colonial |     88    .6931818    .4638161          0          1\t\tcolonial     =1 if home is colonial style\n",
    "\n",
    "\n"
   ]
  },
  {
   "cell_type": "markdown",
   "id": "11157957-9d2a-4d5f-8a5b-010a7f3b246c",
   "metadata": {},
   "source": [
    "### How to obtain an estimate of the Prediction for the average value of all houses with bdrms=3, sqrft=2000, and lotsize=9000, that is get a prediction for the value of a house on average with certain characteristics?\n",
    "\n"
   ]
  },
  {
   "cell_type": "markdown",
   "id": "f021ac67-0df0-4631-99c8-a8b159d14dec",
   "metadata": {},
   "source": [
    "The trick is to transform the data and run a regression with the transformed data so that then the estimate of the constant is the average prediction you want and you also gets its standard error"
   ]
  },
  {
   "cell_type": "code",
   "execution_count": 2,
   "id": "3dfff2c0-92e0-4426-9409-91c0e45357ba",
   "metadata": {},
   "outputs": [
    {
     "data": {
      "text/plain": [
       "\n",
       "Call:\n",
       "lm(formula = price ~ bdrms0 + lotsize0 + sqrft0, data = my_data)\n",
       "\n",
       "Residuals:\n",
       "     Min       1Q   Median       3Q      Max \n",
       "-120.026  -38.530   -6.555   32.323  209.376 \n",
       "\n",
       "Coefficients:\n",
       "               Estimate  Std. Error t value             Pr(>|t|)    \n",
       "(Intercept) 283.9529869   8.1210704  34.965 < 0.0000000000000002 ***\n",
       "bdrms0       13.8525217   9.0101454   1.537              0.12795    \n",
       "lotsize0      0.0020677   0.0006421   3.220              0.00182 ** \n",
       "sqrft0        0.1227782   0.0132374   9.275   0.0000000000000166 ***\n",
       "---\n",
       "Signif. codes:  0 ‘***’ 0.001 ‘**’ 0.01 ‘*’ 0.05 ‘.’ 0.1 ‘ ’ 1\n",
       "\n",
       "Residual standard error: 59.83 on 84 degrees of freedom\n",
       "Multiple R-squared:  0.6724,\tAdjusted R-squared:  0.6607 \n",
       "F-statistic: 57.46 on 3 and 84 DF,  p-value: < 0.00000000000000022\n"
      ]
     },
     "metadata": {},
     "output_type": "display_data"
    }
   ],
   "source": [
    "\n",
    "#trick\n",
    "#Prediction for the average value of all houses with bdrms=3, sqrft=2000, and lotsize=9000:\n",
    "#generate transfored variables such that then the estimated constant gives us what we need\n",
    "#gen bdrms0=bdrms-3\n",
    "#gen sqrft0=sqrft-2000\n",
    "#gen lotsize0=lotsize-9000\n",
    "#reg price bdrms0 sqrft0 lotsize0\n",
    "\n",
    "my_data$bdrms0<-my_data$bdrms-3\n",
    "my_data$sqrft0<-my_data$sqrft-2000\n",
    "my_data$lotsize0<-my_data$lotsize-9000\n",
    "reg14rev <- lm(price~bdrms0+lotsize0+sqrft0, my_data)\n",
    "summary(reg14rev)\n"
   ]
  },
  {
   "cell_type": "markdown",
   "id": "5c3a2a07-0133-4a09-a7ea-d9df90f2e702",
   "metadata": {},
   "source": [
    "From the output we can get a confidence interval"
   ]
  },
  {
   "cell_type": "markdown",
   "id": "72d54432-8070-44c6-936f-b7370a69a1ab",
   "metadata": {},
   "source": [
    "t table got 5% critical from the t 88-4=84 degrees of freedom,, tc14\n",
    "\n",
    "\n",
    "95% conf interval for predicted average prices of a 3 bd rooom house 2000 sqrt, 9000lot\n",
    "\n",
    "283.95 - tc14 * 8.121 ;   283.95 + tc14 * 8.121"
   ]
  },
  {
   "cell_type": "markdown",
   "id": "0c7f27ba-ac36-42d5-a678-cb2da0e10775",
   "metadata": {},
   "source": [
    "The critical value for the 95% confidence interval is 2 (between 1.987 and 2.000 to be exact).\n",
    "The CI for average price E is thus\n",
    "\n",
    " 283.95 ±2 (8.12)  ≈   267.7 :    300.2  .  \n",
    " \n",
    "We predict the mean price to be between $267.7$ thousand dollars and $300.2$ thousand dollars. This was the CI for the average house E (of the above characteristics).\n",
    "The CI for the average house E is not the same as the CI for p, the price of a particular house of the above characteristics!!!\n"
   ]
  },
  {
   "cell_type": "code",
   "execution_count": 3,
   "id": "5efc9053-17ab-4987-9633-ebcab9cc35bf",
   "metadata": {},
   "outputs": [
    {
     "data": {
      "text/plain": [
       "\n",
       "Call:\n",
       "lm(formula = lprice ~ bdrms + lotsize + sqrft, data = my_data)\n",
       "\n",
       "Residuals:\n",
       "     Min       1Q   Median       3Q      Max \n",
       "-0.73389 -0.10792 -0.01595  0.11181  0.63914 \n",
       "\n",
       "Coefficients:\n",
       "               Estimate  Std. Error t value             Pr(>|t|)    \n",
       "(Intercept) 4.759375453 0.093536105  50.883 < 0.0000000000000002 ***\n",
       "bdrms       0.025238784 0.028592798   0.883              0.37992    \n",
       "lotsize     0.000005602 0.000002038   2.749              0.00732 ** \n",
       "sqrft       0.000364117 0.000042008   8.668    0.000000000000277 ***\n",
       "---\n",
       "Signif. codes:  0 ‘***’ 0.001 ‘**’ 0.01 ‘*’ 0.05 ‘.’ 0.1 ‘ ’ 1\n",
       "\n",
       "Residual standard error: 0.1899 on 84 degrees of freedom\n",
       "Multiple R-squared:  0.6223,\tAdjusted R-squared:  0.6088 \n",
       "F-statistic: 46.13 on 3 and 84 DF,  p-value: < 0.00000000000000022\n"
      ]
     },
     "metadata": {},
     "output_type": "display_data"
    },
    {
     "data": {
      "text/html": [
       "0.8372370977254"
      ],
      "text/latex": [
       "0.8372370977254"
      ],
      "text/markdown": [
       "0.8372370977254"
      ],
      "text/plain": [
       "[1] 0.8372371"
      ]
     },
     "metadata": {},
     "output_type": "display_data"
    }
   ],
   "source": [
    "#regression  in logs and in levels\n",
    "# and how to choose:\n",
    "\n",
    "#in logs\n",
    "reg15log <- lm(lprice~bdrms+lotsize+sqrft, my_data)\n",
    "summary(reg15log)\n",
    "lprice_hat<-reg15log$fitted.values\n",
    "price_hat<-exp(lprice_hat)\n",
    "aa<-exp(0.1899*0.1899*0.5)\n",
    "my_data$price_hat<-price_hat*aa\n",
    "#correlate then\n",
    "cor(my_data$price,my_data$price_hat)"
   ]
  },
  {
   "cell_type": "code",
   "execution_count": 4,
   "id": "465cc59e-4011-4380-a636-d637a619c605",
   "metadata": {},
   "outputs": [
    {
     "data": {
      "text/plain": [
       "\n",
       "Call:\n",
       "lm(formula = price ~ bdrms + lotsize + sqrft, data = my_data)\n",
       "\n",
       "Residuals:\n",
       "     Min       1Q   Median       3Q      Max \n",
       "-120.026  -38.530   -6.555   32.323  209.376 \n",
       "\n",
       "Coefficients:\n",
       "               Estimate  Std. Error t value           Pr(>|t|)    \n",
       "(Intercept) -21.7703081  29.4750419  -0.739            0.46221    \n",
       "bdrms        13.8525217   9.0101454   1.537            0.12795    \n",
       "lotsize       0.0020677   0.0006421   3.220            0.00182 ** \n",
       "sqrft         0.1227782   0.0132374   9.275 0.0000000000000166 ***\n",
       "---\n",
       "Signif. codes:  0 ‘***’ 0.001 ‘**’ 0.01 ‘*’ 0.05 ‘.’ 0.1 ‘ ’ 1\n",
       "\n",
       "Residual standard error: 59.83 on 84 degrees of freedom\n",
       "Multiple R-squared:  0.6724,\tAdjusted R-squared:  0.6607 \n",
       "F-statistic: 57.46 on 3 and 84 DF,  p-value: < 0.00000000000000022\n"
      ]
     },
     "metadata": {},
     "output_type": "display_data"
    },
    {
     "data": {
      "text/html": [
       "0.819976968080505"
      ],
      "text/latex": [
       "0.819976968080505"
      ],
      "text/markdown": [
       "0.819976968080505"
      ],
      "text/plain": [
       "[1] 0.819977"
      ]
     },
     "metadata": {},
     "output_type": "display_data"
    }
   ],
   "source": [
    "\n",
    "#in levels now:\n",
    "reg15lev <- lm(price~bdrms+lotsize+sqrft, my_data)\n",
    "summary(reg15lev)\n",
    "my_data$price_hat2<-reg15lev$fitted.values\n",
    "#correlate them\n",
    "cor(my_data$price,my_data$price_hat2)"
   ]
  },
  {
   "cell_type": "markdown",
   "id": "639a7978-677c-461d-a134-454110d965a0",
   "metadata": {},
   "source": [
    " We pick the one with the biggest correlation between price and predicted price.\n",
    " \n",
    " In this case:\n",
    " \n",
    " #correlate them\n",
    " cor(my_data$price,my_data$price_hat2)\n",
    "[1] 0.819977   with levels\n",
    "\n",
    "\n",
    "cor(my_data$price,my_data$price_hat)\n",
    "[1] 0.8372371   with logs\n",
    "\n",
    "\n",
    "If reg in levels, the correlation between price and predicted price is 0.8199\n",
    "\n",
    " If in logs , correlation of price and resulting predicted price is 0.8372, so…\n",
    " \n",
    " \n",
    " in logs is chosen"
   ]
  },
  {
   "cell_type": "markdown",
   "id": "78e907a2-703e-49a6-ae77-d778a3138bac",
   "metadata": {},
   "source": [
    "### THE END"
   ]
  }
 ],
 "metadata": {
  "kernelspec": {
   "display_name": "R",
   "language": "R",
   "name": "ir"
  },
  "language_info": {
   "codemirror_mode": "r",
   "file_extension": ".r",
   "mimetype": "text/x-r-source",
   "name": "R",
   "pygments_lexer": "r",
   "version": "4.4.2"
  }
 },
 "nbformat": 4,
 "nbformat_minor": 5
}
