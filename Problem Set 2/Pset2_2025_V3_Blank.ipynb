{
 "cells": [
  {
   "cell_type": "markdown",
   "metadata": {},
   "source": [
    "# Spring 2025 ENVECON/IAS 118 - Introductory Applied Econometrics Problem Set 2\n",
    "## Due on Gradescope, Midnight February 23\n",
    "\n",
    "# Submission Instructions \n",
    "\n",
    "Go to the file dropdown menu and select the ”Save and export notebook as” dropdown menu. In this menu make sure to select ”PDF”, \"Webpdf\" or \"PDF via Chrome\" (if that option appears instead). \n",
    "\n",
    "The figures in the problem statement may not show up in the pdf you generate. Once you have downloaded this pdf, make sure it shows all your answers and upload it to Gradescope: https://www.gradescope.com/courses/927499\n",
    "\n",
    "-----------------------------------------"
   ]
  },
  {
   "cell_type": "markdown",
   "metadata": {},
   "source": [
    "## Question 1: What factors affect the demand for fish in the New York fresh fish market?\n",
    "\n",
    "This question is an adapted case from a paper published in the Journal of Economic Perspectives (JEP, 2006) titled ''Markets: The Fulton Fish Market,'' by Kathryn Graddy. Full citation: \n",
    "Journal of Economic Perspectives, vol. 20, no. 2, Spring 2006 (pp. 207–220).\n",
    "\n",
    "Graddy uses data price and quantity data to estimate fish demand in the New York fish market.  (But you do not need to read the paper to complete the problem set): \n",
    "\n",
    "In this problem set, we study the demand for fish for different days of the week in the New York Fish Market using a sample of 111 daily observations."
   ]
  },
  {
   "cell_type": "markdown",
   "metadata": {},
   "source": [
    "## Data Description\n",
    "The data for this exercise come from daily fish quantity sold and price data. The data also has a column identifying which day of the week the observation pertains to, that is, if it is for a Monday, Tuesday, ..., or Friday. It also identifies weather variables for each daily observation.\n",
    "\n",
    "The variables included in the `fishData.dta` that are required for this question are:"
   ]
  },
  {
   "cell_type": "markdown",
   "metadata": {},
   "source": [
    "• `date`  a numeric variable identifying a date\n",
    "\n",
    "• `day1` : dummy equal to 1 if it is a Monday, 0 otherwise\n",
    "\n",
    "• `day2` : dummy equal to 1 if it is a Tuesday, 0 otherwise\n",
    "\n",
    "• `day3` : dummy equal to 1 if it is a Wednesday, 0 otherwise\n",
    "\n",
    "• `day4` : dummy equal to 1 if it is a Thursday, 0 otherwise\n",
    "\n",
    "• `day5` : dummy equal to 1 if it is a Friday, 0 otherwise\n",
    "\n",
    "• `p`: price of fish in dollars per pound\n",
    "\n",
    "• `q`: quantity sold in pounds\n",
    "\n",
    "• `rainy`: dummy equal to 1 if it is a rainy day, 0 otherwise\n",
    "\n",
    "• `cold`: dummy equal to 1 if it is a cold day, 0 otherwise\n",
    "\n",
    "• `stormy`: dummy equal to 1 if it is stormy at see for fishermen that day, 0 otherwise\n",
    "\n",
    "• `windspeed`: wind speed in knots\n"
   ]
  },
  {
   "cell_type": "markdown",
   "metadata": {},
   "source": [
    "## Question 1 : Descriptive Statistics"
   ]
  },
  {
   "cell_type": "markdown",
   "metadata": {},
   "source": [
    "Load the dataset `fishdata.dta`. Notice that this is a `.dta` file so you will need to use the `haven` package. Use the `head()` function to have a look at the dataset."
   ]
  },
  {
   "cell_type": "code",
   "execution_count": null,
   "metadata": {
    "scrolled": true
   },
   "outputs": [],
   "source": [
    "library(haven)\n",
    "# Read in data\n",
    "mydata <- read_dta(\"fishData.dta\")\n",
    "head(mydata)"
   ]
  },
  {
   "cell_type": "markdown",
   "metadata": {},
   "source": [
    "### a) Create log of price and log of q Variables\n",
    "Please create the log of q and the log of p and add them to the dataframe."
   ]
  },
  {
   "cell_type": "code",
   "execution_count": null,
   "metadata": {},
   "outputs": [],
   "source": [
    "# Type code here"
   ]
  },
  {
   "cell_type": "markdown",
   "metadata": {},
   "source": [
    "### b) Descriptive statistics\n",
    "\n",
    "#### i) Weather characteristic\n",
    "\n",
    "How many days are in your data? How many days are rainy days, and how many are not rainy days? \n"
   ]
  },
  {
   "cell_type": "code",
   "execution_count": null,
   "metadata": {},
   "outputs": [],
   "source": [
    "# Type code here"
   ]
  },
  {
   "cell_type": "markdown",
   "metadata": {},
   "source": [
    "Type answer here\n"
   ]
  },
  {
   "cell_type": "markdown",
   "metadata": {},
   "source": [
    "\n",
    "#### ii) What is the mean price on rainy days? \n",
    "\n",
    "Hint: check for the `mean()` syntax in this website: https://www.rdocumentation.org/packages/base/versions/3.6.2/topics/mean ."
   ]
  },
  {
   "cell_type": "code",
   "execution_count": null,
   "metadata": {},
   "outputs": [],
   "source": [
    "# Type code here"
   ]
  },
  {
   "cell_type": "markdown",
   "metadata": {},
   "source": [
    "Type answer here"
   ]
  },
  {
   "cell_type": "markdown",
   "metadata": {},
   "source": [
    "#### iii) Measures of dispersion\n",
    "\n",
    "Compute the standard deviation of the q and p variables.\n",
    "\n",
    "You can use canned functions for the standard deviations."
   ]
  },
  {
   "cell_type": "code",
   "execution_count": null,
   "metadata": {},
   "outputs": [],
   "source": [
    "# Type code here"
   ]
  },
  {
   "cell_type": "markdown",
   "metadata": {},
   "source": [
    "Type answer here"
   ]
  },
  {
   "cell_type": "markdown",
   "metadata": {},
   "source": [
    "### b) Histogram for q\n",
    "\n",
    "#### i) Plot a histogram (Hint: use the `hist()` command) of q, with 10 bins."
   ]
  },
  {
   "cell_type": "code",
   "execution_count": null,
   "metadata": {},
   "outputs": [],
   "source": [
    "# Type code here"
   ]
  },
  {
   "cell_type": "markdown",
   "metadata": {},
   "source": [
    "Type answer here"
   ]
  },
  {
   "cell_type": "markdown",
   "metadata": {},
   "source": [
    "#### ii) In the same graph, plot the histogram for q in red for rainy days and in blue for non rainy days\n",
    "\n",
    "What do you conclude when comparing the histogram for rainy and non rainy days"
   ]
  },
  {
   "cell_type": "code",
   "execution_count": null,
   "metadata": {},
   "outputs": [],
   "source": [
    "# Type code here"
   ]
  },
  {
   "cell_type": "markdown",
   "metadata": {},
   "source": [
    "Type answer here"
   ]
  },
  {
   "attachments": {},
   "cell_type": "markdown",
   "metadata": {},
   "source": [
    "### c) Comparisons of q for rainy and non-rainy days\n",
    "\n",
    "#### i) Means of quantity\n",
    "\n",
    "Calculate the mean of q between rainy- and non-rainy days and their standard errors. Compare the two means, do they seem substantially different?\n",
    "\n",
    "Hint: Use the tidyverse (dplyr) method (after loading the appropriate package in the preamble):\n",
    "filter() trims dataframe to observations with only rainy days and those with only non-rainy days\r\n"
   ]
  },
  {
   "cell_type": "code",
   "execution_count": null,
   "metadata": {},
   "outputs": [],
   "source": [
    "# Type code here"
   ]
  },
  {
   "cell_type": "markdown",
   "metadata": {},
   "source": [
    "Type answer here"
   ]
  },
  {
   "cell_type": "markdown",
   "metadata": {},
   "source": [
    "#### ii) Test Statistics\n",
    "\n",
    "Create a test statistic for the difference of the mean of q between rainy- and non-rainy days. Use a two-tail test. Is the difference statistically significant at the 0.90 confidence level? \n"
   ]
  },
  {
   "cell_type": "code",
   "execution_count": null,
   "metadata": {},
   "outputs": [],
   "source": [
    "# Type code here"
   ]
  },
  {
   "cell_type": "markdown",
   "metadata": {},
   "source": [
    "Type answer here"
   ]
  },
  {
   "cell_type": "markdown",
   "metadata": {},
   "source": [
    "## Question 2: Effect of price on quantity"
   ]
  },
  {
   "cell_type": "markdown",
   "metadata": {},
   "source": [
    "In this part of the exercise, we will estimate the effect of price on quantity sold each day. Consider the two following models:\n",
    "\n",
    "Model (1): $q = \\beta_0 + \\beta_1 \\ p   + u $\n",
    "\n",
    "Model (2):  $q = \\beta_0 + \\beta_1 \\ p + \\beta_2 \\ rainy + u $\n",
    "\n"
   ]
  },
  {
   "cell_type": "markdown",
   "metadata": {},
   "source": [
    "### a) Estimation\n",
    "\n",
    "Estimate equations (1) and (2) with `lm()`."
   ]
  },
  {
   "cell_type": "code",
   "execution_count": null,
   "metadata": {},
   "outputs": [],
   "source": [
    "# Type code here"
   ]
  },
  {
   "cell_type": "markdown",
   "metadata": {},
   "source": [
    "### b) Interpretation\n",
    "\n",
    "Interpret each of the estimated parameters associated with the covariates (other than the constant) of Model (2) - as sign and size (for now, no need to talk about significance)\n",
    "\n",
    "As an illustration, the estimated beta_0 is the predicted quantity sold when price is zero and it is not raining, holding all else constant."
   ]
  },
  {
   "cell_type": "markdown",
   "metadata": {},
   "source": [
    "Type answer here"
   ]
  },
  {
   "cell_type": "markdown",
   "metadata": {},
   "source": [
    "### c) Omitted Variable Bias\n",
    "\n",
    "How did your estimate of $\\hat{\\beta}_1$ change between equation (1) and equation (2)? Without performing any calculations, what information does this give you about the correlation between rainy days and price in the sample? (Explain your reasoning in no more than 4 sentences.)"
   ]
  },
  {
   "cell_type": "markdown",
   "metadata": {},
   "source": [
    "Type answer here"
   ]
  },
  {
   "cell_type": "markdown",
   "metadata": {},
   "source": [
    "### d) Prediction\n",
    "\n",
    "#### i) Predict the expected quantity sold, if it is a rainy day and price is equal to 2 using your estimates from Model (2)."
   ]
  },
  {
   "cell_type": "code",
   "execution_count": null,
   "metadata": {},
   "outputs": [],
   "source": [
    "# Type code here"
   ]
  },
  {
   "cell_type": "markdown",
   "metadata": {},
   "source": [
    "Type answer here"
   ]
  },
  {
   "cell_type": "markdown",
   "metadata": {},
   "source": [
    "#### ii) Predict the expected quantity sold, if it is not a rainy day and price is equal to 2 using your estimates from Model (2)."
   ]
  },
  {
   "cell_type": "code",
   "execution_count": null,
   "metadata": {},
   "outputs": [],
   "source": [
    "# Type code here"
   ]
  },
  {
   "cell_type": "markdown",
   "metadata": {},
   "source": [
    "Type answer here"
   ]
  },
  {
   "cell_type": "markdown",
   "metadata": {},
   "source": [
    "## Question 3: Hypothesis testing"
   ]
  },
  {
   "cell_type": "markdown",
   "metadata": {},
   "source": [
    "### (a) Specify and estimate a model that allows you to test the following two hypotheses:\n",
    "\n",
    "\n",
    "1) The windspeed does not affect the quantity of fish sold holding price, rain, and cold days constant.\n",
    "   \n",
    "2) A rainy day has the same effect on quantity sold than a cold day holding price and windspeed constant.\n"
   ]
  },
  {
   "cell_type": "code",
   "execution_count": null,
   "metadata": {},
   "outputs": [],
   "source": [
    "# Type code here"
   ]
  },
  {
   "cell_type": "markdown",
   "metadata": {},
   "source": [
    "### (b) Hypothesis 1\n",
    "\n",
    "Given the estimated Model, what can you conclude about your first hypothesis? Use the five steps of hypothesis testing.\n",
    "\n"
   ]
  },
  {
   "cell_type": "code",
   "execution_count": null,
   "metadata": {
    "scrolled": true
   },
   "outputs": [],
   "source": [
    "# Type code here"
   ]
  },
  {
   "cell_type": "markdown",
   "metadata": {},
   "source": [
    "Type answer here"
   ]
  },
  {
   "cell_type": "markdown",
   "metadata": {},
   "source": [
    "### (c) Omitting Windspeed\n",
    "\n",
    "If you omit windspeed from the above model, what happens to the estimate of price? Why is that? explain with the omitted variable formula argument\n"
   ]
  },
  {
   "cell_type": "code",
   "execution_count": null,
   "metadata": {},
   "outputs": [],
   "source": [
    "# Type code here"
   ]
  },
  {
   "cell_type": "markdown",
   "metadata": {},
   "source": [
    "Type answer here"
   ]
  },
  {
   "cell_type": "markdown",
   "metadata": {},
   "source": [
    "## Question 3"
   ]
  },
  {
   "cell_type": "markdown",
   "metadata": {},
   "source": [
    "The data in the sample are for weekdays only, from Monday to Friday.\n",
    "What would happen if you ran the following model?\n",
    "\n",
    " $q = \\beta_0 + \\beta_1 \\ p + \\beta_2 \\ rainy + day1 \\ \\alpha_1 + day2 \\ \\alpha_2 + day3 \\ \\alpha_3 + day4 \\ \\alpha_4 + day5 \\ \\alpha_5 + u $\n",
    "\n",
    "Please explain why that is."
   ]
  },
  {
   "cell_type": "code",
   "execution_count": null,
   "metadata": {},
   "outputs": [],
   "source": [
    "# Type your code here if you wish to estimate to illustrate\n",
    "# but you do not need to estimate the model to answer this question\n",
    "# A simple answer below suffices"
   ]
  },
  {
   "cell_type": "markdown",
   "metadata": {},
   "source": [
    "Type answer here"
   ]
  },
  {
   "cell_type": "markdown",
   "metadata": {},
   "source": [
    "# THE END"
   ]
  }
 ],
 "metadata": {
  "kernelspec": {
   "display_name": "R",
   "language": "R",
   "name": "ir"
  },
  "language_info": {
   "codemirror_mode": "r",
   "file_extension": ".r",
   "mimetype": "text/x-r-source",
   "name": "R",
   "pygments_lexer": "r",
   "version": "4.4.2"
  }
 },
 "nbformat": 4,
 "nbformat_minor": 4
}
