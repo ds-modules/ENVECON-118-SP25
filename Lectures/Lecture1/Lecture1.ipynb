{
 "cells": [
  {
   "cell_type": "markdown",
   "metadata": {},
   "source": [
    "# Spring 2025 ENVECON/IAS 118 - Introductory Applied Econometrics \n",
    "\n",
    "## Small Assignment Lecture 1\n",
    "\n"
   ]
  },
  {
   "cell_type": "markdown",
   "metadata": {},
   "source": [
    "The tariff data are from the UN Trade and Development (UNCTAD), an intergovernmental organization within the United Nations Secretariat. UNCTAD's average tariff for a country is calculated by taking into consideration all products that are imported by the country, regardless of trade.\n",
    "\n",
    "The CPI data are from the International Monetary Fund. \n",
    "\n",
    "We only include some (randomly) selected countries for the assignment. The values for selected countries can be found in the csv files \"tariff_cpi.csv\"."
   ]
  },
  {
   "cell_type": "code",
   "execution_count": null,
   "metadata": {},
   "outputs": [],
   "source": [
    "#get rid of scientific display of numbers\n",
    "options(scipen = 100, digits = 4)"
   ]
  },
  {
   "cell_type": "markdown",
   "metadata": {},
   "source": [
    "## Relationship between tariffs and inflation (CPI) \n",
    "We will examine the relationship  between tariffs and cpi on a subset of 9 countries."
   ]
  },
  {
   "cell_type": "markdown",
   "metadata": {},
   "source": [
    "(a) Use R to create a scatter plot of these observations. "
   ]
  },
  {
   "cell_type": "markdown",
   "metadata": {},
   "source": [
    "a-Step 1: Load the .csv file called tariff_cpi.csv. (Hint: the `read.csv()` command will likely be helpful.)\n",
    "By running the command below you upload the data into R and create a dataframe called df  "
   ]
  },
  {
   "cell_type": "code",
   "execution_count": 1,
   "metadata": {},
   "outputs": [],
   "source": [
    "df<-read.csv(\"tariff_cpi.csv\")"
   ]
  },
  {
   "cell_type": "markdown",
   "metadata": {},
   "source": [
    "a-Step 2: Look at the data. This dataset only has 9 rows so you can just call the entire dataset. In general, you want to use the `head()` command so that R does not print the entire dataset which will take way too many pages."
   ]
  },
  {
   "cell_type": "code",
   "execution_count": 2,
   "metadata": {},
   "outputs": [
    {
     "data": {
      "text/html": [
       "<table class=\"dataframe\">\n",
       "<caption>A data.frame: 6 × 3</caption>\n",
       "<thead>\n",
       "\t<tr><th></th><th scope=col>country</th><th scope=col>X2022CPI</th><th scope=col>tariffProtect</th></tr>\n",
       "\t<tr><th></th><th scope=col>&lt;chr&gt;</th><th scope=col>&lt;dbl&gt;</th><th scope=col>&lt;dbl&gt;</th></tr>\n",
       "</thead>\n",
       "<tbody>\n",
       "\t<tr><th scope=row>1</th><td>Australia</td><td> 6.60</td><td>8.4</td></tr>\n",
       "\t<tr><th scope=row>2</th><td>Brazil   </td><td> 9.30</td><td>8.8</td></tr>\n",
       "\t<tr><th scope=row>3</th><td>China    </td><td> 2.00</td><td>2.1</td></tr>\n",
       "\t<tr><th scope=row>4</th><td>India    </td><td> 5.90</td><td>6.0</td></tr>\n",
       "\t<tr><th scope=row>5</th><td>Japan    </td><td> 2.50</td><td>0.8</td></tr>\n",
       "\t<tr><th scope=row>6</th><td>Russia   </td><td>13.77</td><td>8.3</td></tr>\n",
       "</tbody>\n",
       "</table>\n"
      ],
      "text/latex": [
       "A data.frame: 6 × 3\n",
       "\\begin{tabular}{r|lll}\n",
       "  & country & X2022CPI & tariffProtect\\\\\n",
       "  & <chr> & <dbl> & <dbl>\\\\\n",
       "\\hline\n",
       "\t1 & Australia &  6.60 & 8.4\\\\\n",
       "\t2 & Brazil    &  9.30 & 8.8\\\\\n",
       "\t3 & China     &  2.00 & 2.1\\\\\n",
       "\t4 & India     &  5.90 & 6.0\\\\\n",
       "\t5 & Japan     &  2.50 & 0.8\\\\\n",
       "\t6 & Russia    & 13.77 & 8.3\\\\\n",
       "\\end{tabular}\n"
      ],
      "text/markdown": [
       "\n",
       "A data.frame: 6 × 3\n",
       "\n",
       "| <!--/--> | country &lt;chr&gt; | X2022CPI &lt;dbl&gt; | tariffProtect &lt;dbl&gt; |\n",
       "|---|---|---|---|\n",
       "| 1 | Australia |  6.60 | 8.4 |\n",
       "| 2 | Brazil    |  9.30 | 8.8 |\n",
       "| 3 | China     |  2.00 | 2.1 |\n",
       "| 4 | India     |  5.90 | 6.0 |\n",
       "| 5 | Japan     |  2.50 | 0.8 |\n",
       "| 6 | Russia    | 13.77 | 8.3 |\n",
       "\n"
      ],
      "text/plain": [
       "  country   X2022CPI tariffProtect\n",
       "1 Australia  6.60    8.4          \n",
       "2 Brazil     9.30    8.8          \n",
       "3 China      2.00    2.1          \n",
       "4 India      5.90    6.0          \n",
       "5 Japan      2.50    0.8          \n",
       "6 Russia    13.77    8.3          "
      ]
     },
     "metadata": {},
     "output_type": "display_data"
    }
   ],
   "source": [
    "head(df)"
   ]
  },
  {
   "cell_type": "markdown",
   "metadata": {},
   "source": [
    "a-Step 3: Rename the variables to \"countryname\", \"cpi\", and \"tariff\". (Hint: the `colnames()` command may be useful. Also, remember that to select multiple values (such as multiple variable names, you can use R's vector notation `c()`. For example: `c(\"a\", \"b\", \"c\")`."
   ]
  },
  {
   "cell_type": "code",
   "execution_count": 3,
   "metadata": {},
   "outputs": [
    {
     "data": {
      "text/html": [
       "<table class=\"dataframe\">\n",
       "<caption>A data.frame: 6 × 3</caption>\n",
       "<thead>\n",
       "\t<tr><th></th><th scope=col>countryname</th><th scope=col>cpi</th><th scope=col>tariff</th></tr>\n",
       "\t<tr><th></th><th scope=col>&lt;chr&gt;</th><th scope=col>&lt;dbl&gt;</th><th scope=col>&lt;dbl&gt;</th></tr>\n",
       "</thead>\n",
       "<tbody>\n",
       "\t<tr><th scope=row>1</th><td>Australia</td><td> 6.60</td><td>8.4</td></tr>\n",
       "\t<tr><th scope=row>2</th><td>Brazil   </td><td> 9.30</td><td>8.8</td></tr>\n",
       "\t<tr><th scope=row>3</th><td>China    </td><td> 2.00</td><td>2.1</td></tr>\n",
       "\t<tr><th scope=row>4</th><td>India    </td><td> 5.90</td><td>6.0</td></tr>\n",
       "\t<tr><th scope=row>5</th><td>Japan    </td><td> 2.50</td><td>0.8</td></tr>\n",
       "\t<tr><th scope=row>6</th><td>Russia   </td><td>13.77</td><td>8.3</td></tr>\n",
       "</tbody>\n",
       "</table>\n"
      ],
      "text/latex": [
       "A data.frame: 6 × 3\n",
       "\\begin{tabular}{r|lll}\n",
       "  & countryname & cpi & tariff\\\\\n",
       "  & <chr> & <dbl> & <dbl>\\\\\n",
       "\\hline\n",
       "\t1 & Australia &  6.60 & 8.4\\\\\n",
       "\t2 & Brazil    &  9.30 & 8.8\\\\\n",
       "\t3 & China     &  2.00 & 2.1\\\\\n",
       "\t4 & India     &  5.90 & 6.0\\\\\n",
       "\t5 & Japan     &  2.50 & 0.8\\\\\n",
       "\t6 & Russia    & 13.77 & 8.3\\\\\n",
       "\\end{tabular}\n"
      ],
      "text/markdown": [
       "\n",
       "A data.frame: 6 × 3\n",
       "\n",
       "| <!--/--> | countryname &lt;chr&gt; | cpi &lt;dbl&gt; | tariff &lt;dbl&gt; |\n",
       "|---|---|---|---|\n",
       "| 1 | Australia |  6.60 | 8.4 |\n",
       "| 2 | Brazil    |  9.30 | 8.8 |\n",
       "| 3 | China     |  2.00 | 2.1 |\n",
       "| 4 | India     |  5.90 | 6.0 |\n",
       "| 5 | Japan     |  2.50 | 0.8 |\n",
       "| 6 | Russia    | 13.77 | 8.3 |\n",
       "\n"
      ],
      "text/plain": [
       "  countryname cpi   tariff\n",
       "1 Australia    6.60 8.4   \n",
       "2 Brazil       9.30 8.8   \n",
       "3 China        2.00 2.1   \n",
       "4 India        5.90 6.0   \n",
       "5 Japan        2.50 0.8   \n",
       "6 Russia      13.77 8.3   "
      ]
     },
     "metadata": {},
     "output_type": "display_data"
    }
   ],
   "source": [
    "colnames(df) <- c(\"countryname\",\"cpi\",\"tariff\")\n",
    "head(df)\n"
   ]
  },
  {
   "cell_type": "markdown",
   "metadata": {},
   "source": [
    "a-Step 4: Create a scatterplot of the data. Make sure to (1) label the axes and their\n",
    "units, and (2) title your graph. (Hint: the `plot()` command will likely come in handy. Use `help(plot)` or `?plot` to view the documentation for the function and how to include labels.)"
   ]
  },
  {
   "cell_type": "code",
   "execution_count": 4,
   "metadata": {},
   "outputs": [
    {
     "data": {
      "image/png": "[encoded data removed]",
      "text/plain": [
       "Plot with title “Scatter Plot - 9 countries”"
      ]
     },
     "metadata": {
      "image/png": {
       "height": 420,
       "width": 420
      }
     },
     "output_type": "display_data"
    }
   ],
   "source": [
    "#scatter plot of the data\n",
    "plot(df$tariff, df$cpi,  col = \"blue\",main=\"Scatter Plot - 9 countries\",\n",
    "     ylab=\"2022 CPI\",\n",
    "     xlab=\"2021 Tariff protection non Ag and non Fuel in %\")\n",
    "\n"
   ]
  }
 ],
 "metadata": {
  "kernelspec": {
   "display_name": "R",
   "language": "R",
   "name": "ir"
  },
  "language_info": {
   "codemirror_mode": "r",
   "file_extension": ".r",
   "mimetype": "text/x-r-source",
   "name": "R",
   "pygments_lexer": "r",
   "version": "4.4.1"
  }
 },
 "nbformat": 4,
 "nbformat_minor": 4
}
