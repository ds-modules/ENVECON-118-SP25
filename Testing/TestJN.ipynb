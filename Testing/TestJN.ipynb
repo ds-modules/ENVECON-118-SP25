{
 "cells": [
  {
   "cell_type": "markdown",
   "metadata": {},
   "source": [
    "# EEP/IAS 118 - Introductory Applied Econometrics Problem Set 3\n",
    "\n",
    "## Problem Set 3, Spring 2024, Villas-Boas\n",
    "\n",
    "#### <span style=\"text-decoration: underline\">Deadline: See Gradescope</span> \n",
    "\n",
    "DSP students. Given we must release solutions sufficiently before the MT, we are only permitting a shorter extension than usual. DSP deadline is March 10, Sunday, 11:59 AM (midday, not midnight).\n",
    "\n",
    "Submit materials as **one pdf** on [Gradescope](https://www.gradescope.com/courses/716259). After uploading the pdf to Gradescope, please **assign appropriate pages to each question**. Questions that do not have assigned pages on Gradescope may not be graded. Codes and outputs not properly displayed will be marked as incorrect."
   ]
  },
  {
   "attachments": {},
   "cell_type": "markdown",
   "metadata": {},
   "source": [
    "**10.**\tRegress **price** on a **constant**, **npl** , **ba_or_better**, **unemprt**, and **povrat**. Generate a series of the predicted values of price and plot those against the price data series: What do you see in terms of fit? (Start by thinking about what we would see in the graph if the model perfectly predicted price.)\n",
    "\n",
    "_For generating predicted values of price from a model, see R bootcamp 2.5. Use `lm_object$fitted.values`_"
   ]
  }
 ],
 "metadata": {
  "kernelspec": {
   "display_name": "R",
   "language": "R",
   "name": "ir"
  },
  "language_info": {
   "codemirror_mode": "r",
   "file_extension": ".r",
   "mimetype": "text/x-r-source",
   "name": "R",
   "pygments_lexer": "r",
   "version": "4.4.1"
  }
 },
 "nbformat": 4,
 "nbformat_minor": 4
}
