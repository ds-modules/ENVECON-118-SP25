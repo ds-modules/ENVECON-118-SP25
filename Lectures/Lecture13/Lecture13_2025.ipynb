{
 "cells": [
  {
   "attachments": {},
   "cell_type": "markdown",
   "id": "35ada569-515b-461e-91d7-5f86d19472b8",
   "metadata": {},
   "source": [
    "# Lecture 13- Spring 2025\n",
    "Villas-Boas\n",
    "\n",
    "This notebook does the following:\n",
    "\n",
    "Measuring amenities, hedonic model\n",
    "\n",
    "Standardizing\n",
    "\n",
    "Functional forms\n",
    "\n",
    "Selection x var, models, adjusted R squared\n",
    "\n",
    "Study Ch 6.1 + 6.3\n",
    "\n",
    "Today starts the material after the Midterm\n",
    "\n",
    "---------\n",
    "Midterm review topics posted on bcourses, with tables for midterm\n",
    "Practice Midterm posted, with solutions and formula sheet posted\n",
    "\n",
    "We will give you tables and formula sheet to use for the midterm. \n",
    "                                                \n",
    "You do not bring your sheets\n",
    "    \n",
    "Please bring a simple non scientific calculator\n"
   ]
  },
  {
   "cell_type": "code",
   "execution_count": null,
   "id": "d1c5f5f6-4926-408e-aecd-84907b8afce4",
   "metadata": {},
   "outputs": [],
   "source": [
    "# Load the 'pacman' package\n",
    "install.packages(\"pacman\")\n",
    "library(pacman) \n",
    "#packages to use load them now using the pacman \"manager\"\n",
    "p_load(dplyr, haven, readr) \n",
    "#Another great feature of p_load(): if you try to load a package that is not installed on your machine, p_load() install the package for you, rather than throwing an error. For instance, let’s install and load one final package named ggplot2. \n",
    "p_load(ggplot2)\n",
    "\n",
    "pacman::p_load(lfe, lmtest, haven, sandwich, tidyverse)\n",
    "pacman::p_load(lfe, lmtest, haven, sandwich, tidyverse,psych,car)\n",
    "# lfe for running fixed effects regression\n",
    "# lmtest for displaying robust SE in output table\n",
    "# haven for loading in dta files\n",
    "# sandwich for producing robust Var-Cov matrix\n",
    "# tidyverse for manipulating data and producing plots"
   ]
  },
  {
   "cell_type": "code",
   "execution_count": null,
   "id": "bb849103",
   "metadata": {},
   "outputs": [],
   "source": [
    "#set scientific display off, thank you Roy\n",
    "options(scipen=999)"
   ]
  },
  {
   "cell_type": "code",
   "execution_count": null,
   "id": "374492e7-7ae3-461c-a19e-db22081b78cc",
   "metadata": {},
   "outputs": [],
   "source": [
    "#read in a Stata dataset\n",
    "my_data <- read_dta(\"Lecture13HPRICE2.dta\")\n",
    "head(my_data)"
   ]
  },
  {
   "cell_type": "markdown",
   "id": "b8eb553a-caf2-451f-91d0-6dc927345d6d",
   "metadata": {},
   "source": [
    "\n",
    " \n",
    " \n",
    " Source:  D. Harrison and D.L. Rubinfeld (1978), \"Hedonic Housing Prices and the Demand for Clean Air,\" \n",
    "Journal of Environmental Economics and Management 5, 81-102. (data Lecture13Hprice2.dta in bcourses)\n",
    "Unit of analysis census tract in the Boston area – Most data 1970 U.S. Census.  \n",
    "The data below were obtained by merging/ matching average house prices and characteristics by census tract \n",
    "(1 to 6 ) with crime (census) levels  and pollution (variable 7) levels from another source.\n",
    "1. price           median housing price, $\n",
    "2. crime           crimes committed per capita\n",
    "3. ppoverty         % of people in poverty'\n",
    "4. rooms           avg number of rooms per house\n",
    "5. dist            weighted dist. to 5 employ centers\n",
    "6. stratio         average student-teacher ratio\n",
    "7. nox             nitrous oxide, parts per 100 million.  (EPA standard 5.3)\n"
   ]
  },
  {
   "cell_type": "code",
   "execution_count": null,
   "id": "1ff3b772-080d-4626-b0ca-7b29702f5e7d",
   "metadata": {},
   "outputs": [],
   "source": [
    "#***summary stats of the data : price nox crime dist rooms ppoverty stratio\n",
    "\n",
    "#summary stats of data \n",
    "#one way describes all data:\n",
    "describe(my_data)"
   ]
  },
  {
   "cell_type": "code",
   "execution_count": null,
   "id": "e39a5231-1121-4df0-b30c-b71f7a16e2d3",
   "metadata": {},
   "outputs": [],
   "source": [
    "#to describe only a subset\n",
    "data2<-cbind(my_data$price,my_data$nox,my_data$crime,my_data$dist,my_data$rooms,my_data$ppoverty,my_data$stratio)\n",
    "\n",
    "##Renaming first four columns columns\n",
    "colnames(data2) <- c(\"price\", \"nox\", \"crime\", \"dist\", \"rooms\", \"ppoverty\", \"stratio\")\n",
    "\n",
    "describe(data2)"
   ]
  },
  {
   "cell_type": "code",
   "execution_count": null,
   "id": "2a2eb499-4319-4d02-b838-f9258c7700cc",
   "metadata": {},
   "outputs": [],
   "source": [
    "#box plot of NOX\n",
    "boxplot(my_data$nox, main=\"Nox\" ) \n",
    "# box plot for 'nox'\n",
    "\n",
    "#/*NOX: the variable in measured in parts per 100 mill (pp100m)  nitrogen dioxide\n",
    "#The   EPA official annual standard is 5.3 ppm\n",
    "#https://www3.epa.gov/ttn/naaqs/standards/nox/s_nox_history.html \n",
    "#*/\n",
    "#  /*REVIEW for MIDTERM: What do you see in terms of the data standard deviation\n",
    "\n",
    "#and Max Min of annual NOX in US census tracts?  \n",
    "#  Variable | Obs        Mean    Std. Dev.       Min        Max\n",
    "#nox |        506    5.549783    1.158395       3.85       8.71\n",
    "#What is the average NOX among the data census tracts? What is standard error of the average?\n",
    "\n",
    "\n",
    "#  We know that average 5.549783   \n",
    "# and std dev of the data in sample is 1.158395\n",
    "\n",
    "#Answer= std dev of average is = 1.158395/square_root(506)\n",
    "#*/\n",
    "  "
   ]
  },
  {
   "cell_type": "code",
   "execution_count": null,
   "id": "20d94da3-6191-415d-959a-cf8f38ed15fe",
   "metadata": {},
   "outputs": [],
   "source": [
    "reg13 <- lm(price~nox+crime+dist+rooms+ppoverty+stratio, my_data)\n",
    "summary(reg13)"
   ]
  },
  {
   "cell_type": "markdown",
   "id": "86e65a7a-9e26-4ea7-8cc7-3a227f4a3424",
   "metadata": {},
   "source": [
    "What do you see in the output of regression above\n",
    "\n",
    "Holding all other regressors constant will mean ceteris paribus in this notebook.\n",
    "\n",
    "One particulate increase in nox ceteris paribus is correlated with a predicted price drop by 1757 dollars\n",
    "\n",
    "One more crime per capita ceteris paribus is correlated with predicted housing price drops by 80 dollars\n",
    "\n",
    "Do, for yourself, a review for midterm, t test? significance ? pvalues?"
   ]
  },
  {
   "cell_type": "markdown",
   "id": "ef27ea55-10d1-4b10-8bad-7247fb8cfd41",
   "metadata": {},
   "source": [
    "# New : \n",
    "\n",
    "But how do we compare the importance of these two factors as being correlated with the outcome, when those factors have different means and ranges?\n",
    "\n",
    "Crime 0 to 89 average 3.6  \n",
    "\n",
    "Nox average 5.5 pp 100 mill and from 3.8 to 8.71?\n",
    "\n",
    "Solution, compare them after standardizing the coefficients. And the one with the largest standardized coefficient has the biggest correlation with the outcome"
   ]
  },
  {
   "cell_type": "code",
   "execution_count": null,
   "id": "20a07233-e65f-47db-9d19-bc94aeb1ec4a",
   "metadata": {},
   "outputs": [],
   "source": [
    "#New-------------------------\n",
    "#But how do we compare the importance of the correlations of these two factors  that have different means and ranges?\n",
    "\n",
    "#  Crime 0 to 89 average 3.6  \n",
    "\n",
    "#nox average 5.5 pp 100 mill and from 3.8 to 8.71?\n",
    "\n",
    "#standardize the coefficients then, to do so\n",
    "\n",
    "\n",
    "#lets write a function\n",
    "#coefficients:\n",
    "b <- reg13$coef\n",
    "X<-cbind(1,my_data$nox,my_data$crime,my_data$dist,my_data$rooms,my_data$ppoverty,my_data$stratio)\n",
    "sx1<-sd(X[,1])\n",
    "sx2<-sd(X[,2])\n",
    "sx3<-sd(X[,3])\n",
    "sx4<-sd(X[,4])\n",
    "sx5<-sd(X[,5])\n",
    "sx6<-sd(X[,6])\n",
    "sx7<-sd(X[,7])\n",
    "sx<-cbind(sx1,sx2,sx3,sx4,sx5,sx6,sx7)\n",
    "sy<-sd(my_data$price)\n",
    "beta <- b * sx/sy\n",
    "#pring standardized betas:\n",
    "beta"
   ]
  },
  {
   "cell_type": "markdown",
   "id": "819cce4a-54a8-462a-826e-82fd9d40326c",
   "metadata": {},
   "source": [
    "From the above results we see that\n",
    "\n",
    "One std dev increase in Nox ceteris paribus is correlated with a   price drop by 0.22 standard dev\n",
    "\n",
    "One std dev increase in crime ceteris paribus is correlated with a  housing price drop by 0.075 std dev\n",
    "\n",
    "This is how we compare the importance of the correlations of these two factors  that have different means and ranges, \n",
    "using Z scores and interpreting the standardized betas"
   ]
  },
  {
   "cell_type": "markdown",
   "id": "99754144-52f4-4e8a-81b8-dcfca0438351",
   "metadata": {},
   "source": [
    "# New:\n",
    "\n",
    "How do we choose between two models with the same y variable but different X's on the right?\n",
    "\n",
    "In this case, which model is preferred?\n",
    "\n",
    "Model 1 $log(price)_i=\\beta_1+\\beta_2 log(distance)_i+\\epsilon_{1i}$\n",
    "\n",
    "or\n",
    "\n",
    "Model 2 $log(price)_i=\\alpha_1+\\alpha_2 distance_i+\\alpha_3 distance^2_i+\\epsilon_{2i}$\n",
    "\n",
    "where the second model has distance and the square of distance as regressors, whereas the first model has log \n",
    "distance as a regressor. Both have log(price) as the dependent variable.\n",
    "\n",
    "How do we choose between two models with the same y variable but different X's on the right?\n",
    "\n",
    "\n"
   ]
  },
  {
   "cell_type": "code",
   "execution_count": null,
   "id": "f59a6e5c-f2ce-4125-86f9-c0976048a5ed",
   "metadata": {},
   "outputs": [],
   "source": [
    "\n",
    "\n",
    "#logs specification? log of distance\n",
    "\n",
    "lprice<-log(my_data$price)\n",
    "ldist<-log(my_data$dist)\n",
    "lnox<-log(my_data$nox)\n",
    "\n",
    "reg13log<-lm(lprice~lnox+rooms+ppoverty+ldist,my_data)\n",
    "summary(reg13log)\n",
    "\n"
   ]
  },
  {
   "cell_type": "code",
   "execution_count": null,
   "id": "de2f1ac3-45b1-4e2d-94fa-60ddbe02d7c8",
   "metadata": {},
   "outputs": [],
   "source": [
    "\n",
    "#regress log price on distance and distance squared specification \n",
    "my_data$dist2<-my_data$dist*my_data$dist\n",
    "reg13sq<-lm(lprice~nox+crime+dist+dist2+rooms+ppoverty+stratio, my_data)\n",
    "summary(reg13sq)\n"
   ]
  },
  {
   "cell_type": "markdown",
   "id": "56f74548-9eba-466e-b7aa-a1a66767d430",
   "metadata": {},
   "source": [
    "\n",
    "What do you see? \n",
    "Which MODEL REGRESSION do we choose in this case?\n",
    " \n",
    "Adj R squared with ldist  0.68\n",
    "\n",
    "Adj R squared with dist and dist2    0.7565\n",
    "\n",
    "So you would choose the one with dist and dist 2 \n",
    "instead of the one with log distance, because it has the higher adjusted R squared"
   ]
  },
  {
   "cell_type": "markdown",
   "id": "6459235e-4dc1-44bb-b30b-4d2172b7b2dd",
   "metadata": {},
   "source": [
    "Take away\n",
    "\n",
    "if same y and different X's then use adjusted R2 like in this lecture\n",
    "\n",
    "how do we select between a regression of price on nox or a regression of log price on nox?\n",
    "different method for model selection, in a future lecture. \n",
    "\n"
   ]
  },
  {
   "cell_type": "markdown",
   "id": "1e2ee637-8957-419e-9821-00eef7e4f903",
   "metadata": {},
   "source": [
    "The end"
   ]
  },
  {
   "cell_type": "code",
   "execution_count": null,
   "id": "d61c7dbc-4255-4d8e-b009-0150d995f828",
   "metadata": {},
   "outputs": [],
   "source": []
  }
 ],
 "metadata": {
  "kernelspec": {
   "display_name": "R",
   "language": "R",
   "name": "ir"
  },
  "language_info": {
   "codemirror_mode": "r",
   "file_extension": ".r",
   "mimetype": "text/x-r-source",
   "name": "R",
   "pygments_lexer": "r",
   "version": "4.4.2"
  }
 },
 "nbformat": 4,
 "nbformat_minor": 5
}
