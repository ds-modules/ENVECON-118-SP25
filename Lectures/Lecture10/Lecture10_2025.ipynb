{
 "cells": [
  {
   "cell_type": "markdown",
   "id": "35ada569-515b-461e-91d7-5f86d19472b8",
   "metadata": {},
   "source": [
    "# Lecture 10- Spring 2025\n",
    "# Villas-Boas\n",
    "\n",
    "# Lecture 10 EEP 118 Spring 2025\n",
    "\n",
    "Please work on this notebook as your daily assignment afer Lecture 10 \n",
    "\n",
    "\n"
   ]
  },
  {
   "cell_type": "code",
   "execution_count": 1,
   "id": "c2d55630-5544-43f0-89bf-fc0b25d2cc4b",
   "metadata": {},
   "outputs": [
    {
     "name": "stderr",
     "output_type": "stream",
     "text": [
      "Installing package into ‘/srv/r’\n",
      "(as ‘lib’ is unspecified)\n",
      "\n",
      "Installing package into ‘/srv/r’\n",
      "(as ‘lib’ is unspecified)\n",
      "\n",
      "also installing the dependencies ‘mnormt’, ‘GPArotation’\n",
      "\n",
      "\n",
      "\n",
      "psych installed\n",
      "\n"
     ]
    }
   ],
   "source": [
    "# Load the 'pacman' package\n",
    "install.packages(\"pacman\")\n",
    "library(pacman) \n",
    "#packages to use load them now using the pacman \"manager\"\n",
    "p_load(dplyr, readr) \n",
    "#Another great feature of p_load(): if you try to load a package that is not installed on your machine, p_load() install the package for you, rather than throwing an error. For instance, let’s install and load one final package named ggplot2. \n",
    "p_load(ggplot2)\n",
    "\n",
    "#set scientific display off, thank you Roy\n",
    "options(scipen=999)\n",
    "\n",
    "# Loading packages\n",
    "pacman::p_load(lfe, lmtest, haven, sandwich, tidyverse,psych)\n",
    "# lfe for running fixed effects regression\n",
    "# lmtest for displaying robust SE in output table\n",
    "# haven for loading in dta files\n",
    "# sandwich for producing robust Var-Cov matrix\n",
    "# tidyverse for manipulating data and producing plots\n",
    "# psych for using describe later on\n",
    "\n",
    "\n"
   ]
  },
  {
   "cell_type": "code",
   "execution_count": 2,
   "id": "374492e7-7ae3-461c-a19e-db22081b78cc",
   "metadata": {},
   "outputs": [
    {
     "data": {
      "text/html": [
       "<table class=\"dataframe\">\n",
       "<caption>A tibble: 6 × 9</caption>\n",
       "<thead>\n",
       "\t<tr><th scope=col>timestamp</th><th scope=col>went2class</th><th scope=col>soccerfan</th><th scope=col>correct1</th><th scope=col>correct2</th><th scope=col>correctboth</th><th scope=col>numberCorrect</th><th scope=col>went2Class</th><th scope=col>isSoccerFan</th></tr>\n",
       "\t<tr><th scope=col>&lt;chr&gt;</th><th scope=col>&lt;chr&gt;</th><th scope=col>&lt;chr&gt;</th><th scope=col>&lt;dbl&gt;</th><th scope=col>&lt;dbl&gt;</th><th scope=col>&lt;dbl&gt;</th><th scope=col>&lt;dbl&gt;</th><th scope=col>&lt;dbl&gt;</th><th scope=col>&lt;dbl&gt;</th></tr>\n",
       "</thead>\n",
       "<tbody>\n",
       "\t<tr><td>2/6/2024 10:53:19</td><td>yes</td><td>yes</td><td>1</td><td>1</td><td>1</td><td>2</td><td>1</td><td>1</td></tr>\n",
       "\t<tr><td>2/6/2024 11:01:25</td><td>yes</td><td>yes</td><td>1</td><td>0</td><td>0</td><td>1</td><td>1</td><td>1</td></tr>\n",
       "\t<tr><td>2/6/2024 11:11:24</td><td>yes</td><td>yes</td><td>1</td><td>1</td><td>1</td><td>2</td><td>1</td><td>1</td></tr>\n",
       "\t<tr><td>2/6/2024 11:11:28</td><td>yes</td><td>yes</td><td>1</td><td>0</td><td>0</td><td>1</td><td>1</td><td>1</td></tr>\n",
       "\t<tr><td>2/6/2024 11:11:52</td><td>yes</td><td>yes</td><td>1</td><td>0</td><td>0</td><td>1</td><td>1</td><td>1</td></tr>\n",
       "\t<tr><td>2/6/2024 11:11:53</td><td>yes</td><td>no </td><td>1</td><td>1</td><td>1</td><td>2</td><td>1</td><td>0</td></tr>\n",
       "</tbody>\n",
       "</table>\n"
      ],
      "text/latex": [
       "A tibble: 6 × 9\n",
       "\\begin{tabular}{lllllllll}\n",
       " timestamp & went2class & soccerfan & correct1 & correct2 & correctboth & numberCorrect & went2Class & isSoccerFan\\\\\n",
       " <chr> & <chr> & <chr> & <dbl> & <dbl> & <dbl> & <dbl> & <dbl> & <dbl>\\\\\n",
       "\\hline\n",
       "\t 2/6/2024 10:53:19 & yes & yes & 1 & 1 & 1 & 2 & 1 & 1\\\\\n",
       "\t 2/6/2024 11:01:25 & yes & yes & 1 & 0 & 0 & 1 & 1 & 1\\\\\n",
       "\t 2/6/2024 11:11:24 & yes & yes & 1 & 1 & 1 & 2 & 1 & 1\\\\\n",
       "\t 2/6/2024 11:11:28 & yes & yes & 1 & 0 & 0 & 1 & 1 & 1\\\\\n",
       "\t 2/6/2024 11:11:52 & yes & yes & 1 & 0 & 0 & 1 & 1 & 1\\\\\n",
       "\t 2/6/2024 11:11:53 & yes & no  & 1 & 1 & 1 & 2 & 1 & 0\\\\\n",
       "\\end{tabular}\n"
      ],
      "text/markdown": [
       "\n",
       "A tibble: 6 × 9\n",
       "\n",
       "| timestamp &lt;chr&gt; | went2class &lt;chr&gt; | soccerfan &lt;chr&gt; | correct1 &lt;dbl&gt; | correct2 &lt;dbl&gt; | correctboth &lt;dbl&gt; | numberCorrect &lt;dbl&gt; | went2Class &lt;dbl&gt; | isSoccerFan &lt;dbl&gt; |\n",
       "|---|---|---|---|---|---|---|---|---|\n",
       "| 2/6/2024 10:53:19 | yes | yes | 1 | 1 | 1 | 2 | 1 | 1 |\n",
       "| 2/6/2024 11:01:25 | yes | yes | 1 | 0 | 0 | 1 | 1 | 1 |\n",
       "| 2/6/2024 11:11:24 | yes | yes | 1 | 1 | 1 | 2 | 1 | 1 |\n",
       "| 2/6/2024 11:11:28 | yes | yes | 1 | 0 | 0 | 1 | 1 | 1 |\n",
       "| 2/6/2024 11:11:52 | yes | yes | 1 | 0 | 0 | 1 | 1 | 1 |\n",
       "| 2/6/2024 11:11:53 | yes | no  | 1 | 1 | 1 | 2 | 1 | 0 |\n",
       "\n"
      ],
      "text/plain": [
       "  timestamp         went2class soccerfan correct1 correct2 correctboth\n",
       "1 2/6/2024 10:53:19 yes        yes       1        1        1          \n",
       "2 2/6/2024 11:01:25 yes        yes       1        0        0          \n",
       "3 2/6/2024 11:11:24 yes        yes       1        1        1          \n",
       "4 2/6/2024 11:11:28 yes        yes       1        0        0          \n",
       "5 2/6/2024 11:11:52 yes        yes       1        0        0          \n",
       "6 2/6/2024 11:11:53 yes        no        1        1        1          \n",
       "  numberCorrect went2Class isSoccerFan\n",
       "1 2             1          1          \n",
       "2 1             1          1          \n",
       "3 2             1          1          \n",
       "4 1             1          1          \n",
       "5 1             1          1          \n",
       "6 2             1          0          "
      ]
     },
     "metadata": {},
     "output_type": "display_data"
    }
   ],
   "source": [
    "#-------------------------------------------\n",
    "#1. Read in data\n",
    "#-------------------------------------------\n",
    "my_data <- read_dta(\"data2024.dta\")\n",
    "head(my_data)"
   ]
  },
  {
   "cell_type": "markdown",
   "id": "bd1ad8e8-5a96-4c84-9f97-c9c619957f34",
   "metadata": {},
   "source": [
    "Start of Lecture 10 in line 161 of Lecture10.R in Bcourses\n",
    "\n",
    "Let us look at the number of correct answers \n",
    "by the respondent, given by the variable my_data$numberCorrect\n",
    "\n",
    "How would you compute the average number of correct answers\n",
    "in the sample?"
   ]
  },
  {
   "cell_type": "code",
   "execution_count": 3,
   "id": "a02a2847-128b-4167-a647-b0fba037537b",
   "metadata": {},
   "outputs": [
    {
     "data": {
      "text/html": [
       "1.52777777777778"
      ],
      "text/latex": [
       "1.52777777777778"
      ],
      "text/markdown": [
       "1.52777777777778"
      ],
      "text/plain": [
       "[1] 1.527778"
      ]
     },
     "metadata": {},
     "output_type": "display_data"
    }
   ],
   "source": [
    "mean(my_data$numberCorrect)\n"
   ]
  },
  {
   "cell_type": "markdown",
   "id": "54388da0-6879-4bb0-9f9d-61df2716071a",
   "metadata": {},
   "source": [
    "Break up the sample in two. those that came and those that did not come to class\n",
    "\n",
    "\n"
   ]
  },
  {
   "cell_type": "code",
   "execution_count": 4,
   "id": "4cd4102d-c6b4-4074-a982-3ef41f840b8c",
   "metadata": {},
   "outputs": [],
   "source": [
    "#filter data\n",
    "#select coming to class subsample \n",
    "my_dataClass <- filter(my_data, went2Class == 1)\n",
    "#filter data not come to class, only 7 observ\n",
    "my_dataNotClass<-filter(my_data,went2Class==0)\n"
   ]
  },
  {
   "cell_type": "markdown",
   "id": "ee9c5d0e-ed2c-4a15-b383-5fb294d4a70c",
   "metadata": {},
   "source": [
    "What is the average in the sample number of correct responses for coming to class?"
   ]
  },
  {
   "cell_type": "code",
   "execution_count": 5,
   "id": "5eaeb997-ab74-46bd-97a7-a624c20e1b1f",
   "metadata": {},
   "outputs": [
    {
     "data": {
      "text/html": [
       "1.57425742574257"
      ],
      "text/latex": [
       "1.57425742574257"
      ],
      "text/markdown": [
       "1.57425742574257"
      ],
      "text/plain": [
       "[1] 1.574257"
      ]
     },
     "metadata": {},
     "output_type": "display_data"
    }
   ],
   "source": [
    "#what is the average number of correct answers for those coming to class Nbar_c\n",
    "#Note that I am typing it between parentheses the command below so the answer is printed in the log output , \n",
    "#and no need to call the variable after that\n",
    "\n",
    "(Nhat_c<-mean(my_dataClass$numberCorrect))\n",
    "\n",
    "\n",
    "#answer is 1.574257"
   ]
  },
  {
   "cell_type": "markdown",
   "id": "23ae89aa-dc47-4ffd-aa9b-27a91cee09d2",
   "metadata": {},
   "source": [
    "What is the average in the sample number of correct responses for not coming to class?"
   ]
  },
  {
   "cell_type": "code",
   "execution_count": 6,
   "id": "9e11d11f-b594-4664-8ed0-19ea7497f6e4",
   "metadata": {},
   "outputs": [
    {
     "data": {
      "text/html": [
       "0.857142857142857"
      ],
      "text/latex": [
       "0.857142857142857"
      ],
      "text/markdown": [
       "0.857142857142857"
      ],
      "text/plain": [
       "[1] 0.8571429"
      ]
     },
     "metadata": {},
     "output_type": "display_data"
    }
   ],
   "source": [
    "#what is the average number of correct answers for those not coming to class Nbar_nc\n",
    "#Note that I am typing it between parentheses the command below so the answer is printed in the log output , \n",
    "#and no need to call the variable after that\n",
    "\n",
    "(Nhat_nc<-mean(my_dataNotClass$numberCorrect))\n",
    "\n",
    "\n",
    "#answer is 0.85714"
   ]
  },
  {
   "cell_type": "code",
   "execution_count": 7,
   "id": "40d15e7c-08de-448c-8c42-6aabcd7d78fd",
   "metadata": {},
   "outputs": [
    {
     "data": {
      "text/html": [
       "0.0494455088680545"
      ],
      "text/latex": [
       "0.0494455088680545"
      ],
      "text/markdown": [
       "0.0494455088680545"
      ],
      "text/plain": [
       "[1] 0.04944551"
      ]
     },
     "metadata": {},
     "output_type": "display_data"
    }
   ],
   "source": [
    "\n",
    "#get variance and se for number of correct answers for those coming to Class \n",
    "var_Nhat_c<-var(my_dataClass$numberCorrect)/nrow(my_dataClass)\n",
    "(se_Nhat_c<-sqrt(var_Nhat_c))\n",
    "#will print the se_Nhat_c because I put it between ( )  parentheses in the line above\n",
    "\n"
   ]
  },
  {
   "cell_type": "code",
   "execution_count": 8,
   "id": "70044f07-9c31-49f7-85e9-b91bec670b9a",
   "metadata": {},
   "outputs": [
    {
     "data": {
      "text/html": [
       "0.340068020406802"
      ],
      "text/latex": [
       "0.340068020406802"
      ],
      "text/markdown": [
       "0.340068020406802"
      ],
      "text/plain": [
       "[1] 0.340068"
      ]
     },
     "metadata": {},
     "output_type": "display_data"
    }
   ],
   "source": [
    "\n",
    "#get variance and std error for number of correct answers for those not coming to class\n",
    "var_Nhat_nc<-var(my_dataNotClass$numberCorrect)/nrow(my_dataNotClass)\n",
    "(se_Nhat_nc<-sqrt(var_Nhat_nc))\n",
    "#will print the se_Nhat_nc because I put it between ( )  parentheses in the line above\n",
    "\n",
    "\n",
    "#now we can do hypothesis testing using the five steps"
   ]
  },
  {
   "cell_type": "markdown",
   "id": "2031e6be-6871-4f7b-b2f8-315905f584be",
   "metadata": {},
   "source": [
    "# Test whether the average number of correct answers for those that came to class (N_c) is statistically equal to the average number of correct answers for those that did not (N_nc) at the 10% significant level in a two-sided alternative\n",
    "\n",
    "Remember the 5 steps in Hypothesis testing\n"
   ]
  },
  {
   "cell_type": "markdown",
   "id": "f7312e40-551a-4c7e-9362-819a63e54c8b",
   "metadata": {},
   "source": [
    "### Step 1 specify the null and the alternative\n",
    "\n"
   ]
  },
  {
   "cell_type": "markdown",
   "id": "2f38a82e-d8b1-4e19-9920-81966f663e9a",
   "metadata": {},
   "source": []
  },
  {
   "cell_type": "markdown",
   "id": "1171eedd-63bc-4122-a01e-0d0f260d26b9",
   "metadata": {},
   "source": [
    "Answer : H0: N_c = N_nc    or N_c - N_nc = 0 or D=0\n",
    "\n",
    "Ha: D not equal to zero"
   ]
  },
  {
   "cell_type": "markdown",
   "id": "26e7f8a1-86b9-46bd-b071-e13daf1566b5",
   "metadata": {},
   "source": [
    "\n",
    "## step 2: construct the t statistic under the null\n",
    "\n",
    "$t = \\frac{(Dhat-D_{under null}) }{ se(Dhat)}$\n",
    "\n",
    "where $D_{under null}=0$\n",
    "\n",
    " and $Dhat=Nhat_c - Nhat_{nc}$\n",
    "\n",
    "$se(Dhat)=\\sqrt{ var(Nhat_c)+var(Nhat_{nc}) }$\n",
    "\n"
   ]
  },
  {
   "cell_type": "code",
   "execution_count": 9,
   "id": "aa21d324-8982-45ab-813a-0455aa78e6ff",
   "metadata": {},
   "outputs": [
    {
     "data": {
      "text/html": [
       "2.08679568747402"
      ],
      "text/latex": [
       "2.08679568747402"
      ],
      "text/markdown": [
       "2.08679568747402"
      ],
      "text/plain": [
       "[1] 2.086796"
      ]
     },
     "metadata": {},
     "output_type": "display_data"
    }
   ],
   "source": [
    "#t_DA = (Dhat-Dunder null) / se(Dhat)\n",
    "\n",
    "#where Dunder null=0\n",
    "\n",
    "#Dhat=Nhat_c - Nhat_nc\n",
    "\n",
    "Dhat<-Nhat_c-Nhat_nc\n",
    "\n",
    "#se(Dhat)=square root of [ var(Nhat_c)+var(Nhat_nc) ]\n",
    "\n",
    "se_Dhat<-sqrt(var_Nhat_c+var_Nhat_nc)\n",
    "\n",
    "#t of daily assignment t_DA\n",
    "\n",
    "t_ <- Dhat / se_Dhat\n",
    "\n",
    "t_\n",
    "\n",
    "\n"
   ]
  },
  {
   "cell_type": "markdown",
   "id": "e2141dd7-2930-4afd-b673-aceaa0cf9ddc",
   "metadata": {},
   "source": [
    "## Step 3: given significance level 10% what is the critical value we know its 1.659 by going to the table or by getting it in the comand below.\n",
    "\n",
    "t_critical10<- qt(0.05, 106, lower.tail=FALSE)\n",
    "t_critical10\n",
    "\n",
    "\n",
    "what about for significance level 5%?\n",
    "\n",
    "#find it in the cell below\n",
    "\n",
    "#answer is obtained by the commands typed (first to get, then to show in output)\n",
    "\n",
    "\n",
    "t_criticalDA<- qt(0.025, 106, lower.tail=FALSE)\n",
    "\n",
    "t_criticalDA"
   ]
  },
  {
   "cell_type": "code",
   "execution_count": 10,
   "id": "fe855352-b048-47a2-a39f-16084027bd60",
   "metadata": {},
   "outputs": [
    {
     "data": {
      "text/html": [
       "1.65935603394717"
      ],
      "text/latex": [
       "1.65935603394717"
      ],
      "text/markdown": [
       "1.65935603394717"
      ],
      "text/plain": [
       "[1] 1.659356"
      ]
     },
     "metadata": {},
     "output_type": "display_data"
    }
   ],
   "source": [
    "#two sided ten percent\n",
    "t_critical10<- qt(0.05, 106, lower.tail=FALSE)\n",
    "t_critical10"
   ]
  },
  {
   "cell_type": "code",
   "execution_count": 11,
   "id": "e59d9e4a-3850-4f22-bc31-b65f88e27d65",
   "metadata": {},
   "outputs": [
    {
     "data": {
      "text/html": [
       "1.9825972617655"
      ],
      "text/latex": [
       "1.9825972617655"
      ],
      "text/markdown": [
       "1.9825972617655"
      ],
      "text/plain": [
       "[1] 1.982597"
      ]
     },
     "metadata": {},
     "output_type": "display_data"
    }
   ],
   "source": [
    "#two sided 5 percent\n",
    "t_critical5<- qt(0.025, 106, lower.tail=FALSE)\n",
    "t_critical5"
   ]
  },
  {
   "cell_type": "markdown",
   "id": "188f372e-b8fb-430b-a4c4-c97dfb035edb",
   "metadata": {},
   "source": [
    "## Step 4: compare the absolute value of your tDA with the absolute value of the tcritical value. what do you conclude in Step 5?"
   ]
  },
  {
   "cell_type": "markdown",
   "id": "8c832ece-4dc2-47cb-8ac6-b774205e08c9",
   "metadata": {},
   "source": [
    "Answer step 4 : the absolute value of the t stat is 2.08 is greater than the absolute \n",
    "value of the critical t of 1.9825972617655\n",
    "\n",
    "\r",
    "so we land in the rejection area of this two-sided test\r\n",
    "\n",
    "Answer step 5: \n",
    "so we reject the null that the mean of number of correct answers for those coming to class is the same as the mean of the number of correct answers for those not coming to class, against the alternative of the means being different at the 5 percent significance level.\n",
    "\n",
    "\n",
    "## based on this test, reject that it does not matter coming to class in terms of the Null that the number of correct answers in the population would have the same mean regardless of coming or not coming to class  !\n",
    "\n",
    "So, do come to class :-w\n"
   ]
  },
  {
   "cell_type": "markdown",
   "id": "f1c18747-d3ba-464f-bed3-dc6e3f4ba222",
   "metadata": {},
   "source": [
    "Go to Lecture Slides to learn about how to do interpretation and hypothesis testing on the parameters from the linear regression model before working on the bottom part of this notebook."
   ]
  },
  {
   "cell_type": "markdown",
   "id": "7a5f55d8-938e-414b-8fa2-429fdedb8c34",
   "metadata": {},
   "source": [
    "# Regression analysis of Lecture 10"
   ]
  },
  {
   "attachments": {},
   "cell_type": "markdown",
   "id": "9a60b498-9163-48dc-b643-7077d55b9d80",
   "metadata": {},
   "source": [
    "Let us have the model $𝑁𝑢𝑚𝑏𝑒𝑟𝐶𝑜𝑟𝑟𝑒𝑐𝑡_𝑖=\\beta_1+\\beta_2  \\ 𝑤𝑒𝑛𝑡2𝐶𝑙𝑎𝑠𝑠_𝑖  +𝑢_𝑖 $  "
   ]
  },
  {
   "cell_type": "code",
   "execution_count": 12,
   "id": "20e287ff-16c5-4b2f-b8b5-476bed8d18d4",
   "metadata": {},
   "outputs": [
    {
     "data": {
      "text/plain": [
       "\n",
       "Call:\n",
       "lm(formula = numberCorrect ~ went2Class, data = my_data)\n",
       "\n",
       "Residuals:\n",
       "    Min      1Q  Median      3Q     Max \n",
       "-0.8571 -0.5743  0.4257  0.4257  1.1429 \n",
       "\n",
       "Coefficients:\n",
       "            Estimate Std. Error t value  Pr(>|t|)    \n",
       "(Intercept)   0.8571     0.1996   4.295 0.0000388 ***\n",
       "went2Class    0.7171     0.2064   3.475  0.000741 ***\n",
       "---\n",
       "Signif. codes:  0 ‘***’ 0.001 ‘**’ 0.01 ‘*’ 0.05 ‘.’ 0.1 ‘ ’ 1\n",
       "\n",
       "Residual standard error: 0.528 on 106 degrees of freedom\n",
       "Multiple R-squared:  0.1023,\tAdjusted R-squared:  0.0938 \n",
       "F-statistic: 12.08 on 1 and 106 DF,  p-value: 0.0007413\n"
      ]
     },
     "metadata": {},
     "output_type": "display_data"
    }
   ],
   "source": [
    "#model estimation\n",
    "regLect8_1<-lm(numberCorrect~went2Class, my_data)\n",
    "summary(regLect8_1)"
   ]
  },
  {
   "cell_type": "markdown",
   "id": "f8192b48-e9e8-4dfc-a8b8-23262890a3bf",
   "metadata": {},
   "source": [
    "What does the constant estimate $\\hat{\\beta_1} $ mean?\n",
    "It is the estimated or predicted average number of correct answers for those not coming to class\n",
    "when went2Class=0\n",
    "\n",
    "its estimate  is  0.8571"
   ]
  },
  {
   "cell_type": "code",
   "execution_count": 13,
   "id": "e424f907-683d-4cfa-97fc-820be5b95926",
   "metadata": {},
   "outputs": [
    {
     "data": {
      "text/html": [
       "0.857142857142857"
      ],
      "text/latex": [
       "0.857142857142857"
      ],
      "text/markdown": [
       "0.857142857142857"
      ],
      "text/plain": [
       "[1] 0.8571429"
      ]
     },
     "metadata": {},
     "output_type": "display_data"
    }
   ],
   "source": [
    "#another way to get that is\n",
    "mean(my_dataNotClass$numberCorrect)\n",
    "\n",
    "#we confirm it is indeed \n",
    "#[1] 0.8571429"
   ]
  },
  {
   "cell_type": "markdown",
   "id": "c01a33bc-6ead-4bb7-bd42-7854e5543cc2",
   "metadata": {},
   "source": [
    "We estimate $\\hat{\\beta_2}$ of went2Class= 0.7171.\n",
    "\n",
    "Sign:\n",
    " The positive sign is as expected from people coming to\n",
    "class and understanding the material\n",
    "oh yess!!!!\n",
    "\n"
   ]
  },
  {
   "cell_type": "markdown",
   "id": "0ae15ea4-5da4-412f-9a05-f55581a98d47",
   "metadata": {},
   "source": [
    "Significance:\n",
    "\n",
    "The t is  3.4575 with a corresponding p- value of 0.000741. \n",
    "We reject the null hypothesis that coming to class does not\n",
    "affect the number of correct answers in the OVB survey\n"
   ]
  },
  {
   "cell_type": "markdown",
   "id": "721bdc42-d7ea-46da-a077-3a24d3e2834e",
   "metadata": {},
   "source": [
    "#Size:\n",
    "#Coming to class is associated with a 0.7171 increase in \n",
    "#predicted number of correct answers in the survey all else equal.\n",
    "\n",
    "#since the baseline was 0.8571 of those not having come to class\n",
    "#then the predicted average number of correct answers for those coming to \n",
    "#class (went2Class=1) given our estimated model is\n",
    "\n",
    "\n",
    "0.8571+0.7171*1\n"
   ]
  },
  {
   "cell_type": "code",
   "execution_count": 14,
   "id": "23c7dc04-54de-487c-a474-3d75696cb7a2",
   "metadata": {},
   "outputs": [
    {
     "data": {
      "text/html": [
       "1.5742"
      ],
      "text/latex": [
       "1.5742"
      ],
      "text/markdown": [
       "1.5742"
      ],
      "text/plain": [
       "[1] 1.5742"
      ]
     },
     "metadata": {},
     "output_type": "display_data"
    }
   ],
   "source": [
    "0.8571+0.7171*1"
   ]
  },
  {
   "cell_type": "code",
   "execution_count": 15,
   "id": "d499cc9f-cef6-43f0-9691-5a5ed3100c70",
   "metadata": {},
   "outputs": [
    {
     "data": {
      "text/html": [
       "1.57425742574257"
      ],
      "text/latex": [
       "1.57425742574257"
      ],
      "text/markdown": [
       "1.57425742574257"
      ],
      "text/plain": [
       "[1] 1.574257"
      ]
     },
     "metadata": {},
     "output_type": "display_data"
    }
   ],
   "source": [
    "\n",
    "#which is \n",
    "#[1] 1.5742\n",
    "\n",
    "#which is the the predicted average number of correct answers for those coming to class\n",
    "\n",
    "mean(my_dataClass$numberCorrect)\n"
   ]
  },
  {
   "cell_type": "markdown",
   "id": "7a279b83-c0dc-4eb0-bb3e-6bf6e0600e56",
   "metadata": {},
   "source": [
    "## Does liking soccer matter for correct number of answers after controlling for having come to class?\n"
   ]
  },
  {
   "cell_type": "code",
   "execution_count": 16,
   "id": "5c1ed52b-2857-4996-896f-3a0542f89e08",
   "metadata": {},
   "outputs": [
    {
     "data": {
      "text/plain": [
       "\n",
       "Call:\n",
       "lm(formula = numberCorrect ~ went2Class + isSoccerFan, data = my_data)\n",
       "\n",
       "Residuals:\n",
       "    Min      1Q  Median      3Q     Max \n",
       "-0.8649 -0.5616  0.4112  0.4384  1.1623 \n",
       "\n",
       "Coefficients:\n",
       "            Estimate Std. Error t value  Pr(>|t|)    \n",
       "(Intercept)  0.86493    0.20259   4.269 0.0000431 ***\n",
       "went2Class   0.72390    0.20885   3.466  0.000766 ***\n",
       "isSoccerFan -0.02727    0.10291  -0.265  0.791542    \n",
       "---\n",
       "Signif. codes:  0 ‘***’ 0.001 ‘**’ 0.01 ‘*’ 0.05 ‘.’ 0.1 ‘ ’ 1\n",
       "\n",
       "Residual standard error: 0.5303 on 105 degrees of freedom\n",
       "Multiple R-squared:  0.1029,\tAdjusted R-squared:  0.08578 \n",
       "F-statistic:  6.02 on 2 and 105 DF,  p-value: 0.003349\n"
      ]
     },
     "metadata": {},
     "output_type": "display_data"
    }
   ],
   "source": [
    "#does liking soccer matter for correct number of answers after controlling\n",
    "#for having come to class?\n",
    "\n",
    "regLect8_2<-lm(numberCorrect~went2Class+isSoccerFan, my_data)\n",
    "summary(regLect8_2)\n",
    "\n",
    "\n"
   ]
  },
  {
   "cell_type": "markdown",
   "id": "0bda90aa-5cd7-4cb7-977b-733a5ec4be2b",
   "metadata": {},
   "source": [
    "The coefficient on \"isSoccerFan\" is negative and not significantly different from zero\n",
    "since the t stat of null hypothesis that the true coefficient is zero is\n",
    "-0.265 which lies in the cannot rejection area at any significance level\n",
    "\n",
    "the pvalue is 0.791542\n",
    "\n",
    "isSoccerFan -0.02727    0.10291  -0.265 0.791542\n",
    "\n",
    "The R squared is 0.1029  \n",
    "\n",
    "before, without soccerfan in the regression the Rsquared is 0.1023\n",
    "\n",
    "\n",
    "So, soccer fan does not matter and does not improve the R squared much,\n",
    "what we call an irrelevant variable to explaing the number of correct answers\n",
    "in a OVB survey after the OVB material was lectured\n",
    "MAKES sense\n",
    "\n",
    "I asked that question to use as a \"placebo\" variable I would add to the model\n",
    "to see whether coming to class matters in answering a survey correctly and\n",
    "being a soccer fan matters (totally random question and unrelated to OVB material understanding I would think...)\n"
   ]
  },
  {
   "cell_type": "markdown",
   "id": "667aabbf-e4bd-492f-bea4-acbbb7b84ea1",
   "metadata": {},
   "source": [
    "# THE END LECTURE 10 AND DAILY ASSIGNMENT LECTURE 10"
   ]
  }
 ],
 "metadata": {
  "kernelspec": {
   "display_name": "R",
   "language": "R",
   "name": "ir"
  },
  "language_info": {
   "codemirror_mode": "r",
   "file_extension": ".r",
   "mimetype": "text/x-r-source",
   "name": "R",
   "pygments_lexer": "r",
   "version": "4.4.2"
  }
 },
 "nbformat": 4,
 "nbformat_minor": 5
}
