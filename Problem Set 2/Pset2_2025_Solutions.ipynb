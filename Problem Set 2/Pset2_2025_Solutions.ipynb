{
 "cells": [
  {
   "cell_type": "markdown",
   "metadata": {},
   "source": [
    "# Spring 2025 ENVECON/IAS 118 - Introductory Applied Econometrics Problem Set 2\n",
    "## Due on Gradescope, Midnight February 23\n",
    "\n",
    "# Submission Instructions \n",
    "\n",
    "Go to the file dropdown menu and select the ”Save and export notebook as” dropdown menu. In this menu make sure to select ”PDF”, \"Webpdf\" or \"PDF via Chrome\" (if that option appears instead). \n",
    "\n",
    "The figures in the problem statement may not show up in the pdf you generate. Once you have downloaded this pdf, make sure it shows all your answers and upload it to Gradescope: https://www.gradescope.com/courses/927499\n",
    "\n",
    "-----------------------------------------"
   ]
  },
  {
   "cell_type": "markdown",
   "metadata": {},
   "source": [
    "## Question 1: What factors affect the demand for fish in the New York fresh fish market?\n",
    "\n",
    "This question is an adapted case from a paper published in the Journal of Economic Perspectives (JEP, 2006) titled ''Markets: The Fulton Fish Market,'' by Kathryn Graddy. Full citation: \n",
    "Journal of Economic Perspectives, vol. 20, no. 2, Spring 2006 (pp. 207–220).\n",
    "\n",
    "Graddy uses price and quantity data to estimate fish demand in the New York fish market.  (But you do not need to read the paper to complete the problem set): \n",
    "\n",
    "In this problem set, we study the demand for fish for different days of the week in the New York Fish Market using a sample of 111 daily observations."
   ]
  },
  {
   "cell_type": "markdown",
   "metadata": {},
   "source": [
    "## Data Description\n",
    "The data for this exercise come from daily fish quantity sold and price data. The data also has a column identifying which day of the week the observation pertains to, that is, if it is for a Monday, Tuesday, ..., or Friday. It also identifies weather variables for each daily observation.\n",
    "\n",
    "The variables included in the `fishData.dta` that are required for this question are:"
   ]
  },
  {
   "cell_type": "markdown",
   "metadata": {},
   "source": [
    "• `date`  a numeric variable identifying a date\n",
    "\n",
    "• `day1` : dummy equal to 1 if it is a Monday, 0 otherwise\n",
    "\n",
    "• `day2` : dummy equal to 1 if it is a Tuesday, 0 otherwise\n",
    "\n",
    "• `day3` : dummy equal to 1 if it is a Wednesday, 0 otherwise\n",
    "\n",
    "• `day4` : dummy equal to 1 if it is a Thursday, 0 otherwise\n",
    "\n",
    "• `day5` : dummy equal to 1 if it is a Friday, 0 otherwise\n",
    "\n",
    "• `p`: price of fish in dollars per pound\n",
    "\n",
    "• `q`: quantity sold in pounds\n",
    "\n",
    "• `rainy`: dummy equal to 1 if it is a rainy day, 0 otherwise\n",
    "\n",
    "• `cold`: dummy equal to 1 if it is a cold day, 0 otherwise\n",
    "\n",
    "• `stormy`: dummy equal to 1 if it is stormy at see for fishermen that day, 0 otherwise\n",
    "\n",
    "• `windspeed`: wind speed in knots\n"
   ]
  },
  {
   "cell_type": "markdown",
   "metadata": {},
   "source": [
    "## Question 1 : Descriptive Statistics"
   ]
  },
  {
   "cell_type": "markdown",
   "metadata": {},
   "source": [
    "Load the dataset `fishdata.dta`. Notice that this is a `.dta` file so you will need to use the `haven` package. Use the `head()` function to have a look at the dataset."
   ]
  },
  {
   "cell_type": "code",
   "execution_count": 43,
   "metadata": {
    "scrolled": true
   },
   "outputs": [
    {
     "data": {
      "text/html": [
       "<table class=\"dataframe\">\n",
       "<caption>A tibble: 6 × 12</caption>\n",
       "<thead>\n",
       "\t<tr><th scope=col>date</th><th scope=col>day1</th><th scope=col>day2</th><th scope=col>day3</th><th scope=col>day4</th><th scope=col>day5</th><th scope=col>p</th><th scope=col>q</th><th scope=col>rainy</th><th scope=col>cold</th><th scope=col>stormy</th><th scope=col>windspeed</th></tr>\n",
       "\t<tr><th scope=col>&lt;dbl&gt;</th><th scope=col>&lt;dbl&gt;</th><th scope=col>&lt;dbl&gt;</th><th scope=col>&lt;dbl&gt;</th><th scope=col>&lt;dbl&gt;</th><th scope=col>&lt;dbl&gt;</th><th scope=col>&lt;dbl&gt;</th><th scope=col>&lt;dbl&gt;</th><th scope=col>&lt;dbl&gt;</th><th scope=col>&lt;dbl&gt;</th><th scope=col>&lt;dbl&gt;</th><th scope=col>&lt;dbl&gt;</th></tr>\n",
       "</thead>\n",
       "<tbody>\n",
       "\t<tr><td>911202</td><td>1</td><td>0</td><td>0</td><td>0</td><td>0</td><td>0.6500000</td><td> 8058.003</td><td>1</td><td>0</td><td>1</td><td>20.00000</td></tr>\n",
       "\t<tr><td>911203</td><td>0</td><td>1</td><td>0</td><td>0</td><td>0</td><td>1.0000000</td><td> 2224.001</td><td>0</td><td>0</td><td>1</td><td>20.00000</td></tr>\n",
       "\t<tr><td>911204</td><td>0</td><td>0</td><td>1</td><td>0</td><td>0</td><td>1.0750000</td><td> 4231.001</td><td>1</td><td>1</td><td>0</td><td>16.66667</td></tr>\n",
       "\t<tr><td>911205</td><td>0</td><td>0</td><td>0</td><td>1</td><td>0</td><td>1.2803571</td><td> 5749.998</td><td>0</td><td>1</td><td>1</td><td>20.83333</td></tr>\n",
       "\t<tr><td>911206</td><td>0</td><td>0</td><td>0</td><td>0</td><td>1</td><td>1.9431819</td><td> 2551.001</td><td>0</td><td>1</td><td>1</td><td>20.83333</td></tr>\n",
       "\t<tr><td>911209</td><td>1</td><td>0</td><td>0</td><td>0</td><td>0</td><td>0.8134146</td><td>10951.998</td><td>0</td><td>0</td><td>0</td><td>15.83333</td></tr>\n",
       "</tbody>\n",
       "</table>\n"
      ],
      "text/latex": [
       "A tibble: 6 × 12\n",
       "\\begin{tabular}{llllllllllll}\n",
       " date & day1 & day2 & day3 & day4 & day5 & p & q & rainy & cold & stormy & windspeed\\\\\n",
       " <dbl> & <dbl> & <dbl> & <dbl> & <dbl> & <dbl> & <dbl> & <dbl> & <dbl> & <dbl> & <dbl> & <dbl>\\\\\n",
       "\\hline\n",
       "\t 911202 & 1 & 0 & 0 & 0 & 0 & 0.6500000 &  8058.003 & 1 & 0 & 1 & 20.00000\\\\\n",
       "\t 911203 & 0 & 1 & 0 & 0 & 0 & 1.0000000 &  2224.001 & 0 & 0 & 1 & 20.00000\\\\\n",
       "\t 911204 & 0 & 0 & 1 & 0 & 0 & 1.0750000 &  4231.001 & 1 & 1 & 0 & 16.66667\\\\\n",
       "\t 911205 & 0 & 0 & 0 & 1 & 0 & 1.2803571 &  5749.998 & 0 & 1 & 1 & 20.83333\\\\\n",
       "\t 911206 & 0 & 0 & 0 & 0 & 1 & 1.9431819 &  2551.001 & 0 & 1 & 1 & 20.83333\\\\\n",
       "\t 911209 & 1 & 0 & 0 & 0 & 0 & 0.8134146 & 10951.998 & 0 & 0 & 0 & 15.83333\\\\\n",
       "\\end{tabular}\n"
      ],
      "text/markdown": [
       "\n",
       "A tibble: 6 × 12\n",
       "\n",
       "| date &lt;dbl&gt; | day1 &lt;dbl&gt; | day2 &lt;dbl&gt; | day3 &lt;dbl&gt; | day4 &lt;dbl&gt; | day5 &lt;dbl&gt; | p &lt;dbl&gt; | q &lt;dbl&gt; | rainy &lt;dbl&gt; | cold &lt;dbl&gt; | stormy &lt;dbl&gt; | windspeed &lt;dbl&gt; |\n",
       "|---|---|---|---|---|---|---|---|---|---|---|---|\n",
       "| 911202 | 1 | 0 | 0 | 0 | 0 | 0.6500000 |  8058.003 | 1 | 0 | 1 | 20.00000 |\n",
       "| 911203 | 0 | 1 | 0 | 0 | 0 | 1.0000000 |  2224.001 | 0 | 0 | 1 | 20.00000 |\n",
       "| 911204 | 0 | 0 | 1 | 0 | 0 | 1.0750000 |  4231.001 | 1 | 1 | 0 | 16.66667 |\n",
       "| 911205 | 0 | 0 | 0 | 1 | 0 | 1.2803571 |  5749.998 | 0 | 1 | 1 | 20.83333 |\n",
       "| 911206 | 0 | 0 | 0 | 0 | 1 | 1.9431819 |  2551.001 | 0 | 1 | 1 | 20.83333 |\n",
       "| 911209 | 1 | 0 | 0 | 0 | 0 | 0.8134146 | 10951.998 | 0 | 0 | 0 | 15.83333 |\n",
       "\n"
      ],
      "text/plain": [
       "  date   day1 day2 day3 day4 day5 p         q         rainy cold stormy\n",
       "1 911202 1    0    0    0    0    0.6500000  8058.003 1     0    1     \n",
       "2 911203 0    1    0    0    0    1.0000000  2224.001 0     0    1     \n",
       "3 911204 0    0    1    0    0    1.0750000  4231.001 1     1    0     \n",
       "4 911205 0    0    0    1    0    1.2803571  5749.998 0     1    1     \n",
       "5 911206 0    0    0    0    1    1.9431819  2551.001 0     1    1     \n",
       "6 911209 1    0    0    0    0    0.8134146 10951.998 0     0    0     \n",
       "  windspeed\n",
       "1 20.00000 \n",
       "2 20.00000 \n",
       "3 16.66667 \n",
       "4 20.83333 \n",
       "5 20.83333 \n",
       "6 15.83333 "
      ]
     },
     "metadata": {},
     "output_type": "display_data"
    }
   ],
   "source": [
    "library(haven)\n",
    "# Read in data\n",
    "mydata <- read_dta(\"fishData.dta\")\n",
    "head(mydata)"
   ]
  },
  {
   "cell_type": "markdown",
   "metadata": {},
   "source": [
    "### a) Create log of price and log of q Variables\n",
    "Please create the log of q and the log of p and add them to the dataframe."
   ]
  },
  {
   "cell_type": "code",
   "execution_count": 44,
   "metadata": {},
   "outputs": [],
   "source": [
    "# Intalling tidyverse (optional)\n",
    "library(tidyverse)"
   ]
  },
  {
   "cell_type": "code",
   "execution_count": 45,
   "metadata": {},
   "outputs": [],
   "source": [
    "# Create log-transformed p and q variables\n",
    "mydata$log_p <- log(mydata$p)\n",
    "mydata$log_q <- log(mydata$q)\n",
    "\n",
    "# Create log-transformed p and q variables (tidyverse)\n",
    "# mydata <- mydata %>% mutate(log_p = log(p), log_q = log(q))"
   ]
  },
  {
   "cell_type": "markdown",
   "metadata": {},
   "source": [
    "### b) Descriptive statistics\n",
    "\n",
    "#### i) Weather characteristic\n",
    "\n",
    "How many days are in your data? How many days are rainy days, and how many are not rainy days? \n"
   ]
  },
  {
   "cell_type": "code",
   "execution_count": 46,
   "metadata": {},
   "outputs": [
    {
     "data": {
      "text/html": [
       "<style>\n",
       ".list-inline {list-style: none; margin:0; padding: 0}\n",
       ".list-inline>li {display: inline-block}\n",
       ".list-inline>li:not(:last-child)::after {content: \"\\00b7\"; padding: 0 .5ex}\n",
       "</style>\n",
       "<ol class=list-inline><li>0</li><li>111</li><li>18</li><li>93</li></ol>\n"
      ],
      "text/latex": [
       "\\begin{enumerate*}\n",
       "\\item 0\n",
       "\\item 111\n",
       "\\item 18\n",
       "\\item 93\n",
       "\\end{enumerate*}\n"
      ],
      "text/markdown": [
       "1. 0\n",
       "2. 111\n",
       "3. 18\n",
       "4. 93\n",
       "\n",
       "\n"
      ],
      "text/plain": [
       "[1]   0 111  18  93"
      ]
     },
     "metadata": {},
     "output_type": "display_data"
    },
    {
     "name": "stdout",
     "output_type": "stream",
     "text": [
      "[1] \"There are 111 observations in the data set.\"\n",
      "[1] \"There are 18 rainy days in the dataset and 93 non rainy days in the dataset\"\n"
     ]
    }
   ],
   "source": [
    "# Check if there are NAs (optional)\n",
    "na_count <- sum(is.na(mydata))\n",
    "\n",
    "# Days in the data\n",
    "n_total <- nrow(mydata)\n",
    "\n",
    "# Count rainy days\n",
    "n_rainy <- sum(mydata$rainy)\n",
    "\n",
    "# Count non-rainy days\n",
    "n_non_rainy <- nrow(mydata) - sum(mydata$rainy)\n",
    "\n",
    "# Print results\n",
    "c(na_count, n_total, n_rainy, n_non_rainy)\n",
    "\n",
    "## Alternative coding answers\n",
    "print(paste(\"There are\", nrow(mydata), \"observations in the data set.\"))\n",
    "\n",
    "rainy_data <- filter(mydata, rainy == 1)\n",
    "\n",
    "print(paste(\"There are\", nrow(rainy_data), \n",
    "    \"rainy days in the dataset and\", \n",
    "    nrow(mydata) - nrow(rainy_data), \n",
    "    \"non rainy days in the dataset\"))"
   ]
  },
  {
   "cell_type": "markdown",
   "metadata": {},
   "source": [
    "**Answer:**\n",
    "There are 111 days in our data, of which 18 are rainy and 93 are non-rainy."
   ]
  },
  {
   "cell_type": "markdown",
   "metadata": {},
   "source": [
    "\n",
    "#### ii) What is the mean price on rainy days? \n",
    "\n",
    "Hint: check for the `mean()` syntax in this website: https://www.rdocumentation.org/packages/base/versions/3.6.2/topics/mean ."
   ]
  },
  {
   "cell_type": "code",
   "execution_count": 47,
   "metadata": {},
   "outputs": [
    {
     "data": {
      "text/html": [
       "0.895972490310669"
      ],
      "text/latex": [
       "0.895972490310669"
      ],
      "text/markdown": [
       "0.895972490310669"
      ],
      "text/plain": [
       "[1] 0.8959725"
      ]
     },
     "metadata": {},
     "output_type": "display_data"
    }
   ],
   "source": [
    "# Mean of rainy days\n",
    "rainy_data <- filter(mydata, rainy == 1)\n",
    "p_mean_rainy <- mean(rainy_data$p)\n",
    "\n",
    "# Print results\n",
    "p_mean_rainy"
   ]
  },
  {
   "cell_type": "markdown",
   "metadata": {},
   "source": [
    "**Answer:** The mean price on rainy days is 0.89 dollars per pound."
   ]
  },
  {
   "cell_type": "markdown",
   "metadata": {},
   "source": [
    "#### iii) Measures of dispersion\n",
    "\n",
    "Compute the standard deviation of the q and p variables.\n",
    "\n",
    "You can use canned functions for the standard deviations."
   ]
  },
  {
   "cell_type": "code",
   "execution_count": 48,
   "metadata": {},
   "outputs": [
    {
     "data": {
      "text/html": [
       "<style>\n",
       ".list-inline {list-style: none; margin:0; padding: 0}\n",
       ".list-inline>li {display: inline-block}\n",
       ".list-inline>li:not(:last-child)::after {content: \"\\00b7\"; padding: 0 .5ex}\n",
       "</style>\n",
       "<ol class=list-inline><li>4040.11943413165</li><li>0.335112738588317</li></ol>\n"
      ],
      "text/latex": [
       "\\begin{enumerate*}\n",
       "\\item 4040.11943413165\n",
       "\\item 0.335112738588317\n",
       "\\end{enumerate*}\n"
      ],
      "text/markdown": [
       "1. 4040.11943413165\n",
       "2. 0.335112738588317\n",
       "\n",
       "\n"
      ],
      "text/plain": [
       "[1] 4040.1194341    0.3351127"
      ]
     },
     "metadata": {},
     "output_type": "display_data"
    }
   ],
   "source": [
    "# Standard deviations\n",
    "q_sd <- sd(mydata$q)\n",
    "p_sd <- sd(mydata$p)\n",
    "\n",
    "# Print results\n",
    "c(q_sd, p_sd)"
   ]
  },
  {
   "cell_type": "markdown",
   "metadata": {},
   "source": [
    "**Answer:** The quantity sold has a standard deviation of 4040.12 pounds and the price of fish has a standard deviation of 0.34 dollars per pound."
   ]
  },
  {
   "cell_type": "markdown",
   "metadata": {},
   "source": [
    "### b) Histogram for q\n",
    "\n",
    "#### i) Plot a histogram (Hint: use the `hist()` command) of q, with 10 bins."
   ]
  },
  {
   "cell_type": "code",
   "execution_count": 49,
   "metadata": {},
   "outputs": [
    {
     "data": {
      "image/png": "[encoded data removed]",
      "text/plain": [
       "Plot with title “Histogram of Quantity Sold”"
      ]
     },
     "metadata": {
      "image/png": {
       "height": 420,
       "width": 420
      }
     },
     "output_type": "display_data"
    }
   ],
   "source": [
    "# As long as we have 10 bins, I think it should be fine\n",
    "# Different packages have different ways of handling the bin starting point\n",
    "\n",
    "# Using hist\n",
    "hist(mydata$q,\n",
    "     breaks = seq(min(mydata$q), max(mydata$q), l = 10 + 1),\n",
    "     main = 'Histogram of Quantity Sold',\n",
    "     xlab = 'Quantity Sold (pounds)',\n",
    "     freq = FALSE) # Optional"
   ]
  },
  {
   "cell_type": "markdown",
   "metadata": {},
   "source": [
    "#### ii) In the same graph, plot the histogram for q in red for rainy days and in blue for non rainy days\n",
    "\n",
    "What do you conclude when comparing the histogram for rainy and non rainy days"
   ]
  },
  {
   "cell_type": "code",
   "execution_count": 50,
   "metadata": {},
   "outputs": [
    {
     "data": {
      "image/png": "[encoded data removed]",
      "text/plain": [
       "Plot with title “Histogram of Quantity Sold by Rain Status”"
      ]
     },
     "metadata": {
      "image/png": {
       "height": 420,
       "width": 420
      }
     },
     "output_type": "display_data"
    },
    {
     "data": {
      "image/png": "[encoded data removed]",
      "text/plain": [
       "plot without title"
      ]
     },
     "metadata": {
      "image/png": {
       "height": 420,
       "width": 420
      }
     },
     "output_type": "display_data"
    },
    {
     "data": {
      "image/png": "[encoded data removed]",
      "text/plain": [
       "plot without title"
      ]
     },
     "metadata": {
      "image/png": {
       "height": 420,
       "width": 420
      }
     },
     "output_type": "display_data"
    }
   ],
   "source": [
    "#### Notes: Full points for using either hist or ggplot,\n",
    "#### And for showing frequencies or densities.\n",
    "\n",
    "#### Example code using \"hist\" showing density\n",
    "# Define shared breaks\n",
    "hist_breaks <- seq(min(mydata$q), max(mydata$q), l = 10 + 1)\n",
    "\n",
    "# Histogram for rainy days\n",
    "hist(mydata$q[mydata$rainy == 1], \n",
    "     breaks = hist_breaks, \n",
    "     col = rgb(1, 0, 0, 0.5),\n",
    "     main = 'Histogram of Quantity Sold by Rain Status', \n",
    "     xlab = 'Quantity Sold (pounds)',\n",
    "     freq = FALSE)\n",
    "\n",
    "# Histogram for non-rainy days + add = TRUE\n",
    "hist(mydata$q[mydata$rainy == 0], \n",
    "     breaks = hist_breaks, \n",
    "     col = rgb(0, 0, 1, 0.5),\n",
    "     freq = FALSE,\n",
    "     add = TRUE)\n",
    "\n",
    "# Add legend (optional)\n",
    "legend('topright', legend = c('Rainy Days', 'Dry Days'), \n",
    "       fill = c(rgb(1, 0, 0, 0.5), rgb(0, 0, 1, 0.5)))\n",
    "\n",
    "#### Example code using ggplot graphing density\n",
    "ggplot(mydata, aes(x=q, y = ..density..)) +\n",
    "    # set fill = rainy to stack separately for 0 and 1 observations\n",
    "    geom_histogram(aes(fill = factor(rainy)),\n",
    "        position = \"identity\",\n",
    "        alpha = 0.3, \n",
    "        bins = 10) +\n",
    "    # add labels\n",
    "    labs(title = \"Histogram of Quantity Sold by Rain Status\",\n",
    "        x = \"Quantity Sold (pounds)\",\n",
    "        y = \"Frequency\") + \n",
    "    scale_fill_manual(name = \"Rain Status\", labels = c(\"Dry Days\", \"Rainy Days\"),\n",
    "    values = c(\"blue\", \"red\")) +\n",
    "    theme_bw()\n",
    "\n",
    "#### Example code using ggplot graphing frequency\n",
    "ggplot(mydata, aes(x=q)) +\n",
    "    # set fill = rainy to stack separately for 0 and 1 observations\n",
    "    geom_histogram(aes(fill = factor(rainy)),\n",
    "        position = \"identity\",\n",
    "        alpha = 0.3, \n",
    "        bins = 10) +\n",
    "    # add labels\n",
    "    labs(title = \"Histogram of Quantity Sold by Rain Status\",\n",
    "        x = \"Quantity Sold (pounds)\",\n",
    "        y = \"Frequency\") + \n",
    "    scale_fill_manual(name = \"Rain Status\", labels = c(\"Dry Days\", \"Rainy Days\"),\n",
    "    values = c(\"blue\", \"red\")) +\n",
    "    theme_bw()\n"
   ]
  },
  {
   "cell_type": "markdown",
   "metadata": {},
   "source": [
    "**Answer:** When comparing densities, we observe that the distributions of quantities sold are descriptively similar between rainy and dry days. However, it appears that it is more likely to sell moderate quantitites of fish (4,000-8,000 pounds) on rainy days relative to dry days and more likely to sell extremely low (<1,000 pounds) or high (>15,000 pounds) quantitites of fish on dry days. That said, we should take these results with caution due to the low quantity of rainy days in the data."
   ]
  },
  {
   "attachments": {},
   "cell_type": "markdown",
   "metadata": {},
   "source": [
    "### c) Comparisons of q for rainy and non-rainy days\n",
    "\n",
    "#### i) Means of quantity\n",
    "\n",
    "Calculate the mean of q between rainy- and non-rainy days and their standard errors. Compare the two means, do they seem substantially different?\n",
    "\n",
    "Hint: Use the tidyverse (dplyr) method (after loading the appropriate package in the preamble):\n",
    "filter() trims dataframe to observations with only rainy days and those with only non-rainy days\r\n"
   ]
  },
  {
   "cell_type": "code",
   "execution_count": 51,
   "metadata": {},
   "outputs": [
    {
     "name": "stdout",
     "output_type": "stream",
     "text": [
      "[1] \"The average quantity of fish sold on rainy days is 6549.55541314019 with a standard error of 944.295912602072 and the average quantity of fish sold on dry days is 6293.07500892557 with a standard error of 421.715297857514 so there is a difference of 256.48040421462 pounds in the average quantity of fish sold between rainy and dry days\"\n"
     ]
    }
   ],
   "source": [
    "# Calculate means and se for rainy data\n",
    "q_mean_rainy <- mean(rainy_data$q)\n",
    "q_sd_rainy <- sd(rainy_data$q)\n",
    "q_se_rainy <- q_sd_rainy/sqrt(n_rainy)\n",
    "\n",
    "# Calculate means and se for non-rainy data\n",
    "non_rainy_data <- filter(mydata, rainy == 0)\n",
    "q_mean_non_rainy <- mean(non_rainy_data$q)\n",
    "q_sd_non_rainy <- sd(non_rainy_data$q)\n",
    "q_se_non_rainy <- q_sd_non_rainy/sqrt(n_non_rainy)\n",
    "\n",
    "# Calculate difference\n",
    "q_mean_diff <- q_mean_rainy - q_mean_non_rainy\n",
    "\n",
    "# Print results\n",
    "print(paste(\"The average quantity of fish sold on rainy days is\", q_mean_rainy, \n",
    "    \"with a standard error of\", q_se_rainy, \n",
    "    \"and the average quantity of fish sold on dry days is\", q_mean_non_rainy,\n",
    "    \"with a standard error of\", q_se_non_rainy,\n",
    "    \"so there is a difference of\", q_mean_diff, \n",
    "    \"pounds in the average quantity of fish sold between rainy and dry days\"))\n"
   ]
  },
  {
   "cell_type": "markdown",
   "metadata": {},
   "source": [
    "**Answer:** The average quantity of fish sold in rainy days (6549.6 pounds) is 256.5 pounds higher than on non-rainy days (6293.1 pounds). This difference in quantities is about 4\\% of the average quantity sold on dry days, which may or may not be economically meaningful depending on the context. However, this is only a descriptive difference, we do not know based on this information whether the difference is statistically significant. "
   ]
  },
  {
   "cell_type": "markdown",
   "metadata": {},
   "source": [
    "#### ii) Test Statistics\n",
    "\n",
    "Create a test statistic for the difference of the mean of q between rainy- and non-rainy days. Use a two-tail test. Is the difference statistically significant at the 0.90 confidence level? \n"
   ]
  },
  {
   "cell_type": "code",
   "execution_count": 52,
   "metadata": {},
   "outputs": [
    {
     "data": {
      "text/html": [
       "1034.18497523607"
      ],
      "text/latex": [
       "1034.18497523607"
      ],
      "text/markdown": [
       "1034.18497523607"
      ],
      "text/plain": [
       "[1] 1034.185"
      ]
     },
     "metadata": {},
     "output_type": "display_data"
    },
    {
     "data": {
      "text/html": [
       "109"
      ],
      "text/latex": [
       "109"
      ],
      "text/markdown": [
       "109"
      ],
      "text/plain": [
       "[1] 109"
      ]
     },
     "metadata": {},
     "output_type": "display_data"
    },
    {
     "name": "stdout",
     "output_type": "stream",
     "text": [
      "[1] \"Our test-statistic is 0.248002446715177 and the critical value at a 10% significant level is 1.65895345820307\"\n"
     ]
    }
   ],
   "source": [
    "# Perform two-sample t-test\n",
    "diff_se <- sqrt((q_sd_rainy^2/n_rainy)+(q_sd_non_rainy^2/n_non_rainy))\n",
    "t_stat <- q_mean_diff/diff_se\n",
    "df <- n_rainy + n_non_rainy - 2\n",
    "t_critical10<- qt(0.05, df, lower.tail=FALSE)\n",
    "diff_se\n",
    "df\n",
    "# Print results\n",
    "print(paste(\"Our test-statistic is\", t_stat, \"and the critical value at a 10% significant level is\" , t_critical10))"
   ]
  },
  {
   "cell_type": "markdown",
   "metadata": {},
   "source": [
    "**Answer:** Our Null Hypothesis is that there is no difference in quantities sold between rainy and dry days, and we test this against the alternative hypothesis that there is a significant difference in quantities sold between rainy and dry days:\n",
    "$$H_0: \\bar{X}_R - \\bar{X}_D = D = 0$$\n",
    "$$H_A: \\bar{X}_R - \\bar{X}_D = D \\neq 0$$\n",
    "\n",
    "Our test statistic for this hypothesis test is \n",
    "$$\\frac{\\hat{D} - D_0}{se(\\hat{D})} = \\frac{256.5 - 0}{\\sqrt{\\frac{s_R^2}{n_R} + \\frac{s_D^2}{n_D}}} = \\frac{256.5 - 0}{1034.1850} = 0.2480 $$\n",
    "\n",
    "Our test statistic for a two-sided test of a difference in means with $\\alpha = 0.10$ is distributed $t_{\\alpha/2,n_1 + n_2 -2} = t_{.05,109}$ which gives us a critical value of $1.6590$.\n",
    "\n",
    "Our decision rule is to reject the null hypothesis if $|test \\ statistic| > |critical \\ value|$. Since $|0.2480| < |1.6590|$ we **fail to reject** the null hypothesis in this case.\n",
    "\n",
    "Interpretation: Based on the t-test, we fail to reject the null hypothesis at the 10% significance level, indicating that there is not enough evidence to conclude that there is a significant difference between the average quantities of fish sold on rainy days compared to non-rainy days."
   ]
  },
  {
   "cell_type": "markdown",
   "metadata": {},
   "source": [
    "## Question 2: Effect of price on quantity"
   ]
  },
  {
   "cell_type": "markdown",
   "metadata": {},
   "source": [
    "In this part of the exercise, we will estimate the effect of log price on log of quantity sold each day. Consider the two following models:\n",
    "\n",
    "Model (1): $q = \\beta_0 + \\beta_1 \\ p   + u $\n",
    "\n",
    "Model (2):  $q = \\beta_0 + \\beta_1 \\ p + \\beta_2 \\ rainy + u $\n",
    "\n",
    "**Correction:** It should be \"we will estimate the effect of price on quantity sold each day\"."
   ]
  },
  {
   "cell_type": "markdown",
   "metadata": {},
   "source": [
    "### a) Estimation\n",
    "\n",
    "Estimate equations (1) and (2) with `lm()`."
   ]
  },
  {
   "cell_type": "code",
   "execution_count": 53,
   "metadata": {},
   "outputs": [
    {
     "data": {
      "text/plain": [
       "\n",
       "Call:\n",
       "lm(formula = q ~ p, data = mydata)\n",
       "\n",
       "Residuals:\n",
       "    Min      1Q  Median      3Q     Max \n",
       "-6158.2 -2945.3  -170.3  2150.8 13651.4 \n",
       "\n",
       "Coefficients:\n",
       "            Estimate Std. Error t value Pr(>|t|)    \n",
       "(Intercept)     9615       1039   9.257 2.12e-15 ***\n",
       "p              -3709       1099  -3.376  0.00102 ** \n",
       "---\n",
       "Signif. codes:  0 ‘***’ 0.001 ‘**’ 0.01 ‘*’ 0.05 ‘.’ 0.1 ‘ ’ 1\n",
       "\n",
       "Residual standard error: 3862 on 109 degrees of freedom\n",
       "Multiple R-squared:  0.09465,\tAdjusted R-squared:  0.08634 \n",
       "F-statistic:  11.4 on 1 and 109 DF,  p-value: 0.001021\n"
      ]
     },
     "metadata": {},
     "output_type": "display_data"
    },
    {
     "data": {
      "text/plain": [
       "\n",
       "Call:\n",
       "lm(formula = q ~ p + rainy, data = mydata)\n",
       "\n",
       "Residuals:\n",
       "    Min      1Q  Median      3Q     Max \n",
       "-6108.8 -2899.7  -424.6  2045.8 13699.0 \n",
       "\n",
       "Coefficients:\n",
       "            Estimate Std. Error t value Pr(>|t|)    \n",
       "(Intercept)   9570.1     1053.4   9.085 5.58e-15 ***\n",
       "p            -3714.1     1103.5  -3.366  0.00106 ** \n",
       "rainy          307.2      998.7   0.308  0.75895    \n",
       "---\n",
       "Signif. codes:  0 ‘***’ 0.001 ‘**’ 0.01 ‘*’ 0.05 ‘.’ 0.1 ‘ ’ 1\n",
       "\n",
       "Residual standard error: 3878 on 108 degrees of freedom\n",
       "Multiple R-squared:  0.09544,\tAdjusted R-squared:  0.07869 \n",
       "F-statistic: 5.698 on 2 and 108 DF,  p-value: 0.004442\n"
      ]
     },
     "metadata": {},
     "output_type": "display_data"
    }
   ],
   "source": [
    "# Define model 1\n",
    "model1 <- lm(q ~ p, data = mydata)\n",
    "\n",
    "# Define model 2\n",
    "model2 <- lm(q ~ p + rainy, data = mydata)\n",
    "\n",
    "# Print summaries\n",
    "summary(model1)\n",
    "summary(model2)"
   ]
  },
  {
   "cell_type": "markdown",
   "metadata": {},
   "source": [
    "### b) Interpretation\n",
    "\n",
    "Interpret each of the estimated parameters associated with the covariates (other than the constant) of Model (2) - as sign and size (for now, no need to talk about significance)\n",
    "\n",
    "As an illustration, the estimated beta_0 is the predicted quantity sold when price is zero and it is not raining, holding all else constant."
   ]
  },
  {
   "cell_type": "markdown",
   "metadata": {},
   "source": [
    "**Answer:**\n",
    "\n",
    "B0: The estimated quantity of fish sold is predicted to be 9,570 pounds when the price is 0 dollars per pound and it is not raining. However, this scenario is unrealistic as vendors are unlikely to give away their wares for free.\n",
    "\n",
    "B1: A $1 per pound increase in price is associated with a 3,714 pound decrease in the quantity of fish sold, holding all else constant.\n",
    "\n",
    "B2: The quantity of fish sold on a rainy day is predicted to increase by 307 pounds compared to a non-rainy day, holding all else constant."
   ]
  },
  {
   "cell_type": "markdown",
   "metadata": {},
   "source": [
    "### c) Omitted Variable Bias\n",
    "\n",
    "How did your estimate of $\\hat{\\beta}_1$ change between equation (1) and equation (2)? Without performing any calculations, what information does this give you about the correlation between rainy days and price in the sample? (Explain your reasoning in no more than 4 sentences.)"
   ]
  },
  {
   "cell_type": "markdown",
   "metadata": {},
   "source": [
    "**Answer:** The estimate of $\\hat{\\beta}_1$ changed from -3,709 in the under-specified model (model 1) to -3,714 in the fully specified model (model 2). This suggests that omitting the rainy variable introduced an upward bias. From our omitted variable bias formula we know that $$Sign(Bias) = Sign(\\beta_{ov}) * Sign(\\rho_{x,ov})$$\n",
    "Since we see from our regression results that we have upward bias ($Sign(bias) > 0)$, and we see from our fully specified model (model 2) that the direct effect of rainy days on quantities sold is positive $\\beta_{rainy} = 307.2 > 0$ ,we can conclude that prices and rain most be positively correlated ($\\rho_{p,rainy} > 0$)."
   ]
  },
  {
   "cell_type": "markdown",
   "metadata": {},
   "source": [
    "### d) Prediction\n",
    "\n",
    "#### i) Predict the expected quantity sold, if it is a rainy day and price is equal to 2 using your estimates from Model (2)."
   ]
  },
  {
   "cell_type": "code",
   "execution_count": 54,
   "metadata": {},
   "outputs": [
    {
     "data": {
      "text/html": [
       "2449.03968483966"
      ],
      "text/latex": [
       "2449.03968483966"
      ],
      "text/markdown": [
       "2449.03968483966"
      ],
      "text/plain": [
       "[1] 2449.04"
      ]
     },
     "metadata": {},
     "output_type": "display_data"
    }
   ],
   "source": [
    "# Extract coefficients\n",
    "coefficients <- coef(model2)\n",
    "beta_0 <- unname(coefficients[1])\n",
    "beta_1 <- unname(coefficients[2])\n",
    "beta_2 <- unname(coefficients[3])\n",
    "\n",
    "# Calculate expected quantity\n",
    "q_predicted_1 <- beta_0 + beta_1 * 2 + beta_2 * 1\n",
    "q_predicted_1"
   ]
  },
  {
   "cell_type": "markdown",
   "metadata": {},
   "source": [
    "**Answer:** The predicted quantity of fish sold on a rainy day with a price of $2 per pound is 2449 pounds."
   ]
  },
  {
   "cell_type": "markdown",
   "metadata": {},
   "source": [
    "#### ii) Predict the expected quantity sold, if it is not a rainy day and price is equal to 2 using your estimates from Model (2)."
   ]
  },
  {
   "cell_type": "code",
   "execution_count": 55,
   "metadata": {},
   "outputs": [
    {
     "data": {
      "text/html": [
       "2141.8091853092"
      ],
      "text/latex": [
       "2141.8091853092"
      ],
      "text/markdown": [
       "2141.8091853092"
      ],
      "text/plain": [
       "[1] 2141.809"
      ]
     },
     "metadata": {},
     "output_type": "display_data"
    }
   ],
   "source": [
    "# Calculate log(quantity) for a non-rainy day\n",
    "q_predicted_2 <- beta_0 + beta_1 * 2 + beta_2 * 0\n",
    "\n",
    "# Convert log(quantity) to quantity\n",
    "q_predicted_2"
   ]
  },
  {
   "cell_type": "markdown",
   "metadata": {},
   "source": [
    "**Answer:** The predicted quantity of fish sold on a non-rainy day with a price of $2 per pound is 2142 pounds."
   ]
  },
  {
   "cell_type": "markdown",
   "metadata": {},
   "source": [
    "## Question 3: Hypothesis testing"
   ]
  },
  {
   "cell_type": "markdown",
   "metadata": {},
   "source": [
    "### (a) Specify and estimate a model that allows you to test the following two hypotheses:\n",
    "\n",
    "\n",
    "1) The windspeed does not affect the quantity of fish sold holding price, rain, and cold days constant.\n",
    "   \n",
    "2) A rainy day has the same effect on quantity sold than a cold day holding price and windspeed constant.\n"
   ]
  },
  {
   "cell_type": "code",
   "execution_count": 56,
   "metadata": {},
   "outputs": [
    {
     "data": {
      "text/plain": [
       "\n",
       "Call:\n",
       "lm(formula = q ~ p + rainy + cold + windspeed, data = mydata)\n",
       "\n",
       "Residuals:\n",
       "    Min      1Q  Median      3Q     Max \n",
       "-6409.8 -2874.0  -470.9  2131.0 13795.3 \n",
       "\n",
       "Coefficients:\n",
       "            Estimate Std. Error t value Pr(>|t|)    \n",
       "(Intercept)  11095.2     1830.1   6.062 2.09e-08 ***\n",
       "p            -3104.1     1214.9  -2.555    0.012 *  \n",
       "rainy          397.4     1005.6   0.395    0.694    \n",
       "cold          -285.4      820.6  -0.348    0.729    \n",
       "windspeed     -108.1      112.7  -0.959    0.340    \n",
       "---\n",
       "Signif. codes:  0 ‘***’ 0.001 ‘**’ 0.01 ‘*’ 0.05 ‘.’ 0.1 ‘ ’ 1\n",
       "\n",
       "Residual standard error: 3887 on 106 degrees of freedom\n",
       "Multiple R-squared:  0.1079,\tAdjusted R-squared:  0.07428 \n",
       "F-statistic: 3.207 on 4 and 106 DF,  p-value: 0.01579\n"
      ]
     },
     "metadata": {},
     "output_type": "display_data"
    }
   ],
   "source": [
    "# Define model\n",
    "model3 <- lm(q ~ p + rainy + cold + windspeed, data = mydata)\n",
    "\n",
    "# Print summary\n",
    "summary(model3)"
   ]
  },
  {
   "cell_type": "markdown",
   "metadata": {},
   "source": [
    "### (b) Hypothesis 1\n",
    "\n",
    "Given the estimated Model, what can you conclude about your first hypothesis? Use the five steps of hypothesis testing.\n",
    "\n"
   ]
  },
  {
   "cell_type": "code",
   "execution_count": 57,
   "metadata": {},
   "outputs": [
    {
     "data": {
      "text/html": [
       "1.65935603394717"
      ],
      "text/latex": [
       "1.65935603394717"
      ],
      "text/markdown": [
       "1.65935603394717"
      ],
      "text/plain": [
       "[1] 1.659356"
      ]
     },
     "metadata": {},
     "output_type": "display_data"
    },
    {
     "data": {
      "text/html": [
       "1.9825972617655"
      ],
      "text/latex": [
       "1.9825972617655"
      ],
      "text/markdown": [
       "1.9825972617655"
      ],
      "text/plain": [
       "[1] 1.982597"
      ]
     },
     "metadata": {},
     "output_type": "display_data"
    },
    {
     "data": {
      "text/html": [
       "2.62300841145002"
      ],
      "text/latex": [
       "2.62300841145002"
      ],
      "text/markdown": [
       "2.62300841145002"
      ],
      "text/plain": [
       "[1] 2.623008"
      ]
     },
     "metadata": {},
     "output_type": "display_data"
    }
   ],
   "source": [
    "## Calculating the t critical value\n",
    "# For alpha = .01\n",
    "t_critical_a10 <- qt(0.05, 106, lower.tail=FALSE)\n",
    "t_critical_a10\n",
    "# For alpha = .05\n",
    "t_critical_a5 <- qt(0.025, 106, lower.tail=FALSE)\n",
    "t_critical_a5\n",
    "# For alpha = .01\n",
    "t_critical_a1 <- qt(0.005, 106, lower.tail=FALSE)\n",
    "t_critical_a1"
   ]
  },
  {
   "cell_type": "markdown",
   "metadata": {},
   "source": [
    "**Answer:** \n",
    "\n",
    "Step 1: Define hypothesis\n",
    "\n",
    "$H_0$: Windspeed has no effect on the quantity of fish sold, holding all else constant. ($\\beta_{windspeed} = 0$)\n",
    "\n",
    "$H_a$: Windspeed has an effect on the quantity of fish sold, holding all else constant. ($\\beta_{windspeed} \\neq 0$)\n",
    "\n",
    "Step 2: Compute the test statistic\n",
    "\n",
    "$t = \\frac{\\hat{\\beta}_{windspeed}-\\beta_0}{se(\\hat{\\beta})} = \\frac{-108.1}{112.7} = -0.959$\n",
    "\n",
    "Step 3: Choose significance level\n",
    "\n",
    "We will use a 10% significance level, with a critical value of 1.66\n",
    "\n",
    "Step 4: Define our rejection rule\n",
    "\n",
    "If $|test \\ statistic| > |critical \\ value|$, we reject $H_0$. \n",
    "\n",
    "Step 5: Decide and interpret\n",
    "\n",
    "Since $|-0.96| < 1.66$, we fail to reject the null hypothesis at a 90% confidence level. There is not enough evidence to conclude that windspeed affects the quantity of fish sold, holding price, rain, and cold days constant."
   ]
  },
  {
   "cell_type": "markdown",
   "metadata": {},
   "source": [
    "### (c) Omitting Windspeed\n",
    "\n",
    "If you omit windspeed from the above model, what happens to the estimate of price? Why is that? explain with the omitted variable formula argument\n"
   ]
  },
  {
   "cell_type": "code",
   "execution_count": 58,
   "metadata": {},
   "outputs": [
    {
     "data": {
      "text/plain": [
       "\n",
       "Call:\n",
       "lm(formula = q ~ p + rainy + cold, data = mydata)\n",
       "\n",
       "Residuals:\n",
       "    Min      1Q  Median      3Q     Max \n",
       "-6369.6 -2760.0  -404.7  2081.3 13511.2 \n",
       "\n",
       "Coefficients:\n",
       "            Estimate Std. Error t value Pr(>|t|)    \n",
       "(Intercept)   9666.7     1063.3   9.091 5.79e-15 ***\n",
       "p            -3508.9     1138.9  -3.081  0.00262 ** \n",
       "rainy          377.5     1005.1   0.376  0.70798    \n",
       "cold          -574.1      763.2  -0.752  0.45359    \n",
       "---\n",
       "Signif. codes:  0 ‘***’ 0.001 ‘**’ 0.01 ‘*’ 0.05 ‘.’ 0.1 ‘ ’ 1\n",
       "\n",
       "Residual standard error: 3886 on 107 degrees of freedom\n",
       "Multiple R-squared:  0.1002,\tAdjusted R-squared:  0.07497 \n",
       "F-statistic: 3.972 on 3 and 107 DF,  p-value: 0.009979\n"
      ]
     },
     "metadata": {},
     "output_type": "display_data"
    }
   ],
   "source": [
    "# Define model\n",
    "model4 <- lm(q ~ p + rainy + cold, data = mydata)\n",
    "\n",
    "# Print summary\n",
    "summary(model4)"
   ]
  },
  {
   "cell_type": "markdown",
   "metadata": {},
   "source": [
    "**Answer:** Again recall the omitted bias formula. $$Sign(Bias) = Sign(\\beta_{ov}) * Sign(\\rho_{x,ov})$$ When windspeed is omitted, the coefficient for the log of price decreases from -3104 to -3508, showing that omitting windspeed leads to **downward** omitted variable bias. Since we see that windspeed has a a direct negative effect on prices, this tells us that windspeed and price must be positively correlated. "
   ]
  },
  {
   "cell_type": "markdown",
   "metadata": {},
   "source": [
    "## Question 3"
   ]
  },
  {
   "cell_type": "markdown",
   "metadata": {},
   "source": [
    "The data in the sample are for weekdays only, from Monday to Friday.\n",
    "What would happen if you ran the following model?\n",
    "\n",
    " $q = \\beta_0 + \\beta_1 \\ p + \\beta_2 \\ rainy + day1 \\ \\alpha_1 + day2 \\ \\alpha_2 + day3 \\ \\alpha_3 + day4 \\ \\alpha_4 + day5 \\ \\alpha_5 + u $\n",
    "\n",
    "Please explain why that is."
   ]
  },
  {
   "cell_type": "code",
   "execution_count": 59,
   "metadata": {},
   "outputs": [
    {
     "data": {
      "text/plain": [
       "\n",
       "Call:\n",
       "lm(formula = q ~ p + rainy + day1 + day2 + day3 + day4 + day5, \n",
       "    data = mydata)\n",
       "\n",
       "Residuals:\n",
       "    Min      1Q  Median      3Q     Max \n",
       "-6648.6 -2433.9  -436.1  2169.2 12128.9 \n",
       "\n",
       "Coefficients: (1 not defined because of singularities)\n",
       "            Estimate Std. Error t value Pr(>|t|)    \n",
       "(Intercept)  10572.5     1255.3   8.422 2.18e-13 ***\n",
       "p            -3823.6     1047.3  -3.651 0.000411 ***\n",
       "rainy          177.8      953.6   0.186 0.852427    \n",
       "day1           616.3     1113.5   0.553 0.581153    \n",
       "day2         -2401.1     1091.3  -2.200 0.030007 *  \n",
       "day3         -2937.1     1106.6  -2.654 0.009198 ** \n",
       "day4           250.8     1084.6   0.231 0.817550    \n",
       "day5              NA         NA      NA       NA    \n",
       "---\n",
       "Signif. codes:  0 ‘***’ 0.001 ‘**’ 0.01 ‘*’ 0.05 ‘.’ 0.1 ‘ ’ 1\n",
       "\n",
       "Residual standard error: 3654 on 104 degrees of freedom\n",
       "Multiple R-squared:  0.2268,\tAdjusted R-squared:  0.1822 \n",
       "F-statistic: 5.085 on 6 and 104 DF,  p-value: 0.0001297\n"
      ]
     },
     "metadata": {},
     "output_type": "display_data"
    }
   ],
   "source": [
    "# Define model\n",
    "model5 <- lm(q ~ p + rainy + day1 + day2 + day3 + day4 + day5, data = mydata)\n",
    "\n",
    "# Print summary\n",
    "summary(model5)"
   ]
  },
  {
   "cell_type": "markdown",
   "metadata": {},
   "source": [
    "**Answer:** Adding all the weekday dummy variables would be an example of the dummy variable trap, which would introduce perfect collinearity since all these five variables together are linearly dependent. Indeed, we can see that when we try to estimate this model R automatically drops one of the dummy variables (day5). In order for this regression to work, we must omit at least one of these categories, which will become the reference group."
   ]
  },
  {
   "cell_type": "markdown",
   "metadata": {},
   "source": [
    "# THE END"
   ]
  }
 ],
 "metadata": {
  "kernelspec": {
   "display_name": "R",
   "language": "R",
   "name": "ir"
  },
  "language_info": {
   "codemirror_mode": "r",
   "file_extension": ".r",
   "mimetype": "text/x-r-source",
   "name": "R",
   "pygments_lexer": "r",
   "version": "4.4.2"
  }
 },
 "nbformat": 4,
 "nbformat_minor": 4
}
