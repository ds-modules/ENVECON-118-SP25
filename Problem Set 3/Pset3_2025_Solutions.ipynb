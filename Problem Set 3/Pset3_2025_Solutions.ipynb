{
 "cells": [
  {
   "cell_type": "markdown",
   "metadata": {},
   "source": [
    "# Spring 2025 ENVECON/IAS 118 - Introductory Applied Econometrics Problem Set 3\n",
    "## Due on Gradescope at Midnight, March 4\n",
    "\n",
    "# Submission Instructions \n",
    "For the purposes of this class, we will be using Berkeley's _Datahub_ to conduct our analysis remotely using these notebooks. The data files can be accessed directly  through _Datahub_ and do not require you to install anything on your computer. \n",
    "\n",
    "If instead you already have an installation of R/RStudio on your personal computer and prefer to work offline, you can download the data for this assignment from bCourses (Make sure to install/update all packages mentioned in the problem sets in order to prevent issues regarding deprecated or outdated packages).\n",
    "\n",
    "To submit your completed assignment, go to the file dropdown menu and select the ”Save and export notebook as” dropdown menu. In this menu make sure to select ”PDF”, \"Webpdf\" or \"PDF via Chrome\" (if that option appears instead). \n",
    "\n",
    "The figures in the problem statement may not show up in the pdf you generate. Once you have downloaded this pdf, make sure it shows all your answers (including code and output). Please **do not print the entire dataset in your submission**. If you viewed the data earlier, remove that line of code and re-run the code cell (as datasets get bigger this adds many pages to pdf submissions and increases the likelihood we miss your answer). \n",
    "\n",
    "Upload your submission to Gradescope: https://www.gradescope.com/courses/927499\n",
    "\n",
    "*Note: Coding Bootcamp [Part 3](https://r.datahub.berkeley.edu/hub/user-redirect/git-pull?repo=https%3A%2F%2Fgithub.com%2Fds-modules%2FENVECON-118-SP23&branch=main&urlpath=retro%2Ftree%2FENVECON-118-SP23%2F1_CodingBootcamp%2FCoding+Bootcamp+Part+3_2023.ipynb) and [Part 4](https://r.datahub.berkeley.edu/hub/user-redirect/git-pull?repo=https%3A%2F%2Fgithub.com%2Fds-modules%2FENVECON-118-SP23&branch=main&urlpath=retro%2Ftree%2FENVECON-118-SP23%2F1_CodingBootcamp%2FCoding+Bootcamp+Part+4_2023.ipynb) covers all necessary R methods.\n"
   ]
  },
  {
   "cell_type": "markdown",
   "metadata": {},
   "source": [
    "### Preamble\n",
    "When writing R code, it's a good habit to start your notebooks or R scripts with a preamble, a section where you load all necessary packages, set paths or change the working directory, or declare other options.\n",
    "\n",
    "Use the below code cell to load in packages you will use throughout the problem set (at least `haven`, `tidyverse`, and `ggplot2` this week). \n",
    "\n",
    "*Note:* **never** try to install packages on Datahub. All packages that you need are already installed and can be loaded immediately using the `library()` function. Attempting to install packages will create conflicts with the package versions on the server and potentially corrupt your notebook."
   ]
  },
  {
   "cell_type": "code",
   "execution_count": 1,
   "metadata": {},
   "outputs": [
    {
     "name": "stderr",
     "output_type": "stream",
     "text": [
      "── \u001b[1mAttaching core tidyverse packages\u001b[22m ──────────────────────── tidyverse 2.0.0 ──\n",
      "\u001b[32m✔\u001b[39m \u001b[34mdplyr    \u001b[39m 1.1.4     \u001b[32m✔\u001b[39m \u001b[34mreadr    \u001b[39m 2.1.5\n",
      "\u001b[32m✔\u001b[39m \u001b[34mforcats  \u001b[39m 1.0.0     \u001b[32m✔\u001b[39m \u001b[34mstringr  \u001b[39m 1.5.1\n",
      "\u001b[32m✔\u001b[39m \u001b[34mggplot2  \u001b[39m 3.5.1     \u001b[32m✔\u001b[39m \u001b[34mtibble   \u001b[39m 3.2.1\n",
      "\u001b[32m✔\u001b[39m \u001b[34mlubridate\u001b[39m 1.9.4     \u001b[32m✔\u001b[39m \u001b[34mtidyr    \u001b[39m 1.3.1\n",
      "\u001b[32m✔\u001b[39m \u001b[34mpurrr    \u001b[39m 1.0.2     \n",
      "── \u001b[1mConflicts\u001b[22m ────────────────────────────────────────── tidyverse_conflicts() ──\n",
      "\u001b[31m✖\u001b[39m \u001b[34mdplyr\u001b[39m::\u001b[32mfilter()\u001b[39m masks \u001b[34mstats\u001b[39m::filter()\n",
      "\u001b[31m✖\u001b[39m \u001b[34mdplyr\u001b[39m::\u001b[32mlag()\u001b[39m    masks \u001b[34mstats\u001b[39m::lag()\n",
      "\u001b[36mℹ\u001b[39m Use the conflicted package (\u001b[3m\u001b[34m<http://conflicted.r-lib.org/>\u001b[39m\u001b[23m) to force all conflicts to become errors\n"
     ]
    }
   ],
   "source": [
    "# Load libraries\n",
    "library(tidyverse)\n",
    "library(haven)\n",
    "\n",
    "# Get rid of scientific display of numbers\n",
    "options(scipen = 100, digits = 4)"
   ]
  },
  {
   "cell_type": "markdown",
   "metadata": {},
   "source": [
    "\n"
   ]
  },
  {
   "cell_type": "markdown",
   "metadata": {},
   "source": [
    "## Question 1: Relationship between Housing Prices (in USD) and Characteristics of US Cities.\n",
    "\n",
    "This exercise is to be completed using R. We will establish a simple linear relationship between **housing prices and characteristics of cities** in a sample of cities. This is called a hedonic regression, relating price to characteristics. The idea is that if a characteristic is valued in a city, demand for housing increases as people move there, and then housing price increases, all else constant. Vice versa, if people do not value a characteristic, like crime, for example.  \n",
    "\n",
    "*Note: in economics, log always refers to the natural log, ln().*"
   ]
  },
  {
   "cell_type": "markdown",
   "metadata": {},
   "source": [
    "### Data description\n",
    "\n",
    "We will use September 2021 data from Zumper on one-bedroom apartment prices and 2019 data from the FBI on crime for US cities and other characteristics of US cities, such as number of bars, air quality index, wealth of the city measured by GDP, population, whether the city has a winning record majors sports team, as well as the number of sports teams in the major basketball, baseball and American football leagues. The data has 96 cities.\n",
    "\n",
    "<center><b> Readme for data variables, several sources - collected by Villas-Boas, Fall 2021 </b></center>\n",
    "\n",
    "|Variable name \t|\tDefinition\t| Source    |\n",
    "|:-:|:-|:-:|\n",
    "| city | City name | |\n",
    "| state | State name | |\n",
    "|pricesept2021\t|\tOne bedroom housing price, in USD\t|\twww.Zumper.com\t|\n",
    "|successteams\t| Dummy variable =1 if at least one NBA, NFL, or MLB team in a city had a winning record last season (2020 season), =0 otherwise| Google search\n",
    "|violentcrime2019\t| Violent crimes (in thousands) | [FBI](https://ucr.fbi.gov/crime-in-the-u.s/2019/crime-in-the-u.s.-2019/tables/table-8/table-8.xls/view)\n",
    "|numberbars\t| Number of bars, count\t| [www.yellowpages.com](www.yellowpages.com)\n",
    "|aqi2020\t| Annual 2020 air quality index (AQI) |\t[EPA](https://aqs.epa.gov/aqsweb/airdata/download_files.html#Annual)\n",
    "|gdp\t| Gross domestic product (billion $) |\t[BEA](https://apps.bea.gov/itable/iTable.cfm?ReqID=70&step=1&acrdn=5)\n",
    "|popul2019\t| 2019 population (in thousands of people)\t| [FBI](https://ucr.fbi.gov/crime-in-the-u.s/2019/crime-in-the-u.s.-2019/tables/table-8/table-8.xls/view)\n",
    "|nteams\t| Number of major professional sports teams\t| Google search\n"
   ]
  },
  {
   "cell_type": "markdown",
   "metadata": {},
   "source": [
    "For the purposes of this class, we will be using Berkeley's _Datahub_ to conduct our analysis remotely using these notebooks.\n",
    "\n",
    "If instead you already have an installation of R/RStudio on your personal computer and prefer to work offline, you can download the data for this assignment from bCourses (Make sure to install/update all packages mentioned in the problem sets in order to prevent issues regarding deprecated or outdated packages).\n",
    "\n",
    "* The data files can be accessed directly  through _Datahub_ and do not require you to install anything on your computer. \n",
    "* Before submitting, make sure that all code cells are run with all output fully visible, and **do not print the entire dataset in your submission**. If you viewed the data earlier, remove that line of code and re-run the code cell (as datasets get bigger this adds many pages to pdf submissions and increases the likelihood we miss your answer).\n",
    "\n",
    "*Note: Coding Bootcamp [Part 3](https://r.datahub.berkeley.edu/hub/user-redirect/git-pull?repo=https%3A%2F%2Fgithub.com%2Fds-modules%2FENVECON-118-SP23&branch=main&urlpath=retro%2Ftree%2FENVECON-118-SP23%2F1_CodingBootcamp%2FCoding+Bootcamp+Part+3_2023.ipynb) and [Part 4](https://r.datahub.berkeley.edu/hub/user-redirect/git-pull?repo=https%3A%2F%2Fgithub.com%2Fds-modules%2FENVECON-118-SP23&branch=main&urlpath=retro%2Ftree%2FENVECON-118-SP23%2F1_CodingBootcamp%2FCoding+Bootcamp+Part+4_2023.ipynb) covers all necessary R methods."
   ]
  },
  {
   "cell_type": "markdown",
   "metadata": {},
   "source": [
    "**Ungraded: Data Setup** The dataset is in Stata format (.dta) and was created for the purpose of this problem set only. It is available on bcourses and Datahub and is called **Villas-Boas_2025pset3.dta**.\n",
    "\n",
    "Read the data into R using\n",
    "`my_data <- read_dta(\"Villas-Boas_2025pset3.dta\")` \n",
    "and create a new variable, *gdpPc*, as the GDP per capita, defined as `(gdp)/(popul2019)`.\n",
    "\n",
    "Explore each of the variables, including their summary statistics, by using the function *summary()*"
   ]
  },
  {
   "cell_type": "code",
   "execution_count": 2,
   "metadata": {},
   "outputs": [
    {
     "data": {
      "text/plain": [
       "     city              state           pricesept2021   successteams  \n",
       " Length:96          Length:96          Min.   : 580   Min.   :0.000  \n",
       " Class :character   Class :character   1st Qu.: 878   1st Qu.:0.000  \n",
       " Mode  :character   Mode  :character   Median :1185   Median :0.000  \n",
       "                                       Mean   :1245   Mean   :0.281  \n",
       "                                       3rd Qu.:1440   3rd Qu.:1.000  \n",
       "                                       Max.   :2950   Max.   :1.000  \n",
       " violentcrime2019   numberbars      aqi2020           gdp        \n",
       " Min.   : 0.12    Min.   :  16   Min.   : 20.0   Min.   :   9.3  \n",
       " 1st Qu.: 1.25    1st Qu.: 119   1st Qu.: 41.0   1st Qu.:  34.2  \n",
       " Median : 2.55    Median : 213   Median : 44.0   Median :  82.0  \n",
       " Mean   : 4.70    Mean   : 335   Mean   : 51.1   Mean   : 180.8  \n",
       " 3rd Qu.: 5.28    3rd Qu.: 428   3rd Qu.: 50.5   3rd Qu.: 226.0  \n",
       " Max.   :47.82    Max.   :2113   Max.   :119.0   Max.   :1573.9  \n",
       "   popul2019        nteams         goodaqi         gdpPc      \n",
       " Min.   :  15   Min.   :0.000   Min.   :0.00   Min.   :0.038  \n",
       " 1st Qu.: 255   1st Qu.:0.000   1st Qu.:0.75   1st Qu.:0.093  \n",
       " Median : 392   Median :0.000   Median :1.00   Median :0.192  \n",
       " Mean   : 658   Mean   :0.844   Mean   :0.75   Mean   :0.496  \n",
       " 3rd Qu.: 687   3rd Qu.:1.250   3rd Qu.:1.00   3rd Qu.:0.379  \n",
       " Max.   :8379   Max.   :6.000   Max.   :1.00   Max.   :9.457  "
      ]
     },
     "metadata": {},
     "output_type": "display_data"
    }
   ],
   "source": [
    "# Load data\n",
    "my_data <- read_dta(\"Villas-Boas_2025pset3.dta\")\n",
    "my_data <- my_data %>% mutate(gdpPc = (gdp)/(popul2019))\n",
    "\n",
    "# Summary statistics\n",
    "summary(my_data)"
   ]
  },
  {
   "cell_type": "markdown",
   "metadata": {},
   "source": [
    "**1.** First, generate a variable goodAQI equal to one for cities with aqi2020<=50, and equal to zero otherwise. Compute an estimate for the mean of the housing prices for the goodAQI group (**goodAQI=1**) in the data frame. Construct a 95% confidence interval for this mean. Give an interpretation of these results in a sentence. \n",
    "\n",
    "*Use `mean()`, `sd()`, `qt()`, and/or `qnorm()`, to get the necessary information to construct the CI (do not use any canned functions to calculate the confidence interval). Make sure to show all of your intermediate steps and calculations in your answer.*"
   ]
  },
  {
   "cell_type": "code",
   "execution_count": 3,
   "metadata": {
    "scrolled": true
   },
   "outputs": [
    {
     "data": {
      "text/html": [
       "1230.41666666667"
      ],
      "text/latex": [
       "1230.41666666667"
      ],
      "text/markdown": [
       "1230.41666666667"
      ],
      "text/plain": [
       "[1] 1230"
      ]
     },
     "metadata": {},
     "output_type": "display_data"
    },
    {
     "data": {
      "text/html": [
       "472.975113242207"
      ],
      "text/latex": [
       "472.975113242207"
      ],
      "text/markdown": [
       "472.975113242207"
      ],
      "text/plain": [
       "[1] 473"
      ]
     },
     "metadata": {},
     "output_type": "display_data"
    },
    {
     "data": {
      "text/html": [
       "72"
      ],
      "text/latex": [
       "72"
      ],
      "text/markdown": [
       "72"
      ],
      "text/plain": [
       "[1] 72"
      ]
     },
     "metadata": {},
     "output_type": "display_data"
    },
    {
     "data": {
      "text/html": [
       "55.7406516510067"
      ],
      "text/latex": [
       "55.7406516510067"
      ],
      "text/markdown": [
       "55.7406516510067"
      ],
      "text/plain": [
       "[1] 55.74"
      ]
     },
     "metadata": {},
     "output_type": "display_data"
    },
    {
     "data": {
      "text/html": [
       "1.99394336784563"
      ],
      "text/latex": [
       "1.99394336784563"
      ],
      "text/markdown": [
       "1.99394336784563"
      ],
      "text/plain": [
       "[1] 1.994"
      ]
     },
     "metadata": {},
     "output_type": "display_data"
    },
    {
     "data": {
      "text/html": [
       "1230.41666666667"
      ],
      "text/latex": [
       "1230.41666666667"
      ],
      "text/markdown": [
       "1230.41666666667"
      ],
      "text/plain": [
       "[1] 1230"
      ]
     },
     "metadata": {},
     "output_type": "display_data"
    },
    {
     "data": {
      "text/html": [
       "<style>\n",
       ".list-inline {list-style: none; margin:0; padding: 0}\n",
       ".list-inline>li {display: inline-block}\n",
       ".list-inline>li:not(:last-child)::after {content: \"\\00b7\"; padding: 0 .5ex}\n",
       "</style>\n",
       "<ol class=list-inline><li>1119.27296398775</li><li>1341.56036934558</li></ol>\n"
      ],
      "text/latex": [
       "\\begin{enumerate*}\n",
       "\\item 1119.27296398775\n",
       "\\item 1341.56036934558\n",
       "\\end{enumerate*}\n"
      ],
      "text/markdown": [
       "1. 1119.27296398775\n",
       "2. 1341.56036934558\n",
       "\n",
       "\n"
      ],
      "text/plain": [
       "[1] 1119 1342"
      ]
     },
     "metadata": {},
     "output_type": "display_data"
    }
   ],
   "source": [
    "# Define goodAQI\n",
    "my_data <- my_data %>%\n",
    "    mutate(goodAQI = ifelse(aqi2020 <= 50, 1, 0))\n",
    "\n",
    "# Filter good AQI cities\n",
    "goodAQI_data <- filter(my_data, goodAQI == 1)\n",
    "\n",
    "# Calculate mean and sd\n",
    "(goodAQI_price_mean <- mean(goodAQI_data$pricesept2021))\n",
    "(goodAQI_price_sd <- sd(goodAQI_data$pricesept2021))\n",
    "(goodAQI_n <- nrow(goodAQI_data))\n",
    "\n",
    "# Calculate se\n",
    "(goodAQI_price_se <- goodAQI_price_sd / sqrt(goodAQI_n))\n",
    "\n",
    "# Calculate confidence interval at 95% confidence\n",
    "(critical_95 <- qt(0.025, goodAQI_n-1, lower.tail=FALSE))\n",
    "goodAQI_price_ci_lower <- goodAQI_price_mean - critical_95 * goodAQI_price_se\n",
    "goodAQI_price_ci_higher <- goodAQI_price_mean + critical_95 * goodAQI_price_se\n",
    "\n",
    "# Print results\n",
    "goodAQI_price_mean\n",
    "c(goodAQI_price_ci_lower, goodAQI_price_ci_higher)"
   ]
  },
  {
   "cell_type": "markdown",
   "metadata": {},
   "source": [
    "➡️ There is a 95% probability that the random interval between \\\\$1119.27 and \\\\$1341.56 covers the true mean of a 1-bedroom housing price in cities with good AQI, with an estimated mean of \\\\$1230.42."
   ]
  },
  {
   "cell_type": "markdown",
   "metadata": {},
   "source": [
    "**2.**\tNext we will compare housing across the two groups. Let $D$ be the difference in prices between the cities with good AQI (**goodAQI=1**) and not good AQI (**goodAQI=0**) groups. State an estimator $\\hat{D}$ for $D$ and use the estimator to compute an estimate of $D$. Compute a standard error for $\\hat{D}$. Derive a 90% confidence interval for $D$ and interpret it in one sentence. \n",
    "\n",
    "*Use `mean()`, `sd()`, `qt()`, and/or `qnorm()`, to get the necessary information to construct the CI (do not use any canned functions to calculate the confidence interval). Make sure to show all of your intermediate steps and calculations in your answer.*"
   ]
  },
  {
   "cell_type": "code",
   "execution_count": 4,
   "metadata": {},
   "outputs": [
    {
     "data": {
      "text/html": [
       "1288.33333333333"
      ],
      "text/latex": [
       "1288.33333333333"
      ],
      "text/markdown": [
       "1288.33333333333"
      ],
      "text/plain": [
       "[1] 1288"
      ]
     },
     "metadata": {},
     "output_type": "display_data"
    },
    {
     "data": {
      "text/html": [
       "484.747057902291"
      ],
      "text/latex": [
       "484.747057902291"
      ],
      "text/markdown": [
       "484.747057902291"
      ],
      "text/plain": [
       "[1] 484.7"
      ]
     },
     "metadata": {},
     "output_type": "display_data"
    },
    {
     "data": {
      "text/html": [
       "24"
      ],
      "text/latex": [
       "24"
      ],
      "text/markdown": [
       "24"
      ],
      "text/plain": [
       "[1] 24"
      ]
     },
     "metadata": {},
     "output_type": "display_data"
    },
    {
     "data": {
      "text/html": [
       "-57.9166666666665"
      ],
      "text/latex": [
       "-57.9166666666665"
      ],
      "text/markdown": [
       "-57.9166666666665"
      ],
      "text/plain": [
       "[1] -57.92"
      ]
     },
     "metadata": {},
     "output_type": "display_data"
    },
    {
     "data": {
      "text/html": [
       "113.568664263156"
      ],
      "text/latex": [
       "113.568664263156"
      ],
      "text/markdown": [
       "113.568664263156"
      ],
      "text/plain": [
       "[1] 113.6"
      ]
     },
     "metadata": {},
     "output_type": "display_data"
    },
    {
     "data": {
      "text/html": [
       "<style>\n",
       ".list-inline {list-style: none; margin:0; padding: 0}\n",
       ".list-inline>li {display: inline-block}\n",
       ".list-inline>li:not(:last-child)::after {content: \"\\00b7\"; padding: 0 .5ex}\n",
       "</style>\n",
       "<ol class=list-inline><li>-246.579868092111</li><li>130.746534758778</li></ol>\n"
      ],
      "text/latex": [
       "\\begin{enumerate*}\n",
       "\\item -246.579868092111\n",
       "\\item 130.746534758778\n",
       "\\end{enumerate*}\n"
      ],
      "text/markdown": [
       "1. -246.579868092111\n",
       "2. 130.746534758778\n",
       "\n",
       "\n"
      ],
      "text/plain": [
       "[1] -246.6  130.7"
      ]
     },
     "metadata": {},
     "output_type": "display_data"
    }
   ],
   "source": [
    "# Filter bad AQI cities\n",
    "badAQI_data <- filter(my_data, goodAQI == 0)\n",
    "\n",
    "# Calculate mean and sd\n",
    "(badAQI_price_mean <- mean(badAQI_data$pricesept2021))\n",
    "(badAQI_price_sd <- sd(badAQI_data$pricesept2021))\n",
    "(badAQI_n <- nrow(badAQI_data))\n",
    "\n",
    "# Calculate mean difference\n",
    "(D <- goodAQI_price_mean - badAQI_price_mean)\n",
    "\n",
    "# Calculate the difference standard error\n",
    "(D_se <- sqrt((goodAQI_price_sd^2 / goodAQI_n) + (badAQI_price_sd^2 / badAQI_n)))\n",
    "\n",
    "# Calculate 90% confidence interval\n",
    "critical_90 <- qt(0.05, goodAQI_n + badAQI_n - 2, lower.tail=FALSE)\n",
    "D_ci_lower <- D - critical_90 * D_se\n",
    "D_ci_higher <- D + critical_90 * D_se\n",
    "c(D_ci_lower, D_ci_higher)"
   ]
  },
  {
   "cell_type": "markdown",
   "metadata": {},
   "source": [
    "➡️ There is a 90% probability that the random interval between -\\\\$246.58 and \\\\$130.75 covers the true difference between average 1-bedroom housing price in cities with good AQI compared to the price in cities with bad AQI, with an estimated difference of -\\\\$57.92."
   ]
  },
  {
   "cell_type": "markdown",
   "metadata": {},
   "source": [
    "**3.** Next, we will test whether the average housing price **pricesept2021** for the good AQI city group is statistically different at the 10% significance level ($\\alpha$ = 0.1) from average housing values in the not good AQI city group. That is, in terms of the hypotheses, test the null hypothesis that average housing prices are equal across these two groups against the alternative hypothesis that the average prices are not equal. Make sure to follow the 5 step-procedure for hypothesis testing, including interpreting your result in one sentence. \n",
    "\n",
    "\n",
    "*Use `mean()`, `sd()`, `qt()`, and/or `qnorm()`, to get the necessary information to conduct the hypothesis test (do not use any canned functions to conduct the hypothesis test). Make sure to show all of your intermediate steps and calculations in your answer.*"
   ]
  },
  {
   "cell_type": "markdown",
   "metadata": {},
   "source": [
    "**3.i: Step 1** State the null ($H_0$) and alternative ($H_A$) hypotheses."
   ]
  },
  {
   "cell_type": "markdown",
   "metadata": {},
   "source": [
    "$H_0$: There is no difference in mean 1-bedroom housing price between cities with good and bad AQI. \\\n",
    "$H_a$: There is a difference in mean 1-bedroom housing price between cities with good and bad AQI. \\\n",
    "$H_0: D = 0$\\\n",
    "$H_A: D \\neq 0$"
   ]
  },
  {
   "cell_type": "markdown",
   "metadata": {},
   "source": [
    "**3.ii. Step 2:** Calculate the test statistic"
   ]
  },
  {
   "cell_type": "code",
   "execution_count": 5,
   "metadata": {},
   "outputs": [
    {
     "data": {
      "text/html": [
       "-0.509970483869252"
      ],
      "text/latex": [
       "-0.509970483869252"
      ],
      "text/markdown": [
       "-0.509970483869252"
      ],
      "text/plain": [
       "[1] -0.51"
      ]
     },
     "metadata": {},
     "output_type": "display_data"
    }
   ],
   "source": [
    "# Test statistic\n",
    "(t_stat <- D / D_se)"
   ]
  },
  {
   "cell_type": "markdown",
   "metadata": {},
   "source": [
    "The test statistic is:\n",
    "\n",
    "$t = \\frac{-57.92}{113.57} = -0.51$"
   ]
  },
  {
   "cell_type": "markdown",
   "metadata": {},
   "source": [
    "**3.iii. Step 3:** Find the critical value"
   ]
  },
  {
   "cell_type": "code",
   "execution_count": 6,
   "metadata": {},
   "outputs": [
    {
     "data": {
      "text/html": [
       "1.66122585529651"
      ],
      "text/latex": [
       "1.66122585529651"
      ],
      "text/markdown": [
       "1.66122585529651"
      ],
      "text/plain": [
       "[1] 1.661"
      ]
     },
     "metadata": {},
     "output_type": "display_data"
    }
   ],
   "source": [
    "# Find the critical value at $alpha = 0.10$ for a two-sided test of a difference in means\n",
    "(critical_value <- qt(0.05, goodAQI_n + badAQI_n - 2, lower.tail=FALSE))"
   ]
  },
  {
   "cell_type": "markdown",
   "metadata": {},
   "source": [
    "We are conducting a two sided test of a difference in means at the a 10% significance level with 94 degrees of freedom, resulting in a critical value of 1.661\n"
   ]
  },
  {
   "cell_type": "markdown",
   "metadata": {},
   "source": [
    "**3.iv. Step 4:** Define the rejection rule"
   ]
  },
  {
   "cell_type": "markdown",
   "metadata": {},
   "source": [
    "If $|t| > 1.661$, we reject $H_0$, if $|t| <= 1.661$, we fail to reject $H_0$."
   ]
  },
  {
   "cell_type": "markdown",
   "metadata": {},
   "source": [
    "**3.v. Step 5:** Decide and interpret"
   ]
  },
  {
   "cell_type": "markdown",
   "metadata": {},
   "source": [
    "Since $|-0.51| <= 1.661$, we fail to reject the null hypothesis. This means that there is no statistically significant difference in mean 1-bedroom housing prices between cities with good and bad AQI."
   ]
  },
  {
   "cell_type": "markdown",
   "metadata": {},
   "source": [
    "**4.**\tLet's now look at air quality in the data more closely. **The U.S. AQI is EPA’s index for reporting air quality**. Draw a histogram for **aqi2020** and add a vertical red line at the EPA standard for Spare the Air Day AQI = 100 and a green line at AQI = 50. (https://www.airnow.gov/aqi/aqi-basics/)"
   ]
  },
  {
   "cell_type": "markdown",
   "metadata": {},
   "source": [
    "For example, in the Bay Area, a Spare the Air Alert is called when air quality is forecast to be unhealthy, or above 100 in the AQI, in any one of the reporting zones. An alert may span over two days if air quality is expected to remain unhealthy for prolonged periods. If air quality is unhealthy in the Bay Area, it is almost always because of two kinds of air [pollutants](https://www.sparetheair.org/understanding-air-quality/air-pollutants-and-health-effects/whos-at-risk): [Ozone](https://www.sparetheair.org/understanding-air-quality/air-pollutants-and-health-effects/ozone) and [fine particulate matter, or PM2.5](https://www.sparetheair.org/understanding-air-quality/air-pollutants-and-health-effects/particulate-matter)."
   ]
  },
  {
   "cell_type": "markdown",
   "metadata": {},
   "source": [
    "_Hint: see the \"Lines\" section of Coding Bootcamp Part 4_"
   ]
  },
  {
   "cell_type": "code",
   "execution_count": 7,
   "metadata": {},
   "outputs": [
    {
     "name": "stderr",
     "output_type": "stream",
     "text": [
      "\u001b[1m\u001b[22m`stat_bin()` using `bins = 30`. Pick better value with `binwidth`.\n"
     ]
    },
    {
     "data": {
      "image/png": "[encoded data removed]",
      "text/plain": [
       "plot without title"
      ]
     },
     "metadata": {
      "image/png": {
       "height": 420,
       "width": 420
      }
     },
     "output_type": "display_data"
    }
   ],
   "source": [
    "# Draw histogram\n",
    "ggplot(my_data, aes(x = aqi2020)) +\n",
    "    geom_histogram(fill = 'blue', color = 'black') +\n",
    "    geom_vline(xintercept = 100, color = 'red') +\n",
    "    geom_vline(xintercept = 50, color = 'green') +\n",
    "    labs(title = 'Histogram of AQI (2020)',\n",
    "         x = 'Air Quality Index (AQI)',\n",
    "         y = 'Count') +\n",
    "    theme_bw() # Optional"
   ]
  },
  {
   "cell_type": "markdown",
   "metadata": {},
   "source": [
    "**5.**\t(a) Regress **pricesept2021** on a constant, **successteams, violentcrime2019, aqi2020, numberbars, gdpPc**. (b) Generate a series of the predicted values of price and plot those against the price data series: What do you see in terms of fit? "
   ]
  },
  {
   "cell_type": "code",
   "execution_count": 8,
   "metadata": {},
   "outputs": [
    {
     "data": {
      "text/plain": [
       "\n",
       "Call:\n",
       "lm(formula = pricesept2021 ~ successteams + violentcrime2019 + \n",
       "    aqi2020 + numberbars + gdpPc, data = my_data)\n",
       "\n",
       "Residuals:\n",
       "   Min     1Q Median     3Q    Max \n",
       "-825.9 -252.8  -67.1  188.7 1419.4 \n",
       "\n",
       "Coefficients:\n",
       "                 Estimate Std. Error t value     Pr(>|t|)    \n",
       "(Intercept)       807.878    124.962    6.47 0.0000000051 ***\n",
       "successteams      121.255    120.884    1.00        0.319    \n",
       "violentcrime2019   -9.136     13.167   -0.69        0.490    \n",
       "aqi2020             4.395      2.079    2.11        0.037 *  \n",
       "numberbars          0.635      0.272    2.33        0.022 *  \n",
       "gdpPc              16.839     37.578    0.45        0.655    \n",
       "---\n",
       "Signif. codes:  0 ‘***’ 0.001 ‘**’ 0.01 ‘*’ 0.05 ‘.’ 0.1 ‘ ’ 1\n",
       "\n",
       "Residual standard error: 425 on 90 degrees of freedom\n",
       "Multiple R-squared:  0.237,\tAdjusted R-squared:  0.194 \n",
       "F-statistic: 5.59 on 5 and 90 DF,  p-value: 0.000158\n"
      ]
     },
     "metadata": {},
     "output_type": "display_data"
    },
    {
     "data": {
      "image/png": "[encoded data removed]",
      "text/plain": [
       "plot without title"
      ]
     },
     "metadata": {
      "image/png": {
       "height": 420,
       "width": 420
      }
     },
     "output_type": "display_data"
    }
   ],
   "source": [
    "# Run regression\n",
    "model <- lm(pricesept2021 ~ successteams + violentcrime2019 + aqi2020 + numberbars + gdpPc, data = my_data)\n",
    "summary(model)\n",
    "\n",
    "# Predict values\n",
    "my_data$price_predicted <- predict(model)\n",
    "\n",
    "# Plot values\n",
    "ggplot(my_data, aes(x = pricesept2021, y = price_predicted)) +\n",
    "    geom_point() +\n",
    "    geom_abline(slope = 1, intercept = 0, color = 'red') + # Optional\n",
    "    labs(title = 'Actual vs. Predicted 1-Bedroom Housing Prices',\n",
    "        x = 'Actual Price (USD)',\n",
    "        y = 'Predicted Price (USD)') +\n",
    "    lims(x = c(500,3000), y = c(500,3000)) + # Optional\n",
    "    theme_minimal() # Optional"
   ]
  },
  {
   "cell_type": "markdown",
   "metadata": {},
   "source": [
    "➡️ The model seems to be overpredicting lower housing prices and underpredicting higher housing prices, suggesting potential heteroskedasticity or omitted variable bias."
   ]
  },
  {
   "cell_type": "markdown",
   "metadata": {},
   "source": [
    "**6.**\tWhat is the percent variation of housing prices that the model is explaining, and what percent is the model **NOT** explaining?"
   ]
  },
  {
   "cell_type": "markdown",
   "metadata": {},
   "source": [
    "➡️ Looking at the $R^2$, the model explains 23.7% of the variation in housing prices. Conversely, 76.3% remains unexplained."
   ]
  },
  {
   "cell_type": "markdown",
   "metadata": {},
   "source": [
    "**7.**\tCompute the residuals series and plot the residuals on the vertical axis against **gdpPc** in the x axis, using `ggplot()`. When plotting, exclude the outlier city with gdpPc > 6, by setting the ggplot scale limits as follows: `lims(x = c(0, 6), y = c(-1000,1500))`. \n",
    "\n",
    "Is the constant variance assumption for the residuals valid or not for different levels of GDP per capita (*gdpPc*) when you look at the scatter plot of the estimated residuals? "
   ]
  },
  {
   "cell_type": "code",
   "execution_count": 9,
   "metadata": {},
   "outputs": [
    {
     "name": "stderr",
     "output_type": "stream",
     "text": [
      "Warning message:\n",
      "“\u001b[1m\u001b[22mRemoved 2 rows containing missing values or values outside the scale range\n",
      "(`geom_point()`).”\n"
     ]
    },
    {
     "data": {
      "image/png": "[encoded data removed]",
      "text/plain": [
       "plot without title"
      ]
     },
     "metadata": {
      "image/png": {
       "height": 420,
       "width": 420
      }
     },
     "output_type": "display_data"
    }
   ],
   "source": [
    "# Calculate residuals\n",
    "my_data$residuals <- residuals(model)\n",
    "\n",
    "# Scatter plot of residuals vs GDP per Capita (gdpPc)\n",
    "ggplot(my_data, aes(x = gdpPc, y = residuals)) +\n",
    "    geom_point() +\n",
    "    geom_hline(yintercept = 0, color = 'red', linetype = 'dashed') +\n",
    "    labs(title = 'Housing Price Residuals vs. GDP per Capita',\n",
    "         x = 'GDP per capita (Million USD)',\n",
    "         y = 'Housing Price Residuals (USD)') +\n",
    "    lims(x = c(0, 6), y = c(-1000, 1500)) +\n",
    "    theme_minimal()"
   ]
  },
  {
   "cell_type": "markdown",
   "metadata": {},
   "source": [
    "➡️ The constant variance assumption does not seem valid for different levels of GDP per capita, suggesting heteroskedasticity. The residual variance starts smaller at lower values of GDP per capita, then increases, and then drops again."
   ]
  },
  {
   "cell_type": "markdown",
   "metadata": {},
   "source": [
    "**8.**\tUsing the triplet Sign Size Significance (SSS), let’s interpret two of the coefficients from the model in Question 5. \n",
    "\n",
    "**(a)** What can you say of the effect of **aqi2020** on housing prices holding other factors constant? "
   ]
  },
  {
   "cell_type": "markdown",
   "metadata": {},
   "source": [
    "➡️ A 1-unit AQI (Air Quality Index) increase is associated with a $4.40 increase in 1-bedroom housing prices, holding all else constant. This effect is statistically significant at the 95% confidence level."
   ]
  },
  {
   "cell_type": "markdown",
   "metadata": {},
   "source": [
    "**(b)** What about the coefficient on **numberbars**? Use the (SSS) interpretation again."
   ]
  },
  {
   "cell_type": "markdown",
   "metadata": {},
   "source": [
    "➡️ An increase of 1 bar in a city is associated with a $0.64 increase in 1-bedroom housing prices, holding all else constant. This effect is statistically significant at the 95% confidence level."
   ]
  },
  {
   "cell_type": "markdown",
   "metadata": {},
   "source": [
    "**9.**\tEstimate the correlation between **gdpPc** and the air quality index **aqi2020** across cities. Consider this information along with the estimated coefficients in Question 5's regression. Without running any additional regressions, what will happen to the estimated coefficient of **aqi2020** if you do not include GDP per capita (**gdpPc**) in the estimated regression in question 5? Go through the Omitted Variable formula and explain briefly."
   ]
  },
  {
   "cell_type": "code",
   "execution_count": 10,
   "metadata": {},
   "outputs": [
    {
     "data": {
      "text/html": [
       "-0.0648594743545161"
      ],
      "text/latex": [
       "-0.0648594743545161"
      ],
      "text/markdown": [
       "-0.0648594743545161"
      ],
      "text/plain": [
       "[1] -0.06486"
      ]
     },
     "metadata": {},
     "output_type": "display_data"
    }
   ],
   "source": [
    "# Calculate correlation\n",
    "cor(my_data$gdpPc, my_data$aqi2020)"
   ]
  },
  {
   "cell_type": "markdown",
   "metadata": {},
   "source": [
    "➡️ Using the OVB formula:\n",
    "\n",
    "$$ \\text{Sign(Bias)} = \\text{Sign}(\\beta_{\\text{ov}}) \\times \\text{Sign}(\\rho_{x, \\text{ov}})$$\n",
    "\n",
    "- $ \\beta_{\\text{ov}} > 0 $ (since GDP per capita positively correlates with housing prices)\n",
    "- $ \\rho_{x, \\text{ov}} < 0 $ (since GDP per capita negatively correlated with AQI)\n",
    "- $ (+) \\times (-) = (-) $\n",
    "\n",
    "Thus, excluding GDP per capita would decrease the AQI coefficient, introducing a downward bias to the model with the omitted variable."
   ]
  },
  {
   "cell_type": "markdown",
   "metadata": {},
   "source": [
    "**10.**\tNow estimate the model in Question 5 but do not include **gdppc**. What is the new estimate of the coefficient on **aqi2020**, and do you confirm your answer in Question 9? "
   ]
  },
  {
   "cell_type": "code",
   "execution_count": 11,
   "metadata": {},
   "outputs": [
    {
     "data": {
      "text/plain": [
       "\n",
       "Call:\n",
       "lm(formula = pricesept2021 ~ successteams + violentcrime2019 + \n",
       "    aqi2020 + numberbars, data = my_data)\n",
       "\n",
       "Residuals:\n",
       "   Min     1Q Median     3Q    Max \n",
       "-835.0 -257.4  -75.3  194.0 1413.1 \n",
       "\n",
       "Coefficients:\n",
       "                 Estimate Std. Error t value     Pr(>|t|)    \n",
       "(Intercept)       814.332    123.583    6.59 0.0000000028 ***\n",
       "successteams      130.384    118.630    1.10        0.275    \n",
       "violentcrime2019  -10.962     12.465   -0.88        0.382    \n",
       "aqi2020             4.372      2.069    2.11        0.037 *  \n",
       "numberbars          0.662      0.264    2.50        0.014 *  \n",
       "---\n",
       "Signif. codes:  0 ‘***’ 0.001 ‘**’ 0.01 ‘*’ 0.05 ‘.’ 0.1 ‘ ’ 1\n",
       "\n",
       "Residual standard error: 424 on 91 degrees of freedom\n",
       "Multiple R-squared:  0.235,\tAdjusted R-squared:  0.202 \n",
       "F-statistic: 6.99 on 4 and 91 DF,  p-value: 0.000059\n"
      ]
     },
     "metadata": {},
     "output_type": "display_data"
    }
   ],
   "source": [
    "# Run regression omitting GDP\n",
    "model_ovb <- lm(pricesept2021 ~ successteams + violentcrime2019 + aqi2020 + numberbars, data = my_data)\n",
    "summary(model_ovb)"
   ]
  },
  {
   "cell_type": "markdown",
   "metadata": {},
   "source": [
    "➡️ As expected, the AQI coefficient decreased from 4.395 to 4.372, confirming our calculations in Question 9."
   ]
  },
  {
   "cell_type": "markdown",
   "metadata": {},
   "source": [
    "**11.**\tWhat happens to the R squared ($R^2$) when you do not include the **gdppc** variable in the equation compared to the R squared in Question 5?"
   ]
  },
  {
   "cell_type": "code",
   "execution_count": 12,
   "metadata": {},
   "outputs": [],
   "source": [
    "# insert your code"
   ]
  },
  {
   "cell_type": "markdown",
   "metadata": {},
   "source": [
    "➡️ When GDP per capita is omitted, the $R^2$ slightly decreases from 0.237 to 0.235, meaning the model explains slightly less variation in housing prices. This small change could suggest little additional explanatory power for the omitted variable relative to the others."
   ]
  },
  {
   "cell_type": "markdown",
   "metadata": {},
   "source": [
    "# Question 2: Insurance Takeup"
   ]
  },
  {
   "cell_type": "markdown",
   "metadata": {},
   "source": [
    "This question is adapted from the following paper (but you do not need to read the paper to complete the assignment):\n",
    "\n",
    "Cai, Jing, Alain De Janvry, and Elisabeth Sadoulet. \"Subsidy policies and insurance demand.\" American Economic Review 110.8 (2020): 2422-2453.\n",
    "\n",
    "The data for this exercise comes from households in 134 villages in the Jiangxi province, which is considered a representative sample of rice producers in Jiangxi. Households were asked whether the household head is literate and also whether they took up a weather insurance product in 2011.\n",
    "\n",
    "The product in this study is an area-yield index weather insurance that covers natural disasters, including heavy rains, floods, windstorms, extremely high or low temperatures, and droughts. If any of these disasters occur and leads to a 30 percent or more average loss in yield in a given area, farmers that take up insurance in that area are eligible to receive payouts from the insurance company. "
   ]
  },
  {
   "cell_type": "markdown",
   "metadata": {},
   "source": [
    " | | Percent choosing Insurance | Total number of respondents |\n",
    " |:--|:--:|:--:|\n",
    " | Overall | 52.85 % | 3474|\n",
    " | Literate | 53.03% | 2492 |\n",
    " | Not Literate|  49.95 % | 979 |\n",
    "\n",
    " where *literate* is a dummy variable equal to 1 if the household head is literate, and equal to 0 otherwise"
   ]
  },
  {
   "cell_type": "markdown",
   "metadata": {},
   "source": [
    " Let $p$ be the fraction of respondents that choose to take up the insurance product."
   ]
  },
  {
   "cell_type": "markdown",
   "metadata": {},
   "source": [
    "**1.**\tUse the survey results to estimate $p$. Also estimate the standard error of your estimate. \n",
    "\n",
    "*Use `mean()`, `sd()`, `qt()`, and/or `qnorm()` in your answer. (Do not use any canned functions to calculate the test statistic or standard error). Make sure to show all of your intermediate steps and calculations in your answer.*"
   ]
  },
  {
   "cell_type": "code",
   "execution_count": 13,
   "metadata": {},
   "outputs": [
    {
     "data": {
      "text/html": [
       "0.00846931795214667"
      ],
      "text/latex": [
       "0.00846931795214667"
      ],
      "text/markdown": [
       "0.00846931795214667"
      ],
      "text/plain": [
       "[1] 0.008469"
      ]
     },
     "metadata": {},
     "output_type": "display_data"
    }
   ],
   "source": [
    "# Define study values\n",
    "p_hat <- 0.5285\n",
    "n <- 3474\n",
    "\n",
    "# Compute se\n",
    "(p_se <- sqrt((p_hat * (1 - p_hat)) / n))"
   ]
  },
  {
   "cell_type": "markdown",
   "metadata": {},
   "source": [
    "➡️ The standard error of $\\hat{p}$ is 0.0085."
   ]
  },
  {
   "cell_type": "markdown",
   "metadata": {},
   "source": [
    "**2.**\tConstruct a 95% confidence interval for $p$. Interpret your results in a complete sentence.\n",
    "\n",
    "*Use `mean()`, `sd()`, `qt()`, and/or `qnorm()`, to get the necessary information to construct the CI (do not use any canned functions to calculate the confidence interval). Make sure to show all of your intermediate steps and calculations in your answer.*"
   ]
  },
  {
   "cell_type": "code",
   "execution_count": 14,
   "metadata": {},
   "outputs": [
    {
     "data": {
      "text/html": [
       "1.95996398454005"
      ],
      "text/latex": [
       "1.95996398454005"
      ],
      "text/markdown": [
       "1.95996398454005"
      ],
      "text/plain": [
       "[1] 1.96"
      ]
     },
     "metadata": {},
     "output_type": "display_data"
    },
    {
     "data": {
      "text/html": [
       "<style>\n",
       ".list-inline {list-style: none; margin:0; padding: 0}\n",
       ".list-inline>li {display: inline-block}\n",
       ".list-inline>li:not(:last-child)::after {content: \"\\00b7\"; padding: 0 .5ex}\n",
       "</style>\n",
       "<ol class=list-inline><li>0.511900441840174</li><li>0.545099558159826</li></ol>\n"
      ],
      "text/latex": [
       "\\begin{enumerate*}\n",
       "\\item 0.511900441840174\n",
       "\\item 0.545099558159826\n",
       "\\end{enumerate*}\n"
      ],
      "text/markdown": [
       "1. 0.511900441840174\n",
       "2. 0.545099558159826\n",
       "\n",
       "\n"
      ],
      "text/plain": [
       "[1] 0.5119 0.5451"
      ]
     },
     "metadata": {},
     "output_type": "display_data"
    }
   ],
   "source": [
    "# Calculate critical value\n",
    "(z_95 <- qnorm(0.025, lower.tail=FALSE))\n",
    "\n",
    "# Calculate confidence intervals\n",
    "p_ci_lower <- p_hat - z_95 * p_se\n",
    "p_ci_upper <- p_hat + z_95 * p_se\n",
    "\n",
    "# Print\n",
    "c(p_ci_lower, p_ci_upper)"
   ]
  },
  {
   "cell_type": "markdown",
   "metadata": {},
   "source": [
    "➡️ There is a 95% probability that the random interval between 0.51 and 0.55 covers the true proportion of rice producers who choose insurance."
   ]
  },
  {
   "cell_type": "markdown",
   "metadata": {},
   "source": [
    "**3.**\tConstruct a 99% confidence interval for $p$. Is it larger or narrower than the 95% confidence interval? Why? Explain your reasoning in 1-2 sentences.\n",
    "\n",
    "*Use `mean()`, `sd()`, `qt()`, and/or `qnorm()`, to get the necessary information to construct the CI (do not use any canned functions to calculate the confidence interval). Make sure to show all of your intermediate steps and calculations in your answer.*"
   ]
  },
  {
   "cell_type": "code",
   "execution_count": 15,
   "metadata": {},
   "outputs": [
    {
     "data": {
      "text/html": [
       "2.5758293035489"
      ],
      "text/latex": [
       "2.5758293035489"
      ],
      "text/markdown": [
       "2.5758293035489"
      ],
      "text/plain": [
       "[1] 2.576"
      ]
     },
     "metadata": {},
     "output_type": "display_data"
    },
    {
     "data": {
      "text/html": [
       "<style>\n",
       ".list-inline {list-style: none; margin:0; padding: 0}\n",
       ".list-inline>li {display: inline-block}\n",
       ".list-inline>li:not(:last-child)::after {content: \"\\00b7\"; padding: 0 .5ex}\n",
       "</style>\n",
       "<ol class=list-inline><li>0.506684482637788</li><li>0.550315517362212</li></ol>\n"
      ],
      "text/latex": [
       "\\begin{enumerate*}\n",
       "\\item 0.506684482637788\n",
       "\\item 0.550315517362212\n",
       "\\end{enumerate*}\n"
      ],
      "text/markdown": [
       "1. 0.506684482637788\n",
       "2. 0.550315517362212\n",
       "\n",
       "\n"
      ],
      "text/plain": [
       "[1] 0.5067 0.5503"
      ]
     },
     "metadata": {},
     "output_type": "display_data"
    }
   ],
   "source": [
    "# Calculate critical value\n",
    "(z_99 <- qnorm(0.005, lower.tail=FALSE))\n",
    "\n",
    "# Calculate confidence intervals\n",
    "p_ci_lower_99 <- p_hat - z_99 * p_se\n",
    "p_ci_upper_99 <- p_hat + z_99 * p_se\n",
    "\n",
    "# Print\n",
    "c(p_ci_lower_99, p_ci_upper_99)"
   ]
  },
  {
   "cell_type": "markdown",
   "metadata": {},
   "source": [
    "➡️ The 99% confidence interval (0.507 to 0.550) is wider than a 95% confidence interval (0.512 to 0.545) because increasing confidence will account for higher potential variability in our proportion estimate. This will result in a higher critical value, which expands the interval."
   ]
  },
  {
   "cell_type": "markdown",
   "metadata": {},
   "source": [
    "**4.**\tIs there statistical evidence that more than 50% of respondents chose the insurance product? Use the 5 steps for hypothesis testing with a 5% significance level. \n",
    "\n",
    "*Use `mean()`, `sd()`, `qt()`, and/or `qnorm()`, to conduct the hypothesis test (do not use any canned functions). Make sure to show all of your intermediate steps and calculations in your answer.*"
   ]
  },
  {
   "cell_type": "markdown",
   "metadata": {},
   "source": [
    "**4.i: Step 1** State the null () and alternative () hypotheses."
   ]
  },
  {
   "cell_type": "markdown",
   "metadata": {},
   "source": [
    "➡️ \n",
    "\n",
    "$H_0$: $p <= 0.50$\n",
    "\n",
    "$H_a$: $p > 0.50$\n",
    "\n"
   ]
  },
  {
   "cell_type": "markdown",
   "metadata": {},
   "source": [
    "**4.ii: Step 2:** Calculate the test statistic"
   ]
  },
  {
   "cell_type": "code",
   "execution_count": 21,
   "metadata": {},
   "outputs": [
    {
     "data": {
      "text/html": [
       "0.00848310997598813"
      ],
      "text/latex": [
       "0.00848310997598813"
      ],
      "text/markdown": [
       "0.00848310997598813"
      ],
      "text/plain": [
       "[1] 0.008483"
      ]
     },
     "metadata": {},
     "output_type": "display_data"
    }
   ],
   "source": [
    "# Calculate test statistic\n",
    "p_se_null <- sqrt(.5*(1-.5)/3474)\n",
    "z <- (p_hat - 0.50) / p_se_null\n",
    "p_se_null"
   ]
  },
  {
   "cell_type": "markdown",
   "metadata": {},
   "source": [
    "Our test statistic is:\n",
    "\n",
    "$z = \\frac{0.5285 - 0.50}{0.0084} = 3.36$\n"
   ]
  },
  {
   "cell_type": "markdown",
   "metadata": {},
   "source": [
    "**4.iii: Step 3:** Find the critical value"
   ]
  },
  {
   "cell_type": "code",
   "execution_count": 17,
   "metadata": {},
   "outputs": [
    {
     "data": {
      "text/html": [
       "1.64485362695147"
      ],
      "text/latex": [
       "1.64485362695147"
      ],
      "text/markdown": [
       "1.64485362695147"
      ],
      "text/plain": [
       "[1] 1.645"
      ]
     },
     "metadata": {},
     "output_type": "display_data"
    }
   ],
   "source": [
    "# Calculate critical value\n",
    "z_one_tail_95 <- qnorm(0.95)\n",
    "\n",
    "z_one_tail_95"
   ]
  },
  {
   "cell_type": "markdown",
   "metadata": {},
   "source": [
    "At 5% significance level on a one-sided test, the z critical value is 1.64. Note that the test statistic for a sample proportion is approximately standard normal (z) distributed.\n"
   ]
  },
  {
   "cell_type": "markdown",
   "metadata": {},
   "source": [
    "**4.iv: Step 4:** Define the rejection rule"
   ]
  },
  {
   "cell_type": "markdown",
   "metadata": {},
   "source": [
    "If $z > 1.64$, we reject $H_0$, if $z <= 1.64$, we fail to reject $H_0$."
   ]
  },
  {
   "cell_type": "markdown",
   "metadata": {},
   "source": [
    "**4.v: Step 5:** Decide and Interpret"
   ]
  },
  {
   "cell_type": "markdown",
   "metadata": {},
   "source": [
    "Since $3.36 > 1.64$, we reject the null hypothesis. This means that there is enough statistical evidence to suggest that more than 50% of respondents chose the insurance product at a 95% confidence level."
   ]
  },
  {
   "cell_type": "markdown",
   "metadata": {},
   "source": [
    "**5.**\tIs there statistical evidence that choosing to take up the insurance product is more likely for respondents that are literate compared to respondents that are not,  at the 1% significance level? Explain. (To answer this question use the 5 steps for hypothesis testing). \n",
    "\n",
    "*Use `mean()`, `sd()`, `qt()`, and/or `qnorm()`, to conduct the hypothesis test (do not use any canned functions). Make sure to show all of your intermediate steps and calculations in your answer.*"
   ]
  },
  {
   "cell_type": "markdown",
   "metadata": {},
   "source": [
    "**5.i: Step 1:** Define the hypotheses"
   ]
  },
  {
   "cell_type": "markdown",
   "metadata": {},
   "source": [
    "$H_0$: $P_L \\leq P_{NL} = P_L - P_{NL} = D \\leq 0$\n",
    "\n",
    "$H_a$: $P_L > P_{NL} = P_L - P_{NL} = D > 0$"
   ]
  },
  {
   "cell_type": "markdown",
   "metadata": {},
   "source": [
    "**5.ii: Step 2:** Calculate the test statistic"
   ]
  },
  {
   "cell_type": "code",
   "execution_count": 18,
   "metadata": {},
   "outputs": [
    {
     "data": {
      "text/html": [
       "0.0308"
      ],
      "text/latex": [
       "0.0308"
      ],
      "text/markdown": [
       "0.0308"
      ],
      "text/plain": [
       "[1] 0.0308"
      ]
     },
     "metadata": {},
     "output_type": "display_data"
    },
    {
     "data": {
      "text/html": [
       "0.0188498003148604"
      ],
      "text/latex": [
       "0.0188498003148604"
      ],
      "text/markdown": [
       "0.0188498003148604"
      ],
      "text/plain": [
       "[1] 0.01885"
      ]
     },
     "metadata": {},
     "output_type": "display_data"
    },
    {
     "data": {
      "text/html": [
       "1.63396956389604"
      ],
      "text/latex": [
       "1.63396956389604"
      ],
      "text/markdown": [
       "1.63396956389604"
      ],
      "text/plain": [
       "[1] 1.634"
      ]
     },
     "metadata": {},
     "output_type": "display_data"
    }
   ],
   "source": [
    "# Define values from survey\n",
    "p_lit <- 0.5303\n",
    "n_lit <- 2492\n",
    "p_nlit <- 0.4995\n",
    "n_nlit <- 979\n",
    "\n",
    "# Calculate difference\n",
    "(D_prop <- p_lit - p_nlit)\n",
    "\n",
    "# Calculate se\n",
    "(D_prop_se <- sqrt((p_lit*(1-p_lit)/n_lit) + (p_nlit*(1-p_nlit)/n_nlit)))\n",
    "\n",
    "# Calculate test statistic\n",
    "(D_prop_z <- D_prop / D_prop_se)\n"
   ]
  },
  {
   "cell_type": "markdown",
   "metadata": {},
   "source": [
    "Our test statistic is\n",
    "$t = \\frac{0.0308}{0.0188} = 1.63$"
   ]
  },
  {
   "cell_type": "markdown",
   "metadata": {},
   "source": [
    "**5.iii: Step 3: Find the critical value**"
   ]
  },
  {
   "cell_type": "code",
   "execution_count": 19,
   "metadata": {},
   "outputs": [
    {
     "data": {
      "text/html": [
       "2.32634787404084"
      ],
      "text/latex": [
       "2.32634787404084"
      ],
      "text/markdown": [
       "2.32634787404084"
      ],
      "text/plain": [
       "[1] 2.326"
      ]
     },
     "metadata": {},
     "output_type": "display_data"
    }
   ],
   "source": [
    "# Calculate critical value\n",
    "(z_one_tail_99 <- qnorm(0.99))"
   ]
  },
  {
   "cell_type": "markdown",
   "metadata": {},
   "source": [
    "➡️ At 1% significance level on a one-sided test, the z critical value is 2.3263. Note that the test statistic for a difference in proportions is approximately standard normal (z) distributed."
   ]
  },
  {
   "cell_type": "markdown",
   "metadata": {},
   "source": [
    "**5.iv: Step 4** Define the decision rule"
   ]
  },
  {
   "cell_type": "markdown",
   "metadata": {},
   "source": [
    "For a one sided-test where $H_0: D \\leq 0$ and $H_A: D > 0$ the decision rule is that we reject the null hypothesis if the test-statistic > critical value. In other words, we reject the null hypothesis if $t > 2.3263$."
   ]
  },
  {
   "cell_type": "markdown",
   "metadata": {},
   "source": [
    "**5.v: Step 5:** Decide and interpret"
   ]
  },
  {
   "cell_type": "markdown",
   "metadata": {},
   "source": [
    "Since $1.63 < 2.3263$, we fail to reject the null hypothesis. This means that there is no statistically significant evidence that literate households are more likely to take up te insurance product compared to non-literature households at the 1\\% significance level. In other words, we cannot reject the null hypothesis that literature households are equally or less likely to take up insurance relative to non-literate households. "
   ]
  },
  {
   "cell_type": "markdown",
   "metadata": {},
   "source": [
    "**Please remember to submit your Jupyter Notebook displaying all codes and output.**"
   ]
  },
  {
   "cell_type": "markdown",
   "metadata": {},
   "source": [
    "<span id=\"fn1\"> Link to the paper if interested: https://www.aeaweb.org/articles?id=10.1257/aer.20190661.</span>"
   ]
  }
 ],
 "metadata": {
  "kernelspec": {
   "display_name": "R",
   "language": "R",
   "name": "ir"
  },
  "language_info": {
   "codemirror_mode": "r",
   "file_extension": ".r",
   "mimetype": "text/x-r-source",
   "name": "R",
   "pygments_lexer": "r",
   "version": "4.4.2"
  }
 },
 "nbformat": 4,
 "nbformat_minor": 4
}
