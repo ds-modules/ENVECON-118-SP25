{
 "cells": [
  {
   "cell_type": "markdown",
   "id": "35ada569-515b-461e-91d7-5f86d19472b8",
   "metadata": {},
   "source": [
    "# Daily Assignment after Lecture 9- Spring 2025\n",
    "# Villas-Boas\n",
    "\n",
    "# Lecture 9 EEP 118 Spring 2025\n",
    "\n",
    "Please work on this notebook as your daily assignment after Lecture 9 (in 2025, I may finish or repeat lecturing this material in Lecture 10 since we may run out of time in Lecture 9, and I do not want to rush explaining this). See the media gallery video for the theory of this test in the end of Lecture 9 or then in the Lecture10 video. \n",
    "\n",
    "\n",
    "I  will also post Video 4 on this notebook as a \"How to EEP Series\" on how to test for the equality of the proportions of yes answers in two different populations.\n"
   ]
  },
  {
   "cell_type": "code",
   "execution_count": 14,
   "id": "c2d55630-5544-43f0-89bf-fc0b25d2cc4b",
   "metadata": {},
   "outputs": [
    {
     "name": "stderr",
     "output_type": "stream",
     "text": [
      "Installing package into ‘/srv/r’\n",
      "(as ‘lib’ is unspecified)\n",
      "\n"
     ]
    }
   ],
   "source": [
    "# Load the 'pacman' package\n",
    "install.packages(\"pacman\")\n",
    "library(pacman) \n",
    "#packages to use load them now using the pacman \"manager\"\n",
    "p_load(dplyr, readr) \n",
    "#Another great feature of p_load(): if you try to load a package that is not installed on your machine, p_load() install the package for you, rather than throwing an error. For instance, let’s install and load one final package named ggplot2. \n",
    "p_load(ggplot2)\n",
    "\n",
    "#set scientific display off, thank you Roy\n",
    "options(scipen=999)\n",
    "\n",
    "# Loading packages\n",
    "pacman::p_load(lfe, lmtest, haven, sandwich, tidyverse,psych)\n",
    "# lfe for running fixed effects regression\n",
    "# lmtest for displaying robust SE in output table\n",
    "# haven for loading in dta files\n",
    "# sandwich for producing robust Var-Cov matrix\n",
    "# tidyverse for manipulating data and producing plots\n",
    "# psych for using describe later on\n",
    "\n",
    "\n"
   ]
  },
  {
   "cell_type": "code",
   "execution_count": 15,
   "id": "374492e7-7ae3-461c-a19e-db22081b78cc",
   "metadata": {},
   "outputs": [
    {
     "data": {
      "text/html": [
       "<table class=\"dataframe\">\n",
       "<caption>A tibble: 6 × 9</caption>\n",
       "<thead>\n",
       "\t<tr><th scope=col>timestamp</th><th scope=col>went2class</th><th scope=col>soccerfan</th><th scope=col>correct1</th><th scope=col>correct2</th><th scope=col>correctboth</th><th scope=col>numberCorrect</th><th scope=col>went2Class</th><th scope=col>isSoccerFan</th></tr>\n",
       "\t<tr><th scope=col>&lt;chr&gt;</th><th scope=col>&lt;chr&gt;</th><th scope=col>&lt;chr&gt;</th><th scope=col>&lt;dbl&gt;</th><th scope=col>&lt;dbl&gt;</th><th scope=col>&lt;dbl&gt;</th><th scope=col>&lt;dbl&gt;</th><th scope=col>&lt;dbl&gt;</th><th scope=col>&lt;dbl&gt;</th></tr>\n",
       "</thead>\n",
       "<tbody>\n",
       "\t<tr><td>2/6/2024 10:53:19</td><td>yes</td><td>yes</td><td>1</td><td>1</td><td>1</td><td>2</td><td>1</td><td>1</td></tr>\n",
       "\t<tr><td>2/6/2024 11:01:25</td><td>yes</td><td>yes</td><td>1</td><td>0</td><td>0</td><td>1</td><td>1</td><td>1</td></tr>\n",
       "\t<tr><td>2/6/2024 11:11:24</td><td>yes</td><td>yes</td><td>1</td><td>1</td><td>1</td><td>2</td><td>1</td><td>1</td></tr>\n",
       "\t<tr><td>2/6/2024 11:11:28</td><td>yes</td><td>yes</td><td>1</td><td>0</td><td>0</td><td>1</td><td>1</td><td>1</td></tr>\n",
       "\t<tr><td>2/6/2024 11:11:52</td><td>yes</td><td>yes</td><td>1</td><td>0</td><td>0</td><td>1</td><td>1</td><td>1</td></tr>\n",
       "\t<tr><td>2/6/2024 11:11:53</td><td>yes</td><td>no </td><td>1</td><td>1</td><td>1</td><td>2</td><td>1</td><td>0</td></tr>\n",
       "</tbody>\n",
       "</table>\n"
      ],
      "text/latex": [
       "A tibble: 6 × 9\n",
       "\\begin{tabular}{lllllllll}\n",
       " timestamp & went2class & soccerfan & correct1 & correct2 & correctboth & numberCorrect & went2Class & isSoccerFan\\\\\n",
       " <chr> & <chr> & <chr> & <dbl> & <dbl> & <dbl> & <dbl> & <dbl> & <dbl>\\\\\n",
       "\\hline\n",
       "\t 2/6/2024 10:53:19 & yes & yes & 1 & 1 & 1 & 2 & 1 & 1\\\\\n",
       "\t 2/6/2024 11:01:25 & yes & yes & 1 & 0 & 0 & 1 & 1 & 1\\\\\n",
       "\t 2/6/2024 11:11:24 & yes & yes & 1 & 1 & 1 & 2 & 1 & 1\\\\\n",
       "\t 2/6/2024 11:11:28 & yes & yes & 1 & 0 & 0 & 1 & 1 & 1\\\\\n",
       "\t 2/6/2024 11:11:52 & yes & yes & 1 & 0 & 0 & 1 & 1 & 1\\\\\n",
       "\t 2/6/2024 11:11:53 & yes & no  & 1 & 1 & 1 & 2 & 1 & 0\\\\\n",
       "\\end{tabular}\n"
      ],
      "text/markdown": [
       "\n",
       "A tibble: 6 × 9\n",
       "\n",
       "| timestamp &lt;chr&gt; | went2class &lt;chr&gt; | soccerfan &lt;chr&gt; | correct1 &lt;dbl&gt; | correct2 &lt;dbl&gt; | correctboth &lt;dbl&gt; | numberCorrect &lt;dbl&gt; | went2Class &lt;dbl&gt; | isSoccerFan &lt;dbl&gt; |\n",
       "|---|---|---|---|---|---|---|---|---|\n",
       "| 2/6/2024 10:53:19 | yes | yes | 1 | 1 | 1 | 2 | 1 | 1 |\n",
       "| 2/6/2024 11:01:25 | yes | yes | 1 | 0 | 0 | 1 | 1 | 1 |\n",
       "| 2/6/2024 11:11:24 | yes | yes | 1 | 1 | 1 | 2 | 1 | 1 |\n",
       "| 2/6/2024 11:11:28 | yes | yes | 1 | 0 | 0 | 1 | 1 | 1 |\n",
       "| 2/6/2024 11:11:52 | yes | yes | 1 | 0 | 0 | 1 | 1 | 1 |\n",
       "| 2/6/2024 11:11:53 | yes | no  | 1 | 1 | 1 | 2 | 1 | 0 |\n",
       "\n"
      ],
      "text/plain": [
       "  timestamp         went2class soccerfan correct1 correct2 correctboth\n",
       "1 2/6/2024 10:53:19 yes        yes       1        1        1          \n",
       "2 2/6/2024 11:01:25 yes        yes       1        0        0          \n",
       "3 2/6/2024 11:11:24 yes        yes       1        1        1          \n",
       "4 2/6/2024 11:11:28 yes        yes       1        0        0          \n",
       "5 2/6/2024 11:11:52 yes        yes       1        0        0          \n",
       "6 2/6/2024 11:11:53 yes        no        1        1        1          \n",
       "  numberCorrect went2Class isSoccerFan\n",
       "1 2             1          1          \n",
       "2 1             1          1          \n",
       "3 2             1          1          \n",
       "4 1             1          1          \n",
       "5 1             1          1          \n",
       "6 2             1          0          "
      ]
     },
     "metadata": {},
     "output_type": "display_data"
    }
   ],
   "source": [
    "#-------------------------------------------\n",
    "#1. Read in data\n",
    "#-------------------------------------------\n",
    "my_data <- read_dta(\"data2024.dta\")\n",
    "head(my_data)"
   ]
  },
  {
   "cell_type": "code",
   "execution_count": 16,
   "id": "c310f961-0a90-4ed2-9542-308b3280c420",
   "metadata": {},
   "outputs": [
    {
     "data": {
      "text/html": [
       "<table class=\"dataframe\">\n",
       "<caption>A psych: 9 × 9</caption>\n",
       "<thead>\n",
       "\t<tr><th></th><th scope=col>vars</th><th scope=col>n</th><th scope=col>mean</th><th scope=col>sd</th><th scope=col>median</th><th scope=col>min</th><th scope=col>max</th><th scope=col>range</th><th scope=col>se</th></tr>\n",
       "\t<tr><th></th><th scope=col>&lt;int&gt;</th><th scope=col>&lt;dbl&gt;</th><th scope=col>&lt;dbl&gt;</th><th scope=col>&lt;dbl&gt;</th><th scope=col>&lt;dbl&gt;</th><th scope=col>&lt;dbl&gt;</th><th scope=col>&lt;dbl&gt;</th><th scope=col>&lt;dbl&gt;</th><th scope=col>&lt;dbl&gt;</th></tr>\n",
       "</thead>\n",
       "<tbody>\n",
       "\t<tr><th scope=row>timestamp*</th><td>1</td><td>108</td><td>53.8055556</td><td>30.9529212</td><td>53.5</td><td>1</td><td>107</td><td>106</td><td>2.97844624</td></tr>\n",
       "\t<tr><th scope=row>went2class*</th><td>2</td><td>108</td><td> 1.9351852</td><td> 0.2473466</td><td> 2.0</td><td>1</td><td>  2</td><td>  1</td><td>0.02380094</td></tr>\n",
       "\t<tr><th scope=row>soccerfan*</th><td>3</td><td>108</td><td> 1.5185185</td><td> 0.5019864</td><td> 2.0</td><td>1</td><td>  2</td><td>  1</td><td>0.04830366</td></tr>\n",
       "\t<tr><th scope=row>correct1</th><td>4</td><td>108</td><td> 0.9722222</td><td> 0.1651017</td><td> 1.0</td><td>0</td><td>  1</td><td>  1</td><td>0.01588692</td></tr>\n",
       "\t<tr><th scope=row>correct2</th><td>5</td><td>108</td><td> 0.5555556</td><td> 0.4992206</td><td> 1.0</td><td>0</td><td>  1</td><td>  1</td><td>0.04803752</td></tr>\n",
       "\t<tr><th scope=row>correctboth</th><td>6</td><td>108</td><td> 0.5555556</td><td> 0.4992206</td><td> 1.0</td><td>0</td><td>  1</td><td>  1</td><td>0.04803752</td></tr>\n",
       "\t<tr><th scope=row>numberCorrect</th><td>7</td><td>108</td><td> 1.5277778</td><td> 0.5546462</td><td> 2.0</td><td>0</td><td>  2</td><td>  2</td><td>0.05337085</td></tr>\n",
       "\t<tr><th scope=row>went2Class</th><td>8</td><td>108</td><td> 0.9351852</td><td> 0.2473466</td><td> 1.0</td><td>0</td><td>  1</td><td>  1</td><td>0.02380094</td></tr>\n",
       "\t<tr><th scope=row>isSoccerFan</th><td>9</td><td>108</td><td> 0.5185185</td><td> 0.5019864</td><td> 1.0</td><td>0</td><td>  1</td><td>  1</td><td>0.04830366</td></tr>\n",
       "</tbody>\n",
       "</table>\n"
      ],
      "text/latex": [
       "A psych: 9 × 9\n",
       "\\begin{tabular}{r|lllllllll}\n",
       "  & vars & n & mean & sd & median & min & max & range & se\\\\\n",
       "  & <int> & <dbl> & <dbl> & <dbl> & <dbl> & <dbl> & <dbl> & <dbl> & <dbl>\\\\\n",
       "\\hline\n",
       "\ttimestamp* & 1 & 108 & 53.8055556 & 30.9529212 & 53.5 & 1 & 107 & 106 & 2.97844624\\\\\n",
       "\twent2class* & 2 & 108 &  1.9351852 &  0.2473466 &  2.0 & 1 &   2 &   1 & 0.02380094\\\\\n",
       "\tsoccerfan* & 3 & 108 &  1.5185185 &  0.5019864 &  2.0 & 1 &   2 &   1 & 0.04830366\\\\\n",
       "\tcorrect1 & 4 & 108 &  0.9722222 &  0.1651017 &  1.0 & 0 &   1 &   1 & 0.01588692\\\\\n",
       "\tcorrect2 & 5 & 108 &  0.5555556 &  0.4992206 &  1.0 & 0 &   1 &   1 & 0.04803752\\\\\n",
       "\tcorrectboth & 6 & 108 &  0.5555556 &  0.4992206 &  1.0 & 0 &   1 &   1 & 0.04803752\\\\\n",
       "\tnumberCorrect & 7 & 108 &  1.5277778 &  0.5546462 &  2.0 & 0 &   2 &   2 & 0.05337085\\\\\n",
       "\twent2Class & 8 & 108 &  0.9351852 &  0.2473466 &  1.0 & 0 &   1 &   1 & 0.02380094\\\\\n",
       "\tisSoccerFan & 9 & 108 &  0.5185185 &  0.5019864 &  1.0 & 0 &   1 &   1 & 0.04830366\\\\\n",
       "\\end{tabular}\n"
      ],
      "text/markdown": [
       "\n",
       "A psych: 9 × 9\n",
       "\n",
       "| <!--/--> | vars &lt;int&gt; | n &lt;dbl&gt; | mean &lt;dbl&gt; | sd &lt;dbl&gt; | median &lt;dbl&gt; | min &lt;dbl&gt; | max &lt;dbl&gt; | range &lt;dbl&gt; | se &lt;dbl&gt; |\n",
       "|---|---|---|---|---|---|---|---|---|---|\n",
       "| timestamp* | 1 | 108 | 53.8055556 | 30.9529212 | 53.5 | 1 | 107 | 106 | 2.97844624 |\n",
       "| went2class* | 2 | 108 |  1.9351852 |  0.2473466 |  2.0 | 1 |   2 |   1 | 0.02380094 |\n",
       "| soccerfan* | 3 | 108 |  1.5185185 |  0.5019864 |  2.0 | 1 |   2 |   1 | 0.04830366 |\n",
       "| correct1 | 4 | 108 |  0.9722222 |  0.1651017 |  1.0 | 0 |   1 |   1 | 0.01588692 |\n",
       "| correct2 | 5 | 108 |  0.5555556 |  0.4992206 |  1.0 | 0 |   1 |   1 | 0.04803752 |\n",
       "| correctboth | 6 | 108 |  0.5555556 |  0.4992206 |  1.0 | 0 |   1 |   1 | 0.04803752 |\n",
       "| numberCorrect | 7 | 108 |  1.5277778 |  0.5546462 |  2.0 | 0 |   2 |   2 | 0.05337085 |\n",
       "| went2Class | 8 | 108 |  0.9351852 |  0.2473466 |  1.0 | 0 |   1 |   1 | 0.02380094 |\n",
       "| isSoccerFan | 9 | 108 |  0.5185185 |  0.5019864 |  1.0 | 0 |   1 |   1 | 0.04830366 |\n",
       "\n"
      ],
      "text/plain": [
       "              vars n   mean       sd         median min max range se        \n",
       "timestamp*    1    108 53.8055556 30.9529212 53.5   1   107 106   2.97844624\n",
       "went2class*   2    108  1.9351852  0.2473466  2.0   1     2   1   0.02380094\n",
       "soccerfan*    3    108  1.5185185  0.5019864  2.0   1     2   1   0.04830366\n",
       "correct1      4    108  0.9722222  0.1651017  1.0   0     1   1   0.01588692\n",
       "correct2      5    108  0.5555556  0.4992206  1.0   0     1   1   0.04803752\n",
       "correctboth   6    108  0.5555556  0.4992206  1.0   0     1   1   0.04803752\n",
       "numberCorrect 7    108  1.5277778  0.5546462  2.0   0     2   2   0.05337085\n",
       "went2Class    8    108  0.9351852  0.2473466  1.0   0     1   1   0.02380094\n",
       "isSoccerFan   9    108  0.5185185  0.5019864  1.0   0     1   1   0.04830366"
      ]
     },
     "metadata": {},
     "output_type": "display_data"
    }
   ],
   "source": [
    "#describe data\n",
    "describe(my_data,skew = FALSE)\n",
    "\n",
    "# 108 total responses"
   ]
  },
  {
   "cell_type": "markdown",
   "id": "153865e0-c5a5-488c-af43-1f9bfe42f139",
   "metadata": {},
   "source": [
    "### Select coming to class subsample and how many came to class?"
   ]
  },
  {
   "cell_type": "code",
   "execution_count": 17,
   "id": "1ff3b772-080d-4626-b0ca-7b29702f5e7d",
   "metadata": {},
   "outputs": [
    {
     "data": {
      "text/html": [
       "<table class=\"dataframe\">\n",
       "<caption>A tibble: 1 × 1</caption>\n",
       "<thead>\n",
       "\t<tr><th scope=col>trimmed_count</th></tr>\n",
       "\t<tr><th scope=col>&lt;int&gt;</th></tr>\n",
       "</thead>\n",
       "<tbody>\n",
       "\t<tr><td>101</td></tr>\n",
       "</tbody>\n",
       "</table>\n"
      ],
      "text/latex": [
       "A tibble: 1 × 1\n",
       "\\begin{tabular}{l}\n",
       " trimmed\\_count\\\\\n",
       " <int>\\\\\n",
       "\\hline\n",
       "\t 101\\\\\n",
       "\\end{tabular}\n"
      ],
      "text/markdown": [
       "\n",
       "A tibble: 1 × 1\n",
       "\n",
       "| trimmed_count &lt;int&gt; |\n",
       "|---|\n",
       "| 101 |\n",
       "\n"
      ],
      "text/plain": [
       "  trimmed_count\n",
       "1 101          "
      ]
     },
     "metadata": {},
     "output_type": "display_data"
    },
    {
     "data": {
      "text/html": [
       "<table class=\"dataframe\">\n",
       "<caption>A tibble: 1 × 1</caption>\n",
       "<thead>\n",
       "\t<tr><th scope=col>trimmed_count</th></tr>\n",
       "\t<tr><th scope=col>&lt;int&gt;</th></tr>\n",
       "</thead>\n",
       "<tbody>\n",
       "\t<tr><td>7</td></tr>\n",
       "</tbody>\n",
       "</table>\n"
      ],
      "text/latex": [
       "A tibble: 1 × 1\n",
       "\\begin{tabular}{l}\n",
       " trimmed\\_count\\\\\n",
       " <int>\\\\\n",
       "\\hline\n",
       "\t 7\\\\\n",
       "\\end{tabular}\n"
      ],
      "text/markdown": [
       "\n",
       "A tibble: 1 × 1\n",
       "\n",
       "| trimmed_count &lt;int&gt; |\n",
       "|---|\n",
       "| 7 |\n",
       "\n"
      ],
      "text/plain": [
       "  trimmed_count\n",
       "1 7            "
      ]
     },
     "metadata": {},
     "output_type": "display_data"
    }
   ],
   "source": [
    "#select coming to class subsample \n",
    "my_dataClass <- filter(my_data, went2Class == 1) \n",
    "my_dataNotClass<-filter(my_data, went2Class == 0)\n",
    "\n",
    "#how many are there that came to class?\n",
    "summarise(my_dataClass, trimmed_count = n())\n",
    "\n",
    "#answer 101 out of 108 came to class\n",
    "\n",
    "#how many are there that did not come to class?\n",
    "summarise(my_dataNotClass, trimmed_count = n())\n",
    "\n",
    "#7 did not come to class"
   ]
  },
  {
   "cell_type": "code",
   "execution_count": 18,
   "id": "345d9321-9981-427f-a987-f5a572fbf549",
   "metadata": {},
   "outputs": [
    {
     "data": {
      "text/html": [
       "0.574257425742574"
      ],
      "text/latex": [
       "0.574257425742574"
      ],
      "text/markdown": [
       "0.574257425742574"
      ],
      "text/plain": [
       "[1] 0.5742574"
      ]
     },
     "metadata": {},
     "output_type": "display_data"
    }
   ],
   "source": [
    "# what is the estimated proportion of correct both for those coming to class based on the survey sample?\n",
    "mean(my_dataClass$correctboth)"
   ]
  },
  {
   "cell_type": "markdown",
   "id": "a0e48e33-5f47-4874-8ecd-1d812ec39651",
   "metadata": {},
   "source": [
    "# Lets call that $\\hat{p_1}$   be the p hat for having come to class"
   ]
  },
  {
   "cell_type": "code",
   "execution_count": 19,
   "id": "328baf75-5172-4e4d-828e-6ef423c6286c",
   "metadata": {},
   "outputs": [
    {
     "data": {
      "text/html": [
       "0.574257425742574"
      ],
      "text/latex": [
       "0.574257425742574"
      ],
      "text/markdown": [
       "0.574257425742574"
      ],
      "text/plain": [
       "[1] 0.5742574"
      ]
     },
     "metadata": {},
     "output_type": "display_data"
    }
   ],
   "source": [
    "#Lets call that phat_1   p hat for having come to class\"\n",
    "\n",
    "phat_1<-mean(my_dataClass$correctboth)\n",
    "phat_1"
   ]
  },
  {
   "cell_type": "markdown",
   "id": "5500f296-d4d5-4e87-8d5d-d31fc2ef3129",
   "metadata": {},
   "source": [
    "## Lets call that $Y_1$   the number of people answering correctly among those coming to class\n"
   ]
  },
  {
   "cell_type": "code",
   "execution_count": 20,
   "id": "ba8c3813-3267-4bb5-9024-c046920a0627",
   "metadata": {},
   "outputs": [
    {
     "data": {
      "text/html": [
       "58"
      ],
      "text/latex": [
       "58"
      ],
      "text/markdown": [
       "58"
      ],
      "text/plain": [
       "[1] 58"
      ]
     },
     "metadata": {},
     "output_type": "display_data"
    }
   ],
   "source": [
    "#Lets call that Y_1   the number oe people answering correctly among those coming to class\n",
    "\n",
    "Y_1<-mean(my_dataClass$correctboth)*nrow(my_dataClass)\n",
    "Y_1\n",
    "\n",
    "\n"
   ]
  },
  {
   "cell_type": "markdown",
   "id": "1a74ebcb-95f6-4230-a056-729e5d8636d1",
   "metadata": {},
   "source": [
    "## and $N_1$  number of observations in sample 1\n"
   ]
  },
  {
   "cell_type": "code",
   "execution_count": 21,
   "id": "89877ddd-2599-480a-929e-4c327a75e603",
   "metadata": {},
   "outputs": [
    {
     "data": {
      "text/html": [
       "101"
      ],
      "text/latex": [
       "101"
      ],
      "text/markdown": [
       "101"
      ],
      "text/plain": [
       "[1] 101"
      ]
     },
     "metadata": {},
     "output_type": "display_data"
    }
   ],
   "source": [
    "#and N1  number of observations in sample 1\n",
    "N_1<-nrow(my_dataClass)\n",
    "N_1"
   ]
  },
  {
   "cell_type": "markdown",
   "id": "256e69ef-1ecd-4eef-9e58-6959953bca98",
   "metadata": {},
   "source": [
    "# note that $\\hat{p_1} = \\frac{Y_1}{N_1}$"
   ]
  },
  {
   "cell_type": "markdown",
   "id": "d438adfa-2ac8-41d1-9f38-d929b4d4929d",
   "metadata": {},
   "source": [
    "## Select not coming to class subsample and how many did not come to class?"
   ]
  },
  {
   "cell_type": "code",
   "execution_count": 22,
   "id": "44f998be-e985-48b6-bfc9-4a46ff4a6300",
   "metadata": {},
   "outputs": [
    {
     "data": {
      "text/html": [
       "<table class=\"dataframe\">\n",
       "<caption>A tibble: 1 × 1</caption>\n",
       "<thead>\n",
       "\t<tr><th scope=col>trimmed_count</th></tr>\n",
       "\t<tr><th scope=col>&lt;int&gt;</th></tr>\n",
       "</thead>\n",
       "<tbody>\n",
       "\t<tr><td>7</td></tr>\n",
       "</tbody>\n",
       "</table>\n"
      ],
      "text/latex": [
       "A tibble: 1 × 1\n",
       "\\begin{tabular}{l}\n",
       " trimmed\\_count\\\\\n",
       " <int>\\\\\n",
       "\\hline\n",
       "\t 7\\\\\n",
       "\\end{tabular}\n"
      ],
      "text/markdown": [
       "\n",
       "A tibble: 1 × 1\n",
       "\n",
       "| trimmed_count &lt;int&gt; |\n",
       "|---|\n",
       "| 7 |\n",
       "\n"
      ],
      "text/plain": [
       "  trimmed_count\n",
       "1 7            "
      ]
     },
     "metadata": {},
     "output_type": "display_data"
    }
   ],
   "source": [
    "#select not coming to class subsample \n",
    "my_dataNotClass <- filter(my_data, went2Class == 0) \n",
    "\n",
    "#how many are there that did not come to class?\n",
    "summarise(my_dataNotClass, trimmed_count = n())\n",
    "\n",
    "#answer 7 out of 108 did not come to class"
   ]
  },
  {
   "cell_type": "code",
   "execution_count": 23,
   "id": "4793e953-f897-4e18-bf72-19f53bf3d463",
   "metadata": {},
   "outputs": [
    {
     "data": {
      "text/html": [
       "0.285714285714286"
      ],
      "text/latex": [
       "0.285714285714286"
      ],
      "text/markdown": [
       "0.285714285714286"
      ],
      "text/plain": [
       "[1] 0.2857143"
      ]
     },
     "metadata": {},
     "output_type": "display_data"
    }
   ],
   "source": [
    "#Lets call that phat_2   the proportion of people that answered correctly both questions among those that did not \n",
    "#come to class \" p hat_2\n",
    "\n",
    "phat_2<-mean(my_dataNotClass$correctboth)\n",
    "phat_2"
   ]
  },
  {
   "cell_type": "code",
   "execution_count": 24,
   "id": "0f18fba3-9662-4368-a064-c2aff03fec40",
   "metadata": {},
   "outputs": [
    {
     "data": {
      "text/html": [
       "2"
      ],
      "text/latex": [
       "2"
      ],
      "text/markdown": [
       "2"
      ],
      "text/plain": [
       "[1] 2"
      ]
     },
     "metadata": {},
     "output_type": "display_data"
    }
   ],
   "source": [
    "#Lets call that Y_2   the number of people answering correctly among those not coming to class\n",
    "\n",
    "Y_2<-mean(my_dataNotClass$correctboth)*nrow(my_dataNotClass)\n",
    "Y_2\n",
    "\n",
    "\n",
    "#note that phat_2= Y_2 / N_2\n",
    "\n",
    "#and \n",
    "N_2<-nrow(my_dataNotClass)\n"
   ]
  },
  {
   "attachments": {
    "a9fdbe2b-a848-4b5f-ba20-707f70973446.png": {
     "image/png": "[encoded data removed]"
    }
   },
   "cell_type": "markdown",
   "id": "4794271f-9bd4-457e-87cb-44373fcd4749",
   "metadata": {},
   "source": [
    "## Question: \n",
    "Test whether the proportion of answering both correctly for those\n",
    "that came to class ($p_1$) is\n",
    "statistically equal to to the one of those not coming to class ($p_2$), that is, $p_1=p_2$,  at the 10% significance\n",
    "\n",
    "\n",
    "against an alternative that $p_1 > p_2$ , that is, \n",
    "against the alternative that those coming to class have a larger proportion $p_1$ of answering correctly than those not coming to class $p_2$.\n",
    "\n",
    "\n",
    "## Recall the 5 step-procedure for hypothesis testing.\n",
    "\n",
    "\n",
    "\n",
    "let $D=p_1 - p_2$ be  the diffference in proportions in the population\n",
    "\n",
    "## Step 1: D=0 null, alternative D>0 one sided alternative.\n",
    "\n",
    "## Step 2: construct the test stat  that under the null will be distributed N(0,1)\n",
    "\n",
    "Let $\\hat{D}=\\hat{p_1} - \\hat{p_2}$\n",
    "\n",
    "\n",
    "![image.png](attachment:a9fdbe2b-a848-4b5f-ba20-707f70973446.png)\n",
    "\n",
    "\n"
   ]
  },
  {
   "cell_type": "markdown",
   "id": "9b259a36-d7b0-46e5-80aa-7aef43bf3760",
   "metadata": {},
   "source": [
    "\n",
    "\n",
    "\n",
    "where $\\hat{p_1}=\\frac{Y_1}{n_1}$ and $\\hat{p_2}=\\frac{Y_2}{n_2}$ and we interpret $\\hat{p}=\\frac{Y}{n}$ as the overall proportion in the sample of correct answers, and $\\hat{p_1}$ the proportion correct for the first group (coming to class), and $\\hat{p_2}$ the proportion correct for the second group (not coming to class).\n",
    "\n",
    "The sample estimate for the population $p_1$ is $\\hat{p_1}=\\frac{Y_1}{n_1}$\n",
    "The sample estimate for the population $p_2$ is $\\hat{p_2}=\\frac{Y_2}{n_2}$\n",
    "\n",
    "If under the null hypothesis $p_1=p_2=p$ then the sample estimatefor the population $p$ is  $\\hat{p}=\\frac{Y}{n}=\\frac{Y_1+Y_2}{n_1+n_2}$\n",
    "\n",
    "Under the null of the population proportion being p, then the variance is p (1-p) \n",
    "\n",
    "Recall that the sample estimate for the variance of the sample average of sample size N is \n",
    "$\\frac{\\hat{p} (1-\\hat{p})}{N}$\n",
    "\n",
    "We know that under the null hypothesis that $p_1=p_2=p$  then\n",
    "\n",
    "$var(\\hat{p_1})=\\frac{\\hat{p} (1-\\hat{p})}{N_1}$\n",
    "\n",
    "and\n",
    "\n",
    "$var(\\hat{p_2})=\\frac{\\hat{p} (1-\\hat{p})}{N_2}$\n",
    "\n",
    "So the variance( $\\hat{D}$ ) is the variance ($\\hat{p_1}-\\hat{p_2}$)  = $var(\\hat{p_1})+var(\\hat{p_2})$\n",
    "\n",
    "And the $se(\\hat{D} )=\\sqrt{variance( \\hat{D} )}$\n",
    "\n",
    "which is equivalent to \n",
    "\n",
    "$se(\\hat{D} )=\\sqrt{\\frac{\\hat{p} (1-\\hat{p})}{N_1}+\\frac{\\hat{p} (1-\\hat{p})}{N_1}}=\\sqrt{\\hat{p} (1-\\hat{p}) (\\frac{1}{N_1}+\\frac{1}{N_1})} $\n",
    "\n",
    "like in the formula in the Testing Equality of Proportions given above\n",
    "\n",
    "\n",
    "\n",
    "\n",
    "\n"
   ]
  },
  {
   "cell_type": "markdown",
   "id": "6cdcc1d1-e92d-4584-b5ea-24e13abf4e57",
   "metadata": {},
   "source": [
    "\n",
    "# under the null $p_1=p_2=p$\n",
    "\n",
    "So lets get an estimate  of that $\\hat{p}$  \n",
    "where $\\hat{p}= \\frac{Y_1+Y_2}{N_1+N_2}$\n",
    "\n"
   ]
  },
  {
   "cell_type": "code",
   "execution_count": 25,
   "id": "aa5ebeb1-1dda-4077-b22f-65848486147c",
   "metadata": {},
   "outputs": [
    {
     "data": {
      "text/html": [
       "0.555555555555555"
      ],
      "text/latex": [
       "0.555555555555555"
      ],
      "text/markdown": [
       "0.555555555555555"
      ],
      "text/plain": [
       "[1] 0.5555556"
      ]
     },
     "metadata": {},
     "output_type": "display_data"
    }
   ],
   "source": [
    "\n",
    "#get phat\n",
    "phat<-(Y_1+Y_2)/(N_1+N_2)\n",
    "\n",
    "phat"
   ]
  },
  {
   "cell_type": "markdown",
   "id": "e5e8d828-75e0-4227-a8f2-3a23499f6fa4",
   "metadata": {},
   "source": [
    "to construct the z statistic\n",
    " we need to get the denominator of Z (one of the last slides in Lecture 9 notes)"
   ]
  },
  {
   "cell_type": "code",
   "execution_count": 27,
   "id": "c8576c49-2ecd-4370-a7f9-2166b3b727c2",
   "metadata": {},
   "outputs": [
    {
     "data": {
      "text/html": [
       "0.194211373302486"
      ],
      "text/latex": [
       "0.194211373302486"
      ],
      "text/markdown": [
       "0.194211373302486"
      ],
      "text/plain": [
       "[1] 0.1942114"
      ]
     },
     "metadata": {},
     "output_type": "display_data"
    }
   ],
   "source": [
    "#to construct statistic\n",
    "#get denominator of Z (slide 30 in Lecture 9 notes)\n",
    "\n",
    "temp<-phat*(1-phat)*( 1/N_1 + 1/N_2 )\n",
    "\n",
    "\n",
    "denom<-sqrt(temp)\n",
    "\n",
    "\n",
    "denom"
   ]
  },
  {
   "cell_type": "markdown",
   "id": "e5c210a2-e23e-40b4-a97d-f424ded1542b",
   "metadata": {},
   "source": [
    "The numerator is $\\hat{D}$"
   ]
  },
  {
   "cell_type": "code",
   "execution_count": 28,
   "id": "5df69612-7313-434f-af46-1bf5d3728b29",
   "metadata": {},
   "outputs": [
    {
     "data": {
      "text/html": [
       "0.288543140028289"
      ],
      "text/latex": [
       "0.288543140028289"
      ],
      "text/markdown": [
       "0.288543140028289"
      ],
      "text/plain": [
       "[1] 0.2885431"
      ]
     },
     "metadata": {},
     "output_type": "display_data"
    }
   ],
   "source": [
    "#numerator is\n",
    "D_hat<-phat_1-phat_2\n",
    "\n",
    "D_hat"
   ]
  },
  {
   "cell_type": "markdown",
   "id": "062bc8bb-d17a-46f7-8170-d51d0fb9e7cc",
   "metadata": {},
   "source": [
    "# get z statistic \n",
    " where $z= \\frac{\\hat{D}}{denom}$"
   ]
  },
  {
   "cell_type": "markdown",
   "id": "8ef7ac5f-b210-4569-82a6-1005744e7473",
   "metadata": {},
   "source": [
    "#get z statistic \n",
    "\n",
    "#where z= Dhat/denom\n",
    "\n",
    "z_testStatValue<-D_hat/denom\n",
    "z_testStatValue"
   ]
  },
  {
   "cell_type": "code",
   "execution_count": 29,
   "id": "b9e3ab60-551d-4cc0-b8d7-0cdc1cf9aabb",
   "metadata": {},
   "outputs": [
    {
     "data": {
      "text/html": [
       "1.48571700576402"
      ],
      "text/latex": [
       "1.48571700576402"
      ],
      "text/markdown": [
       "1.48571700576402"
      ],
      "text/plain": [
       "[1] 1.485717"
      ]
     },
     "metadata": {},
     "output_type": "display_data"
    }
   ],
   "source": [
    "z_testStatValue<-D_hat/denom \n",
    "z_testStatValue"
   ]
  },
  {
   "cell_type": "markdown",
   "id": "23e4a53a-389f-4b15-9d77-72331ac2c242",
   "metadata": {},
   "source": [
    "you get that the value of the t is 1.48757"
   ]
  },
  {
   "cell_type": "markdown",
   "id": "7ee59cbd-3be8-43a5-bb88-bb12c082addb",
   "metadata": {},
   "source": [
    "##  Step 3: given significance level alpha=10% get the Critical Z for one sided test - go to the normal (0,1) table\n",
    "#get one sided 10% critical value \n",
    "\n",
    "#go to the z table\n",
    "\n",
    "you will see that \n",
    "\r",
    "z_crit<-1.2815\n",
    "\n",
    "The Prob [z< 1.28}=0.9, \n",
    "\n",
    "The area below 1.28 has 0.9 probability to its left, in the red area (probability) of the normal bell shape distribution of the Figure below.\n",
    "\n",
    "Which means the right white mass is 10 percent, the Prob [z> 1.28}=0.1. \n"
   ]
  },
  {
   "cell_type": "markdown",
   "id": "c66ebf55-cfe3-493b-9c09-94eebfffb528",
   "metadata": {},
   "source": [
    "<img src=\"criticalN10percentOneSided.png\" width=\"600\" />"
   ]
  },
  {
   "cell_type": "code",
   "execution_count": 30,
   "id": "2a2eb499-4319-4d02-b838-f9258c7700cc",
   "metadata": {},
   "outputs": [
    {
     "data": {
      "text/html": [
       "1.2815515655446"
      ],
      "text/latex": [
       "1.2815515655446"
      ],
      "text/markdown": [
       "1.2815515655446"
      ],
      "text/plain": [
       "[1] 1.281552"
      ]
     },
     "metadata": {},
     "output_type": "display_data"
    },
    {
     "data": {
      "text/html": [
       "1.2815515655446"
      ],
      "text/latex": [
       "1.2815515655446"
      ],
      "text/markdown": [
       "1.2815515655446"
      ],
      "text/plain": [
       "[1] 1.281552"
      ]
     },
     "metadata": {},
     "output_type": "display_data"
    }
   ],
   "source": [
    "#or get it in R by  getting the c critical value in step 3\n",
    "zcritical<-qnorm(0.1,lower.tail=FALSE)\n",
    "zcritical\n",
    "\n",
    "#or  give me critical value for a normal that has 0.9 prob mass below it\n",
    "zcriticaln<-qnorm(0.9,lower.tail=TRUE)\n",
    "zcriticaln\n",
    "\n",
    "\n",
    "\n",
    "#this gives you the z value that has 10 percent mass higher than it, \n",
    "#which is what we want in the one sided test\n",
    "\n",
    "#answer is Zcritical=1.28158"
   ]
  },
  {
   "cell_type": "markdown",
   "id": "03578886-aad7-4b9c-ae88-e10f823afb77",
   "metadata": {},
   "source": [
    "## Step 4: Compare Z (from step 2) with Z critical (from step 3)\n",
    "\n",
    "If the  value of z from step 2 is less than the critical value from step 3 then we fall in the non rejection area, \n",
    "\n",
    "that is, if z < zcritical then cannot reject the null of step 1\n",
    "\n",
    "\n",
    "If the  z is greater than the zcritical then we fall in the rejection area, \n",
    "that is, if z > zcritical then we reject the null of step 1"
   ]
  },
  {
   "cell_type": "markdown",
   "id": "ed5a9af9-dcdb-4af0-b28b-d2cdc34bfa86",
   "metadata": {},
   "source": [
    "What do you find?\n",
    "\n",
    "since z greater than critical value we reject the null\n",
    "\n"
   ]
  },
  {
   "cell_type": "markdown",
   "id": "08c9d126-8246-4493-b15d-12008b95da1d",
   "metadata": {},
   "source": [
    "## Step 5: Conclude. \n",
    "\n",
    "In this case, we reject that both proportions are the same at the 10% significance level against an alternative that $p_1$ is greater than $p_2$, that is, \n",
    "\n",
    "against the alternative that those coming to class have a larger proportion $p_1$ of answering correctly than those not coming to class $p_2$.\n",
    "\n",
    "oh Yes!"
   ]
  },
  {
   "cell_type": "markdown",
   "id": "7a5f55d8-938e-414b-8fa2-429fdedb8c34",
   "metadata": {},
   "source": [
    "# the end"
   ]
  },
  {
   "cell_type": "markdown",
   "id": "0370b2fb-d098-4a42-8645-18abe9477f07",
   "metadata": {},
   "source": [
    "# what if alpha is 1 %  lower significance level, I want to be rejecting the null when it is tru only 1 percent of the time.\n",
    "\n",
    "instead of the 10% of before"
   ]
  },
  {
   "cell_type": "code",
   "execution_count": 31,
   "id": "a20cc825-fbcc-4d26-9a2a-747cf2bf1937",
   "metadata": {},
   "outputs": [
    {
     "data": {
      "text/html": [
       "2.32634787404084"
      ],
      "text/latex": [
       "2.32634787404084"
      ],
      "text/markdown": [
       "2.32634787404084"
      ],
      "text/plain": [
       "[1] 2.326348"
      ]
     },
     "metadata": {},
     "output_type": "display_data"
    }
   ],
   "source": [
    "#Step 1 and 2 from above still the same\n",
    "\n",
    "#Step 3 would change\n",
    "\n",
    "#or get it in R by  getting the c critical value in step 3\n",
    "zcritical_1percent<-qnorm(0.01,lower.tail=FALSE)\n",
    "zcritical_1percent\n",
    "\n",
    "#or  give me critical value for a normal that has 0.9 prob mass below it\n",
    "zcriticaln_1percent<-qnorm(0.99,lower.tail=TRUE)\n",
    "\n"
   ]
  },
  {
   "cell_type": "markdown",
   "id": "b81f609c-1683-48c4-b451-8314c012899c",
   "metadata": {},
   "source": [
    "#Step 4 Now I would not be able to reject the null at 1 percent sighnificnce level in step 4\n",
    "\n",
    "#because Zcrit=2.32 > z=1.4857\n",
    "\n",
    "#Step 5 I cannot reject the null that the the proportions are the same at the one percent significance level."
   ]
  }
 ],
 "metadata": {
  "kernelspec": {
   "display_name": "R",
   "language": "R",
   "name": "ir"
  },
  "language_info": {
   "codemirror_mode": "r",
   "file_extension": ".r",
   "mimetype": "text/x-r-source",
   "name": "R",
   "pygments_lexer": "r",
   "version": "4.4.2"
  }
 },
 "nbformat": 4,
 "nbformat_minor": 5
}
