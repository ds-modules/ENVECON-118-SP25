{
 "cells": [
  {
   "cell_type": "code",
   "execution_count": null,
   "id": "d9359dff",
   "metadata": {},
   "outputs": [],
   "source": [
    "#Lecture 6 jupyter notebook\n",
    "#Lecture6 \n",
    "#if any packages give you messages, install them first\n",
    "#install.packages(\"psych\")\n",
    "#-------------------------------------------\n",
    "#call in the needed packages\n",
    "library(readxl)\n",
    "library(psych)\n",
    "library(ggplot2)\n",
    "library(haven)\n",
    "library(data.table)\n",
    "library(dplyr)\n",
    "library(foreign)"
   ]
  },
  {
   "cell_type": "code",
   "execution_count": null,
   "id": "889f44ab",
   "metadata": {},
   "outputs": [],
   "source": [
    "\n",
    "#-------------------------------------------\n",
    "#1. Read in data and see the top rows to see column names etc\n",
    "#-------------------------------------------\n",
    "#read in Lecture6 data set\n",
    "#read in a Stata dataset\n",
    "my_data <- read_dta(\"Lecture6.dta\")\n",
    "#and see the top of the data set to browse the variables in the different columns\n",
    "head(my_data)"
   ]
  },
  {
   "cell_type": "code",
   "execution_count": null,
   "id": "fcc631b2",
   "metadata": {},
   "outputs": [],
   "source": [
    "#-------------------------------------------\n",
    "#summary stats of data\n",
    "#-------------------------------------------\n",
    "describe(my_data,skew=FALSE)"
   ]
  },
  {
   "cell_type": "code",
   "execution_count": null,
   "id": "a7950306",
   "metadata": {},
   "outputs": [],
   "source": [
    "#------------------------------------------\n",
    "#generate log of wage to be the depedent variable\n",
    "my_data$lwage<-log(my_data$wage)\n",
    "#summary stats of log wage\n",
    "describe(my_data$lwage, skew=FALSE)"
   ]
  },
  {
   "cell_type": "code",
   "execution_count": null,
   "id": "2372ca71",
   "metadata": {},
   "outputs": [],
   "source": [
    "#reg0\n",
    "reg0<-lm(lwage ~ educ+exper+female+services,my_data)\n",
    "summary(reg0)"
   ]
  },
  {
   "cell_type": "code",
   "execution_count": null,
   "id": "aa022ee1",
   "metadata": {},
   "outputs": [],
   "source": [
    "#reg1\n",
    "reg1<-lm(lwage ~ educ+exper+female,my_data)\n",
    "summary(reg1)"
   ]
  },
  {
   "cell_type": "code",
   "execution_count": null,
   "id": "af9a466f",
   "metadata": {},
   "outputs": [],
   "source": [
    "#reg2\n",
    "reg2<-lm(lwage ~ educ+exper,my_data)\n",
    "summary(reg2)"
   ]
  },
  {
   "cell_type": "code",
   "execution_count": null,
   "id": "8631c40a",
   "metadata": {},
   "outputs": [],
   "source": [
    "#reg3\n",
    "reg3<-lm(lwage ~ educ,my_data)\n",
    "summary(reg3)"
   ]
  },
  {
   "cell_type": "code",
   "execution_count": null,
   "id": "c43216d8",
   "metadata": {},
   "outputs": [],
   "source": [
    "#what do you see as you add more variables reg3 to reg 2, for example, what happens to the R squared?\n",
    "summary(reg2)\n",
    "summary(reg3)"
   ]
  },
  {
   "cell_type": "code",
   "execution_count": null,
   "id": "bfc7ddfb",
   "metadata": {},
   "outputs": [],
   "source": [
    "#-----------------------------------------------------------------------------------------------\n",
    "#run regressions \n",
    "#-----------------------------------------------------------------------------------------------\n",
    "reg1<-lm(lwage ~ educ+exper+female,my_data)\n",
    "summary(reg1)\n",
    "\n",
    "#we ran Lecture6.R, and estimated a 34.3597% female wage gap\n",
    "#we estimated the model lwage=beta0+ educ beta1+ exper beta2+ female beta3 + epsilon\n",
    "\n",
    "\n",
    "#see what happens when we add  non white to the education estimated parameter and R squared\n",
    "#add non white\n",
    "reg6<-lm(lwage ~ educ+exper+female+nonwhite,my_data)\n",
    "summary(reg6)"
   ]
  },
  {
   "cell_type": "code",
   "execution_count": null,
   "id": "f7eb7d65",
   "metadata": {},
   "outputs": [],
   "source": [
    "#from one of your colleagues question:\n",
    "\n",
    "\n",
    "#Extra,  suggestion, see wage gap for non white and female\n",
    "#you would create a variable that is non white AND female, that is the product\n",
    "#of non white indicator and the female indicator\n",
    "\n",
    "my_data$nonwhiteFemale<-my_data$nonwhite*my_data$female\n",
    "reg7<-lm(lwage ~ educ+exper+female+nonwhite+nonwhiteFemale,my_data)\n",
    "summary(reg7)"
   ]
  },
  {
   "cell_type": "code",
   "execution_count": null,
   "id": "dc266dd5",
   "metadata": {},
   "outputs": [],
   "source": [
    "#what variable would you create to estimate whether there are educ marginal effect on lwage\n",
    "my_data$feduc<-my_data$educ*my_data$female\n",
    "\n",
    "reg7extra<-lm(lwage ~ educ+exper+female+feduc,my_data)\n",
    "summary(reg7extra)"
   ]
  },
  {
   "cell_type": "markdown",
   "id": "36adebd8-ec3d-4b41-90c9-f07bcff7d697",
   "metadata": {},
   "source": [
    "## OVB\n"
   ]
  },
  {
   "cell_type": "markdown",
   "id": "938cf154-96d6-4fc4-9122-2997dc2e2445",
   "metadata": {},
   "source": [
    "### General Issue- why do we add variables to a regression?\n",
    "\n",
    "\n",
    "– To improve the estimation (R squared) and \n",
    "\n",
    "– to control for that added variable.\n",
    "\n",
    "When controlling for an additional variable do we affect the estimated parameters?"
   ]
  },
  {
   "cell_type": "markdown",
   "id": "c29aee75-bbbe-4256-8580-41b0ee8bc4e8",
   "metadata": {},
   "source": [
    "<img src=\"omitEducOnProfOcc.png\" width=\"450\" />\n",
    "<img src=\"OmitEducProfOcccont.png\" width=\"450\" />"
   ]
  },
  {
   "cell_type": "markdown",
   "id": "80307618-73aa-4c13-a1d6-c4e2025566b1",
   "metadata": {},
   "source": [
    "## Formula for OVB"
   ]
  },
  {
   "cell_type": "markdown",
   "id": "1dc537ee-631c-422a-935e-3e267dd6c495",
   "metadata": {},
   "source": [
    "<img src=\"formula1.png\" width=\"450\" />\n",
    "<img src=\"formula2.png\" width=\"450\" />"
   ]
  },
  {
   "cell_type": "markdown",
   "id": "84a23625-f121-4915-ad82-2a7346325b08",
   "metadata": {},
   "source": [
    "### The OVB depends on how the exluded variable affects the outcome and how the excluded variable is related to the variable that we are interested in estimated its coefficient"
   ]
  },
  {
   "cell_type": "code",
   "execution_count": null,
   "id": "df6ef4c3-c98c-40ff-8728-aa77f8ee65be",
   "metadata": {},
   "outputs": [],
   "source": [
    "#  compute the correlation of all the variables\n",
    "#correlation of log wage and education, same sign as beta_educ\n",
    "cor(my_data$lwage,my_data$educ)"
   ]
  },
  {
   "cell_type": "code",
   "execution_count": null,
   "id": "70b5312f-01f2-4396-acaf-876388e18be8",
   "metadata": {},
   "outputs": [],
   "source": [
    "#correlation of educ and proc occup\n",
    "cor(my_data$profocc,my_data$educ)\n",
    "\n"
   ]
  },
  {
   "cell_type": "markdown",
   "id": "872705f4-41b6-48ae-8743-c0b950f06457",
   "metadata": {},
   "source": [
    "#### The product of the two results in a positive BIAS"
   ]
  },
  {
   "cell_type": "markdown",
   "id": "6e704abf-05b7-4af2-a7a5-50628a768a92",
   "metadata": {},
   "source": [
    "<img src=\"Weshowed.png\" width=\"450\" />"
   ]
  },
  {
   "cell_type": "markdown",
   "id": "12873b30-102e-477c-bd45-5f2e3148aab8",
   "metadata": {},
   "source": [
    "# Given the correlations below\n",
    "what happens to the coefficient of experience if we omit education from the model?"
   ]
  },
  {
   "cell_type": "markdown",
   "id": "ff352123-9401-44b1-9c1e-60c8d9d89c2a",
   "metadata": {},
   "source": [
    "<img src=\"correlations.png\" width=\"450\" />"
   ]
  },
  {
   "cell_type": "markdown",
   "id": "e1d02300-0140-4306-8511-95d6402df33b",
   "metadata": {},
   "source": [
    "### the solution is below"
   ]
  },
  {
   "cell_type": "markdown",
   "id": "1d7f4828-fbc6-48a7-b4a9-bfe9f208a86a",
   "metadata": {},
   "source": [
    "<img src=\"DA6_1.png\" width=\"450\" />\n",
    "\n",
    "<img src=\"DA6_2.png\" width=\"450\" />\n",
    "\n"
   ]
  },
  {
   "cell_type": "markdown",
   "id": "40ac0ef2-7e1e-499c-a6b3-650959aa26ee",
   "metadata": {},
   "source": [
    "Omitting education will bias the estimated parameters for experience downwards, we will estimate a too small beta hat for experience than it should be\n",
    "    "
   ]
  },
  {
   "cell_type": "code",
   "execution_count": null,
   "id": "5a682d4c-6955-4ddd-aa20-8b11364379b6",
   "metadata": {},
   "outputs": [],
   "source": []
  }
 ],
 "metadata": {
  "kernelspec": {
   "display_name": "R",
   "language": "R",
   "name": "ir"
  },
  "language_info": {
   "codemirror_mode": "r",
   "file_extension": ".r",
   "mimetype": "text/x-r-source",
   "name": "R",
   "pygments_lexer": "r",
   "version": "4.4.2"
  }
 },
 "nbformat": 4,
 "nbformat_minor": 5
}
