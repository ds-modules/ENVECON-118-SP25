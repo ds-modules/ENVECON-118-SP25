{
 "cells": [
  {
   "cell_type": "markdown",
   "id": "e4024979-78e9-410d-8bdc-1b115c650c76",
   "metadata": {},
   "source": [
    "# DA- Lecture 7- Spring 2025\n",
    "## Villas-Boas\n",
    "\n",
    "## Daily Assignment for after Lecture 7 EEO 118 Spring 2025\n",
    "\n",
    "\n",
    "Can old election outcomes predict new ones across US counties?\n",
    "\n",
    "Suppose  we are tasked to estimate what is the marginal effect of past election ratio of republican to democrat candidate (x1) in 2012  across US counties on the predicted ratio of Trump to Clinton 2016 votes (y) in the  US counties, holding everything else constant.\n",
    "\n"
   ]
  },
  {
   "cell_type": "code",
   "execution_count": null,
   "id": "c2d55630-5544-43f0-89bf-fc0b25d2cc4b",
   "metadata": {},
   "outputs": [],
   "source": [
    "install.packages(\"pacman\")\n",
    "# Load the 'pacman' package\n",
    "library(pacman) \n",
    "#packages to use load them now using the pacman \"manager\"\n",
    "p_load(dplyr, readr) \n",
    "#Another great feature of p_load(): if you try to load a package that is not installed on your machine, p_load() install the package for you, rather than throwing an error. For instance, let’s install and load one final package named ggplot2. \n",
    "p_load(ggplot2)\n",
    "\n",
    "\n",
    "\n",
    "#set scientific display off, thank you Roy\n",
    "options(scipen=999)\n",
    "\n",
    "\n",
    "pacman::p_load(lfe, lmtest, haven, sandwich, tidyverse)\n",
    "# lfe for running fixed effects regression\n",
    "# lmtest for displaying robust SE in output table\n",
    "# haven for loading in dta files\n",
    "# sandwich for producing robust Var-Cov matrix\n",
    "# tidyverse for manipulating data and producing plots"
   ]
  },
  {
   "cell_type": "code",
   "execution_count": null,
   "id": "8f0e936d-b8ad-4208-af68-7bac4180d875",
   "metadata": {},
   "outputs": [],
   "source": [
    "library(haven)\n",
    "library(ggplot2)"
   ]
  },
  {
   "cell_type": "code",
   "execution_count": null,
   "id": "374492e7-7ae3-461c-a19e-db22081b78cc",
   "metadata": {},
   "outputs": [],
   "source": [
    "#-------------------------------------------\n",
    "#1. Read in data\n",
    "#-------------------------------------------\n",
    "my_data <- read_dta(\"dataLecture7.dta\")\n",
    "head(my_data)"
   ]
  },
  {
   "attachments": {},
   "cell_type": "markdown",
   "id": "20198614-635d-407a-88c3-72d0bd742caf",
   "metadata": {},
   "source": [
    "### The Sample\n",
    "Data for 3110 counties on many variables pertaining to election outcomes. The source is the MIT election lab."
   ]
  },
  {
   "attachments": {},
   "cell_type": "markdown",
   "id": "29f472ff-dc22-4356-b3ed-65751f094d1d",
   "metadata": {},
   "source": [
    "## Population Model\n",
    "Suppose there is a true relationship, across US counties, between a variable y and a variable x1 where \n",
    "\n",
    "y = the Number Votes for Trump relative to votes for Clinton in 2016 \n",
    "\n",
    "and\n",
    "\n",
    " x1 = the number of votes for Rodney relative to number of votes for Obama in the 2012/previous election\n"
   ]
  },
  {
   "attachments": {},
   "cell_type": "markdown",
   "id": "9587a0da-a807-4f63-8b2b-c54d32c227b4",
   "metadata": {},
   "source": [
    "$y=\\  \\beta_0 + \\beta_1  \\ x_𝟏 + \\ 𝑢 $\n",
    "\n",
    "Call the true marginal effect of x1 on y    the parameter $\\beta_1$\n",
    "\n",
    "Does a larger number of Rodney votes relative to Obama votes (larger $x_1$) leads to the occurrence a larger y, holding all else constant, i.e., leads to votes for Trump relative to Clinton to increase?\n",
    "\n",
    "Figuring out whether $\\beta_1$  is significant and what is its size is interesting.\n",
    "\n",
    "Finally, thinking about what other factors could affect y (the number of Trump votes over Clinton votes) that we should control for in this analysis is also interesting   \n",
    "\n",
    "that is, do we need to worry about Omitted variable Bias (OVB) ?\n",
    "\n",
    "\n"
   ]
  },
  {
   "attachments": {},
   "cell_type": "markdown",
   "id": "c336153f-669a-4ad6-99cc-26a3c1f2b8e0",
   "metadata": {},
   "source": [
    "As you can see in the dataset, there are other variables in the dataframe beyond x1, namely, \n",
    "\n",
    "Population by country      = pop\n",
    "\n",
    "Whether democratic or republican senate  \n",
    "\n",
    "Whether dem or rep house \n",
    "\n",
    "Whether rep or dem governor\n",
    "\n",
    "Ratio Rodney2012/Obama2012----->    x1\n",
    "\n",
    "Income\n",
    "\n",
    "white percentage of the population in the county\n"
   ]
  },
  {
   "cell_type": "markdown",
   "id": "ab54770c-929c-4e7a-8ffd-0a357d0e4652",
   "metadata": {},
   "source": [
    "#### Generate y and x1"
   ]
  },
  {
   "cell_type": "code",
   "execution_count": null,
   "id": "c310f961-0a90-4ed2-9542-308b3280c420",
   "metadata": {},
   "outputs": [],
   "source": [
    "#generate variables Y and x1\n",
    "my_data$Y<-my_data$trump16/my_data$clinton16\n",
    "my_data$x1<-my_data$romney12/my_data$obama12"
   ]
  },
  {
   "cell_type": "code",
   "execution_count": null,
   "id": "1ff3b772-080d-4626-b0ca-7b29702f5e7d",
   "metadata": {},
   "outputs": [],
   "source": [
    "scatterPlot<-plot(my_data$x1,my_data$Y) "
   ]
  },
  {
   "attachments": {},
   "cell_type": "markdown",
   "id": "c18427eb-6a2d-45e9-bb40-5cd1ac24e1e6",
   "metadata": {},
   "source": [
    "Looks like there is a positive relationship in terms of a y and x1 scatter plot\n",
    "\n",
    "\n",
    "Where Y= Number Trump Votes/ Number Clinton Votes\n",
    "\n",
    "and \n",
    "\n",
    "x1 = =Number Rodney votes/ Number Obama votes\n",
    "\n"
   ]
  },
  {
   "cell_type": "markdown",
   "id": "68524419-ce38-4dbd-b16d-231a9997098e",
   "metadata": {},
   "source": [
    "#### Sometimes there are missing values, below is how we don't use them, if we so wish"
   ]
  },
  {
   "cell_type": "code",
   "execution_count": null,
   "id": "e39a5231-1121-4df0-b30c-b71f7a16e2d3",
   "metadata": {},
   "outputs": [],
   "source": [
    "#use non-missing values only from now on\n",
    "my_data2<-my_data[complete.cases(my_data),]\n",
    "my_data3 <- my_data2[my_data2$Y !=Inf,] \n",
    "#my_data3 <-my_data2[my_data2$white_pct!=NA]\n"
   ]
  },
  {
   "cell_type": "markdown",
   "id": "b3aa315d-a825-423e-90a4-5b4d1bd043fd",
   "metadata": {},
   "source": [
    "## Regression of y on x1 and white percentage of population in the county"
   ]
  },
  {
   "cell_type": "code",
   "execution_count": null,
   "id": "2a2eb499-4319-4d02-b838-f9258c7700cc",
   "metadata": {},
   "outputs": [],
   "source": [
    "\n",
    "#regression model with x1 and white percentage in the county using my_data3\n",
    "\n",
    "regfull<-lm(Y ~ x1 + white_pct, my_data3)\n",
    "summary(regfull)"
   ]
  },
  {
   "cell_type": "markdown",
   "id": "91a1759e-332b-4d84-aee2-d59d9a583208",
   "metadata": {},
   "source": [
    "<img src=\"fullModel.png\" width=\"600\" />"
   ]
  },
  {
   "cell_type": "markdown",
   "id": "3326eb9f-0c14-46d5-9868-3a34461082b9",
   "metadata": {},
   "source": [
    "## Regression of y on x1 only"
   ]
  },
  {
   "cell_type": "code",
   "execution_count": null,
   "id": "20d94da3-6191-415d-959a-cf8f38ed15fe",
   "metadata": {},
   "outputs": [],
   "source": [
    "#regression no percent white as control\n",
    "regsmall<-lm(Y ~ x1, my_data3)\n",
    "summary(regsmall)"
   ]
  },
  {
   "cell_type": "markdown",
   "id": "39ec82d0-f5b5-4b05-82c3-e7394ba84077",
   "metadata": {},
   "source": [
    "### What do you see when white_percentage is omitted from the model? what happens to the estimate of the coefficient of x1?\n"
   ]
  },
  {
   "cell_type": "markdown",
   "id": "3a890afa-2a61-46f6-8072-73ac2a70a6dd",
   "metadata": {},
   "source": [
    "The coefficient changes. Why does it change like that? Let's go through the OVB formula and then look at this case\n"
   ]
  },
  {
   "cell_type": "markdown",
   "id": "c9370351-0bf6-4990-a2a1-eb2120ce344c",
   "metadata": {},
   "source": [
    "# Omitted variable Bias (OVB)"
   ]
  },
  {
   "cell_type": "markdown",
   "id": "282902a6-c213-4f9b-bbd6-a5ff905b3eaa",
   "metadata": {},
   "source": [
    "<img src=\"OVB1.png\" width=\"600\" />"
   ]
  },
  {
   "cell_type": "markdown",
   "id": "e8cffbec-a00c-4d87-ab79-d7245f2e0c8b",
   "metadata": {},
   "source": [
    "<img src=\"OVB2.png\" width=\"600\" />"
   ]
  },
  {
   "cell_type": "markdown",
   "id": "ed997656-b644-4650-b8f4-e7dfa326a7ab",
   "metadata": {},
   "source": [
    "Beta1 tilde is not equal to the true $\\beta_1$. there is a BIAS. \n",
    "\n",
    "The sign of the Bias consists of the sign of a product of two things \n",
    "\n",
    "The first is the sign of the correlation between x1 and x2, the variable we care about (x1) and the omitted one x2, which is the same sign as $\\rho$\n",
    "\n",
    "The second thing is the sign of the correlation between the outcome y and x2 that we omit which is the same sign as $\\beta_2$.\n",
    "\n"
   ]
  },
  {
   "cell_type": "markdown",
   "id": "1e0d4d11-d9a0-454b-8635-218fd1532b6b",
   "metadata": {},
   "source": [
    "<img src=\"correlations.png\" width=\"600\" />"
   ]
  },
  {
   "cell_type": "markdown",
   "id": "01bf2340-008b-4e67-aea4-7e03bd767ac2",
   "metadata": {},
   "source": [
    "### write the above code below and get the needed correlations to figure out whether you have a positive or negative bias of beta1 tilde when you omit white percentage fromt he model\n",
    "\n"
   ]
  },
  {
   "cell_type": "code",
   "execution_count": null,
   "id": "c51a889f-b5fa-44b7-b6ef-057e6b07c4fa",
   "metadata": {},
   "outputs": [],
   "source": [
    "#type code here"
   ]
  },
  {
   "cell_type": "markdown",
   "id": "31dbc119-1dfc-43ec-bee0-db1bce650f37",
   "metadata": {},
   "source": [
    "<img src=\"OVBsetup.png\" width=\"600\" />"
   ]
  },
  {
   "cell_type": "markdown",
   "id": "8bb407af-f8b0-4e6e-8f41-1ea46823775e",
   "metadata": {},
   "source": [
    "<img src=\"omitWhitePerc.png\" width=\"600\" />"
   ]
  },
  {
   "cell_type": "markdown",
   "id": "be3c7a9c-65f9-464f-87b9-98b8e37c9854",
   "metadata": {},
   "source": [
    "<img src=\"OVB_last.png\" width=\"600\" />"
   ]
  },
  {
   "cell_type": "markdown",
   "id": "8ea39f96-ade8-45cf-8031-87a718b0c0e4",
   "metadata": {},
   "source": [
    "# Please estimate the model below and interpret\n",
    "\n",
    "$y \\ = \\beta_o +\\  \\beta_1 \\ x_1 +\\  \\beta_2 \\ female\\_perc + \\ \\beta_3 \\ white\\_perc + \\ u$ \n",
    "\n"
   ]
  },
  {
   "cell_type": "code",
   "execution_count": null,
   "id": "0ed8927d-d6ae-41dd-a7ca-04092756735f",
   "metadata": {},
   "outputs": [],
   "source": [
    "#type your code here\n",
    "regLast<-lm(Y ~ x1+female_pct+white_pct, my_data3)\n",
    "summary(regLast)"
   ]
  },
  {
   "cell_type": "markdown",
   "id": "7c1abd22-d866-4825-bafe-f66b3d6edb6a",
   "metadata": {},
   "source": [
    "<img src=\"takeAway.png\" width=\"600\" />"
   ]
  },
  {
   "cell_type": "markdown",
   "id": "ae6bd354-ecac-442b-bca5-ae801d3a3014",
   "metadata": {},
   "source": [
    "# Multicollinearity"
   ]
  },
  {
   "cell_type": "code",
   "execution_count": null,
   "id": "20a07233-e65f-47db-9d19-bc94aeb1ec4a",
   "metadata": {},
   "outputs": [],
   "source": [
    "#collinearity Slides\n",
    "\n",
    "#Baseline Model \n",
    "regBase <- lm(Y~x1+female_pct+white_pct, my_data3)\n",
    "summary(regBase)"
   ]
  },
  {
   "cell_type": "markdown",
   "id": "8b6dcee1-77ef-47d1-8d89-76bb9439adda",
   "metadata": {},
   "source": [
    "## perfect collinearity\n",
    "\n",
    "\n",
    "Note in the regression below,  that male_pct coefficient cannot be estimated \n",
    "because male_pct is 1-female_pct, they are perfectly collinear."
   ]
  },
  {
   "cell_type": "code",
   "execution_count": null,
   "id": "f59a6e5c-f2ce-4125-86f9-c0976048a5ed",
   "metadata": {},
   "outputs": [],
   "source": [
    "#Alternative Model – Perfect collinearity\n",
    "my_data3$male_pct=1-my_data3$female_pct\n",
    "regPC <- lm(Y~x1+female_pct+male_pct+white_pct, my_data3)\n",
    "summary(regPC)\n",
    "\n",
    "#note in the regression output below,  that male_pct coefficient is not estimated \n",
    "# because male_pct is 1-female_pct, they are perfectly collinear\n",
    "#with each other, \n",
    "#the line male_pct has NA   NA\n",
    "#Non available NA"
   ]
  },
  {
   "cell_type": "markdown",
   "id": "33922222-2e61-4400-bb49-4e820884ae95",
   "metadata": {},
   "source": [
    "## Alternative Model – Multi collinearity\n",
    "\n",
    "Note in the regression below,  we have white percentage and black percentage in the regression\n",
    "\n",
    "\n",
    "These two are not perfectly collinear but highly correlated\n",
    "\n",
    " corr(white_pct,bh_pct)=-0.92\n"
   ]
  },
  {
   "cell_type": "code",
   "execution_count": null,
   "id": "5a1b7459-3036-496d-8e71-299a431e4b42",
   "metadata": {},
   "outputs": [],
   "source": [
    "#Alternative Model – Multi collinearity\n",
    "regMC <- lm(Y~x1+female_pct+white_pct+bh_pct, my_data3)\n",
    "#where corr(white_pct,bh_pct)=-0.92\n",
    "summary(regMC)\n"
   ]
  },
  {
   "cell_type": "markdown",
   "id": "4005c79d-f0ab-4a13-be58-097241afd639",
   "metadata": {},
   "source": [
    "### put Y and Y hat on same graph and x1 on horizontal axis\n",
    "make combined scatter plot of Y data and fitted values of Y (Yhat)\n",
    "given regression estimates usinf X1, white_pct and female_pct"
   ]
  },
  {
   "cell_type": "code",
   "execution_count": null,
   "id": "717e3a72-6b68-44ca-a488-92f833ec77ef",
   "metadata": {},
   "outputs": [],
   "source": [
    "#for graph \n",
    "#get the predicted Y hats\n",
    "my_data3$Yhat<-regBase$fitted.values\n",
    "\n",
    "#put Y and Y hat on same graph and x1 on horizontal axis\n",
    "#make combined scatter plot of Y data and fitted values of Y (Yhat)\n",
    "#given regression estimates usinf X1, white_pct and female_pct\n",
    "scatter_data_fittedVals <- ggplot(data = my_data3) + geom_point(aes(x=x1, y=Y, color = \"data\")) +\n",
    "  geom_point(aes(x=x1, y=Yhat, color = \"fitted\")) + \n",
    "  xlab(\"x1=Ratio Rodney to Obama Votes in 2012\") + ylab(\"Y=Ratio Trump to Clinton Votes in 2016 \") +\n",
    "  ggtitle(\"Y (Red) and Predicted Y (Blue) and x1\")\n",
    "scatter_data_fittedVals"
   ]
  },
  {
   "cell_type": "markdown",
   "id": "43f49bc3-09e3-487a-a9f9-3602dba6a7d1",
   "metadata": {},
   "source": [
    "# THE END"
   ]
  }
 ],
 "metadata": {
  "kernelspec": {
   "display_name": "R",
   "language": "R",
   "name": "ir"
  },
  "language_info": {
   "codemirror_mode": "r",
   "file_extension": ".r",
   "mimetype": "text/x-r-source",
   "name": "R",
   "pygments_lexer": "r",
   "version": "4.4.2"
  }
 },
 "nbformat": 4,
 "nbformat_minor": 5
}
