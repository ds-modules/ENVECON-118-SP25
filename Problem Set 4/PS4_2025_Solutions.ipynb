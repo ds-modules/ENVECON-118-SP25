{
 "cells": [
  {
   "attachments": {},
   "cell_type": "markdown",
   "id": "0a8d8722-7ce3-4eb7-a776-0cdcfd69b701",
   "metadata": {},
   "source": [
    "# EEP/IAS 118 - Introductory Applied Econometrics\n",
    "\n",
    "## Problem Set 4, Spring 2025, Villas-Boas\n",
    "\n",
    "#### <span style=\"text-decoration: underline\">Due in Gradescope – Midnight, April 6 </span> \n",
    "\n",
    "Submit materials as **one pdf** on [Gradescope](https://www.gradescope.com/courses/927499). After uploading the pdf to Gradescope, please **assign all and only the appropriate pages to each question**. Questions that do not have properly assigned pages on Gradescope may not be graded. Codes and outputs not properly displayed will be marked as incorrect.\n",
    "\n",
    "**For full credit**, all confidence intervals/hypothesis tests must be conducted by hand - you can use functions like sd() or mean() to get values to plug into the formulas, but no credit will be given for the use of canned interval/test functions (i.e. linearHypothesis()) with no steps/calculations provided. Do not round any intermediate steps or final answers to less than four decimal digits."
   ]
  },
  {
   "cell_type": "markdown",
   "id": "4cc62bea",
   "metadata": {},
   "source": [
    "### Preamble\n",
    "When writing R code, it's a good habit to start your notebooks or R scripts with a preamble, a section where you load all necessary packages, set paths or change the working directory, or declare other options.\n",
    "\n",
    "Use the below code cell to load in packages you will use throughout the problem set (at least `haven`, `tidyverse` and `ggplot2`, `dplyr', `psych', `car', `lm.beta'). \n",
    "\n",
    "*Note: All packages that you need are already installed and can be loaded immediately using the `library()` function.\n",
    "\n",
    "#set scientific display off by typing in the cell bellow\n",
    "\n",
    "options(scipen=999)"
   ]
  },
  {
   "cell_type": "code",
   "execution_count": 14,
   "id": "8bd35d4a",
   "metadata": {
    "vscode": {
     "languageId": "r"
    }
   },
   "outputs": [
    {
     "name": "stderr",
     "output_type": "stream",
     "text": [
      "Installing package into ‘/srv/r’\n",
      "(as ‘lib’ is unspecified)\n",
      "\n"
     ]
    }
   ],
   "source": [
    "install.packages(\"pacman\") \n",
    "#Now load it... \n",
    "# Load the 'pacman' package\n",
    "\n",
    "library(pacman) \n",
    "#packages to use load them now using the pacman \"manager\"\n",
    "p_load(pacman, haven, tidyverse, dplyr, psych,ggplot2,car,lm.beta) \n",
    "\n",
    "#set scientific display off, thank you Roy\n",
    "options(scipen=999)"
   ]
  },
  {
   "cell_type": "markdown",
   "id": "48fa6c28",
   "metadata": {},
   "source": [
    "### Exercise 1. \n",
    "\n",
    "In this problem set, we use a dataset on the annual salary of executives and the characteristics of the firm, and the firm's outcomes. If the labor market does not value a characteristic of the employer, such as an outcome in the firm that the executive is responsible for (i.e. the value of sales or change in the rate of return) or the years of tenure as an executive (proxying experience), the demand for those executives and their salary goes down and vice versa."
   ]
  },
  {
   "cell_type": "markdown",
   "id": "4ed7552f",
   "metadata": {},
   "source": [
    "| VARIABLE | Definition\t|\n",
    "|:-:|:-:|\n",
    "| SALARY\t| annual CEO salary (including bonuses) in 1990 (in thousands USD)  |\n",
    "| SALES | firm sales in 1990 (in millions USD) |\n",
    "| ROE | average return on equity, 1988–1990 (in percent)  |\n",
    "| FINANCE | = 1 if a financial company, 0 otherwise | \n"
   ]
  },
  {
   "cell_type": "markdown",
   "id": "1e27d8a3",
   "metadata": {},
   "source": [
    "0. Setup *(Ungraded)*: Begin by reading in the dataset \"pset4_2025.dta.\" Note that this dataset is in dta format so you will need use the read_dta() function from the *haven* package. Create a variable called *lsalary* that is the ln of salary and add this variable as an additional column in your dataframe. Call this variable lsalary. Explore your dataset by viewing summary statistics of key variables (salary, roe, finance) by using the summarise() function."
   ]
  },
  {
   "cell_type": "code",
   "execution_count": 15,
   "id": "b41ba4ed",
   "metadata": {
    "vscode": {
     "languageId": "r"
    }
   },
   "outputs": [
    {
     "data": {
      "text/html": [
       "<table class=\"dataframe\">\n",
       "<caption>A tibble: 1 × 2</caption>\n",
       "<thead>\n",
       "\t<tr><th scope=col>Average Salary</th><th scope=col>Std Dev Salary</th></tr>\n",
       "\t<tr><th scope=col>&lt;dbl&gt;</th><th scope=col>&lt;dbl&gt;</th></tr>\n",
       "</thead>\n",
       "<tbody>\n",
       "\t<tr><td>1272.771</td><td>1372.688</td></tr>\n",
       "</tbody>\n",
       "</table>\n"
      ],
      "text/latex": [
       "A tibble: 1 × 2\n",
       "\\begin{tabular}{ll}\n",
       " Average Salary & Std Dev Salary\\\\\n",
       " <dbl> & <dbl>\\\\\n",
       "\\hline\n",
       "\t 1272.771 & 1372.688\\\\\n",
       "\\end{tabular}\n"
      ],
      "text/markdown": [
       "\n",
       "A tibble: 1 × 2\n",
       "\n",
       "| Average Salary &lt;dbl&gt; | Std Dev Salary &lt;dbl&gt; |\n",
       "|---|---|\n",
       "| 1272.771 | 1372.688 |\n",
       "\n"
      ],
      "text/plain": [
       "  Average Salary Std Dev Salary\n",
       "1 1272.771       1372.688      "
      ]
     },
     "metadata": {},
     "output_type": "display_data"
    },
    {
     "data": {
      "text/html": [
       "<table class=\"dataframe\">\n",
       "<caption>A tibble: 1 × 2</caption>\n",
       "<thead>\n",
       "\t<tr><th scope=col>Average ROE</th><th scope=col>Std ROE</th></tr>\n",
       "\t<tr><th scope=col>&lt;dbl&gt;</th><th scope=col>&lt;dbl&gt;</th></tr>\n",
       "</thead>\n",
       "<tbody>\n",
       "\t<tr><td>17.22244</td><td>8.590926</td></tr>\n",
       "</tbody>\n",
       "</table>\n"
      ],
      "text/latex": [
       "A tibble: 1 × 2\n",
       "\\begin{tabular}{ll}\n",
       " Average ROE & Std ROE\\\\\n",
       " <dbl> & <dbl>\\\\\n",
       "\\hline\n",
       "\t 17.22244 & 8.590926\\\\\n",
       "\\end{tabular}\n"
      ],
      "text/markdown": [
       "\n",
       "A tibble: 1 × 2\n",
       "\n",
       "| Average ROE &lt;dbl&gt; | Std ROE &lt;dbl&gt; |\n",
       "|---|---|\n",
       "| 17.22244 | 8.590926 |\n",
       "\n"
      ],
      "text/plain": [
       "  Average ROE Std ROE \n",
       "1 17.22244    8.590926"
      ]
     },
     "metadata": {},
     "output_type": "display_data"
    },
    {
     "data": {
      "text/html": [
       "<table class=\"dataframe\">\n",
       "<caption>A tibble: 1 × 2</caption>\n",
       "<thead>\n",
       "\t<tr><th scope=col>Average Financial Company</th><th scope=col>Std Dev Financial Company</th></tr>\n",
       "\t<tr><th scope=col>&lt;dbl&gt;</th><th scope=col>&lt;dbl&gt;</th></tr>\n",
       "</thead>\n",
       "<tbody>\n",
       "\t<tr><td>0.2243902</td><td>0.4182014</td></tr>\n",
       "</tbody>\n",
       "</table>\n"
      ],
      "text/latex": [
       "A tibble: 1 × 2\n",
       "\\begin{tabular}{ll}\n",
       " Average Financial Company & Std Dev Financial Company\\\\\n",
       " <dbl> & <dbl>\\\\\n",
       "\\hline\n",
       "\t 0.2243902 & 0.4182014\\\\\n",
       "\\end{tabular}\n"
      ],
      "text/markdown": [
       "\n",
       "A tibble: 1 × 2\n",
       "\n",
       "| Average Financial Company &lt;dbl&gt; | Std Dev Financial Company &lt;dbl&gt; |\n",
       "|---|---|\n",
       "| 0.2243902 | 0.4182014 |\n",
       "\n"
      ],
      "text/plain": [
       "  Average Financial Company Std Dev Financial Company\n",
       "1 0.2243902                 0.4182014                "
      ]
     },
     "metadata": {},
     "output_type": "display_data"
    }
   ],
   "source": [
    "# Read in data\n",
    "my_data <- read_dta(\"pset4_2025.dta\")\n",
    "\n",
    "# Create log(salary) variable\n",
    "my_data$lsalary <- log(my_data$salary)\n",
    "\n",
    "# Explore summary statistics of key variables\n",
    "summarise(my_data,\n",
    "          \"Average Salary\" = mean(salary), \n",
    "          \"Std Dev Salary\" = sd(salary))\n",
    "\n",
    "summarise(my_data,\n",
    "          \"Average ROE\" = mean(roe), \n",
    "          \"Std ROE\" = sd(roe))\n",
    "          \n",
    "summarise(my_data,\n",
    "          \"Average Financial Company\" = mean(finance), \n",
    "          \"Std Dev Financial Company\" = sd(finance))\n",
    "          \n",
    "# Create two separate dataframes of salaries, one for finance and one for the non-finance sector\n",
    "financeWages<-my_data$salary[(my_data$finance==1)]\n",
    "nonFinanceWages<-my_data$salary[(my_data$finance==0)]"
   ]
  },
  {
   "cell_type": "markdown",
   "id": "5cdd7542",
   "metadata": {},
   "source": [
    "#### Q1.1 Standardized Regression ####\n",
    "a) Estimate a model of salary as a linear function of a constant, firm’s sales, and average ROE, using a **standardized regression**. In other words, all variables should be expressed in terms of standard deviations. *(Hint: You can either create standardized versions of each variable manually or use the lm.beta() function from the lm.beta package. See Lecture 13 and Section 6.)*\n",
    "\n",
    "b) Interpret the intercept and each of the estimated slope coefficients in the standardized regression using Sign, Size, and Significance (SSS). Pay special attention to units since this is a standardized regression! Interpret each coefficient in a maximum of 2 sentences.\n",
    "\n",
    "c) In absolute terms, does average ROE or sales have a larger correlation with expected salary? Explain your answer in a maximum of 2 sentences."
   ]
  },
  {
   "cell_type": "code",
   "execution_count": 16,
   "id": "5ca970a0",
   "metadata": {
    "vscode": {
     "languageId": "r"
    }
   },
   "outputs": [
    {
     "data": {
      "text/plain": [
       "\n",
       "Call:\n",
       "lm(formula = salary ~ sales + roe, data = my_data)\n",
       "\n",
       "Residuals:\n",
       "    Min      1Q  Median      3Q     Max \n",
       "-1346.4  -484.7  -229.1   134.1 13574.3 \n",
       "\n",
       "Coefficients:\n",
       "              Estimate Standardized Std. Error t value Pr(>|t|)    \n",
       "(Intercept) 822.893885           NA 224.845205   3.660 0.000322 ***\n",
       "sales         0.014732     0.114594   0.008932   1.649 0.100615    \n",
       "roe          20.257893     0.126783  11.100955   1.825 0.069496 .  \n",
       "---\n",
       "Signif. codes:  0 ‘***’ 0.001 ‘**’ 0.01 ‘*’ 0.05 ‘.’ 0.1 ‘ ’ 1\n",
       "\n",
       "Residual standard error: 1360 on 202 degrees of freedom\n",
       "Multiple R-squared:  0.02768,\tAdjusted R-squared:  0.01805 \n",
       "F-statistic: 2.875 on 2 and 202 DF,  p-value: 0.05871\n"
      ]
     },
     "metadata": {},
     "output_type": "display_data"
    }
   ],
   "source": [
    "# First run the usual regression\n",
    "reg1<-lm(salary~sales+roe, my_data)\n",
    "\n",
    "# Then use the lm.beta() function to standardize the coefficients\n",
    "reg1_standardized <- lm.beta(reg1)\n",
    "summary(reg1_standardized)"
   ]
  },
  {
   "cell_type": "markdown",
   "id": "6e2384d9",
   "metadata": {},
   "source": [
    "b1) In a standardized regression, there is no intercept since all variables are standardized to have a mean of 0. \n",
    "    \n",
    "b2) A 1 standard deviation increase in sales is associated with 0.1146 standard deviation increase in CEO salaries, holding ROE constant. This result is not statistically significant (p-value = 0.100615 > 0.10). \n",
    "\n",
    "b3) A 1 standard deviation increase in ROE is associated with a 0.1268 standard deviation increase in CEO salaries, holding sales constant. This result is significant at the 10% level (p-value = 0.06950 < 0.10).\n",
    "\n",
    "c) Since this is a standardized regression, we can compare the size of the coefficients on *sales* and *roe* directly, since both are expressed in terms of standard deviations. It appears that ROE has a larger correlation with expected salary in absolute terms since the coefficient on *roe* = 0.1268 > 0.1146 = coefficient on *sales*"
   ]
  },
  {
   "cell_type": "markdown",
   "id": "a1a348f2",
   "metadata": {},
   "source": [
    "#### Q1.2. Joint Significance Test ####\n",
    "(a) Estimate a model of salary as a linear function of a constant, firm’s sales, average ROE, and an indicator for being in the financial sector. Then test the **joint significance** of the *ROE* and *sales* variables at the 1% significance level using the 5 steps of hypothesis testing. Conduct the hypothesis by hand, do not use any canned functions. \n",
    "\n",
    "*Hint: While you cannot answer the question using canned functions for credit, you can check your answer by comparing your manually calculated answer to the results you obtain from using the canned function linearHypothesis()*"
   ]
  },
  {
   "cell_type": "markdown",
   "id": "a94366a1-aadc-4aa7-831d-e89e9ff343e7",
   "metadata": {},
   "source": [
    "Step 1: State the null and alternative hypotheses.\n",
    "\n",
    "$H_0$: $\\beta_\\text{sales} = \\beta_\\text{roe} = 0$\n",
    "\n",
    "$H_A$: $\\beta_\\text{sales} \\neq 0$ or $\\beta_\\text{roe} \\neq 0$ or both\n",
    "\n",
    "Step 2: Write down the two models the null hypothesis implies.\n",
    "\n",
    "Unrestricted model: $salary = \\beta_0 + \\beta_1 sales + \\beta_2 roe + \\beta_3 finance + u$\n",
    "\n",
    "Restricted model: $salary = \\beta_0 + \\beta_3 finance + u$"
   ]
  },
  {
   "cell_type": "code",
   "execution_count": 17,
   "id": "a53ee285",
   "metadata": {
    "vscode": {
     "languageId": "r"
    }
   },
   "outputs": [
    {
     "data": {
      "text/plain": [
       "\n",
       "Call:\n",
       "lm(formula = salary ~ sales + roe + finance, data = my_data)\n",
       "\n",
       "Residuals:\n",
       "    Min      1Q  Median      3Q     Max \n",
       "-1341.0  -457.9  -241.8   103.7 13616.4 \n",
       "\n",
       "Coefficients:\n",
       "              Estimate Std. Error t value Pr(>|t|)   \n",
       "(Intercept) 745.756604 243.041947   3.068  0.00245 **\n",
       "sales         0.015196   0.008955   1.697  0.09127 . \n",
       "roe          22.012062  11.303814   1.947  0.05289 . \n",
       "finance     194.956419 232.191597   0.840  0.40211   \n",
       "---\n",
       "Signif. codes:  0 ‘***’ 0.001 ‘**’ 0.01 ‘*’ 0.05 ‘.’ 0.1 ‘ ’ 1\n",
       "\n",
       "Residual standard error: 1361 on 201 degrees of freedom\n",
       "Multiple R-squared:  0.03108,\tAdjusted R-squared:  0.01662 \n",
       "F-statistic: 2.149 on 3 and 201 DF,  p-value: 0.09528\n"
      ]
     },
     "metadata": {},
     "output_type": "display_data"
    },
    {
     "data": {
      "text/plain": [
       "\n",
       "Call:\n",
       "lm(formula = salary ~ finance, data = my_data)\n",
       "\n",
       "Residuals:\n",
       "    Min      1Q  Median      3Q     Max \n",
       "-1028.9  -522.9  -250.9   116.1 13570.1 \n",
       "\n",
       "Coefficients:\n",
       "            Estimate Std. Error t value            Pr(>|t|)    \n",
       "(Intercept)  1251.90     109.09  11.476 <0.0000000000000002 ***\n",
       "finance        93.01     230.28   0.404               0.687    \n",
       "---\n",
       "Signif. codes:  0 ‘***’ 0.001 ‘**’ 0.01 ‘*’ 0.05 ‘.’ 0.1 ‘ ’ 1\n",
       "\n",
       "Residual standard error: 1376 on 203 degrees of freedom\n",
       "Multiple R-squared:  0.000803,\tAdjusted R-squared:  -0.004119 \n",
       "F-statistic: 0.1631 on 1 and 203 DF,  p-value: 0.6867\n"
      ]
     },
     "metadata": {},
     "output_type": "display_data"
    },
    {
     "data": {
      "text/html": [
       "0.0310783699630983"
      ],
      "text/latex": [
       "0.0310783699630983"
      ],
      "text/markdown": [
       "0.0310783699630983"
      ],
      "text/plain": [
       "[1] 0.03107837"
      ]
     },
     "metadata": {},
     "output_type": "display_data"
    },
    {
     "data": {
      "text/html": [
       "0.000803009826139923"
      ],
      "text/latex": [
       "0.000803009826139923"
      ],
      "text/markdown": [
       "0.000803009826139923"
      ],
      "text/plain": [
       "[1] 0.0008030098"
      ]
     },
     "metadata": {},
     "output_type": "display_data"
    },
    {
     "data": {
      "text/html": [
       "205"
      ],
      "text/latex": [
       "205"
      ],
      "text/markdown": [
       "205"
      ],
      "text/plain": [
       "[1] 205"
      ]
     },
     "metadata": {},
     "output_type": "display_data"
    },
    {
     "data": {
      "text/html": [
       "3.1402681078019"
      ],
      "text/latex": [
       "3.1402681078019"
      ],
      "text/markdown": [
       "3.1402681078019"
      ],
      "text/plain": [
       "[1] 3.140268"
      ]
     },
     "metadata": {},
     "output_type": "display_data"
    },
    {
     "data": {
      "text/html": [
       "<table class=\"dataframe\">\n",
       "<caption>A anova: 2 × 6</caption>\n",
       "<thead>\n",
       "\t<tr><th></th><th scope=col>Res.Df</th><th scope=col>RSS</th><th scope=col>Df</th><th scope=col>Sum of Sq</th><th scope=col>F</th><th scope=col>Pr(&gt;F)</th></tr>\n",
       "\t<tr><th></th><th scope=col>&lt;dbl&gt;</th><th scope=col>&lt;dbl&gt;</th><th scope=col>&lt;dbl&gt;</th><th scope=col>&lt;dbl&gt;</th><th scope=col>&lt;dbl&gt;</th><th scope=col>&lt;dbl&gt;</th></tr>\n",
       "</thead>\n",
       "<tbody>\n",
       "\t<tr><th scope=row>1</th><td>203</td><td>384082868</td><td>NA</td><td>      NA</td><td>      NA</td><td>        NA</td></tr>\n",
       "\t<tr><th scope=row>2</th><td>201</td><td>372445276</td><td> 2</td><td>11637592</td><td>3.140268</td><td>0.04540171</td></tr>\n",
       "</tbody>\n",
       "</table>\n"
      ],
      "text/latex": [
       "A anova: 2 × 6\n",
       "\\begin{tabular}{r|llllll}\n",
       "  & Res.Df & RSS & Df & Sum of Sq & F & Pr(>F)\\\\\n",
       "  & <dbl> & <dbl> & <dbl> & <dbl> & <dbl> & <dbl>\\\\\n",
       "\\hline\n",
       "\t1 & 203 & 384082868 & NA &       NA &       NA &         NA\\\\\n",
       "\t2 & 201 & 372445276 &  2 & 11637592 & 3.140268 & 0.04540171\\\\\n",
       "\\end{tabular}\n"
      ],
      "text/markdown": [
       "\n",
       "A anova: 2 × 6\n",
       "\n",
       "| <!--/--> | Res.Df &lt;dbl&gt; | RSS &lt;dbl&gt; | Df &lt;dbl&gt; | Sum of Sq &lt;dbl&gt; | F &lt;dbl&gt; | Pr(&gt;F) &lt;dbl&gt; |\n",
       "|---|---|---|---|---|---|---|\n",
       "| 1 | 203 | 384082868 | NA |       NA |       NA |         NA |\n",
       "| 2 | 201 | 372445276 |  2 | 11637592 | 3.140268 | 0.04540171 |\n",
       "\n"
      ],
      "text/plain": [
       "  Res.Df RSS       Df Sum of Sq F        Pr(>F)    \n",
       "1 203    384082868 NA       NA        NA         NA\n",
       "2 201    372445276  2 11637592  3.140268 0.04540171"
      ]
     },
     "metadata": {},
     "output_type": "display_data"
    }
   ],
   "source": [
    "## Estimated the unrestricted and restricted models\n",
    "# Unrestricted Model\n",
    "reg2_ur<-lm(salary~sales+roe+finance, my_data)\n",
    "summary(reg2_ur)\n",
    "\n",
    "# Restricted Model\n",
    "reg2_r<-lm(salary~finance, my_data)\n",
    "summary(reg2_r)\n",
    "\n",
    "# Calculate the F-statistic\n",
    "r2.ur <- summary(reg2_ur)$r.squared\n",
    "r2.ur\n",
    "r2.r <- summary(reg2_r)$r.squared\n",
    "r2.r\n",
    "n <- nrow(my_data)\n",
    "n\n",
    "k <- 3\n",
    "q <- 2\n",
    "F.num <- (r2.ur-r2.r)/q\n",
    "F.denom <- (1-r2.ur)/(n-k-1)\n",
    "Fstat <- F.num/F.denom\n",
    "Fstat\n",
    "\n",
    "# Only for double-checking our answers (Using linearHypothesis())\n",
    "linearHypothesis(reg2_ur, c(\"sales=0\", \"roe=0\"))\n",
    "\n"
   ]
  },
  {
   "cell_type": "markdown",
   "id": "bad0e4ec",
   "metadata": {},
   "source": [
    "Step 3: Write the F-stat from the two regression outputs\n",
    "\n",
    "$F = \\frac{(R^2_{UR} - R^2_{R})/q}{1-R^2_{UR}/(n-k_{UR}-1)} = 3.1403$\n",
    "\n"
   ]
  },
  {
   "cell_type": "code",
   "execution_count": 5,
   "id": "af57890c-ebfc-47df-8569-a86bef2323c5",
   "metadata": {},
   "outputs": [
    {
     "data": {
      "text/html": [
       "4.71231081512664"
      ],
      "text/latex": [
       "4.71231081512664"
      ],
      "text/markdown": [
       "4.71231081512664"
      ],
      "text/plain": [
       "[1] 4.712311"
      ]
     },
     "metadata": {},
     "output_type": "display_data"
    }
   ],
   "source": [
    "# Calculate the critical value \n",
    "c <- qf(0.99,2,201)\n",
    "c"
   ]
  },
  {
   "cell_type": "markdown",
   "id": "0b84f832-d35e-42e7-a5d2-2bc2d441d999",
   "metadata": {},
   "source": [
    "Step 4: Compare the F-stat to the correct critical value found in the F-table. Reject the null hypothesis if F-stat > critical value.\n",
    "Our F-stat is 3.1403 but our critical value at the 1\\% level is 4.7123. Since our F-stat 3.1403 < 4.7123 (critical value), we **Fail to reject** the null. \n"
   ]
  },
  {
   "cell_type": "markdown",
   "id": "a396b54b-e30a-47a1-83c3-209558d1812e",
   "metadata": {},
   "source": [
    "Step 5: Interpret. We fail to reject the null hypothesis that *sales* and *roe* are jointly not statistically significant in predicting CEO salaries at the 1% significance level."
   ]
  },
  {
   "cell_type": "markdown",
   "id": "72ef7f99",
   "metadata": {},
   "source": [
    "#### Q1.3. Confidence Intervals for Prediction ####\n",
    "(a) For this question, only use data from the finance sector *(hint, create a new filtered dataset that only includes observations where finance = 1)*. Specify and estimate a model to predict the average salary of an executive whose firm has an ROE of 9% with 4500 (meaning 4.5 billion USD) in sales. Use the change-of-variable approach demonstrated in Lecture 14 and Section 8 so that the intercept in your transformed model gives the average predicted salary for a CEO with *roe* = 9\\% and *sales = 4500*. Interpret your result in 1 sentence."
   ]
  },
  {
   "cell_type": "code",
   "execution_count": 18,
   "id": "898ea602",
   "metadata": {
    "vscode": {
     "languageId": "r"
    }
   },
   "outputs": [
    {
     "data": {
      "text/plain": [
       "\n",
       "Call:\n",
       "lm(formula = salary ~ roe0 + sales0, data = finance_data)\n",
       "\n",
       "Residuals:\n",
       "   Min     1Q Median     3Q    Max \n",
       "-819.1 -386.6 -207.2  -34.1 5102.4 \n",
       "\n",
       "Coefficients:\n",
       "              Estimate Std. Error t value     Pr(>|t|)    \n",
       "(Intercept) 1419.24410  212.30711   6.685 0.0000000369 ***\n",
       "roe0         -22.17543   26.07751  -0.850        0.400    \n",
       "sales0         0.03261    0.02946   1.107        0.275    \n",
       "---\n",
       "Signif. codes:  0 ‘***’ 0.001 ‘**’ 0.01 ‘*’ 0.05 ‘.’ 0.1 ‘ ’ 1\n",
       "\n",
       "Residual standard error: 996.9 on 43 degrees of freedom\n",
       "Multiple R-squared:  0.05562,\tAdjusted R-squared:  0.01169 \n",
       "F-statistic: 1.266 on 2 and 43 DF,  p-value: 0.2922\n"
      ]
     },
     "metadata": {},
     "output_type": "display_data"
    }
   ],
   "source": [
    "#create a filtered dataset only with observations from the finance sector\n",
    "finance_data<-filter(my_data,my_data$finance==1)\n",
    "\n",
    "# Generate transformed versions of our variables so that when we run the requested regression\n",
    "# the intercept gives us the average predicted salary for a CEO with roe = .09 and sales = 4500.\n",
    "finance_data$sales0<-finance_data$sales-4500\n",
    "finance_data$roe0<-finance_data$roe-9\n",
    "\n",
    "# Run the requested regression with the transformed versions of the variables\n",
    "reg3 <- lm(salary~roe0+sales0, finance_data)\n",
    "summary(reg3)"
   ]
  },
  {
   "cell_type": "markdown",
   "id": "54b5f4bf-6e08-456a-8179-33e3828d6378",
   "metadata": {},
   "source": [
    "According to this model, the predicted salary of a CEO of a firm with *roe* = 9\\% and *sales* = 4.5 billion USD is 1,419.2441 (thousands USD) or \\$1,419,244."
   ]
  },
  {
   "cell_type": "markdown",
   "id": "86c8b783",
   "metadata": {},
   "source": [
    "(b) Construct a 95% confidence interval for the **predicted average** salary for a CEO with those characteristics. Interpret your result in 1 sentence. *(Hint: Use your results from your estimated regression in part a)*"
   ]
  },
  {
   "cell_type": "code",
   "execution_count": 7,
   "id": "51957b90-360a-4554-bea4-fb4dd7a4d3df",
   "metadata": {
    "vscode": {
     "languageId": "r"
    }
   },
   "outputs": [
    {
     "data": {
      "text/html": [
       "991.086000867626"
      ],
      "text/latex": [
       "991.086000867626"
      ],
      "text/markdown": [
       "991.086000867626"
      ],
      "text/plain": [
       "[1] 991.086"
      ]
     },
     "metadata": {},
     "output_type": "display_data"
    },
    {
     "data": {
      "text/html": [
       "1847.40219654031"
      ],
      "text/latex": [
       "1847.40219654031"
      ],
      "text/markdown": [
       "1847.40219654031"
      ],
      "text/plain": [
       "[1] 1847.402"
      ]
     },
     "metadata": {},
     "output_type": "display_data"
    }
   ],
   "source": [
    "# the constant from our estimated regression gives us the estimated test statistic and standard error\n",
    "sample_mean <- summary(reg3)$coefficients[1,1]\n",
    "sample_mean_se <- summary(reg3)$coefficients[1,2]\n",
    "\n",
    "# Find the critical value using the t-distribution with 43 dof and alpha = .05/2\n",
    "dof = nrow(finance_data)-2-1\n",
    "c3 <-qt(0.025, 43, lower.tail=FALSE)\n",
    "\n",
    "# Calculate the upper and lower bounds of the confidence interval\n",
    "ci3_l<- sample_mean - c3*sample_mean_se\n",
    "ci3_l\n",
    "ci3_h<- sample_mean + c3*sample_mean_se\n",
    "ci3_h"
   ]
  },
  {
   "cell_type": "markdown",
   "id": "79360ae2-96da-466a-9cd3-fae39202e756",
   "metadata": {},
   "source": [
    "We are 95\\% confident that the random interval [991.0860, 1847.4022] covers the true average predicted salary of a CEO of a firm with *roe* = 9\\% and *sales* = 4.5 billion USD"
   ]
  },
  {
   "cell_type": "markdown",
   "id": "74d9d8b0",
   "metadata": {},
   "source": [
    "(c) Construct the 95% confidence interval for the **predicted salary of a specific CEO** (not the prediction for the average CEO)  with those same characteristics as in parts a and b above (*roe* = 9%, *sales* = 4500)? Are you surprised that the intervals differ between questions 1.3.b and 1.3.c? How do these confidence intervals differ? Explain your answer in a maximum of 4 sentences. *(Hint: See Lecture 14 and Section 8)*"
   ]
  },
  {
   "cell_type": "code",
   "execution_count": 19,
   "id": "7e289cab",
   "metadata": {
    "vscode": {
     "languageId": "r"
    }
   },
   "outputs": [
    {
     "data": {
      "text/html": [
       "-636.350240148602"
      ],
      "text/latex": [
       "-636.350240148602"
      ],
      "text/markdown": [
       "-636.350240148602"
      ],
      "text/plain": [
       "[1] -636.3502"
      ]
     },
     "metadata": {},
     "output_type": "display_data"
    },
    {
     "data": {
      "text/html": [
       "3474.83843755654"
      ],
      "text/latex": [
       "3474.83843755654"
      ],
      "text/markdown": [
       "3474.83843755654"
      ],
      "text/plain": [
       "[1] 3474.838"
      ]
     },
     "metadata": {},
     "output_type": "display_data"
    },
    {
     "data": {
      "text/html": [
       "-636.282638886175"
      ],
      "text/latex": [
       "-636.282638886175"
      ],
      "text/markdown": [
       "-636.282638886175"
      ],
      "text/plain": [
       "[1] -636.2826"
      ]
     },
     "metadata": {},
     "output_type": "display_data"
    },
    {
     "data": {
      "text/html": [
       "3474.77083629411"
      ],
      "text/latex": [
       "3474.77083629411"
      ],
      "text/markdown": [
       "3474.77083629411"
      ],
      "text/plain": [
       "[1] 3474.771"
      ]
     },
     "metadata": {},
     "output_type": "display_data"
    }
   ],
   "source": [
    "# To calcuate the CI for a specific CEO with these characteristics\n",
    "# We need to calculate the variance of the prediction error\n",
    "var_3c<-summary(reg3)$coefficients[1,2]^2 + sigma(reg3)^2\n",
    "se_3c<-sqrt(var_3c)\n",
    "ci_3c_l<-sample_mean-se_3c*c3\n",
    "ci_3c_l\n",
    "ci_3c_h<-sample_mean+se_3c*c3\n",
    "ci_3c_h\n",
    "\n",
    "# alternative method if students use rounding, just the output printed in the regression table\n",
    "var_3c_rounded <- (212.30711*212.30711) + (996.9*996.9)\n",
    "se_3c_rounded <- sqrt(var_3c_rounded)\n",
    "ci_3c_l_rounded <-sample_mean-se_3c_rounded*c3\n",
    "ci_3c_l_rounded\n",
    "ci_3c_h_rounded<-sample_mean+se_3c_rounded*c3\n",
    "ci_3c_h_rounded "
   ]
  },
  {
   "cell_type": "markdown",
   "id": "04404b80",
   "metadata": {},
   "source": [
    "To calculate the CI for a specific CEO with these characteristics, we need to quantify the variance of the prediction error:\n",
    "\n",
    "$$Var(\\hat{e}^0) = Var(\\hat{sales^0}) + \\hat{\\sigma}^2$$\n",
    "\n",
    "We then construct our confidence interval using $se(\\hat{e}^0)$ rather than $se(\\hat{sales^0})$, which is what we used in part b when we constructed a confidence interval for the average salary of CEOs with the specified characteristics. We find that there is a 95% chance that the random interval [-636.3502, 3474.8384] (or [-636.2826, 3474.7708] with rounding) covers the predicted salary for a specific CEO with *roe* = 9\\% and *sales* = 4500.\n",
    "\n",
    "As discussed in Lecture 14/Section 8, a confidence interval for the average\n",
    "person with certain characteristics is not the same as a confidence interval for a\n",
    "particular person with those specific characteristics because the former only\n",
    "takes into the account the sampling error in our prediction which stems from the\n",
    "fact that we have estimated $\\beta_0$ from a random sample whereas the latter\n",
    "also takes into account the variance in the population (unobserved) error, which\n",
    "captures the unobserved factors that affect y. Therefore it is not surprising that the confidence interval for the predicted salary of a specific CEO with these characteristics is much wider than the confidence interval for the predicted salary of the average CEO with these characteristics. \n"
   ]
  },
  {
   "cell_type": "markdown",
   "id": "c5e605c8",
   "metadata": {},
   "source": [
    "#### Q1.4. Comparing Non-Nested Models ####\n",
    "We are selecting between model (1A.) and model (1B.) below. Estimate both models, creating any variables you need.  Based on your estimated output using linear regression analysis, which model would you choose to use to most accurately predict CEO salaries? Justify your answer in a maximum of 2 sentences.\n",
    "\n",
    "$ (Model\\;4A) \\;\\; salary_i = \\beta_0 + \\beta_1 ROE_i + \\beta_2 sales_i + \\beta_3 finance_i + u_i $\n",
    "\n",
    "$ (Model\\;4B) \\;\\; salary_i = \\gamma_0 + \\gamma_1 ROE_i + \\gamma_2 log(sales_i) + \\gamma_3 finance_i + v_i $\n",
    "\n",
    "*Hint: Log() indicates the natural log ln()*"
   ]
  },
  {
   "cell_type": "code",
   "execution_count": 20,
   "id": "d73b24c2",
   "metadata": {
    "vscode": {
     "languageId": "r"
    }
   },
   "outputs": [
    {
     "data": {
      "text/plain": [
       "\n",
       "Call:\n",
       "lm(formula = salary ~ sales + roe + finance, data = my_data)\n",
       "\n",
       "Residuals:\n",
       "    Min      1Q  Median      3Q     Max \n",
       "-1341.0  -457.9  -241.8   103.7 13616.4 \n",
       "\n",
       "Coefficients:\n",
       "              Estimate Std. Error t value Pr(>|t|)   \n",
       "(Intercept) 745.756604 243.041947   3.068  0.00245 **\n",
       "sales         0.015196   0.008955   1.697  0.09127 . \n",
       "roe          22.012062  11.303814   1.947  0.05289 . \n",
       "finance     194.956419 232.191597   0.840  0.40211   \n",
       "---\n",
       "Signif. codes:  0 ‘***’ 0.001 ‘**’ 0.01 ‘*’ 0.05 ‘.’ 0.1 ‘ ’ 1\n",
       "\n",
       "Residual standard error: 1361 on 201 degrees of freedom\n",
       "Multiple R-squared:  0.03108,\tAdjusted R-squared:  0.01662 \n",
       "F-statistic: 2.149 on 3 and 201 DF,  p-value: 0.09528\n"
      ]
     },
     "metadata": {},
     "output_type": "display_data"
    },
    {
     "data": {
      "text/plain": [
       "\n",
       "Call:\n",
       "lm(formula = salary ~ lsales + roe + finance, data = my_data)\n",
       "\n",
       "Residuals:\n",
       "    Min      1Q  Median      3Q     Max \n",
       "-1150.7  -425.2  -200.3    63.4 13693.3 \n",
       "\n",
       "Coefficients:\n",
       "            Estimate Std. Error t value Pr(>|t|)   \n",
       "(Intercept) -1399.14     835.59  -1.674  0.09560 . \n",
       "lsales        267.46      94.51   2.830  0.00513 **\n",
       "roe            24.45      11.22   2.180  0.03041 * \n",
       "finance       155.94     228.95   0.681  0.49658   \n",
       "---\n",
       "Signif. codes:  0 ‘***’ 0.001 ‘**’ 0.01 ‘*’ 0.05 ‘.’ 0.1 ‘ ’ 1\n",
       "\n",
       "Residual standard error: 1344 on 201 degrees of freedom\n",
       "Multiple R-squared:  0.05486,\tAdjusted R-squared:  0.04075 \n",
       "F-statistic: 3.889 on 3 and 201 DF,  p-value: 0.009889\n"
      ]
     },
     "metadata": {},
     "output_type": "display_data"
    }
   ],
   "source": [
    "## Estimate Model 4A\n",
    "\n",
    "reg4.A <- lm(salary~sales+roe+finance, my_data)\n",
    "summary(reg4.A)\n",
    "\n",
    "## Estimate Model 4B, including creating all necessary variables\n",
    "#create log sales\n",
    "my_data$lsales<-log(my_data$sales)\n",
    "\n",
    "# Estimate model 4B\n",
    "reg4.B <-  lm(salary~lsales+roe+finance, my_data)\n",
    "summary(reg4.B)\n"
   ]
  },
  {
   "cell_type": "markdown",
   "id": "4020e80f",
   "metadata": {},
   "source": [
    "Since these are non-nested models, we can compare the Adjusted $R^2$ and choose the model with the highest Adjusted $R^2$. The Adjusted $R^2$ in model 4A is 0.01662 wherease the Adjusted $R^2$ in Model 4B is $0.04075$, therefore I would choose model 4B since this model explains more of the variation in CEO salaries."
   ]
  },
  {
   "cell_type": "markdown",
   "id": "51cfbb85",
   "metadata": {},
   "source": [
    "### Ex2. Choosing between Y and log(Y) ###\n",
    "\n",
    "We want to select the best model to use for future labor market analysis. We are selecting between model (2A) and model (2B) below, where log() indicates the natural log ln().\n",
    "\n",
    "$ (Model\\;2A) \\;\\; salary_i = \\theta_0 + \\theta_1 ROE_i + \\theta_2 sales_i + \\theta_3 finance_i + u_i $\n",
    "\n",
    "$ (Model\\;2B) \\;\\; log(salary_i) = \\eta_0 + \\eta_1 ROE_i + \\eta_2 sales_i + \\eta_3 finance_i + v_i $"
   ]
  },
  {
   "cell_type": "markdown",
   "id": "dac862af",
   "metadata": {},
   "source": [
    "Estimate both models in exercise 2, creating any variables you need. Which model would you choose to use henceforth? Show all code and work that you used to answer this question and explain your result in a maximum of 2 sentences. \n",
    "\n",
    "*Hint: Remember that you **cannot** simply compare $R^2$ or Adjusted $R^2$ to choose between these two models since they use two different outcome variables with fundamentally different amounts of variation (*salary* vs *log(salary)*). Instead, you should calculate an alternative $R^2$ for the log model that represents how much variation in *salary* is explained by the log model (Model 2B). Then, select the model that explains the most variation in *salary*. (See Lecture 15 and Section 8)*"
   ]
  },
  {
   "cell_type": "code",
   "execution_count": 21,
   "id": "78374f92",
   "metadata": {
    "vscode": {
     "languageId": "r"
    }
   },
   "outputs": [
    {
     "data": {
      "text/plain": [
       "\n",
       "Call:\n",
       "lm(formula = salary ~ sales + roe + finance, data = my_data)\n",
       "\n",
       "Residuals:\n",
       "    Min      1Q  Median      3Q     Max \n",
       "-1341.0  -457.9  -241.8   103.7 13616.4 \n",
       "\n",
       "Coefficients:\n",
       "              Estimate Std. Error t value Pr(>|t|)   \n",
       "(Intercept) 745.756604 243.041947   3.068  0.00245 **\n",
       "sales         0.015196   0.008955   1.697  0.09127 . \n",
       "roe          22.012062  11.303814   1.947  0.05289 . \n",
       "finance     194.956419 232.191597   0.840  0.40211   \n",
       "---\n",
       "Signif. codes:  0 ‘***’ 0.001 ‘**’ 0.01 ‘*’ 0.05 ‘.’ 0.1 ‘ ’ 1\n",
       "\n",
       "Residual standard error: 1361 on 201 degrees of freedom\n",
       "Multiple R-squared:  0.03108,\tAdjusted R-squared:  0.01662 \n",
       "F-statistic: 2.149 on 3 and 201 DF,  p-value: 0.09528\n"
      ]
     },
     "metadata": {},
     "output_type": "display_data"
    },
    {
     "data": {
      "text/plain": [
       "\n",
       "Call:\n",
       "lm(formula = lsalary ~ sales + roe + finance, data = my_data)\n",
       "\n",
       "Residuals:\n",
       "     Min       1Q   Median       3Q      Max \n",
       "-1.48056 -0.26920 -0.04222  0.24382  2.74293 \n",
       "\n",
       "Coefficients:\n",
       "               Estimate  Std. Error t value             Pr(>|t|)    \n",
       "(Intercept) 6.492966878 0.092883605  69.904 < 0.0000000000000002 ***\n",
       "sales       0.000015269 0.000003422   4.462            0.0000135 ***\n",
       "roe         0.017268376 0.004319991   3.997            0.0000899 ***\n",
       "finance     0.228014364 0.088736915   2.570               0.0109 *  \n",
       "---\n",
       "Signif. codes:  0 ‘***’ 0.001 ‘**’ 0.01 ‘*’ 0.05 ‘.’ 0.1 ‘ ’ 1\n",
       "\n",
       "Residual standard error: 0.5202 on 201 degrees of freedom\n",
       "Multiple R-squared:  0.1537,\tAdjusted R-squared:  0.141 \n",
       "F-statistic: 12.16 on 3 and 201 DF,  p-value: 0.0000002386\n"
      ]
     },
     "metadata": {},
     "output_type": "display_data"
    },
    {
     "data": {
      "text/html": [
       "0.0202008443043515"
      ],
      "text/latex": [
       "0.0202008443043515"
      ],
      "text/markdown": [
       "0.0202008443043515"
      ],
      "text/plain": [
       "[1] 0.02020084"
      ]
     },
     "metadata": {},
     "output_type": "display_data"
    },
    {
     "data": {
      "text/html": [
       "0.0310783699630983"
      ],
      "text/latex": [
       "0.0310783699630983"
      ],
      "text/markdown": [
       "0.0310783699630983"
      ],
      "text/plain": [
       "[1] 0.03107837"
      ]
     },
     "metadata": {},
     "output_type": "display_data"
    }
   ],
   "source": [
    "#Estimate both models in exercise 2, creating any variables you need.\n",
    "reg2A <- lm(salary~sales+roe+finance, my_data)\n",
    "summary(reg2A)\n",
    "reg2B <- lm(lsalary~sales+roe+finance, my_data)\n",
    "summary(reg2B)\n",
    "\n",
    "#Predict log(y) from the log model\n",
    "my_data$lsalary_pred<-reg2B$fitted.values\n",
    "\n",
    "# Convert your predictions of log(y) to y, where yhat = e^ln(y)hat*e^(sigmahat^2/2)\n",
    "# Note that sigma(reg) gives you the residual standard error from your regression model\n",
    "e2b_adj_term <- exp(0.5*sigma(reg2B)^2)\n",
    "my_data$salary_pred_modelB <-exp(my_data$lsalary_pred)*e2b_adj_term\n",
    "\n",
    "#Find the correlation and square it to calculate the alternative R^2 for the log model\n",
    "alt_r2_modelB <- (cor(my_data$salary,my_data$salary_pred_modelB))^2\n",
    "alt_r2_modelB\n",
    "\n",
    "# You can directly compare this alternative R^2 for the log model to the R^2 give in the linear model\n",
    "#(Optional) Also manually calculate the R^2 from the linear model\n",
    "my_data$salary_pred_modelA<-reg2A$fitted.values\n",
    "alt_r2_modelA <-(cor(my_data$salary,my_data$salary_pred_modelA))^2\n",
    "alt_r2_modelA"
   ]
  },
  {
   "cell_type": "markdown",
   "id": "c4da3022",
   "metadata": {},
   "source": [
    "We calculate an alternative $R^2$ for Model 2B and find that it explains 2.0201\\% of the variation in salary. Comparing this alternative $R^2$ for Model B to the $R^2$ for Model 2A, which is 3.108\\%, we prefer model A since it explains more of the variation in salary. "
   ]
  },
  {
   "cell_type": "markdown",
   "id": "52bfd06c",
   "metadata": {},
   "source": [
    "### Ex3: CEO Salaries by Sector (Finance/Non Finance) ###"
   ]
  },
  {
   "cell_type": "markdown",
   "id": "c693c857",
   "metadata": {},
   "source": [
    "#### Q3.1: Testing for Separate Equations ####\n",
    "Estimate model 2A separately for executives in the finance sector and for those not in the finance sector. Formally test at the 10% significance level, using the five steps of hypothesis testing, whether the regressions should be estimated separately or whether we can pool the data like we have been doing so far. (Hint: See Lecture 17 and Section 9) "
   ]
  },
  {
   "cell_type": "markdown",
   "id": "06fc7162-0346-4b5b-abb3-f0bb5ec2df24",
   "metadata": {},
   "source": [
    "We can test whether the regressions are the same for CEOs in the finance sector versus non-finance sectors by running a **Chow test**. \n",
    "    \n",
    "**Step 1**: State the hypotheses\n",
    "\n",
    "$H_0$: Regression should be pooled \n",
    "\n",
    "$H_A$: Regressions should be run separately for finance and non-finance firms\n",
    "\n",
    "**Step 2**: The Chow test statistic is given by: \n",
    "$$ F = \\frac{(SSR_{pooled} - (SSR_{finance} + SSR_{non finance}))/(k+1)}{(SSR_{finance} + SSR_{non finance})/(n_{finance}-k - 1 + n_{non finance}-k - 1 )} $$\n",
    "\n",
    "To calculate the F stat, we need to obtain the SSR values for each of the three regressions. You could do this in one of three different ways \n",
    "   \n",
    "1. Calculate as $SSR = \\sum (y_i-\\hat y_i)^2$, which yields $F = 0.5819$ (Demonstrated below)\n",
    "2. Rearrange the $\\hat \\sigma$ formula to solve for $SSR = \\hat \\sigma^2(n-k-1)$ using the `sigma()` function, which yields $F = 0.5819$\n",
    "3. Do 2. but by manually reading off the residual standard error value from the output table, which yields $F = 0.5757$\n",
    "\n",
    "Note that results from method 3 differs from 1 and 2, due to rounding issues and given we're multiplying by such large degrees of freedom. All approaches receive full credit when done correctly."
   ]
  },
  {
   "cell_type": "code",
   "execution_count": 28,
   "id": "a12585e9",
   "metadata": {
    "vscode": {
     "languageId": "r"
    }
   },
   "outputs": [
    {
     "data": {
      "text/plain": [
       "\n",
       "Call:\n",
       "lm(formula = salary ~ sales + roe, data = my_data)\n",
       "\n",
       "Residuals:\n",
       "    Min      1Q  Median      3Q     Max \n",
       "-1346.4  -484.7  -229.1   134.1 13574.3 \n",
       "\n",
       "Coefficients:\n",
       "              Estimate Std. Error t value Pr(>|t|)    \n",
       "(Intercept) 822.893885 224.845205   3.660 0.000322 ***\n",
       "sales         0.014732   0.008932   1.649 0.100615    \n",
       "roe          20.257893  11.100955   1.825 0.069496 .  \n",
       "---\n",
       "Signif. codes:  0 ‘***’ 0.001 ‘**’ 0.01 ‘*’ 0.05 ‘.’ 0.1 ‘ ’ 1\n",
       "\n",
       "Residual standard error: 1360 on 202 degrees of freedom\n",
       "Multiple R-squared:  0.02768,\tAdjusted R-squared:  0.01805 \n",
       "F-statistic: 2.875 on 2 and 202 DF,  p-value: 0.05871\n"
      ]
     },
     "metadata": {},
     "output_type": "display_data"
    },
    {
     "data": {
      "text/plain": [
       "\n",
       "Call:\n",
       "lm(formula = salary ~ sales + roe, data = nonfinance_data)\n",
       "\n",
       "Residuals:\n",
       "    Min      1Q  Median      3Q     Max \n",
       "-1198.0  -450.9  -266.0   112.8 13601.9 \n",
       "\n",
       "Coefficients:\n",
       "              Estimate Std. Error t value Pr(>|t|)  \n",
       "(Intercept) 654.646974 268.241367   2.441   0.0158 *\n",
       "sales         0.013799   0.009752   1.415   0.1591  \n",
       "roe          27.609756  12.675902   2.178   0.0309 *\n",
       "---\n",
       "Signif. codes:  0 ‘***’ 0.001 ‘**’ 0.01 ‘*’ 0.05 ‘.’ 0.1 ‘ ’ 1\n",
       "\n",
       "Residual standard error: 1444 on 156 degrees of freedom\n",
       "Multiple R-squared:  0.03976,\tAdjusted R-squared:  0.02744 \n",
       "F-statistic: 3.229 on 2 and 156 DF,  p-value: 0.04225\n"
      ]
     },
     "metadata": {},
     "output_type": "display_data"
    },
    {
     "data": {
      "text/plain": [
       "\n",
       "Call:\n",
       "lm(formula = salary ~ sales + roe, data = finance_data)\n",
       "\n",
       "Residuals:\n",
       "   Min     1Q Median     3Q    Max \n",
       "-819.1 -386.6 -207.2  -34.1 5102.4 \n",
       "\n",
       "Coefficients:\n",
       "              Estimate Std. Error t value Pr(>|t|)   \n",
       "(Intercept) 1472.09130  470.30818   3.130  0.00314 **\n",
       "sales          0.03261    0.02946   1.107  0.27456   \n",
       "roe          -22.17543   26.07751  -0.850  0.39983   \n",
       "---\n",
       "Signif. codes:  0 ‘***’ 0.001 ‘**’ 0.01 ‘*’ 0.05 ‘.’ 0.1 ‘ ’ 1\n",
       "\n",
       "Residual standard error: 996.9 on 43 degrees of freedom\n",
       "Multiple R-squared:  0.05562,\tAdjusted R-squared:  0.01169 \n",
       "F-statistic: 1.266 on 2 and 43 DF,  p-value: 0.2922\n"
      ]
     },
     "metadata": {},
     "output_type": "display_data"
    },
    {
     "data": {
      "text/html": [
       "373751592.530085"
      ],
      "text/latex": [
       "373751592.530085"
      ],
      "text/markdown": [
       "373751592.530085"
      ],
      "text/plain": [
       "[1] 373751593"
      ]
     },
     "metadata": {},
     "output_type": "display_data"
    },
    {
     "data": {
      "text/html": [
       "42736751.5375795"
      ],
      "text/latex": [
       "42736751.5375795"
      ],
      "text/markdown": [
       "42736751.5375795"
      ],
      "text/plain": [
       "[1] 42736752"
      ]
     },
     "metadata": {},
     "output_type": "display_data"
    },
    {
     "data": {
      "text/html": [
       "325359140.946583"
      ],
      "text/latex": [
       "325359140.946583"
      ],
      "text/markdown": [
       "325359140.946583"
      ],
      "text/plain": [
       "[1] 325359141"
      ]
     },
     "metadata": {},
     "output_type": "display_data"
    },
    {
     "data": {
      "text/html": [
       "'(Method 1) F Stat value is 1.0192'"
      ],
      "text/latex": [
       "'(Method 1) F Stat value is 1.0192'"
      ],
      "text/markdown": [
       "'(Method 1) F Stat value is 1.0192'"
      ],
      "text/plain": [
       "[1] \"(Method 1) F Stat value is 1.0192\""
      ]
     },
     "metadata": {},
     "output_type": "display_data"
    },
    {
     "data": {
      "text/html": [
       "'(Method 2) F Stat value is 1.0192'"
      ],
      "text/latex": [
       "'(Method 2) F Stat value is 1.0192'"
      ],
      "text/markdown": [
       "'(Method 2) F Stat value is 1.0192'"
      ],
      "text/plain": [
       "[1] \"(Method 2) F Stat value is 1.0192\""
      ]
     },
     "metadata": {},
     "output_type": "display_data"
    },
    {
     "data": {
      "text/html": [
       "'(Method 3) F Stat value is 1.0101'"
      ],
      "text/latex": [
       "'(Method 3) F Stat value is 1.0101'"
      ],
      "text/markdown": [
       "'(Method 3) F Stat value is 1.0101'"
      ],
      "text/plain": [
       "[1] \"(Method 3) F Stat value is 1.0101\""
      ]
     },
     "metadata": {},
     "output_type": "display_data"
    }
   ],
   "source": [
    "# First estimate Model 2A with all of the data pooled together\n",
    "reg2A <- lm(salary~sales+roe, my_data)\n",
    "summary(reg2A)\n",
    "\n",
    "## Create two new datasets, one with all observations where finance = 1\n",
    "# the other with all observtions where finance = 0\n",
    "finance_data<-filter(my_data,my_data$finance==1)\n",
    "nonfinance_data<-filter(my_data,my_data$finance==0)\n",
    "\n",
    "# Estimate Model 2A only with nonfinance data\n",
    "reg2A_nf<-lm(salary~sales+roe,nonfinance_data)\n",
    "summary(reg2A_nf)\n",
    "\n",
    "# Estimate Model 2A only with finance data\n",
    "reg2A_f<-lm(salary~sales+roe,finance_data)\n",
    "summary(reg2A_f)\n",
    "\n",
    "## 3 equivalent methods for calculating the F-statistic\n",
    "# Method 1\n",
    "k.e3 <- 2\n",
    "ssr_pooled <- sum((fitted(reg2A) - my_data$salary)^2)\n",
    "ssr_finance <- sum((fitted(reg2A_f) - finance_data$salary)^2)\n",
    "ssr_nonfinance <- sum((fitted(reg2A_nf) - nonfinance_data$salary)^2)\n",
    "\n",
    "F_num <- (ssr_pooled - (ssr_finance + ssr_nonfinance))/(k.e3 + 1)\n",
    "F_den <- (ssr_finance + ssr_nonfinance)/(nrow(finance_data) - k.e3 - 1 + nrow(nonfinance_data) - k.e3 -1)\n",
    "F <- F_num / F_den\n",
    "paste(\"(Method 1) F Stat value is\", round(F,4))\n",
    "\n",
    "# Method 2\n",
    "var.res <- (summary(reg2A)$sigma)^2\n",
    "SSR.R <- var.res*(nrow(my_data) - k.e3 - 1)\n",
    "\n",
    "var.res.finance<- (summary(reg2A_f)$sigma)^2\n",
    "SSR.finance <- var.res.finance*(nrow(finance_data) - 2 - 1)\n",
    "\n",
    "var.res.notfinance <- (summary(reg2A_nf)$sigma)^2\n",
    "SSR.notfinance <- var.res.notfinance*(nrow(nonfinance_data) - 2 - 1)\n",
    "\n",
    "F.num2 <- (SSR.R - (SSR.finance + SSR.notfinance))/(k.e3 + 1)\n",
    "F.denom2 <- (SSR.finance + SSR.notfinance)/(nrow(finance_data) - k.e3 - 1 + nrow(nonfinance_data) - k.e3 - 1)\n",
    "\n",
    "F.2 <- F.num2/F.denom2\n",
    "paste(\"(Method 2) F Stat value is\", round(F.2,4))\n",
    "\n",
    "# Method 3\n",
    "SSR_pooled<- 1360 * 1360 * 202\n",
    "SSR_finance <- 996.9 * 996.9 * 43\n",
    "SSR_nonfinance <- 1444 * 1444 * 156\n",
    "\n",
    "top<-(SSR_pooled-(SSR_finance + SSR_nonfinance))/(k.e3 + 1)\n",
    "bottom<-(SSR_finance + SSR_nonfinance)/(nrow(finance_data) - k.e3 - 1 + nrow(nonfinance_data) - k.e3 - 1)\n",
    "  \n",
    "F.3<-top/bottom\n",
    "paste(\"(Method 3) F Stat value is\", round(F.3,4))"
   ]
  },
  {
   "cell_type": "markdown",
   "id": "37dc2166-f20b-4985-b1a8-c02c69dd8de0",
   "metadata": {},
   "source": [
    "**Step 3**: We find the critical value from the F-distribution (or F-table) at the 10\\% confidence level, with $k + 1 =  3$ and $n_{finance} - k - 1 + n_{nonfinance} - k - 1 = 46 - 2 - 1 + 159 -23 - 1 = 199$ degrees of freedom. The critical value is $c = 2.1115$."
   ]
  },
  {
   "cell_type": "code",
   "execution_count": 26,
   "id": "a8335838-b45f-4f11-b1f0-42a7b12480d4",
   "metadata": {
    "vscode": {
     "languageId": "r"
    }
   },
   "outputs": [
    {
     "data": {
      "text/html": [
       "2.1115081117763"
      ],
      "text/latex": [
       "2.1115081117763"
      ],
      "text/markdown": [
       "2.1115081117763"
      ],
      "text/plain": [
       "[1] 2.111508"
      ]
     },
     "metadata": {},
     "output_type": "display_data"
    }
   ],
   "source": [
    "qf(0.90, 3, 199)"
   ]
  },
  {
   "cell_type": "markdown",
   "id": "a680bebd-879a-4951-ae4e-bd5a22e7caa2",
   "metadata": {
    "vscode": {
     "languageId": "r"
    }
   },
   "source": [
    "**Step 4**: Our decision rule is we reject the null hypothesis if our F-stat > critical value. In this case, 1.0192 < 2.1115 so we fail to reject the null hypothesis. \n",
    "\n",
    "**Step 5**: Interpret: We fail to reject the null hypothesis that we can pool the data at the 10\\% significance level.\n"
   ]
  },
  {
   "cell_type": "markdown",
   "id": "b2abd9a0",
   "metadata": {},
   "source": [
    "#### Q3.2 Interaction Terms ####\n",
    "I would like to know whether the correlation between firm sales and CEO salaries differs significantly depending on whether the company is in the finance sector.\n",
    "\n",
    "$ (Model \\ 3) \\;\\; wage_i = \\beta_0 + \\beta_1 ROE_i + \\beta_2 sales_i + \\beta_3 finance_i + u_i $\n",
    "\n",
    "Estimate a model, by adjusting Model 3, that enables you to test this and please interpret your findings in a maximum of 2 sentences. Compare the p-value for the estimated coefficient of interest at the 5 percent significance level to conclude whether you reject the null hypothesis of no heterogeneity in the effect of sales on salary for finance and non-finance firms, against a two-sided alternative, holding all else equal. *(Hint: Generate an interaction term and add it to the regression, see Lecture 17 and Section 9).*"
   ]
  },
  {
   "cell_type": "code",
   "execution_count": 27,
   "id": "5d1b0517",
   "metadata": {
    "vscode": {
     "languageId": "r"
    }
   },
   "outputs": [
    {
     "data": {
      "text/plain": [
       "\n",
       "Call:\n",
       "lm(formula = salary ~ roe + sales + finance + salesFin, data = my_data)\n",
       "\n",
       "Residuals:\n",
       "    Min      1Q  Median      3Q     Max \n",
       "-1195.7  -462.0  -250.8   100.7 13607.7 \n",
       "\n",
       "Coefficients:\n",
       "             Estimate Std. Error t value Pr(>|t|)   \n",
       "(Intercept) 747.00207  243.29626   3.070  0.00244 **\n",
       "roe          22.57147   11.33884   1.991  0.04788 * \n",
       "sales         0.01361    0.00920   1.479  0.14068   \n",
       "finance      14.30803  330.80757   0.043  0.96554   \n",
       "salesFin      0.03092    0.04028   0.767  0.44373   \n",
       "---\n",
       "Signif. codes:  0 ‘***’ 0.001 ‘**’ 0.01 ‘*’ 0.05 ‘.’ 0.1 ‘ ’ 1\n",
       "\n",
       "Residual standard error: 1363 on 200 degrees of freedom\n",
       "Multiple R-squared:  0.03392,\tAdjusted R-squared:  0.0146 \n",
       "F-statistic: 1.756 on 4 and 200 DF,  p-value: 0.1393\n"
      ]
     },
     "metadata": {},
     "output_type": "display_data"
    }
   ],
   "source": [
    "#generate an interaction term for sales X finance\n",
    "my_data$salesFin<-my_data$sales*my_data$finance\n",
    "reg3.2 <- lm(salary~roe+sales+finance+salesFin, my_data)\n",
    "summary(reg3.2)\n"
   ]
  },
  {
   "cell_type": "markdown",
   "id": "eff286b7",
   "metadata": {},
   "source": [
    "We cannot reject the null hypothesis that there is no significant difference in the correlation between firm sales and CEO salaries in the finance versus non-finance sectors. We see this because the p-value for the estimated coefficient on our interaction term *salesFin* = 0.44373 which is greater than all conventional significance levels."
   ]
  },
  {
   "cell_type": "code",
   "execution_count": null,
   "id": "08ae2e05-9a11-4399-85e9-9ace961f48a7",
   "metadata": {},
   "outputs": [],
   "source": []
  }
 ],
 "metadata": {
  "kernelspec": {
   "display_name": "R",
   "language": "R",
   "name": "ir"
  },
  "language_info": {
   "codemirror_mode": "r",
   "file_extension": ".r",
   "mimetype": "text/x-r-source",
   "name": "R",
   "pygments_lexer": "r",
   "version": "4.4.2"
  }
 },
 "nbformat": 4,
 "nbformat_minor": 5
}
