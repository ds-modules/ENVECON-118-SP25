{
 "cells": [
  {
   "cell_type": "markdown",
   "id": "35ada569-515b-461e-91d7-5f86d19472b8",
   "metadata": {},
   "source": [
    "# Lecture 8- Spring 2025\n",
    "# Villas-Boas\n",
    "\n",
    "# Lecture 8 EEP 118 Spring 2025\n",
    "\n"
   ]
  },
  {
   "cell_type": "code",
   "execution_count": null,
   "id": "c2d55630-5544-43f0-89bf-fc0b25d2cc4b",
   "metadata": {},
   "outputs": [],
   "source": [
    "# Load the 'pacman' package\n",
    "install.packages(\"pacman\")\n",
    "library(pacman) \n",
    "#packages to use load them now using the pacman \"manager\"\n",
    "p_load(dplyr, readr) \n",
    "#Another great feature of p_load(): if you try to load a package that is not installed on your machine, p_load() install the package for you, rather than throwing an error. For instance, let’s install and load one final package named ggplot2. \n",
    "p_load(ggplot2)\n",
    "\n",
    "#set scientific display off, thank you Roy\n",
    "options(scipen=999)\n",
    "\n",
    "# Loading packages\n",
    "pacman::p_load(lfe, lmtest, haven, sandwich, tidyverse,psych)\n",
    "# lfe for running fixed effects regression\n",
    "# lmtest for displaying robust SE in output table\n",
    "# haven for loading in dta files\n",
    "# sandwich for producing robust Var-Cov matrix\n",
    "# tidyverse for manipulating data and producing plots\n",
    "# psych for using describe later on\n",
    "\n",
    "\n"
   ]
  },
  {
   "cell_type": "code",
   "execution_count": null,
   "id": "688f0861-6ee9-40ca-8134-ca0bda02120b",
   "metadata": {},
   "outputs": [],
   "source": [
    "#-------------------------------------------\n",
    "#1. Read in data\n",
    "#-------------------------------------------\n",
    "my_data2025 <- read_dta(\"dataLecture82025.dta\")\n",
    "head(my_data2025)"
   ]
  },
  {
   "cell_type": "code",
   "execution_count": null,
   "id": "9531492f-90e0-4a41-9521-ef6b440548a0",
   "metadata": {},
   "outputs": [],
   "source": [
    "#number of observations\n",
    "nobserv2025<-nrow(my_data2025)\n",
    "\n",
    "#answer is 20  (this is your response rate this year)\n",
    "nobserv2025"
   ]
  },
  {
   "cell_type": "markdown",
   "id": "ff79df5c-102b-4416-9eef-22525d1f32a0",
   "metadata": {},
   "source": [
    "# Let us construct the 95% confidence interval for the true proportion os answering both questions 1 and 2 correctly\n",
    "to do that, we need the sample average of p, which we call \n",
    "\n",
    "phat = number answering correctly divided by sample size N\n",
    "\n",
    "$\\hat{p} =\\frac {number \\ correct}{N}$\n",
    "\n",
    "and we also need the std error of the sample mean proportion that is equal to the square root of the variance of $\\hat{p}$\n",
    "\n",
    "where the estimated variance of $\\hat{p}$\n",
    "\n",
    "\n",
    "is $\\hat{var}(\\hat{p})=\\frac{ \\hat{p} \\ (1-\\hat{p}) }{ N}$\n",
    "\n"
   ]
  },
  {
   "cell_type": "markdown",
   "id": "8903c49d-5bf1-4df9-bbe4-fe0fcc4d7ddc",
   "metadata": {},
   "source": [
    "#### Get the sample estimate of $\\hat{p}$"
   ]
  },
  {
   "cell_type": "code",
   "execution_count": null,
   "id": "e03aab12-f84c-404a-b1a5-60ea1035773d",
   "metadata": {},
   "outputs": [],
   "source": [
    "(phat2025<-mean(my_data2025$correct1and2))"
   ]
  },
  {
   "cell_type": "code",
   "execution_count": null,
   "id": "10bbe272-6957-4839-be49-d2892e51a80a",
   "metadata": {},
   "outputs": [],
   "source": [
    "#and compute the variance of phat2025\n",
    "\n",
    "var_phat2025<-phat2025*(1-phat2025)/nobserv2025\n",
    "\n",
    "#show it\n",
    "var_phat2025"
   ]
  },
  {
   "cell_type": "markdown",
   "id": "db5b806f-68d2-4a27-85d9-96432ffc4ea3",
   "metadata": {},
   "source": [
    "#### Get $se(\\hat{p})$, the sample estimated Standard error of $\\hat{p}$"
   ]
  },
  {
   "cell_type": "code",
   "execution_count": null,
   "id": "89b5e437-9f7d-4225-8527-409e26a1fc54",
   "metadata": {},
   "outputs": [],
   "source": [
    "#get the standard error, se,  of phat2025 is the square root of the variance\n",
    "\n",
    "se_phat2025<-sqrt(var_phat2025)\n",
    "se_phat2025"
   ]
  },
  {
   "attachments": {},
   "cell_type": "markdown",
   "id": "820df45f-d38c-4aab-9fd3-02ada4464ce9",
   "metadata": {},
   "source": [
    "## 95% confidence interval for p\n",
    "\n",
    "$ \\ \\hat{p} \\ - \\ c^{95\\%} \\ se(\\hat{p}) \\\\  ; \\ \\ \\hat{p} \\ + \\ c^{95\\%} \\ se(\\hat{p}) \\ $ \n",
    "\n",
    "where $ct^{95\\%}$ is the two-tailed critical value for a  N(0,1) distribution, that is, 1.96.\n",
    "\n",
    "So the probability that the random CI= ( phat− c 𝐬e_phat , phat + c se_phat ) includes the true value of p is 95%.\n",
    "\n"
   ]
  },
  {
   "cell_type": "markdown",
   "id": "6da2cce2-ffc3-4d2e-82f1-bc73a519cd59",
   "metadata": {},
   "source": [
    "### Derive a 95\\% confidence interval for p2025 and interpret in a sentence.\n",
    "\n"
   ]
  },
  {
   "cell_type": "code",
   "execution_count": null,
   "id": "7424ecf8-4c0a-48c7-b83e-7790312eecc0",
   "metadata": {},
   "outputs": [],
   "source": [
    "#the lower part of the 95 % confidence interval is\n",
    "\n",
    "ci95_l2025<-phat2025 - ( 1.96 * se_phat2025 )\n",
    "ci95_l2025"
   ]
  },
  {
   "cell_type": "code",
   "execution_count": null,
   "id": "309629d5-500c-4aba-8326-9d6f16437277",
   "metadata": {},
   "outputs": [],
   "source": [
    "#the upper part of the 95 % confidence interval is\n",
    "\n",
    "ci95_u2025<-phat2025 + ( 1.96 * se_phat2025 )\n",
    "ci95_u2025"
   ]
  },
  {
   "cell_type": "code",
   "execution_count": null,
   "id": "8f769cb2-17ea-46a7-9a4d-b1bc9bc3b56b",
   "metadata": {},
   "outputs": [],
   "source": [
    "\n",
    "ci95percent2025=cbind(ci95_l2025,ci95_u2025)\n",
    "ci95percent2025\n",
    "\n",
    "#will give you\n",
    "#         ci95_l 2025    ci95_u2025\n",
    "#[1,]       0.441         0.859"
   ]
  },
  {
   "cell_type": "markdown",
   "id": "ad719afa-01b0-48d0-8c1c-bc63bdc1ae99",
   "metadata": {},
   "source": [
    "## What would be the probability of guessing each question right?\n",
    "\n",
    "Since there are three options, the probability of a guess is 1/3.\n",
    "\n",
    "## What is the probability that students guess both questions right?\n",
    "\n",
    "It is 1/3 * 1/3 = 1/9=0.111\n"
   ]
  },
  {
   "cell_type": "markdown",
   "id": "935fbc5f-9d01-4a7e-8a15-8ce2ace772e1",
   "metadata": {},
   "source": [
    "## Does the Confidence interval we just created, that we are 95% sure contains the true proportion of students that answer both questions right, contain 0.111?\n",
    "\n",
    "The answer is no.\n",
    "\n",
    "You will learn then that we reject with 95% confidence that the students are not guessing both questions right (corresponds to p=0.11), since the 95% confid interval for the true p does not contain 0.11.\n",
    "\n",
    "### How wrong can we be, based on this analysis? 5% of the times we can be wrong, we are 95% confident...\n",
    "\n",
    "There was some thinking going on in the answers, great job! \n",
    "\n",
    "you were not just guessing...! We reject guessing based on your answers!!!"
   ]
  },
  {
   "cell_type": "markdown",
   "id": "7a5f55d8-938e-414b-8fa2-429fdedb8c34",
   "metadata": {},
   "source": [
    "# the end  during Lecture\n",
    "\n",
    "\n",
    "## now do DA Lecture 8\n",
    "\n",
    "do the same with data2024.dta\n",
    "\n"
   ]
  },
  {
   "cell_type": "code",
   "execution_count": null,
   "id": "374492e7-7ae3-461c-a19e-db22081b78cc",
   "metadata": {},
   "outputs": [],
   "source": [
    "#-------------------------------------------\n",
    "#1. Read in data\n",
    "#-------------------------------------------\n",
    "my_data <- read_dta(\"data2024.dta\")\n",
    "head(my_data)"
   ]
  },
  {
   "cell_type": "code",
   "execution_count": null,
   "id": "c310f961-0a90-4ed2-9542-308b3280c420",
   "metadata": {},
   "outputs": [],
   "source": [
    "#describe data\n",
    "describe(my_data,skew = FALSE)"
   ]
  },
  {
   "cell_type": "code",
   "execution_count": null,
   "id": "1ff3b772-080d-4626-b0ca-7b29702f5e7d",
   "metadata": {},
   "outputs": [],
   "source": [
    "# what is the proportion of correct question 1?\n",
    "mean(mean(my_data$correct1))"
   ]
  },
  {
   "cell_type": "code",
   "execution_count": null,
   "id": "e2d39703-07cf-4e4f-aacd-0dc4661b94df",
   "metadata": {},
   "outputs": [],
   "source": [
    "#what is the proportion of correct question2?\n",
    "mean(mean(my_data$correct2))"
   ]
  },
  {
   "cell_type": "markdown",
   "id": "8a19399b-0b97-4c41-87be-d70905db7438",
   "metadata": {},
   "source": [
    "## create a new column correct 1 and 2"
   ]
  },
  {
   "cell_type": "code",
   "execution_count": null,
   "id": "e39a5231-1121-4df0-b30c-b71f7a16e2d3",
   "metadata": {},
   "outputs": [],
   "source": [
    "#what is the proportion of both correct in general?\n",
    "my_data$correct1and2<-my_data$correct1*my_data$correct2\n",
    "mean(mean(my_data$correct1and2))"
   ]
  },
  {
   "cell_type": "code",
   "execution_count": null,
   "id": "6fddda93-083c-424a-a249-9c8bcb2c1763",
   "metadata": {},
   "outputs": [],
   "source": [
    "#answer [1] 0.5555556"
   ]
  },
  {
   "cell_type": "markdown",
   "id": "7ee59cbd-3be8-43a5-bb88-bb12c082addb",
   "metadata": {},
   "source": [
    "# Let us construct the 95% confidence interval for the true proportion os answering both questions 1 and 2 correctly\n",
    "to do that, we need the sample average of p, which we call \n",
    "\n",
    "phat = number answering correctly divided by sample size N\n",
    "\n",
    "$\\hat{p} =\\frac {number \\ correct}{N}$\n",
    "\n",
    "and we also need the std error of the sample mean proportion that is equal to the square root of the variance of $\\hat{p}$\n",
    "\n",
    "where the estimated variance of $\\hat{p}$\n",
    "\n",
    "\n",
    "is $\\hat{var}(\\hat{p})=\\frac{ \\hat{p} \\ (1-\\hat{p}) }{ N}$\n",
    "\n"
   ]
  },
  {
   "cell_type": "code",
   "execution_count": null,
   "id": "2a2eb499-4319-4d02-b838-f9258c7700cc",
   "metadata": {},
   "outputs": [],
   "source": [
    "#let phat be the estimated proportion of both correct in general \n",
    "phat<-mean(my_data$correctboth)\n",
    "#show it\n",
    "phat"
   ]
  },
  {
   "cell_type": "code",
   "execution_count": null,
   "id": "56eee6f3-afa4-4eb3-a2f6-85d3ed230066",
   "metadata": {},
   "outputs": [],
   "source": [
    "#number of observations\n",
    "nobserv<-nrow(my_data)\n",
    "\n",
    "#answer is 108\n",
    "nobserv"
   ]
  },
  {
   "cell_type": "code",
   "execution_count": null,
   "id": "d42a6833-87e1-4bd3-a0a9-e42f6ba22e6b",
   "metadata": {},
   "outputs": [],
   "source": [
    "#and compute the variance of phat\n",
    "\n",
    "var_phat<-phat*(1-phat)/nobserv\n",
    "\n",
    "#show it\n",
    "var_phat"
   ]
  },
  {
   "cell_type": "code",
   "execution_count": null,
   "id": "20d94da3-6191-415d-959a-cf8f38ed15fe",
   "metadata": {},
   "outputs": [],
   "source": [
    "#se of phat is the square root of the variance\n",
    "\n",
    "se_phat<-sqrt(var_phat)\n",
    "se_phat"
   ]
  },
  {
   "cell_type": "markdown",
   "id": "db13d2d7-eddb-4f7e-918c-2a973ed5b46d",
   "metadata": {},
   "source": [
    "### Derive a 95\\% confidence interval for p and interpret in a sentence.\n",
    "critical value  is approx 1.96, two-tailed, 5 percent for a N(0,1).\n"
   ]
  },
  {
   "cell_type": "code",
   "execution_count": null,
   "id": "f59a6e5c-f2ce-4125-86f9-c0976048a5ed",
   "metadata": {},
   "outputs": [],
   "source": [
    "#the lower part of the 95 % confidence interval is\n",
    "\n",
    "ci95_l<-phat - ( 1.96 * se_phat )\n",
    "ci95_l"
   ]
  },
  {
   "cell_type": "code",
   "execution_count": null,
   "id": "5a1b7459-3036-496d-8e71-299a431e4b42",
   "metadata": {},
   "outputs": [],
   "source": [
    "#the upper part of the 95 % confidence interval is\n",
    "\n",
    "ci95_u<-phat + ( 1.96 * se_phat )\n",
    "ci95_u"
   ]
  },
  {
   "cell_type": "code",
   "execution_count": null,
   "id": "717e3a72-6b68-44ca-a488-92f833ec77ef",
   "metadata": {},
   "outputs": [],
   "source": [
    "\n",
    "ci95percent=cbind(ci95_l,ci95_u)\n",
    "ci95percent\n",
    "\n",
    "#will give you\n",
    "#         ci95_l     ci95_u\n",
    "#[1,] 0.4618389 0.6492722"
   ]
  },
  {
   "cell_type": "markdown",
   "id": "c498bf95-ef46-44ab-b512-1044c52459eb",
   "metadata": {},
   "source": [
    "## THE END DA Lecture 8"
   ]
  }
 ],
 "metadata": {
  "kernelspec": {
   "display_name": "R",
   "language": "R",
   "name": "ir"
  },
  "language_info": {
   "codemirror_mode": "r",
   "file_extension": ".r",
   "mimetype": "text/x-r-source",
   "name": "R",
   "pygments_lexer": "r",
   "version": "4.4.2"
  }
 },
 "nbformat": 4,
 "nbformat_minor": 5
}
